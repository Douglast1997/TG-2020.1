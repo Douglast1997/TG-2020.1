{
 "cells": [
  {
   "cell_type": "code",
   "execution_count": null,
   "metadata": {},
   "outputs": [],
   "source": [
    "import sklearn\n",
    "import numpy as np\n",
    "import pandas as pd\n",
    "from matplotlib import pyplot as plt\n",
    "import seaborn as sns\n",
    "from PyRadioLoc.Utils.GeoUtils import GeoUtils"
   ]
  },
  {
   "cell_type": "code",
   "execution_count": null,
   "metadata": {},
   "outputs": [],
   "source": [
    "def get_distance_array(y_pred, y_test):\n",
    "    dist = list()\n",
    "    for y_sample, y_pred in  zip(y_test, y_pred):\n",
    "        dist.append(GeoUtils.distanceInKm(y_sample[0], y_sample[1], y_pred[0], y_pred[1]))\n",
    "    return dist\n",
    "\n",
    "def get_quality_metrics(y_pred, y_test):\n",
    "    dist = get_distance_array(y_pred, y_test)\n",
    "    localization_error_min = min(dist)*1000\n",
    "    localization_error_max = max(dist)*1000\n",
    "    localization_error_mean = np.mean(dist)*1000\n",
    "    localization_error_standard_deviation = np.std(dist)*1000\n",
    "    print(\"min:            %0.2f m\" % localization_error_min)\n",
    "    print(\"max:            %0.2f m\" % localization_error_max)\n",
    "    print(\"mean:           %0.2f m\" % localization_error_mean)\n",
    "    print(\"std deviation:  %0.2f m\" % localization_error_standard_deviation)\n",
    "    \n",
    "def write_to_csv(y_pred_lat, y_pred_lon, test_id, file_path):\n",
    "    #y_pred_dataframe = pd.DataFrame(y_pred, columns=['lat', 'lon'])\n",
    "    y_pred_dataframe = pd.concat([y_pred_lat, y_pred_lon, test_id], axis=1)\n",
    "    y_pred_dataframe.to_csv(path_or_buf=file_path, index = False)\n",
    "    \n",
    "def y_RSSIs(file):\n",
    "    y = pd.read_csv(file)\n",
    "    y_rssi_1_1 = y.drop([\"rssi_1_2\", \"rssi_1_3\", \"rssi_2_1\", \"rssi_2_2\", \"rssi_2_3\", \"rssi_3_1\", \"rssi_3_2\", \"rssi_3_3\"], axis = 1)\n",
    "    y_rssi_1_2 = y.drop([\"rssi_1_1\",\"rssi_1_3\", \"rssi_2_1\", \"rssi_2_2\", \"rssi_2_3\", \"rssi_3_1\", \"rssi_3_2\", \"rssi_3_3\"], axis = 1)\n",
    "    y_rssi_1_3 = y.drop([\"rssi_1_1\",\"rssi_1_2\", \"rssi_2_1\", \"rssi_2_2\", \"rssi_2_3\", \"rssi_3_1\", \"rssi_3_2\", \"rssi_3_3\"], axis = 1)\n",
    "    y_rssi_2_1 = y.drop([\"rssi_1_1\",\"rssi_1_2\", \"rssi_1_3\", \"rssi_2_2\", \"rssi_2_3\", \"rssi_3_1\", \"rssi_3_2\", \"rssi_3_3\"], axis = 1)\n",
    "    y_rssi_2_2 = y.drop([\"rssi_1_1\",\"rssi_1_2\", \"rssi_1_3\", \"rssi_2_1\", \"rssi_2_3\", \"rssi_3_1\", \"rssi_3_2\", \"rssi_3_3\"], axis = 1)\n",
    "    y_rssi_2_3 = y.drop([\"rssi_1_1\",\"rssi_1_2\", \"rssi_1_3\", \"rssi_2_1\", \"rssi_2_2\", \"rssi_3_1\", \"rssi_3_2\", \"rssi_3_3\"], axis = 1)\n",
    "    y_rssi_3_1 = y.drop([\"rssi_1_1\",\"rssi_1_2\", \"rssi_1_3\", \"rssi_2_1\", \"rssi_2_2\", \"rssi_2_3\", \"rssi_3_2\", \"rssi_3_3\"], axis = 1)\n",
    "    y_rssi_3_2 = y.drop([\"rssi_1_1\",\"rssi_1_2\", \"rssi_1_3\", \"rssi_2_1\", \"rssi_2_2\", \"rssi_2_3\", \"rssi_3_1\", \"rssi_3_3\"], axis = 1)\n",
    "    y_rssi_3_3 = y.drop([\"rssi_1_1\",\"rssi_1_2\", \"rssi_1_3\", \"rssi_2_1\", \"rssi_2_2\", \"rssi_2_3\", \"rssi_3_1\", \"rssi_3_2\"], axis = 1)\n",
    "    \n",
    "    return y_rssi_1_1, y_rssi_1_2, y_rssi_1_3, y_rssi_2_1, y_rssi_2_2, y_rssi_2_3, y_rssi_3_1, y_rssi_3_2, y_rssi_3_3\n",
    "\n",
    "def Results(y_test, y_pred):\n",
    "\n",
    "    from sklearn.metrics import mean_absolute_error, mean_squared_error, r2_score\n",
    "    results = [mean_absolute_error(y_test, y_pred), mean_squared_error(y_test, y_pred), np.sqrt(mean_squared_error(y_test, y_pred)), r2_score(y_test, y_pred)]\n",
    "    return results\n",
    "\n",
    "def ResultsMeters(y_test, y_pred):\n",
    "    y_test_np = y_test.to_numpy()\n",
    "    #y_test_np\n",
    "    y_pred_np = y_pred.to_numpy()\n",
    "    #y_pred_np\n",
    "    return get_quality_metrics(y_test_np, y_pred_np)  "
   ]
  },
  {
   "cell_type": "markdown",
   "metadata": {},
   "source": [
    "# Implementação LightGBM:"
   ]
  },
  {
   "cell_type": "code",
   "execution_count": null,
   "metadata": {},
   "outputs": [],
   "source": [
    "import lightgbm as lgb\n",
    "\n",
    "def LightGBM_TCC(X_train, y_train, X_test):\n",
    "\n",
    "    # Feature Scaling\n",
    "    from sklearn.preprocessing import StandardScaler\n",
    "    sc = StandardScaler()\n",
    "    X_train = sc.fit_transform(X_train)\n",
    "    X_test = sc.transform(X_test)\n",
    "    d_train = lgb.Dataset(X_train, label=y_train)\n",
    "    #d_train\n",
    "    params = {}\n",
    "    params['learning_rate'] = 1.0\n",
    "    params['boosting_type'] = 'gbdt'#'gbdt'\n",
    "    params['metric'] = 'mae'\n",
    "    params['sub_feature'] = 0.8\n",
    "    params['num_leaves'] = 255\n",
    "    params['min_data'] = 1\n",
    "    #params['max_depth'] = 10\n",
    "    clf = lgb.train(params, d_train, 10000)\n",
    "    #Prediction\n",
    "    y_pred=clf.predict(X_test)\n",
    "    #y_pred     \n",
    "    \n",
    "    return y_pred\n",
    "\n",
    "def y_pred_write_File(X_train, y_train_rssi_1_1, y_train_rssi_1_2, y_train_rssi_1_3, y_train_rssi_2_1, y_train_rssi_2_2, y_train_rssi_2_3, y_train_rssi_3_1, y_train_rssi_3_2, y_train_rssi_3_3, X_test, Metodo_Num):\n",
    "    #y_train_lat, y_train_lon#\n",
    "     \n",
    "    y_pred_rssi_1_1 = LightGBM_TCC(X_train, y_train_rssi_1_1, X_test)\n",
    "    y_pred_rssi_1_2 = LightGBM_TCC(X_train, y_train_rssi_1_2, X_test)\n",
    "    y_pred_rssi_1_3 = LightGBM_TCC(X_train, y_train_rssi_1_3, X_test)\n",
    "    \n",
    "    y_pred_rssi_2_1 = LightGBM_TCC(X_train, y_train_rssi_2_1, X_test)\n",
    "    y_pred_rssi_2_2 = LightGBM_TCC(X_train, y_train_rssi_2_2, X_test)\n",
    "    y_pred_rssi_2_3 = LightGBM_TCC(X_train, y_train_rssi_2_3, X_test)\n",
    "    \n",
    "    y_pred_rssi_3_1 = LightGBM_TCC(X_train, y_train_rssi_3_1, X_test)\n",
    "    y_pred_rssi_3_2 = LightGBM_TCC(X_train, y_train_rssi_3_2, X_test)\n",
    "    y_pred_rssi_3_3 = LightGBM_TCC(X_train, y_train_rssi_3_3, X_test)\n",
    "    \n",
    "    #y_pred_lat = LightGBM_TCC(X_train, y_train_lat, X_test)\n",
    "    #y_pred_lon = LightGBM_TCC(X_train, y_train_lon, X_test)\n",
    "    \n",
    "    #y_pred_lat = pd.DataFrame({'lat': y_pred_lat})\n",
    "    #y_pred_lat.head()\n",
    "    #y_pred_lon = pd.DataFrame({'lon': y_pred_lon})\n",
    "    #y_pred_lon.head()\n",
    "    \n",
    "    y_pred_rssi_1_1 = pd.DataFrame({'rssi_1_1':  y_pred_rssi_1_1})\n",
    "    y_pred_rssi_1_2 = pd.DataFrame({'rssi_1_2':  y_pred_rssi_1_2})\n",
    "    y_pred_rssi_1_3 = pd.DataFrame({'rssi_1_3':  y_pred_rssi_1_3})\n",
    "    \n",
    "    y_pred_rssi_2_1 = pd.DataFrame({'rssi_2_1':  y_pred_rssi_2_1})\n",
    "    y_pred_rssi_2_2 = pd.DataFrame({'rssi_2_2':  y_pred_rssi_2_2})\n",
    "    y_pred_rssi_2_3 = pd.DataFrame({'rssi_2_3':  y_pred_rssi_2_3})\n",
    "    \n",
    "    y_pred_rssi_3_1 = pd.DataFrame({'rssi_3_1':  y_pred_rssi_3_1})\n",
    "    y_pred_rssi_3_2 = pd.DataFrame({'rssi_3_2':  y_pred_rssi_3_2})\n",
    "    y_pred_rssi_3_3 = pd.DataFrame({'rssi_3_3':  y_pred_rssi_3_3})\n",
    "    \n",
    "    y_pred = pd.concat([y_pred_rssi_1_1, y_pred_rssi_1_2, y_pred_rssi_1_3, y_pred_rssi_2_1, y_pred_rssi_2_2, y_pred_rssi_2_3, y_pred_rssi_3_1, y_pred_rssi_3_2, y_pred_rssi_3_3], axis=1)\n",
    "    #y_pred.head()\n",
    "    #write_to_csv(y_pred, \"ResultTCC/Resultados_Metodo_{}.csv\".format(Metodo_Num))\n",
    "    \n",
    "    return y_pred"
   ]
  },
  {
   "cell_type": "code",
   "execution_count": null,
   "metadata": {},
   "outputs": [],
   "source": [
    "X_train = pd.read_csv(\"databasesTCC/Outdoor_X_train_80%.csv\")\n",
    "X_train = X_train.drop(\"lat\", axis = 1)\n",
    "X_train = X_train.drop(\"lon\", axis = 1)\n",
    "X_train = X_train.drop(\"idx\", axis = 1)\n",
    "X_train.head()"
   ]
  },
  {
   "cell_type": "markdown",
   "metadata": {},
   "source": [
    "# Targets de Treinamento: Arquivo Outdoor_y_train_80%"
   ]
  },
  {
   "cell_type": "code",
   "execution_count": null,
   "metadata": {},
   "outputs": [],
   "source": [
    "#y_train lat and Lon Outdoor 80%\n",
    "#y_train_lat, y_train_lon \n",
    "y_train_rssi_1_1, y_train_rssi_1_2, y_train_rssi_1_3, y_train_rssi_2_1, y_train_rssi_2_2, y_train_rssi_2_3, y_train_rssi_3_1, y_train_rssi_3_2, y_train_rssi_3_3 = y_RSSIs(\"DatabasesTCC/Outdoor_y_train_80%.csv\")\n",
    "y_train_rssi_1_1.head()"
   ]
  },
  {
   "cell_type": "code",
   "execution_count": null,
   "metadata": {},
   "outputs": [],
   "source": []
  }
 ],
 "metadata": {
  "kernelspec": {
   "display_name": "Python 3",
   "language": "python",
   "name": "python3"
  },
  "language_info": {
   "codemirror_mode": {
    "name": "ipython",
    "version": 3
   },
   "file_extension": ".py",
   "mimetype": "text/x-python",
   "name": "python",
   "nbconvert_exporter": "python",
   "pygments_lexer": "ipython3",
   "version": "3.7.3"
  }
 },
 "nbformat": 4,
 "nbformat_minor": 2
}
