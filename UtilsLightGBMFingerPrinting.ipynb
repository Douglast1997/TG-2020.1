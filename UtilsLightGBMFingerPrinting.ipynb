{
 "cells": [
  {
   "cell_type": "code",
   "execution_count": 1,
   "metadata": {},
   "outputs": [],
   "source": [
    "import pandas as pd\n",
    "import numpy as np\n",
    "import math\n",
    "import os\n",
    "import random\n",
    "from scipy.spatial import distance\n",
    "\n",
    "def euclidean_distance(a, b):\n",
    "    \"\"\"\n",
    "    Calcula a distância euclidiana entre dois pontos\n",
    "    \n",
    "    Parameters:\n",
    "    \n",
    "    a (Tuple)(List): Lista ou tupla com N elementos\n",
    "    b (Tuple)(List): Lista ou tupla com N elementos\n",
    "\n",
    "    Returns:\n",
    "    float: Distância euclidiana entre os pontos\n",
    "    \"\"\"\n",
    "    #return distance.euclidean(a,b)\n",
    "    return distance.cityblock(a,b)\n",
    "\n",
    "def merge_on_pontoId(df_1, df_2):\n",
    "    \"\"\"\n",
    "    Faz um merge de dois DataFrame usando o pontoId como referência\n",
    "    \"\"\"\n",
    "    return pd.merge(df_1, df_2, how='inner', on=['idx'])"
   ]
  },
  {
   "cell_type": "code",
   "execution_count": null,
   "metadata": {},
   "outputs": [],
   "source": [
    "def GetFingerprintByIndex(index, CDB_Meds):\n",
    "\n",
    "    PDs_df = CDB_Meds.loc[(CDB_Meds['idx'] == index)]\n",
    "\n",
    "    return PDs_df"
   ]
  },
  {
   "cell_type": "markdown",
   "metadata": {},
   "source": [
    "# Erros de localização médio, mínimo, máximo e desvio padrão"
   ]
  },
  {
   "cell_type": "code",
   "execution_count": null,
   "metadata": {},
   "outputs": [],
   "source": [
    "def calculate_errors(df_real, df_predict):\n",
    "    \"\"\"\n",
    "    Retorna uma lista contendo os erros em metros de todos os pontos no real e na predição\n",
    "    \"\"\"\n",
    "    df_merged = merge_on_pontoId(df_predict, df_real)\n",
    "    errors = []\n",
    "    \n",
    "    for idx, point in df_merged.iterrows():\n",
    "        distance = GeoUtils.distanceInKm(point.lat, point.lon, point.lat_pred, point.lon_pred)\n",
    "        errors.append(round(distance * 1000, 2))\n",
    "        \n",
    "    return errors\n",
    "\n",
    "def calculate_theorical_errors():\n",
    "    df_real = pd.read_csv(\"./databases/meds_pandas.csv\")\n",
    "    dict_errors = {}\n",
    "    \n",
    "    for file, method in zip(FILES,METHODS):\n",
    "        df_predict = pd.read_csv(file)\n",
    "        dict_errors[method] = calculate_errors(df_real, df_predict)\n",
    "    \n",
    "    return pd.DataFrame(dict_errors)"
   ]
  }
 ],
 "metadata": {
  "kernelspec": {
   "display_name": "Python 3",
   "language": "python",
   "name": "python3"
  },
  "language_info": {
   "codemirror_mode": {
    "name": "ipython",
    "version": 3
   },
   "file_extension": ".py",
   "mimetype": "text/x-python",
   "name": "python",
   "nbconvert_exporter": "python",
   "pygments_lexer": "ipython3",
   "version": "3.7.3"
  }
 },
 "nbformat": 4,
 "nbformat_minor": 2
}
