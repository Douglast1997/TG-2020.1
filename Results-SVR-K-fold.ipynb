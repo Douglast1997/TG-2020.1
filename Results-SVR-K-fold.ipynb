{
 "cells": [
  {
   "cell_type": "code",
   "execution_count": 1,
   "metadata": {},
   "outputs": [],
   "source": [
    "import pandas as pd\n",
    "import numpy as np\n",
    "import math\n",
    "import os\n",
    "from matplotlib import pyplot as plt\n",
    "from PyRadioLoc.Utils.GeoUtils import GeoUtils\n",
    "%run UtilsLightGBMFingerPrinting.ipynb"
   ]
  },
  {
   "cell_type": "code",
   "execution_count": 2,
   "metadata": {},
   "outputs": [],
   "source": [
    "FILES = [\n",
    "    \n",
    "    #k = 1 SVR\n",
    "    './FinalResult/Resultados_Metodo_13.csv',  # CDB gerado com SVR dados Outdoor\n",
    "    './FinalResult/Resultados_Metodo_14.csv',  # CDB gerado com SVR dados Indoor\n",
    "    './FinalResult/Resultados_Metodo_15.csv',  # CDB gerado com SVR dados Indoor-Outdoor\n",
    "    \n",
    "    #k = 2 SVR\n",
    "    './FinalResult/Resultados_Metodo_16.csv',  # CDB gerado com SVR dados Outdoor\n",
    "    './FinalResult/Resultados_Metodo_17.csv',  # CDB gerado com SVR dados Indoor\n",
    "    './FinalResult/Resultados_Metodo_18.csv',  # CDB gerado com SVR dados Indoor-Outdoor\n",
    "    \n",
    "    #k = 3 SVR\n",
    "    './FinalResult/Resultados_Metodo_19.csv',  # CDB gerado com SVR dados Outdoor\n",
    "    './FinalResult/Resultados_Metodo_20.csv',  # CDB gerado com SVR dados Indoor\n",
    "    './FinalResult/Resultados_Metodo_21.csv',  # CDB gerado com SVR dados Indoor-Outdoor\n",
    "    \n",
    "    #k = 4 SVR\n",
    "    './FinalResult/Resultados_Metodo_22.csv',  # CDB gerado com SVR dados Outdoor\n",
    "    './FinalResult/Resultados_Metodo_23.csv',  # CDB gerado com SVR dados Indoor\n",
    "    './FinalResult/Resultados_Metodo_24.csv',  # CDB gerado com SVR dados Indoor-Outdoor\n",
    "    \n",
    "    #k = 5 SVR\n",
    "    './FinalResult/Resultados_Metodo_25.csv',  # CDB gerado com SVR dados Outdoor\n",
    "    './FinalResult/Resultados_Metodo_26.csv',  # CDB gerado com SVR dados Indoor\n",
    "    './FinalResult/Resultados_Metodo_27.csv',  # CDB gerado com SVR dados Indoor-Outdoor\n",
    "    \n",
    "    \n",
    "]\n",
    "METHODS = [x.split(\"_\")[-1].split(\".\")[0] for x in FILES]     # lista contendo os metodos que serão usados\n",
    "db = pd.read_csv('databases/meds_pandas.csv')\n",
    "erbs = pd.read_csv('databases/Bts.csv')\n",
    "#errorLocation = pd.read_csv('result/erros.csv')\n",
    "ERROS_CSV_FILE = './result-k-fold/erros-SVR-k-fold.csv' "
   ]
  },
  {
   "cell_type": "code",
   "execution_count": 3,
   "metadata": {},
   "outputs": [
    {
     "data": {
      "text/html": [
       "<div>\n",
       "<style scoped>\n",
       "    .dataframe tbody tr th:only-of-type {\n",
       "        vertical-align: middle;\n",
       "    }\n",
       "\n",
       "    .dataframe tbody tr th {\n",
       "        vertical-align: top;\n",
       "    }\n",
       "\n",
       "    .dataframe thead th {\n",
       "        text-align: right;\n",
       "    }\n",
       "</style>\n",
       "<table border=\"1\" class=\"dataframe\">\n",
       "  <thead>\n",
       "    <tr style=\"text-align: right;\">\n",
       "      <th></th>\n",
       "      <th>13</th>\n",
       "      <th>14</th>\n",
       "      <th>15</th>\n",
       "      <th>16</th>\n",
       "      <th>17</th>\n",
       "      <th>18</th>\n",
       "      <th>19</th>\n",
       "      <th>20</th>\n",
       "      <th>21</th>\n",
       "      <th>22</th>\n",
       "      <th>23</th>\n",
       "      <th>24</th>\n",
       "      <th>25</th>\n",
       "      <th>26</th>\n",
       "      <th>27</th>\n",
       "    </tr>\n",
       "  </thead>\n",
       "  <tbody>\n",
       "    <tr>\n",
       "      <th>count</th>\n",
       "      <td>400.00</td>\n",
       "      <td>400.00</td>\n",
       "      <td>400.00</td>\n",
       "      <td>400.00</td>\n",
       "      <td>400.00</td>\n",
       "      <td>400.00</td>\n",
       "      <td>400.00</td>\n",
       "      <td>400.00</td>\n",
       "      <td>400.00</td>\n",
       "      <td>400.00</td>\n",
       "      <td>400.00</td>\n",
       "      <td>400.00</td>\n",
       "      <td>400.00</td>\n",
       "      <td>400.00</td>\n",
       "      <td>400.00</td>\n",
       "    </tr>\n",
       "    <tr>\n",
       "      <th>mean</th>\n",
       "      <td>49.79</td>\n",
       "      <td>74.60</td>\n",
       "      <td>63.25</td>\n",
       "      <td>52.18</td>\n",
       "      <td>75.12</td>\n",
       "      <td>63.75</td>\n",
       "      <td>52.61</td>\n",
       "      <td>89.78</td>\n",
       "      <td>69.76</td>\n",
       "      <td>47.12</td>\n",
       "      <td>71.44</td>\n",
       "      <td>62.35</td>\n",
       "      <td>48.39</td>\n",
       "      <td>75.05</td>\n",
       "      <td>63.03</td>\n",
       "    </tr>\n",
       "    <tr>\n",
       "      <th>std</th>\n",
       "      <td>41.51</td>\n",
       "      <td>37.61</td>\n",
       "      <td>42.90</td>\n",
       "      <td>45.87</td>\n",
       "      <td>37.96</td>\n",
       "      <td>44.03</td>\n",
       "      <td>44.27</td>\n",
       "      <td>24.31</td>\n",
       "      <td>41.47</td>\n",
       "      <td>43.21</td>\n",
       "      <td>36.64</td>\n",
       "      <td>40.34</td>\n",
       "      <td>41.75</td>\n",
       "      <td>38.29</td>\n",
       "      <td>40.80</td>\n",
       "    </tr>\n",
       "    <tr>\n",
       "      <th>min</th>\n",
       "      <td>0.90</td>\n",
       "      <td>17.44</td>\n",
       "      <td>1.82</td>\n",
       "      <td>2.55</td>\n",
       "      <td>17.44</td>\n",
       "      <td>1.87</td>\n",
       "      <td>1.02</td>\n",
       "      <td>32.13</td>\n",
       "      <td>0.44</td>\n",
       "      <td>0.86</td>\n",
       "      <td>17.44</td>\n",
       "      <td>0.74</td>\n",
       "      <td>0.65</td>\n",
       "      <td>17.44</td>\n",
       "      <td>0.94</td>\n",
       "    </tr>\n",
       "    <tr>\n",
       "      <th>25%</th>\n",
       "      <td>16.52</td>\n",
       "      <td>42.13</td>\n",
       "      <td>26.57</td>\n",
       "      <td>16.92</td>\n",
       "      <td>42.13</td>\n",
       "      <td>24.43</td>\n",
       "      <td>17.87</td>\n",
       "      <td>72.88</td>\n",
       "      <td>32.51</td>\n",
       "      <td>14.91</td>\n",
       "      <td>42.13</td>\n",
       "      <td>29.76</td>\n",
       "      <td>15.79</td>\n",
       "      <td>42.13</td>\n",
       "      <td>29.20</td>\n",
       "    </tr>\n",
       "    <tr>\n",
       "      <th>50%</th>\n",
       "      <td>37.07</td>\n",
       "      <td>87.04</td>\n",
       "      <td>58.30</td>\n",
       "      <td>37.83</td>\n",
       "      <td>87.04</td>\n",
       "      <td>57.23</td>\n",
       "      <td>39.11</td>\n",
       "      <td>87.04</td>\n",
       "      <td>72.88</td>\n",
       "      <td>35.62</td>\n",
       "      <td>68.72</td>\n",
       "      <td>62.68</td>\n",
       "      <td>32.90</td>\n",
       "      <td>87.04</td>\n",
       "      <td>59.64</td>\n",
       "    </tr>\n",
       "    <tr>\n",
       "      <th>75%</th>\n",
       "      <td>74.24</td>\n",
       "      <td>102.64</td>\n",
       "      <td>97.92</td>\n",
       "      <td>75.22</td>\n",
       "      <td>102.64</td>\n",
       "      <td>97.92</td>\n",
       "      <td>77.23</td>\n",
       "      <td>102.64</td>\n",
       "      <td>102.06</td>\n",
       "      <td>66.25</td>\n",
       "      <td>102.64</td>\n",
       "      <td>92.04</td>\n",
       "      <td>70.70</td>\n",
       "      <td>102.64</td>\n",
       "      <td>96.42</td>\n",
       "    </tr>\n",
       "    <tr>\n",
       "      <th>max</th>\n",
       "      <td>189.02</td>\n",
       "      <td>137.37</td>\n",
       "      <td>225.27</td>\n",
       "      <td>258.61</td>\n",
       "      <td>137.37</td>\n",
       "      <td>224.26</td>\n",
       "      <td>237.98</td>\n",
       "      <td>137.37</td>\n",
       "      <td>217.83</td>\n",
       "      <td>249.75</td>\n",
       "      <td>137.37</td>\n",
       "      <td>163.26</td>\n",
       "      <td>184.93</td>\n",
       "      <td>198.83</td>\n",
       "      <td>196.48</td>\n",
       "    </tr>\n",
       "  </tbody>\n",
       "</table>\n",
       "</div>"
      ],
      "text/plain": [
       "           13      14      15      16      17      18      19      20      21  \\\n",
       "count  400.00  400.00  400.00  400.00  400.00  400.00  400.00  400.00  400.00   \n",
       "mean    49.79   74.60   63.25   52.18   75.12   63.75   52.61   89.78   69.76   \n",
       "std     41.51   37.61   42.90   45.87   37.96   44.03   44.27   24.31   41.47   \n",
       "min      0.90   17.44    1.82    2.55   17.44    1.87    1.02   32.13    0.44   \n",
       "25%     16.52   42.13   26.57   16.92   42.13   24.43   17.87   72.88   32.51   \n",
       "50%     37.07   87.04   58.30   37.83   87.04   57.23   39.11   87.04   72.88   \n",
       "75%     74.24  102.64   97.92   75.22  102.64   97.92   77.23  102.64  102.06   \n",
       "max    189.02  137.37  225.27  258.61  137.37  224.26  237.98  137.37  217.83   \n",
       "\n",
       "           22      23      24      25      26      27  \n",
       "count  400.00  400.00  400.00  400.00  400.00  400.00  \n",
       "mean    47.12   71.44   62.35   48.39   75.05   63.03  \n",
       "std     43.21   36.64   40.34   41.75   38.29   40.80  \n",
       "min      0.86   17.44    0.74    0.65   17.44    0.94  \n",
       "25%     14.91   42.13   29.76   15.79   42.13   29.20  \n",
       "50%     35.62   68.72   62.68   32.90   87.04   59.64  \n",
       "75%     66.25  102.64   92.04   70.70  102.64   96.42  \n",
       "max    249.75  137.37  163.26  184.93  198.83  196.48  "
      ]
     },
     "execution_count": 3,
     "metadata": {},
     "output_type": "execute_result"
    }
   ],
   "source": [
    "# Gera o dataframe contendo os erros\n",
    "errors_df = calculate_theorical_errors()\n",
    "round(errors_df.describe(), 2)"
   ]
  },
  {
   "cell_type": "markdown",
   "metadata": {},
   "source": [
    "# SVR-Outdoor:"
   ]
  },
  {
   "cell_type": "code",
   "execution_count": 4,
   "metadata": {},
   "outputs": [
    {
     "data": {
      "text/plain": [
       "0    72.008\n",
       "1    41.732\n",
       "2    40.584\n",
       "3    31.434\n",
       "4    18.888\n",
       "dtype: float64"
      ]
     },
     "execution_count": 4,
     "metadata": {},
     "output_type": "execute_result"
    }
   ],
   "source": [
    "test_erro = round(errors_df.describe(), 2)\n",
    "test_erros = errors_df\n",
    "mean_outdoor = (test_erros['13'] + test_erros['16'] + test_erros['19'] + test_erros['22'] + test_erros['25'])/5\n",
    "mean_outdoor.head()"
   ]
  },
  {
   "cell_type": "code",
   "execution_count": 5,
   "metadata": {},
   "outputs": [
    {
     "data": {
      "text/plain": [
       "0.65"
      ]
     },
     "execution_count": 5,
     "metadata": {},
     "output_type": "execute_result"
    }
   ],
   "source": [
    "min_outdoor = min(test_erro['13']['min'], test_erro['16']['min'], test_erro['19']['min'], test_erro['22']['min'], test_erro['25']['min'])\n",
    "min_outdoor"
   ]
  },
  {
   "cell_type": "code",
   "execution_count": 6,
   "metadata": {},
   "outputs": [
    {
     "data": {
      "text/plain": [
       "258.61"
      ]
     },
     "execution_count": 6,
     "metadata": {},
     "output_type": "execute_result"
    }
   ],
   "source": [
    "max_outdoor = max(test_erro['13']['max'], test_erro['16']['max'], test_erro['19']['max'], test_erro['22']['max'], test_erro['25']['max'])\n",
    "max_outdoor"
   ]
  },
  {
   "cell_type": "markdown",
   "metadata": {},
   "source": [
    "# SVR-Indoor:"
   ]
  },
  {
   "cell_type": "code",
   "execution_count": 7,
   "metadata": {},
   "outputs": [
    {
     "data": {
      "text/plain": [
       "0     87.040\n",
       "1     42.130\n",
       "2    112.330\n",
       "3     28.528\n",
       "4     72.414\n",
       "dtype: float64"
      ]
     },
     "execution_count": 7,
     "metadata": {},
     "output_type": "execute_result"
    }
   ],
   "source": [
    "mean_indoor = (test_erros['14'] + test_erros['17'] + test_erros['20'] + test_erros['23'] + test_erros['26'])/5\n",
    "mean_indoor.head()"
   ]
  },
  {
   "cell_type": "code",
   "execution_count": 8,
   "metadata": {},
   "outputs": [
    {
     "data": {
      "text/plain": [
       "17.44"
      ]
     },
     "execution_count": 8,
     "metadata": {},
     "output_type": "execute_result"
    }
   ],
   "source": [
    "min_indoor = min(test_erro['14']['min'], test_erro['17']['min'], test_erro['20']['min'], test_erro['23']['min'], test_erro['26']['min'])\n",
    "min_indoor"
   ]
  },
  {
   "cell_type": "code",
   "execution_count": 9,
   "metadata": {},
   "outputs": [
    {
     "data": {
      "text/plain": [
       "198.83"
      ]
     },
     "execution_count": 9,
     "metadata": {},
     "output_type": "execute_result"
    }
   ],
   "source": [
    "max_indoor = max(test_erro['14']['max'], test_erro['17']['max'], test_erro['20']['max'], test_erro['23']['max'], test_erro['26']['max'])\n",
    "max_indoor"
   ]
  },
  {
   "cell_type": "markdown",
   "metadata": {},
   "source": [
    "# SVR-Indoor-Outdoor:"
   ]
  },
  {
   "cell_type": "code",
   "execution_count": 10,
   "metadata": {},
   "outputs": [
    {
     "data": {
      "text/plain": [
       "0    55.760\n",
       "1    23.452\n",
       "2    62.560\n",
       "3    79.168\n",
       "4    82.040\n",
       "dtype: float64"
      ]
     },
     "execution_count": 10,
     "metadata": {},
     "output_type": "execute_result"
    }
   ],
   "source": [
    "mean_indoor_outdoor = (test_erros['15'] + test_erros['18'] + test_erros['21'] + test_erros['24'] + test_erros['27'])/5\n",
    "mean_indoor_outdoor.head()"
   ]
  },
  {
   "cell_type": "code",
   "execution_count": 11,
   "metadata": {},
   "outputs": [
    {
     "data": {
      "text/plain": [
       "0.44"
      ]
     },
     "execution_count": 11,
     "metadata": {},
     "output_type": "execute_result"
    }
   ],
   "source": [
    "min_indoor_outdoor = min(test_erro['15']['min'], test_erro['18']['min'], test_erro['21']['min'], test_erro['24']['min'], test_erro['27']['min'])\n",
    "min_indoor_outdoor"
   ]
  },
  {
   "cell_type": "code",
   "execution_count": 12,
   "metadata": {},
   "outputs": [
    {
     "data": {
      "text/plain": [
       "225.27"
      ]
     },
     "execution_count": 12,
     "metadata": {},
     "output_type": "execute_result"
    }
   ],
   "source": [
    "max_indoor_outdoor = max(test_erro['15']['max'], test_erro['18']['max'], test_erro['21']['max'], test_erro['24']['max'], test_erro['27']['max'])\n",
    "max_indoor_outdoor"
   ]
  },
  {
   "cell_type": "code",
   "execution_count": 13,
   "metadata": {},
   "outputs": [],
   "source": [
    "#errors_df.to_csv(ERROS_CSV_FILE, index=False)"
   ]
  },
  {
   "cell_type": "code",
   "execution_count": 17,
   "metadata": {},
   "outputs": [
    {
     "data": {
      "text/html": [
       "<div>\n",
       "<style scoped>\n",
       "    .dataframe tbody tr th:only-of-type {\n",
       "        vertical-align: middle;\n",
       "    }\n",
       "\n",
       "    .dataframe tbody tr th {\n",
       "        vertical-align: top;\n",
       "    }\n",
       "\n",
       "    .dataframe thead th {\n",
       "        text-align: right;\n",
       "    }\n",
       "</style>\n",
       "<table border=\"1\" class=\"dataframe\">\n",
       "  <thead>\n",
       "    <tr style=\"text-align: right;\">\n",
       "      <th></th>\n",
       "      <th>0</th>\n",
       "      <th>1</th>\n",
       "      <th>2</th>\n",
       "    </tr>\n",
       "  </thead>\n",
       "  <tbody>\n",
       "    <tr>\n",
       "      <th>0</th>\n",
       "      <td>72.01</td>\n",
       "      <td>87.04</td>\n",
       "      <td>55.76</td>\n",
       "    </tr>\n",
       "    <tr>\n",
       "      <th>1</th>\n",
       "      <td>41.73</td>\n",
       "      <td>42.13</td>\n",
       "      <td>23.45</td>\n",
       "    </tr>\n",
       "    <tr>\n",
       "      <th>2</th>\n",
       "      <td>40.58</td>\n",
       "      <td>112.33</td>\n",
       "      <td>62.56</td>\n",
       "    </tr>\n",
       "    <tr>\n",
       "      <th>3</th>\n",
       "      <td>31.43</td>\n",
       "      <td>28.53</td>\n",
       "      <td>79.17</td>\n",
       "    </tr>\n",
       "    <tr>\n",
       "      <th>4</th>\n",
       "      <td>18.89</td>\n",
       "      <td>72.41</td>\n",
       "      <td>82.04</td>\n",
       "    </tr>\n",
       "  </tbody>\n",
       "</table>\n",
       "</div>"
      ],
      "text/plain": [
       "       0       1      2\n",
       "0  72.01   87.04  55.76\n",
       "1  41.73   42.13  23.45\n",
       "2  40.58  112.33  62.56\n",
       "3  31.43   28.53  79.17\n",
       "4  18.89   72.41  82.04"
      ]
     },
     "execution_count": 17,
     "metadata": {},
     "output_type": "execute_result"
    }
   ],
   "source": [
    "erros_SVR = [mean_outdoor,mean_indoor, mean_indoor_outdoor ]\n",
    "erros_SVR = pd.DataFrame(erros_SVR)\n",
    "erros_SVR = erros_SVR.T\n",
    "erros_SVR = round(erros_SVR,2)\n",
    "erros_SVR.to_csv(ERROS_CSV_FILE, index=False)\n",
    "erros_SVR.head()\n"
   ]
  },
  {
   "cell_type": "code",
   "execution_count": 15,
   "metadata": {},
   "outputs": [
    {
     "data": {
      "text/html": [
       "<div>\n",
       "<style scoped>\n",
       "    .dataframe tbody tr th:only-of-type {\n",
       "        vertical-align: middle;\n",
       "    }\n",
       "\n",
       "    .dataframe tbody tr th {\n",
       "        vertical-align: top;\n",
       "    }\n",
       "\n",
       "    .dataframe thead th {\n",
       "        text-align: right;\n",
       "    }\n",
       "</style>\n",
       "<table border=\"1\" class=\"dataframe\">\n",
       "  <thead>\n",
       "    <tr style=\"text-align: right;\">\n",
       "      <th></th>\n",
       "      <th>0</th>\n",
       "      <th>1</th>\n",
       "      <th>2</th>\n",
       "    </tr>\n",
       "  </thead>\n",
       "  <tbody>\n",
       "    <tr>\n",
       "      <th>count</th>\n",
       "      <td>400.00</td>\n",
       "      <td>400.00</td>\n",
       "      <td>400.00</td>\n",
       "    </tr>\n",
       "    <tr>\n",
       "      <th>mean</th>\n",
       "      <td>50.02</td>\n",
       "      <td>77.20</td>\n",
       "      <td>64.43</td>\n",
       "    </tr>\n",
       "    <tr>\n",
       "      <th>std</th>\n",
       "      <td>18.17</td>\n",
       "      <td>33.90</td>\n",
       "      <td>31.16</td>\n",
       "    </tr>\n",
       "    <tr>\n",
       "      <th>min</th>\n",
       "      <td>8.39</td>\n",
       "      <td>28.53</td>\n",
       "      <td>11.20</td>\n",
       "    </tr>\n",
       "    <tr>\n",
       "      <th>25%</th>\n",
       "      <td>37.14</td>\n",
       "      <td>42.13</td>\n",
       "      <td>42.04</td>\n",
       "    </tr>\n",
       "    <tr>\n",
       "      <th>50%</th>\n",
       "      <td>48.42</td>\n",
       "      <td>87.04</td>\n",
       "      <td>55.75</td>\n",
       "    </tr>\n",
       "    <tr>\n",
       "      <th>75%</th>\n",
       "      <td>61.26</td>\n",
       "      <td>102.64</td>\n",
       "      <td>87.04</td>\n",
       "    </tr>\n",
       "    <tr>\n",
       "      <th>max</th>\n",
       "      <td>106.63</td>\n",
       "      <td>137.37</td>\n",
       "      <td>137.37</td>\n",
       "    </tr>\n",
       "  </tbody>\n",
       "</table>\n",
       "</div>"
      ],
      "text/plain": [
       "            0       1       2\n",
       "count  400.00  400.00  400.00\n",
       "mean    50.02   77.20   64.43\n",
       "std     18.17   33.90   31.16\n",
       "min      8.39   28.53   11.20\n",
       "25%     37.14   42.13   42.04\n",
       "50%     48.42   87.04   55.75\n",
       "75%     61.26  102.64   87.04\n",
       "max    106.63  137.37  137.37"
      ]
     },
     "execution_count": 15,
     "metadata": {},
     "output_type": "execute_result"
    }
   ],
   "source": [
    "results_SVR = round(erros_SVR.describe(), 2)\n",
    "results_SVR\n",
    "#results_SVR.to_csv('./result-k-fold/Result-SVR-k-fold.csv', index=False)"
   ]
  },
  {
   "cell_type": "code",
   "execution_count": null,
   "metadata": {},
   "outputs": [],
   "source": []
  },
  {
   "cell_type": "code",
   "execution_count": null,
   "metadata": {},
   "outputs": [],
   "source": []
  }
 ],
 "metadata": {
  "kernelspec": {
   "display_name": "Python 3",
   "language": "python",
   "name": "python3"
  },
  "language_info": {
   "codemirror_mode": {
    "name": "ipython",
    "version": 3
   },
   "file_extension": ".py",
   "mimetype": "text/x-python",
   "name": "python",
   "nbconvert_exporter": "python",
   "pygments_lexer": "ipython3",
   "version": "3.7.3"
  }
 },
 "nbformat": 4,
 "nbformat_minor": 2
}
