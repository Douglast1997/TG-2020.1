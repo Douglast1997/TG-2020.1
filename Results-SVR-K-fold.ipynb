{
 "cells": [
  {
   "cell_type": "code",
   "execution_count": 16,
   "metadata": {},
   "outputs": [
    {
     "name": "stderr",
     "output_type": "stream",
     "text": [
      "400it [00:13, 29.78it/s]\n",
      "400it [00:12, 32.28it/s]\n",
      "400it [00:13, 30.22it/s]\n",
      "400it [00:13, 29.61it/s]\n",
      "400it [00:12, 33.10it/s]\n",
      "400it [00:12, 29.09it/s]\n",
      "400it [00:13, 26.60it/s]\n",
      "400it [00:12, 32.60it/s]\n",
      "400it [00:22, 11.95it/s]\n",
      "400it [00:14, 28.43it/s]\n",
      "400it [00:13, 30.18it/s]\n",
      "400it [00:12, 32.60it/s]\n",
      "400it [00:12, 30.97it/s]\n",
      "400it [00:11, 35.33it/s]\n",
      "400it [00:12, 33.27it/s]\n"
     ]
    }
   ],
   "source": [
    "import pandas as pd\n",
    "import numpy as np\n",
    "import math\n",
    "import os\n",
    "from tqdm import tqdm\n",
    "from matplotlib import pyplot as plt\n",
    "from PyRadioLoc.Utils.GeoUtils import GeoUtils\n",
    "%run UtilsLightGBMFingerPrinting.ipynb\n",
    "%run Imports.ipynb\n",
    "\n",
    "# gera os resultados teoricos\n",
    "for i in range(0,5):\n",
    "    FILES = [\n",
    "        (3*i + 13,'./k-fold-SVR/Test-SVR-Outdoor-Fold'+str(i+1)+'.csv'), # Usar CDB_20_SVR_Complete_k-fold \n",
    "        (3*i + 14,'./k-fold-SVR/Indoor_Test.csv'), # Usar CDB_20_SVR_Complete_k-fold\n",
    "        (3*i + 15,'./k-fold-SVR/Test-SVR-Indoor-Outdoor-Fold'+str(i+1)+'.csv') # Usar CDB_20_SVR_Complete_k-fold\n",
    "        ]\n",
    "    TEST_DATABASE = \"./k-fold-SVR/CDB-Fold\"+str(i+1)+\"-SVR.csv\"\n",
    "    generate_theorical_results(FILES, TEST_DATABASE)\n",
    "\n",
    "FILES = [\n",
    "    \n",
    "    #k = 1 SVR\n",
    "    './FinalResult/Resultados_Metodo_13.csv',  # CDB gerado com SVR dados Outdoor\n",
    "    './FinalResult/Resultados_Metodo_14.csv',  # CDB gerado com SVR dados Indoor\n",
    "    './FinalResult/Resultados_Metodo_15.csv',  # CDB gerado com SVR dados Indoor-Outdoor\n",
    "    \n",
    "    #k = 2 SVR\n",
    "    './FinalResult/Resultados_Metodo_16.csv',  # CDB gerado com SVR dados Outdoor\n",
    "    './FinalResult/Resultados_Metodo_17.csv',  # CDB gerado com SVR dados Indoor\n",
    "    './FinalResult/Resultados_Metodo_18.csv',  # CDB gerado com SVR dados Indoor-Outdoor\n",
    "    \n",
    "    #k = 3 SVR\n",
    "    './FinalResult/Resultados_Metodo_19.csv',  # CDB gerado com SVR dados Outdoor\n",
    "    './FinalResult/Resultados_Metodo_20.csv',  # CDB gerado com SVR dados Indoor\n",
    "    './FinalResult/Resultados_Metodo_21.csv',  # CDB gerado com SVR dados Indoor-Outdoor\n",
    "    \n",
    "    #k = 4 SVR\n",
    "    './FinalResult/Resultados_Metodo_22.csv',  # CDB gerado com SVR dados Outdoor\n",
    "    './FinalResult/Resultados_Metodo_23.csv',  # CDB gerado com SVR dados Indoor\n",
    "    './FinalResult/Resultados_Metodo_24.csv',  # CDB gerado com SVR dados Indoor-Outdoor\n",
    "    \n",
    "    #k = 5 SVR\n",
    "    './FinalResult/Resultados_Metodo_25.csv',  # CDB gerado com SVR dados Outdoor\n",
    "    './FinalResult/Resultados_Metodo_26.csv',  # CDB gerado com SVR dados Indoor\n",
    "    './FinalResult/Resultados_Metodo_27.csv',  # CDB gerado com SVR dados Indoor-Outdoor\n",
    "    \n",
    "    \n",
    "]\n",
    "METHODS = [x.split(\"_\")[-1].split(\".\")[0] for x in FILES]     # lista contendo os metodos que serão usados\n",
    "db = pd.read_csv('databases/meds_pandas.csv')\n",
    "erbs = pd.read_csv('databases/Bts.csv')\n",
    "#errorLocation = pd.read_csv('result/erros.csv')\n",
    "ERROS_CSV_FILE = './result-k-fold/erros-SVR-k-fold.csv' "
   ]
  },
  {
   "cell_type": "code",
   "execution_count": 17,
   "metadata": {},
   "outputs": [
    {
     "data": {
      "text/html": [
       "<div>\n",
       "<style scoped>\n",
       "    .dataframe tbody tr th:only-of-type {\n",
       "        vertical-align: middle;\n",
       "    }\n",
       "\n",
       "    .dataframe tbody tr th {\n",
       "        vertical-align: top;\n",
       "    }\n",
       "\n",
       "    .dataframe thead th {\n",
       "        text-align: right;\n",
       "    }\n",
       "</style>\n",
       "<table border=\"1\" class=\"dataframe\">\n",
       "  <thead>\n",
       "    <tr style=\"text-align: right;\">\n",
       "      <th></th>\n",
       "      <th>13</th>\n",
       "      <th>14</th>\n",
       "      <th>15</th>\n",
       "      <th>16</th>\n",
       "      <th>17</th>\n",
       "      <th>18</th>\n",
       "      <th>19</th>\n",
       "      <th>20</th>\n",
       "      <th>21</th>\n",
       "      <th>22</th>\n",
       "      <th>23</th>\n",
       "      <th>24</th>\n",
       "      <th>25</th>\n",
       "      <th>26</th>\n",
       "      <th>27</th>\n",
       "    </tr>\n",
       "  </thead>\n",
       "  <tbody>\n",
       "    <tr>\n",
       "      <th>count</th>\n",
       "      <td>400.00</td>\n",
       "      <td>400.00</td>\n",
       "      <td>400.00</td>\n",
       "      <td>400.00</td>\n",
       "      <td>400.00</td>\n",
       "      <td>400.00</td>\n",
       "      <td>400.00</td>\n",
       "      <td>400.00</td>\n",
       "      <td>400.00</td>\n",
       "      <td>400.00</td>\n",
       "      <td>400.00</td>\n",
       "      <td>400.00</td>\n",
       "      <td>400.00</td>\n",
       "      <td>400.00</td>\n",
       "      <td>400.00</td>\n",
       "    </tr>\n",
       "    <tr>\n",
       "      <th>mean</th>\n",
       "      <td>32.86</td>\n",
       "      <td>92.52</td>\n",
       "      <td>64.37</td>\n",
       "      <td>30.89</td>\n",
       "      <td>72.01</td>\n",
       "      <td>53.44</td>\n",
       "      <td>31.70</td>\n",
       "      <td>92.60</td>\n",
       "      <td>65.56</td>\n",
       "      <td>33.25</td>\n",
       "      <td>89.54</td>\n",
       "      <td>62.44</td>\n",
       "      <td>33.82</td>\n",
       "      <td>89.68</td>\n",
       "      <td>60.22</td>\n",
       "    </tr>\n",
       "    <tr>\n",
       "      <th>std</th>\n",
       "      <td>30.15</td>\n",
       "      <td>23.08</td>\n",
       "      <td>41.39</td>\n",
       "      <td>29.25</td>\n",
       "      <td>34.19</td>\n",
       "      <td>38.94</td>\n",
       "      <td>33.21</td>\n",
       "      <td>14.80</td>\n",
       "      <td>37.86</td>\n",
       "      <td>33.95</td>\n",
       "      <td>19.50</td>\n",
       "      <td>38.53</td>\n",
       "      <td>29.81</td>\n",
       "      <td>19.90</td>\n",
       "      <td>38.82</td>\n",
       "    </tr>\n",
       "    <tr>\n",
       "      <th>min</th>\n",
       "      <td>0.81</td>\n",
       "      <td>32.13</td>\n",
       "      <td>1.19</td>\n",
       "      <td>0.84</td>\n",
       "      <td>17.44</td>\n",
       "      <td>2.55</td>\n",
       "      <td>0.44</td>\n",
       "      <td>72.88</td>\n",
       "      <td>0.86</td>\n",
       "      <td>0.74</td>\n",
       "      <td>32.13</td>\n",
       "      <td>1.47</td>\n",
       "      <td>0.65</td>\n",
       "      <td>32.13</td>\n",
       "      <td>2.31</td>\n",
       "    </tr>\n",
       "    <tr>\n",
       "      <th>25%</th>\n",
       "      <td>11.05</td>\n",
       "      <td>81.69</td>\n",
       "      <td>19.86</td>\n",
       "      <td>10.48</td>\n",
       "      <td>42.13</td>\n",
       "      <td>17.44</td>\n",
       "      <td>9.23</td>\n",
       "      <td>83.07</td>\n",
       "      <td>25.98</td>\n",
       "      <td>9.28</td>\n",
       "      <td>81.69</td>\n",
       "      <td>20.98</td>\n",
       "      <td>12.02</td>\n",
       "      <td>81.69</td>\n",
       "      <td>19.60</td>\n",
       "    </tr>\n",
       "    <tr>\n",
       "      <th>50%</th>\n",
       "      <td>22.77</td>\n",
       "      <td>87.04</td>\n",
       "      <td>72.88</td>\n",
       "      <td>19.38</td>\n",
       "      <td>86.13</td>\n",
       "      <td>42.13</td>\n",
       "      <td>18.78</td>\n",
       "      <td>88.28</td>\n",
       "      <td>76.89</td>\n",
       "      <td>22.25</td>\n",
       "      <td>88.28</td>\n",
       "      <td>72.88</td>\n",
       "      <td>24.66</td>\n",
       "      <td>88.28</td>\n",
       "      <td>72.88</td>\n",
       "    </tr>\n",
       "    <tr>\n",
       "      <th>75%</th>\n",
       "      <td>45.00</td>\n",
       "      <td>104.99</td>\n",
       "      <td>102.64</td>\n",
       "      <td>42.56</td>\n",
       "      <td>92.82</td>\n",
       "      <td>88.28</td>\n",
       "      <td>44.01</td>\n",
       "      <td>104.36</td>\n",
       "      <td>92.82</td>\n",
       "      <td>44.76</td>\n",
       "      <td>104.36</td>\n",
       "      <td>92.82</td>\n",
       "      <td>46.88</td>\n",
       "      <td>104.36</td>\n",
       "      <td>92.82</td>\n",
       "    </tr>\n",
       "    <tr>\n",
       "      <th>max</th>\n",
       "      <td>177.81</td>\n",
       "      <td>137.37</td>\n",
       "      <td>173.53</td>\n",
       "      <td>161.79</td>\n",
       "      <td>124.19</td>\n",
       "      <td>199.50</td>\n",
       "      <td>243.81</td>\n",
       "      <td>124.19</td>\n",
       "      <td>160.97</td>\n",
       "      <td>213.93</td>\n",
       "      <td>124.19</td>\n",
       "      <td>152.23</td>\n",
       "      <td>165.70</td>\n",
       "      <td>137.37</td>\n",
       "      <td>129.69</td>\n",
       "    </tr>\n",
       "  </tbody>\n",
       "</table>\n",
       "</div>"
      ],
      "text/plain": [
       "           13      14      15      16      17      18      19      20      21  \\\n",
       "count  400.00  400.00  400.00  400.00  400.00  400.00  400.00  400.00  400.00   \n",
       "mean    32.86   92.52   64.37   30.89   72.01   53.44   31.70   92.60   65.56   \n",
       "std     30.15   23.08   41.39   29.25   34.19   38.94   33.21   14.80   37.86   \n",
       "min      0.81   32.13    1.19    0.84   17.44    2.55    0.44   72.88    0.86   \n",
       "25%     11.05   81.69   19.86   10.48   42.13   17.44    9.23   83.07   25.98   \n",
       "50%     22.77   87.04   72.88   19.38   86.13   42.13   18.78   88.28   76.89   \n",
       "75%     45.00  104.99  102.64   42.56   92.82   88.28   44.01  104.36   92.82   \n",
       "max    177.81  137.37  173.53  161.79  124.19  199.50  243.81  124.19  160.97   \n",
       "\n",
       "           22      23      24      25      26      27  \n",
       "count  400.00  400.00  400.00  400.00  400.00  400.00  \n",
       "mean    33.25   89.54   62.44   33.82   89.68   60.22  \n",
       "std     33.95   19.50   38.53   29.81   19.90   38.82  \n",
       "min      0.74   32.13    1.47    0.65   32.13    2.31  \n",
       "25%      9.28   81.69   20.98   12.02   81.69   19.60  \n",
       "50%     22.25   88.28   72.88   24.66   88.28   72.88  \n",
       "75%     44.76  104.36   92.82   46.88  104.36   92.82  \n",
       "max    213.93  124.19  152.23  165.70  137.37  129.69  "
      ]
     },
     "execution_count": 17,
     "metadata": {},
     "output_type": "execute_result"
    }
   ],
   "source": [
    "# Gera o dataframe contendo os erros\n",
    "errors_df = calculate_theorical_errors()\n",
    "round(errors_df.describe(), 2)"
   ]
  },
  {
   "cell_type": "code",
   "execution_count": 18,
   "metadata": {},
   "outputs": [],
   "source": [
    "test_erro = round(errors_df.describe(), 2)\n",
    "test_erros = errors_df"
   ]
  },
  {
   "cell_type": "code",
   "execution_count": 19,
   "metadata": {},
   "outputs": [
    {
     "data": {
      "text/plain": [
       "31.271903090931893"
      ]
     },
     "execution_count": 19,
     "metadata": {},
     "output_type": "execute_result"
    }
   ],
   "source": [
    "std_outdoor = (test_erros['13'].std() + test_erros['16'].std() + test_erros['19'].std() + test_erros['22'].std() + test_erros['25'].std())/5\n",
    "std_outdoor"
   ]
  },
  {
   "cell_type": "code",
   "execution_count": 20,
   "metadata": {},
   "outputs": [
    {
     "data": {
      "text/plain": [
       "22.292816332559035"
      ]
     },
     "execution_count": 20,
     "metadata": {},
     "output_type": "execute_result"
    }
   ],
   "source": [
    "std_indoor = (test_erros['14'].std() + test_erros['17'].std() + test_erros['20'].std() + test_erros['23'].std() + test_erros['26'].std())/5\n",
    "std_indoor"
   ]
  },
  {
   "cell_type": "code",
   "execution_count": 21,
   "metadata": {},
   "outputs": [
    {
     "data": {
      "text/plain": [
       "39.11011016993733"
      ]
     },
     "execution_count": 21,
     "metadata": {},
     "output_type": "execute_result"
    }
   ],
   "source": [
    "std_indoor_outdoor = (test_erros['15'].std() + test_erros['18'].std() + test_erros['21'].std() + test_erros['24'].std() + test_erros['27'].std())/5\n",
    "std_indoor_outdoor"
   ]
  },
  {
   "cell_type": "markdown",
   "metadata": {},
   "source": [
    "# SVR-Outdoor:"
   ]
  },
  {
   "cell_type": "code",
   "execution_count": 22,
   "metadata": {},
   "outputs": [
    {
     "data": {
      "text/plain": [
       "0    41.612\n",
       "1    26.980\n",
       "2    32.918\n",
       "3    25.460\n",
       "4    53.584\n",
       "dtype: float64"
      ]
     },
     "execution_count": 22,
     "metadata": {},
     "output_type": "execute_result"
    }
   ],
   "source": [
    "test_erro = round(errors_df.describe(), 2)\n",
    "test_erros = errors_df\n",
    "mean_outdoor = (test_erros['13'] + test_erros['16'] + test_erros['19'] + test_erros['22'] + test_erros['25'])/5\n",
    "mean_outdoor.head()"
   ]
  },
  {
   "cell_type": "code",
   "execution_count": 23,
   "metadata": {},
   "outputs": [
    {
     "data": {
      "text/plain": [
       "0.44"
      ]
     },
     "execution_count": 23,
     "metadata": {},
     "output_type": "execute_result"
    }
   ],
   "source": [
    "min_outdoor = min(test_erro['13']['min'], test_erro['16']['min'], test_erro['19']['min'], test_erro['22']['min'], test_erro['25']['min'])\n",
    "min_outdoor"
   ]
  },
  {
   "cell_type": "code",
   "execution_count": 24,
   "metadata": {},
   "outputs": [
    {
     "data": {
      "text/plain": [
       "243.81"
      ]
     },
     "execution_count": 24,
     "metadata": {},
     "output_type": "execute_result"
    }
   ],
   "source": [
    "max_outdoor = max(test_erro['13']['max'], test_erro['16']['max'], test_erro['19']['max'], test_erro['22']['max'], test_erro['25']['max'])\n",
    "max_outdoor"
   ]
  },
  {
   "cell_type": "markdown",
   "metadata": {},
   "source": [
    "# SVR-Indoor:"
   ]
  },
  {
   "cell_type": "code",
   "execution_count": 25,
   "metadata": {
    "scrolled": true
   },
   "outputs": [
    {
     "data": {
      "text/html": [
       "<div>\n",
       "<style scoped>\n",
       "    .dataframe tbody tr th:only-of-type {\n",
       "        vertical-align: middle;\n",
       "    }\n",
       "\n",
       "    .dataframe tbody tr th {\n",
       "        vertical-align: top;\n",
       "    }\n",
       "\n",
       "    .dataframe thead th {\n",
       "        text-align: right;\n",
       "    }\n",
       "</style>\n",
       "<table border=\"1\" class=\"dataframe\">\n",
       "  <thead>\n",
       "    <tr style=\"text-align: right;\">\n",
       "      <th></th>\n",
       "      <th>0</th>\n",
       "      <th>1</th>\n",
       "      <th>2</th>\n",
       "    </tr>\n",
       "  </thead>\n",
       "  <tbody>\n",
       "    <tr>\n",
       "      <th>0</th>\n",
       "      <td>41.61</td>\n",
       "      <td>88.03</td>\n",
       "      <td>21.59</td>\n",
       "    </tr>\n",
       "    <tr>\n",
       "      <th>1</th>\n",
       "      <td>26.98</td>\n",
       "      <td>50.32</td>\n",
       "      <td>27.78</td>\n",
       "    </tr>\n",
       "    <tr>\n",
       "      <th>2</th>\n",
       "      <td>32.92</td>\n",
       "      <td>96.72</td>\n",
       "      <td>49.56</td>\n",
       "    </tr>\n",
       "    <tr>\n",
       "      <th>3</th>\n",
       "      <td>25.46</td>\n",
       "      <td>61.79</td>\n",
       "      <td>45.17</td>\n",
       "    </tr>\n",
       "    <tr>\n",
       "      <th>4</th>\n",
       "      <td>53.58</td>\n",
       "      <td>96.85</td>\n",
       "      <td>51.71</td>\n",
       "    </tr>\n",
       "  </tbody>\n",
       "</table>\n",
       "</div>"
      ],
      "text/plain": [
       "       0      1      2\n",
       "0  41.61  88.03  21.59\n",
       "1  26.98  50.32  27.78\n",
       "2  32.92  96.72  49.56\n",
       "3  25.46  61.79  45.17\n",
       "4  53.58  96.85  51.71"
      ]
     },
     "execution_count": 25,
     "metadata": {},
     "output_type": "execute_result"
    }
   ],
   "source": [
    "mean_indoor = (test_erros['14'] + test_erros['17'] + test_erros['20'] + test_erros['23'] + test_erros['26'])/5\n",
    "#mean_indoor.head()\n",
    "min_indoor = min(test_erro['14']['min'], test_erro['17']['min'], test_erro['20']['min'], test_erro['23']['min'], test_erro['26']['min'])\n",
    "#min_indoor\n",
    "max_indoor = max(test_erro['14']['max'], test_erro['17']['max'], test_erro['20']['max'], test_erro['23']['max'], test_erro['26']['max'])\n",
    "#max_indoor\n",
    "mean_indoor_outdoor = (test_erros['15'] + test_erros['18'] + test_erros['21'] + test_erros['24'] + test_erros['27'])/5\n",
    "#mean_indoor_outdoor.head()\n",
    "min_indoor_outdoor = min(test_erro['15']['min'], test_erro['18']['min'], test_erro['21']['min'], test_erro['24']['min'], test_erro['27']['min'])\n",
    "#min_indoor_outdoor\n",
    "max_indoor_outdoor = max(test_erro['15']['max'], test_erro['18']['max'], test_erro['21']['max'], test_erro['24']['max'], test_erro['27']['max'])\n",
    "#max_indoor_outdoor\n",
    "erros_SVR = [mean_outdoor,mean_indoor, mean_indoor_outdoor ]\n",
    "erros_SVR = pd.DataFrame(erros_SVR)\n",
    "erros_SVR = erros_SVR.T\n",
    "erros_SVR = round(erros_SVR,2)\n",
    "erros_SVR.to_csv(ERROS_CSV_FILE, index=False)\n",
    "erros_SVR.head()\n"
   ]
  },
  {
   "cell_type": "code",
   "execution_count": 26,
   "metadata": {
    "scrolled": true
   },
   "outputs": [
    {
     "data": {
      "text/plain": [
       "137.37"
      ]
     },
     "execution_count": 26,
     "metadata": {},
     "output_type": "execute_result"
    }
   ],
   "source": [
    "max_indoor"
   ]
  },
  {
   "cell_type": "code",
   "execution_count": 27,
   "metadata": {},
   "outputs": [
    {
     "data": {
      "text/plain": [
       "17.44"
      ]
     },
     "execution_count": 27,
     "metadata": {},
     "output_type": "execute_result"
    }
   ],
   "source": [
    "min_indoor"
   ]
  },
  {
   "cell_type": "code",
   "execution_count": 28,
   "metadata": {},
   "outputs": [
    {
     "data": {
      "text/plain": [
       "199.5"
      ]
     },
     "execution_count": 28,
     "metadata": {},
     "output_type": "execute_result"
    }
   ],
   "source": [
    "max_indoor_outdoor"
   ]
  },
  {
   "cell_type": "code",
   "execution_count": 29,
   "metadata": {},
   "outputs": [
    {
     "data": {
      "text/plain": [
       "0.86"
      ]
     },
     "execution_count": 29,
     "metadata": {},
     "output_type": "execute_result"
    }
   ],
   "source": [
    "min_indoor_outdoor"
   ]
  },
  {
   "cell_type": "code",
   "execution_count": 30,
   "metadata": {},
   "outputs": [
    {
     "data": {
      "text/html": [
       "<div>\n",
       "<style scoped>\n",
       "    .dataframe tbody tr th:only-of-type {\n",
       "        vertical-align: middle;\n",
       "    }\n",
       "\n",
       "    .dataframe tbody tr th {\n",
       "        vertical-align: top;\n",
       "    }\n",
       "\n",
       "    .dataframe thead th {\n",
       "        text-align: right;\n",
       "    }\n",
       "</style>\n",
       "<table border=\"1\" class=\"dataframe\">\n",
       "  <thead>\n",
       "    <tr style=\"text-align: right;\">\n",
       "      <th></th>\n",
       "      <th>0</th>\n",
       "      <th>1</th>\n",
       "      <th>2</th>\n",
       "    </tr>\n",
       "  </thead>\n",
       "  <tbody>\n",
       "    <tr>\n",
       "      <th>count</th>\n",
       "      <td>400.00</td>\n",
       "      <td>400.00</td>\n",
       "      <td>400.00</td>\n",
       "    </tr>\n",
       "    <tr>\n",
       "      <th>mean</th>\n",
       "      <td>32.50</td>\n",
       "      <td>87.27</td>\n",
       "      <td>61.21</td>\n",
       "    </tr>\n",
       "    <tr>\n",
       "      <th>std</th>\n",
       "      <td>14.04</td>\n",
       "      <td>20.79</td>\n",
       "      <td>32.09</td>\n",
       "    </tr>\n",
       "    <tr>\n",
       "      <th>min</th>\n",
       "      <td>7.38</td>\n",
       "      <td>42.04</td>\n",
       "      <td>8.15</td>\n",
       "    </tr>\n",
       "    <tr>\n",
       "      <th>25%</th>\n",
       "      <td>21.87</td>\n",
       "      <td>71.78</td>\n",
       "      <td>33.08</td>\n",
       "    </tr>\n",
       "    <tr>\n",
       "      <th>50%</th>\n",
       "      <td>31.20</td>\n",
       "      <td>88.03</td>\n",
       "      <td>61.79</td>\n",
       "    </tr>\n",
       "    <tr>\n",
       "      <th>75%</th>\n",
       "      <td>41.41</td>\n",
       "      <td>103.00</td>\n",
       "      <td>88.03</td>\n",
       "    </tr>\n",
       "    <tr>\n",
       "      <th>max</th>\n",
       "      <td>83.07</td>\n",
       "      <td>126.83</td>\n",
       "      <td>126.83</td>\n",
       "    </tr>\n",
       "  </tbody>\n",
       "</table>\n",
       "</div>"
      ],
      "text/plain": [
       "            0       1       2\n",
       "count  400.00  400.00  400.00\n",
       "mean    32.50   87.27   61.21\n",
       "std     14.04   20.79   32.09\n",
       "min      7.38   42.04    8.15\n",
       "25%     21.87   71.78   33.08\n",
       "50%     31.20   88.03   61.79\n",
       "75%     41.41  103.00   88.03\n",
       "max     83.07  126.83  126.83"
      ]
     },
     "execution_count": 30,
     "metadata": {},
     "output_type": "execute_result"
    }
   ],
   "source": [
    "results_SVR = round(erros_SVR.describe(), 2)\n",
    "results_SVR\n",
    "#results_SVR.to_csv('./result-k-fold/Result-SVR-k-fold.csv', index=False)"
   ]
  },
  {
   "cell_type": "code",
   "execution_count": null,
   "metadata": {},
   "outputs": [],
   "source": []
  },
  {
   "cell_type": "code",
   "execution_count": null,
   "metadata": {},
   "outputs": [],
   "source": []
  }
 ],
 "metadata": {
  "kernelspec": {
   "display_name": "Python 3",
   "language": "python",
   "name": "python3"
  },
  "language_info": {
   "codemirror_mode": {
    "name": "ipython",
    "version": 3
   },
   "file_extension": ".py",
   "mimetype": "text/x-python",
   "name": "python",
   "nbconvert_exporter": "python",
   "pygments_lexer": "ipython3",
   "version": "3.7.3"
  }
 },
 "nbformat": 4,
 "nbformat_minor": 2
}
