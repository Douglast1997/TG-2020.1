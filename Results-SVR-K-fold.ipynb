{
 "cells": [
  {
   "cell_type": "code",
   "execution_count": 16,
   "metadata": {},
   "outputs": [
    {
     "name": "stderr",
     "output_type": "stream",
     "text": [
      "400it [00:24, 16.37it/s]\n",
      "400it [00:22, 23.72it/s]\n",
      "400it [00:24, 13.81it/s]\n",
      "400it [00:25, 18.05it/s]\n",
      "400it [00:22, 17.65it/s]\n",
      "400it [00:25, 14.86it/s]\n",
      "400it [00:25, 15.15it/s]\n",
      "400it [00:22, 17.42it/s]\n",
      "400it [00:24, 16.44it/s]\n",
      "400it [00:25, 15.86it/s]\n",
      "400it [00:23, 16.96it/s]\n",
      "400it [00:23, 16.73it/s]\n",
      "400it [00:26, 14.76it/s]\n",
      "400it [00:23, 17.24it/s]\n",
      "400it [00:24, 16.53it/s]\n"
     ]
    }
   ],
   "source": [
    "import pandas as pd\n",
    "import numpy as np\n",
    "import math\n",
    "import os\n",
    "from tqdm import tqdm\n",
    "from matplotlib import pyplot as plt\n",
    "from PyRadioLoc.Utils.GeoUtils import GeoUtils\n",
    "%run UtilsLightGBMFingerPrinting.ipynb\n",
    "%run Imports.ipynb\n",
    "\n",
    "# gera os resultados teoricos\n",
    "for i in range(0,5):\n",
    "    FILES = [\n",
    "        (3*i + 13,'./k-fold-SVR/Test-SVR-Outdoor-Fold'+str(i+1)+'.csv'), # Usar CDB_20_SVR_Complete_k-fold \n",
    "        (3*i + 14,'./k-fold-SVR/Indoor_Test.csv'), # Usar CDB_20_SVR_Complete_k-fold\n",
    "        (3*i + 15,'./k-fold-SVR/Test-SVR-Indoor-Outdoor-Fold'+str(i+1)+'.csv') # Usar CDB_20_SVR_Complete_k-fold\n",
    "        ]\n",
    "    TEST_DATABASE = \"./k-fold-SVR/CDB-Fold\"+str(i+1)+\"-SVR.csv\"\n",
    "    generate_theorical_results(FILES, TEST_DATABASE)\n",
    "\n",
    "FILES = [\n",
    "    \n",
    "    #k = 1 SVR\n",
    "    './FinalResult/Resultados_Metodo_13.csv',  # CDB gerado com SVR dados Outdoor\n",
    "    './FinalResult/Resultados_Metodo_14.csv',  # CDB gerado com SVR dados Indoor\n",
    "    './FinalResult/Resultados_Metodo_15.csv',  # CDB gerado com SVR dados Indoor-Outdoor\n",
    "    \n",
    "    #k = 2 SVR\n",
    "    './FinalResult/Resultados_Metodo_16.csv',  # CDB gerado com SVR dados Outdoor\n",
    "    './FinalResult/Resultados_Metodo_17.csv',  # CDB gerado com SVR dados Indoor\n",
    "    './FinalResult/Resultados_Metodo_18.csv',  # CDB gerado com SVR dados Indoor-Outdoor\n",
    "    \n",
    "    #k = 3 SVR\n",
    "    './FinalResult/Resultados_Metodo_19.csv',  # CDB gerado com SVR dados Outdoor\n",
    "    './FinalResult/Resultados_Metodo_20.csv',  # CDB gerado com SVR dados Indoor\n",
    "    './FinalResult/Resultados_Metodo_21.csv',  # CDB gerado com SVR dados Indoor-Outdoor\n",
    "    \n",
    "    #k = 4 SVR\n",
    "    './FinalResult/Resultados_Metodo_22.csv',  # CDB gerado com SVR dados Outdoor\n",
    "    './FinalResult/Resultados_Metodo_23.csv',  # CDB gerado com SVR dados Indoor\n",
    "    './FinalResult/Resultados_Metodo_24.csv',  # CDB gerado com SVR dados Indoor-Outdoor\n",
    "    \n",
    "    #k = 5 SVR\n",
    "    './FinalResult/Resultados_Metodo_25.csv',  # CDB gerado com SVR dados Outdoor\n",
    "    './FinalResult/Resultados_Metodo_26.csv',  # CDB gerado com SVR dados Indoor\n",
    "    './FinalResult/Resultados_Metodo_27.csv',  # CDB gerado com SVR dados Indoor-Outdoor\n",
    "    \n",
    "    \n",
    "]\n",
    "METHODS = [x.split(\"_\")[-1].split(\".\")[0] for x in FILES]     # lista contendo os metodos que serão usados\n",
    "db = pd.read_csv('databases/meds_pandas.csv')\n",
    "erbs = pd.read_csv('databases/Bts.csv')\n",
    "#errorLocation = pd.read_csv('result/erros.csv')\n",
    "ERROS_CSV_FILE = './result-k-fold/erros-SVR-k-fold.csv' "
   ]
  },
  {
   "cell_type": "code",
   "execution_count": 17,
   "metadata": {},
   "outputs": [
    {
     "data": {
      "text/html": [
       "<div>\n",
       "<style scoped>\n",
       "    .dataframe tbody tr th:only-of-type {\n",
       "        vertical-align: middle;\n",
       "    }\n",
       "\n",
       "    .dataframe tbody tr th {\n",
       "        vertical-align: top;\n",
       "    }\n",
       "\n",
       "    .dataframe thead th {\n",
       "        text-align: right;\n",
       "    }\n",
       "</style>\n",
       "<table border=\"1\" class=\"dataframe\">\n",
       "  <thead>\n",
       "    <tr style=\"text-align: right;\">\n",
       "      <th></th>\n",
       "      <th>13</th>\n",
       "      <th>14</th>\n",
       "      <th>15</th>\n",
       "      <th>16</th>\n",
       "      <th>17</th>\n",
       "      <th>18</th>\n",
       "      <th>19</th>\n",
       "      <th>20</th>\n",
       "      <th>21</th>\n",
       "      <th>22</th>\n",
       "      <th>23</th>\n",
       "      <th>24</th>\n",
       "      <th>25</th>\n",
       "      <th>26</th>\n",
       "      <th>27</th>\n",
       "    </tr>\n",
       "  </thead>\n",
       "  <tbody>\n",
       "    <tr>\n",
       "      <th>count</th>\n",
       "      <td>400.00</td>\n",
       "      <td>400.00</td>\n",
       "      <td>400.00</td>\n",
       "      <td>400.00</td>\n",
       "      <td>400.00</td>\n",
       "      <td>400.00</td>\n",
       "      <td>400.00</td>\n",
       "      <td>400.00</td>\n",
       "      <td>400.00</td>\n",
       "      <td>400.00</td>\n",
       "      <td>400.00</td>\n",
       "      <td>400.00</td>\n",
       "      <td>400.00</td>\n",
       "      <td>400.00</td>\n",
       "      <td>400.00</td>\n",
       "    </tr>\n",
       "    <tr>\n",
       "      <th>mean</th>\n",
       "      <td>43.64</td>\n",
       "      <td>73.23</td>\n",
       "      <td>59.01</td>\n",
       "      <td>45.33</td>\n",
       "      <td>71.69</td>\n",
       "      <td>58.37</td>\n",
       "      <td>42.75</td>\n",
       "      <td>88.40</td>\n",
       "      <td>67.02</td>\n",
       "      <td>44.44</td>\n",
       "      <td>86.17</td>\n",
       "      <td>64.81</td>\n",
       "      <td>42.55</td>\n",
       "      <td>85.46</td>\n",
       "      <td>67.81</td>\n",
       "    </tr>\n",
       "    <tr>\n",
       "      <th>std</th>\n",
       "      <td>38.55</td>\n",
       "      <td>36.49</td>\n",
       "      <td>40.75</td>\n",
       "      <td>40.17</td>\n",
       "      <td>34.91</td>\n",
       "      <td>39.63</td>\n",
       "      <td>39.06</td>\n",
       "      <td>25.21</td>\n",
       "      <td>40.04</td>\n",
       "      <td>39.83</td>\n",
       "      <td>24.52</td>\n",
       "      <td>37.26</td>\n",
       "      <td>38.81</td>\n",
       "      <td>22.26</td>\n",
       "      <td>38.14</td>\n",
       "    </tr>\n",
       "    <tr>\n",
       "      <th>min</th>\n",
       "      <td>0.90</td>\n",
       "      <td>17.44</td>\n",
       "      <td>1.19</td>\n",
       "      <td>1.87</td>\n",
       "      <td>17.44</td>\n",
       "      <td>2.55</td>\n",
       "      <td>0.44</td>\n",
       "      <td>32.13</td>\n",
       "      <td>1.30</td>\n",
       "      <td>0.74</td>\n",
       "      <td>32.13</td>\n",
       "      <td>1.94</td>\n",
       "      <td>0.65</td>\n",
       "      <td>32.13</td>\n",
       "      <td>2.61</td>\n",
       "    </tr>\n",
       "    <tr>\n",
       "      <th>25%</th>\n",
       "      <td>14.74</td>\n",
       "      <td>42.13</td>\n",
       "      <td>18.79</td>\n",
       "      <td>14.82</td>\n",
       "      <td>42.13</td>\n",
       "      <td>22.08</td>\n",
       "      <td>12.61</td>\n",
       "      <td>72.88</td>\n",
       "      <td>30.14</td>\n",
       "      <td>13.90</td>\n",
       "      <td>72.88</td>\n",
       "      <td>29.38</td>\n",
       "      <td>14.05</td>\n",
       "      <td>72.88</td>\n",
       "      <td>32.13</td>\n",
       "    </tr>\n",
       "    <tr>\n",
       "      <th>50%</th>\n",
       "      <td>29.46</td>\n",
       "      <td>86.13</td>\n",
       "      <td>54.28</td>\n",
       "      <td>31.28</td>\n",
       "      <td>86.13</td>\n",
       "      <td>54.76</td>\n",
       "      <td>28.57</td>\n",
       "      <td>86.13</td>\n",
       "      <td>72.88</td>\n",
       "      <td>30.04</td>\n",
       "      <td>86.13</td>\n",
       "      <td>72.88</td>\n",
       "      <td>28.97</td>\n",
       "      <td>83.71</td>\n",
       "      <td>72.88</td>\n",
       "    </tr>\n",
       "    <tr>\n",
       "      <th>75%</th>\n",
       "      <td>62.06</td>\n",
       "      <td>101.93</td>\n",
       "      <td>90.76</td>\n",
       "      <td>65.61</td>\n",
       "      <td>96.80</td>\n",
       "      <td>88.28</td>\n",
       "      <td>60.18</td>\n",
       "      <td>102.64</td>\n",
       "      <td>96.42</td>\n",
       "      <td>63.53</td>\n",
       "      <td>101.93</td>\n",
       "      <td>92.82</td>\n",
       "      <td>61.12</td>\n",
       "      <td>101.93</td>\n",
       "      <td>92.82</td>\n",
       "    </tr>\n",
       "    <tr>\n",
       "      <th>max</th>\n",
       "      <td>189.02</td>\n",
       "      <td>198.83</td>\n",
       "      <td>173.53</td>\n",
       "      <td>208.22</td>\n",
       "      <td>198.83</td>\n",
       "      <td>194.16</td>\n",
       "      <td>196.32</td>\n",
       "      <td>137.37</td>\n",
       "      <td>206.63</td>\n",
       "      <td>197.64</td>\n",
       "      <td>198.83</td>\n",
       "      <td>207.88</td>\n",
       "      <td>245.89</td>\n",
       "      <td>137.37</td>\n",
       "      <td>184.93</td>\n",
       "    </tr>\n",
       "  </tbody>\n",
       "</table>\n",
       "</div>"
      ],
      "text/plain": [
       "           13      14      15      16      17      18      19      20      21  \\\n",
       "count  400.00  400.00  400.00  400.00  400.00  400.00  400.00  400.00  400.00   \n",
       "mean    43.64   73.23   59.01   45.33   71.69   58.37   42.75   88.40   67.02   \n",
       "std     38.55   36.49   40.75   40.17   34.91   39.63   39.06   25.21   40.04   \n",
       "min      0.90   17.44    1.19    1.87   17.44    2.55    0.44   32.13    1.30   \n",
       "25%     14.74   42.13   18.79   14.82   42.13   22.08   12.61   72.88   30.14   \n",
       "50%     29.46   86.13   54.28   31.28   86.13   54.76   28.57   86.13   72.88   \n",
       "75%     62.06  101.93   90.76   65.61   96.80   88.28   60.18  102.64   96.42   \n",
       "max    189.02  198.83  173.53  208.22  198.83  194.16  196.32  137.37  206.63   \n",
       "\n",
       "           22      23      24      25      26      27  \n",
       "count  400.00  400.00  400.00  400.00  400.00  400.00  \n",
       "mean    44.44   86.17   64.81   42.55   85.46   67.81  \n",
       "std     39.83   24.52   37.26   38.81   22.26   38.14  \n",
       "min      0.74   32.13    1.94    0.65   32.13    2.61  \n",
       "25%     13.90   72.88   29.38   14.05   72.88   32.13  \n",
       "50%     30.04   86.13   72.88   28.97   83.71   72.88  \n",
       "75%     63.53  101.93   92.82   61.12  101.93   92.82  \n",
       "max    197.64  198.83  207.88  245.89  137.37  184.93  "
      ]
     },
     "execution_count": 17,
     "metadata": {},
     "output_type": "execute_result"
    }
   ],
   "source": [
    "# Gera o dataframe contendo os erros\n",
    "errors_df = calculate_theorical_errors()\n",
    "round(errors_df.describe(), 2)"
   ]
  },
  {
   "cell_type": "code",
   "execution_count": 18,
   "metadata": {},
   "outputs": [],
   "source": [
    "test_erro = round(errors_df.describe(), 2)\n",
    "test_erros = errors_df"
   ]
  },
  {
   "cell_type": "code",
   "execution_count": 19,
   "metadata": {},
   "outputs": [
    {
     "data": {
      "text/plain": [
       "39.28233192784258"
      ]
     },
     "execution_count": 19,
     "metadata": {},
     "output_type": "execute_result"
    }
   ],
   "source": [
    "std_outdoor = (test_erros['13'].std() + test_erros['16'].std() + test_erros['19'].std() + test_erros['22'].std() + test_erros['25'].std())/5\n",
    "std_outdoor"
   ]
  },
  {
   "cell_type": "code",
   "execution_count": 20,
   "metadata": {},
   "outputs": [
    {
     "data": {
      "text/plain": [
       "28.67615413317963"
      ]
     },
     "execution_count": 20,
     "metadata": {},
     "output_type": "execute_result"
    }
   ],
   "source": [
    "std_indoor = (test_erros['14'].std() + test_erros['17'].std() + test_erros['20'].std() + test_erros['23'].std() + test_erros['26'].std())/5\n",
    "std_indoor"
   ]
  },
  {
   "cell_type": "code",
   "execution_count": 21,
   "metadata": {},
   "outputs": [
    {
     "data": {
      "text/plain": [
       "39.165284177201016"
      ]
     },
     "execution_count": 21,
     "metadata": {},
     "output_type": "execute_result"
    }
   ],
   "source": [
    "std_indoor_outdoor = (test_erros['15'].std() + test_erros['18'].std() + test_erros['21'].std() + test_erros['24'].std() + test_erros['27'].std())/5\n",
    "std_indoor_outdoor"
   ]
  },
  {
   "cell_type": "markdown",
   "metadata": {},
   "source": [
    "# SVR-Outdoor:"
   ]
  },
  {
   "cell_type": "code",
   "execution_count": 22,
   "metadata": {},
   "outputs": [
    {
     "data": {
      "text/plain": [
       "0    47.502\n",
       "1    52.140\n",
       "2    43.360\n",
       "3    26.754\n",
       "4    54.154\n",
       "dtype: float64"
      ]
     },
     "execution_count": 22,
     "metadata": {},
     "output_type": "execute_result"
    }
   ],
   "source": [
    "test_erro = round(errors_df.describe(), 2)\n",
    "test_erros = errors_df\n",
    "mean_outdoor = (test_erros['13'] + test_erros['16'] + test_erros['19'] + test_erros['22'] + test_erros['25'])/5\n",
    "mean_outdoor.head()"
   ]
  },
  {
   "cell_type": "code",
   "execution_count": 23,
   "metadata": {},
   "outputs": [
    {
     "data": {
      "text/plain": [
       "0.44"
      ]
     },
     "execution_count": 23,
     "metadata": {},
     "output_type": "execute_result"
    }
   ],
   "source": [
    "min_outdoor = min(test_erro['13']['min'], test_erro['16']['min'], test_erro['19']['min'], test_erro['22']['min'], test_erro['25']['min'])\n",
    "min_outdoor"
   ]
  },
  {
   "cell_type": "code",
   "execution_count": 24,
   "metadata": {},
   "outputs": [
    {
     "data": {
      "text/plain": [
       "245.89"
      ]
     },
     "execution_count": 24,
     "metadata": {},
     "output_type": "execute_result"
    }
   ],
   "source": [
    "max_outdoor = max(test_erro['13']['max'], test_erro['16']['max'], test_erro['19']['max'], test_erro['22']['max'], test_erro['25']['max'])\n",
    "max_outdoor"
   ]
  },
  {
   "cell_type": "markdown",
   "metadata": {},
   "source": [
    "# SVR-Indoor:"
   ]
  },
  {
   "cell_type": "code",
   "execution_count": 25,
   "metadata": {
    "scrolled": true
   },
   "outputs": [
    {
     "data": {
      "text/html": [
       "<div>\n",
       "<style scoped>\n",
       "    .dataframe tbody tr th:only-of-type {\n",
       "        vertical-align: middle;\n",
       "    }\n",
       "\n",
       "    .dataframe tbody tr th {\n",
       "        vertical-align: top;\n",
       "    }\n",
       "\n",
       "    .dataframe thead th {\n",
       "        text-align: right;\n",
       "    }\n",
       "</style>\n",
       "<table border=\"1\" class=\"dataframe\">\n",
       "  <thead>\n",
       "    <tr style=\"text-align: right;\">\n",
       "      <th></th>\n",
       "      <th>0</th>\n",
       "      <th>1</th>\n",
       "      <th>2</th>\n",
       "    </tr>\n",
       "  </thead>\n",
       "  <tbody>\n",
       "    <tr>\n",
       "      <th>0</th>\n",
       "      <td>47.50</td>\n",
       "      <td>88.53</td>\n",
       "      <td>58.63</td>\n",
       "    </tr>\n",
       "    <tr>\n",
       "      <th>1</th>\n",
       "      <td>52.14</td>\n",
       "      <td>42.13</td>\n",
       "      <td>25.73</td>\n",
       "    </tr>\n",
       "    <tr>\n",
       "      <th>2</th>\n",
       "      <td>43.36</td>\n",
       "      <td>98.54</td>\n",
       "      <td>24.91</td>\n",
       "    </tr>\n",
       "    <tr>\n",
       "      <th>3</th>\n",
       "      <td>26.75</td>\n",
       "      <td>50.70</td>\n",
       "      <td>47.32</td>\n",
       "    </tr>\n",
       "    <tr>\n",
       "      <th>4</th>\n",
       "      <td>54.15</td>\n",
       "      <td>88.70</td>\n",
       "      <td>60.52</td>\n",
       "    </tr>\n",
       "  </tbody>\n",
       "</table>\n",
       "</div>"
      ],
      "text/plain": [
       "       0      1      2\n",
       "0  47.50  88.53  58.63\n",
       "1  52.14  42.13  25.73\n",
       "2  43.36  98.54  24.91\n",
       "3  26.75  50.70  47.32\n",
       "4  54.15  88.70  60.52"
      ]
     },
     "execution_count": 25,
     "metadata": {},
     "output_type": "execute_result"
    }
   ],
   "source": [
    "mean_indoor = (test_erros['14'] + test_erros['17'] + test_erros['20'] + test_erros['23'] + test_erros['26'])/5\n",
    "#mean_indoor.head()\n",
    "min_indoor = min(test_erro['14']['min'], test_erro['17']['min'], test_erro['20']['min'], test_erro['23']['min'], test_erro['26']['min'])\n",
    "#min_indoor\n",
    "max_indoor = max(test_erro['14']['max'], test_erro['17']['max'], test_erro['20']['max'], test_erro['23']['max'], test_erro['26']['max'])\n",
    "#max_indoor\n",
    "mean_indoor_outdoor = (test_erros['15'] + test_erros['18'] + test_erros['21'] + test_erros['24'] + test_erros['27'])/5\n",
    "#mean_indoor_outdoor.head()\n",
    "min_indoor_outdoor = min(test_erro['15']['min'], test_erro['18']['min'], test_erro['21']['min'], test_erro['24']['min'], test_erro['27']['min'])\n",
    "#min_indoor_outdoor\n",
    "max_indoor_outdoor = max(test_erro['15']['max'], test_erro['18']['max'], test_erro['21']['max'], test_erro['24']['max'], test_erro['27']['max'])\n",
    "#max_indoor_outdoor\n",
    "erros_SVR = [mean_outdoor,mean_indoor, mean_indoor_outdoor ]\n",
    "erros_SVR = pd.DataFrame(erros_SVR)\n",
    "erros_SVR = erros_SVR.T\n",
    "erros_SVR = round(erros_SVR,2)\n",
    "erros_SVR.to_csv(ERROS_CSV_FILE, index=False)\n",
    "erros_SVR.head()\n"
   ]
  },
  {
   "cell_type": "code",
   "execution_count": 26,
   "metadata": {
    "scrolled": true
   },
   "outputs": [
    {
     "data": {
      "text/plain": [
       "198.83"
      ]
     },
     "execution_count": 26,
     "metadata": {},
     "output_type": "execute_result"
    }
   ],
   "source": [
    "max_indoor"
   ]
  },
  {
   "cell_type": "code",
   "execution_count": 27,
   "metadata": {},
   "outputs": [
    {
     "data": {
      "text/plain": [
       "17.44"
      ]
     },
     "execution_count": 27,
     "metadata": {},
     "output_type": "execute_result"
    }
   ],
   "source": [
    "min_indoor"
   ]
  },
  {
   "cell_type": "code",
   "execution_count": 28,
   "metadata": {},
   "outputs": [
    {
     "data": {
      "text/plain": [
       "207.88"
      ]
     },
     "execution_count": 28,
     "metadata": {},
     "output_type": "execute_result"
    }
   ],
   "source": [
    "max_indoor_outdoor"
   ]
  },
  {
   "cell_type": "code",
   "execution_count": 29,
   "metadata": {},
   "outputs": [
    {
     "data": {
      "text/plain": [
       "1.19"
      ]
     },
     "execution_count": 29,
     "metadata": {},
     "output_type": "execute_result"
    }
   ],
   "source": [
    "min_indoor_outdoor"
   ]
  },
  {
   "cell_type": "code",
   "execution_count": 30,
   "metadata": {},
   "outputs": [
    {
     "data": {
      "text/html": [
       "<div>\n",
       "<style scoped>\n",
       "    .dataframe tbody tr th:only-of-type {\n",
       "        vertical-align: middle;\n",
       "    }\n",
       "\n",
       "    .dataframe tbody tr th {\n",
       "        vertical-align: top;\n",
       "    }\n",
       "\n",
       "    .dataframe thead th {\n",
       "        text-align: right;\n",
       "    }\n",
       "</style>\n",
       "<table border=\"1\" class=\"dataframe\">\n",
       "  <thead>\n",
       "    <tr style=\"text-align: right;\">\n",
       "      <th></th>\n",
       "      <th>0</th>\n",
       "      <th>1</th>\n",
       "      <th>2</th>\n",
       "    </tr>\n",
       "  </thead>\n",
       "  <tbody>\n",
       "    <tr>\n",
       "      <th>count</th>\n",
       "      <td>400.00</td>\n",
       "      <td>400.00</td>\n",
       "      <td>400.00</td>\n",
       "    </tr>\n",
       "    <tr>\n",
       "      <th>mean</th>\n",
       "      <td>43.74</td>\n",
       "      <td>80.99</td>\n",
       "      <td>63.40</td>\n",
       "    </tr>\n",
       "    <tr>\n",
       "      <th>std</th>\n",
       "      <td>17.07</td>\n",
       "      <td>26.57</td>\n",
       "      <td>28.43</td>\n",
       "    </tr>\n",
       "    <tr>\n",
       "      <th>min</th>\n",
       "      <td>10.98</td>\n",
       "      <td>32.13</td>\n",
       "      <td>11.84</td>\n",
       "    </tr>\n",
       "    <tr>\n",
       "      <th>25%</th>\n",
       "      <td>31.50</td>\n",
       "      <td>61.87</td>\n",
       "      <td>42.13</td>\n",
       "    </tr>\n",
       "    <tr>\n",
       "      <th>50%</th>\n",
       "      <td>42.44</td>\n",
       "      <td>85.65</td>\n",
       "      <td>59.66</td>\n",
       "    </tr>\n",
       "    <tr>\n",
       "      <th>75%</th>\n",
       "      <td>54.17</td>\n",
       "      <td>98.54</td>\n",
       "      <td>88.53</td>\n",
       "    </tr>\n",
       "    <tr>\n",
       "      <th>max</th>\n",
       "      <td>106.23</td>\n",
       "      <td>165.04</td>\n",
       "      <td>128.43</td>\n",
       "    </tr>\n",
       "  </tbody>\n",
       "</table>\n",
       "</div>"
      ],
      "text/plain": [
       "            0       1       2\n",
       "count  400.00  400.00  400.00\n",
       "mean    43.74   80.99   63.40\n",
       "std     17.07   26.57   28.43\n",
       "min     10.98   32.13   11.84\n",
       "25%     31.50   61.87   42.13\n",
       "50%     42.44   85.65   59.66\n",
       "75%     54.17   98.54   88.53\n",
       "max    106.23  165.04  128.43"
      ]
     },
     "execution_count": 30,
     "metadata": {},
     "output_type": "execute_result"
    }
   ],
   "source": [
    "results_SVR = round(erros_SVR.describe(), 2)\n",
    "results_SVR\n",
    "#results_SVR.to_csv('./result-k-fold/Result-SVR-k-fold.csv', index=False)"
   ]
  },
  {
   "cell_type": "code",
   "execution_count": null,
   "metadata": {},
   "outputs": [],
   "source": []
  },
  {
   "cell_type": "code",
   "execution_count": null,
   "metadata": {},
   "outputs": [],
   "source": []
  },
  {
   "cell_type": "code",
   "execution_count": null,
   "metadata": {},
   "outputs": [],
   "source": []
  }
 ],
 "metadata": {
  "kernelspec": {
   "display_name": "Python 3",
   "language": "python",
   "name": "python3"
  },
  "language_info": {
   "codemirror_mode": {
    "name": "ipython",
    "version": 3
   },
   "file_extension": ".py",
   "mimetype": "text/x-python",
   "name": "python",
   "nbconvert_exporter": "python",
   "pygments_lexer": "ipython3",
   "version": "3.7.3"
  }
 },
 "nbformat": 4,
 "nbformat_minor": 2
}
