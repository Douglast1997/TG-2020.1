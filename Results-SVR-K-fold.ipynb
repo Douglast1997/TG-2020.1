{
 "cells": [
  {
   "cell_type": "code",
   "execution_count": 47,
   "metadata": {},
   "outputs": [],
   "source": [
    "import pandas as pd\n",
    "import numpy as np\n",
    "import math\n",
    "import os\n",
    "from matplotlib import pyplot as plt\n",
    "from PyRadioLoc.Utils.GeoUtils import GeoUtils\n",
    "%run UtilsLightGBMFingerPrinting.ipynb"
   ]
  },
  {
   "cell_type": "code",
   "execution_count": 48,
   "metadata": {},
   "outputs": [],
   "source": [
    "FILES = [\n",
    "    \n",
    "    #k = 1 SVR\n",
    "    './FinalResult/Resultados_Metodo_13.csv',  # CDB gerado com SVR dados Outdoor\n",
    "    './FinalResult/Resultados_Metodo_14.csv',  # CDB gerado com SVR dados Indoor\n",
    "    './FinalResult/Resultados_Metodo_15.csv',  # CDB gerado com SVR dados Indoor-Outdoor\n",
    "    \n",
    "    #k = 2 SVR\n",
    "    './FinalResult/Resultados_Metodo_16.csv',  # CDB gerado com SVR dados Outdoor\n",
    "    './FinalResult/Resultados_Metodo_17.csv',  # CDB gerado com SVR dados Indoor\n",
    "    './FinalResult/Resultados_Metodo_18.csv',  # CDB gerado com SVR dados Indoor-Outdoor\n",
    "    \n",
    "    #k = 3 SVR\n",
    "    './FinalResult/Resultados_Metodo_19.csv',  # CDB gerado com SVR dados Outdoor\n",
    "    './FinalResult/Resultados_Metodo_20.csv',  # CDB gerado com SVR dados Indoor\n",
    "    './FinalResult/Resultados_Metodo_21.csv',  # CDB gerado com SVR dados Indoor-Outdoor\n",
    "    \n",
    "    #k = 4 SVR\n",
    "    './FinalResult/Resultados_Metodo_22.csv',  # CDB gerado com SVR dados Outdoor\n",
    "    './FinalResult/Resultados_Metodo_23.csv',  # CDB gerado com SVR dados Indoor\n",
    "    './FinalResult/Resultados_Metodo_24.csv',  # CDB gerado com SVR dados Indoor-Outdoor\n",
    "    \n",
    "    #k = 5 SVR\n",
    "    './FinalResult/Resultados_Metodo_25.csv',  # CDB gerado com SVR dados Outdoor\n",
    "    './FinalResult/Resultados_Metodo_26.csv',  # CDB gerado com SVR dados Indoor\n",
    "    './FinalResult/Resultados_Metodo_27.csv',  # CDB gerado com SVR dados Indoor-Outdoor\n",
    "    \n",
    "    \n",
    "]\n",
    "METHODS = [x.split(\"_\")[-1].split(\".\")[0] for x in FILES]     # lista contendo os metodos que serão usados\n",
    "db = pd.read_csv('databases/meds_pandas.csv')\n",
    "erbs = pd.read_csv('databases/Bts.csv')\n",
    "#errorLocation = pd.read_csv('result/erros.csv')\n",
    "ERROS_CSV_FILE = './result-k-fold/erros-SVR-k-fold.csv' "
   ]
  },
  {
   "cell_type": "code",
   "execution_count": 52,
   "metadata": {},
   "outputs": [
    {
     "data": {
      "text/html": [
       "<div>\n",
       "<style scoped>\n",
       "    .dataframe tbody tr th:only-of-type {\n",
       "        vertical-align: middle;\n",
       "    }\n",
       "\n",
       "    .dataframe tbody tr th {\n",
       "        vertical-align: top;\n",
       "    }\n",
       "\n",
       "    .dataframe thead th {\n",
       "        text-align: right;\n",
       "    }\n",
       "</style>\n",
       "<table border=\"1\" class=\"dataframe\">\n",
       "  <thead>\n",
       "    <tr style=\"text-align: right;\">\n",
       "      <th></th>\n",
       "      <th>13</th>\n",
       "      <th>14</th>\n",
       "      <th>15</th>\n",
       "      <th>16</th>\n",
       "      <th>17</th>\n",
       "      <th>18</th>\n",
       "      <th>19</th>\n",
       "      <th>20</th>\n",
       "      <th>21</th>\n",
       "      <th>22</th>\n",
       "      <th>23</th>\n",
       "      <th>24</th>\n",
       "      <th>25</th>\n",
       "      <th>26</th>\n",
       "      <th>27</th>\n",
       "    </tr>\n",
       "  </thead>\n",
       "  <tbody>\n",
       "    <tr>\n",
       "      <th>count</th>\n",
       "      <td>400.00</td>\n",
       "      <td>400.00</td>\n",
       "      <td>400.00</td>\n",
       "      <td>400.00</td>\n",
       "      <td>400.00</td>\n",
       "      <td>400.00</td>\n",
       "      <td>400.00</td>\n",
       "      <td>400.00</td>\n",
       "      <td>400.00</td>\n",
       "      <td>400.00</td>\n",
       "      <td>400.00</td>\n",
       "      <td>400.00</td>\n",
       "      <td>400.00</td>\n",
       "      <td>400.00</td>\n",
       "      <td>400.00</td>\n",
       "    </tr>\n",
       "    <tr>\n",
       "      <th>mean</th>\n",
       "      <td>48.46</td>\n",
       "      <td>76.55</td>\n",
       "      <td>63.94</td>\n",
       "      <td>50.56</td>\n",
       "      <td>77.21</td>\n",
       "      <td>64.91</td>\n",
       "      <td>51.85</td>\n",
       "      <td>92.15</td>\n",
       "      <td>69.58</td>\n",
       "      <td>47.85</td>\n",
       "      <td>73.79</td>\n",
       "      <td>60.25</td>\n",
       "      <td>50.31</td>\n",
       "      <td>76.74</td>\n",
       "      <td>60.66</td>\n",
       "    </tr>\n",
       "    <tr>\n",
       "      <th>std</th>\n",
       "      <td>41.75</td>\n",
       "      <td>37.92</td>\n",
       "      <td>42.31</td>\n",
       "      <td>42.47</td>\n",
       "      <td>38.32</td>\n",
       "      <td>46.02</td>\n",
       "      <td>42.92</td>\n",
       "      <td>23.84</td>\n",
       "      <td>40.91</td>\n",
       "      <td>42.56</td>\n",
       "      <td>37.22</td>\n",
       "      <td>40.63</td>\n",
       "      <td>40.16</td>\n",
       "      <td>38.12</td>\n",
       "      <td>42.05</td>\n",
       "    </tr>\n",
       "    <tr>\n",
       "      <th>min</th>\n",
       "      <td>0.90</td>\n",
       "      <td>17.44</td>\n",
       "      <td>1.91</td>\n",
       "      <td>1.87</td>\n",
       "      <td>17.44</td>\n",
       "      <td>2.00</td>\n",
       "      <td>0.44</td>\n",
       "      <td>32.13</td>\n",
       "      <td>1.24</td>\n",
       "      <td>0.74</td>\n",
       "      <td>17.44</td>\n",
       "      <td>1.61</td>\n",
       "      <td>0.94</td>\n",
       "      <td>17.44</td>\n",
       "      <td>0.65</td>\n",
       "    </tr>\n",
       "    <tr>\n",
       "      <th>25%</th>\n",
       "      <td>15.37</td>\n",
       "      <td>42.13</td>\n",
       "      <td>26.67</td>\n",
       "      <td>17.81</td>\n",
       "      <td>42.13</td>\n",
       "      <td>24.38</td>\n",
       "      <td>18.62</td>\n",
       "      <td>81.69</td>\n",
       "      <td>32.13</td>\n",
       "      <td>15.33</td>\n",
       "      <td>42.13</td>\n",
       "      <td>23.67</td>\n",
       "      <td>17.13</td>\n",
       "      <td>42.13</td>\n",
       "      <td>22.56</td>\n",
       "    </tr>\n",
       "    <tr>\n",
       "      <th>50%</th>\n",
       "      <td>34.20</td>\n",
       "      <td>87.04</td>\n",
       "      <td>64.27</td>\n",
       "      <td>35.61</td>\n",
       "      <td>87.04</td>\n",
       "      <td>64.27</td>\n",
       "      <td>38.94</td>\n",
       "      <td>87.04</td>\n",
       "      <td>72.88</td>\n",
       "      <td>37.14</td>\n",
       "      <td>68.72</td>\n",
       "      <td>61.58</td>\n",
       "      <td>38.33</td>\n",
       "      <td>87.04</td>\n",
       "      <td>55.04</td>\n",
       "    </tr>\n",
       "    <tr>\n",
       "      <th>75%</th>\n",
       "      <td>72.01</td>\n",
       "      <td>102.64</td>\n",
       "      <td>97.20</td>\n",
       "      <td>74.11</td>\n",
       "      <td>102.64</td>\n",
       "      <td>97.92</td>\n",
       "      <td>76.48</td>\n",
       "      <td>102.64</td>\n",
       "      <td>102.64</td>\n",
       "      <td>68.64</td>\n",
       "      <td>102.64</td>\n",
       "      <td>87.04</td>\n",
       "      <td>75.59</td>\n",
       "      <td>102.64</td>\n",
       "      <td>96.42</td>\n",
       "    </tr>\n",
       "    <tr>\n",
       "      <th>max</th>\n",
       "      <td>187.26</td>\n",
       "      <td>137.37</td>\n",
       "      <td>225.27</td>\n",
       "      <td>224.26</td>\n",
       "      <td>137.37</td>\n",
       "      <td>258.61</td>\n",
       "      <td>237.98</td>\n",
       "      <td>137.37</td>\n",
       "      <td>206.63</td>\n",
       "      <td>249.75</td>\n",
       "      <td>137.37</td>\n",
       "      <td>191.02</td>\n",
       "      <td>180.03</td>\n",
       "      <td>137.37</td>\n",
       "      <td>196.48</td>\n",
       "    </tr>\n",
       "  </tbody>\n",
       "</table>\n",
       "</div>"
      ],
      "text/plain": [
       "           13      14      15      16      17      18      19      20      21  \\\n",
       "count  400.00  400.00  400.00  400.00  400.00  400.00  400.00  400.00  400.00   \n",
       "mean    48.46   76.55   63.94   50.56   77.21   64.91   51.85   92.15   69.58   \n",
       "std     41.75   37.92   42.31   42.47   38.32   46.02   42.92   23.84   40.91   \n",
       "min      0.90   17.44    1.91    1.87   17.44    2.00    0.44   32.13    1.24   \n",
       "25%     15.37   42.13   26.67   17.81   42.13   24.38   18.62   81.69   32.13   \n",
       "50%     34.20   87.04   64.27   35.61   87.04   64.27   38.94   87.04   72.88   \n",
       "75%     72.01  102.64   97.20   74.11  102.64   97.92   76.48  102.64  102.64   \n",
       "max    187.26  137.37  225.27  224.26  137.37  258.61  237.98  137.37  206.63   \n",
       "\n",
       "           22      23      24      25      26      27  \n",
       "count  400.00  400.00  400.00  400.00  400.00  400.00  \n",
       "mean    47.85   73.79   60.25   50.31   76.74   60.66  \n",
       "std     42.56   37.22   40.63   40.16   38.12   42.05  \n",
       "min      0.74   17.44    1.61    0.94   17.44    0.65  \n",
       "25%     15.33   42.13   23.67   17.13   42.13   22.56  \n",
       "50%     37.14   68.72   61.58   38.33   87.04   55.04  \n",
       "75%     68.64  102.64   87.04   75.59  102.64   96.42  \n",
       "max    249.75  137.37  191.02  180.03  137.37  196.48  "
      ]
     },
     "execution_count": 52,
     "metadata": {},
     "output_type": "execute_result"
    }
   ],
   "source": [
    "# Gera o dataframe contendo os erros\n",
    "errors_df = calculate_theorical_errors()\n",
    "round(errors_df.describe(), 2)"
   ]
  },
  {
   "cell_type": "markdown",
   "metadata": {},
   "source": [
    "# SVR-Outdoor:"
   ]
  },
  {
   "cell_type": "code",
   "execution_count": 62,
   "metadata": {},
   "outputs": [
    {
     "data": {
      "text/plain": [
       "0    42.500\n",
       "1    69.042\n",
       "2    39.062\n",
       "3    91.924\n",
       "4    53.872\n",
       "dtype: float64"
      ]
     },
     "execution_count": 62,
     "metadata": {},
     "output_type": "execute_result"
    }
   ],
   "source": [
    "test_erro = round(errors_df.describe(), 2)\n",
    "test_erros = errors_df\n",
    "mean_outdoor = (test_erros['13'] + test_erros['16'] + test_erros['19'] + test_erros['22'] + test_erros['25'])/5\n",
    "mean_outdoor.head()"
   ]
  },
  {
   "cell_type": "code",
   "execution_count": 63,
   "metadata": {},
   "outputs": [
    {
     "data": {
      "text/plain": [
       "0.44"
      ]
     },
     "execution_count": 63,
     "metadata": {},
     "output_type": "execute_result"
    }
   ],
   "source": [
    "min_outdoor = min(test_erro['13']['min'], test_erro['16']['min'], test_erro['19']['min'], test_erro['22']['min'], test_erro['25']['min'])\n",
    "min_outdoor"
   ]
  },
  {
   "cell_type": "code",
   "execution_count": 64,
   "metadata": {},
   "outputs": [
    {
     "data": {
      "text/plain": [
       "249.75"
      ]
     },
     "execution_count": 64,
     "metadata": {},
     "output_type": "execute_result"
    }
   ],
   "source": [
    "max_outdoor = max(test_erro['13']['max'], test_erro['16']['max'], test_erro['19']['max'], test_erro['22']['max'], test_erro['25']['max'])\n",
    "max_outdoor"
   ]
  },
  {
   "cell_type": "markdown",
   "metadata": {},
   "source": [
    "# SVR-Indoor:"
   ]
  },
  {
   "cell_type": "code",
   "execution_count": 65,
   "metadata": {},
   "outputs": [
    {
     "data": {
      "text/plain": [
       "0    28.528\n",
       "1    42.130\n",
       "2    28.528\n",
       "3    96.420\n",
       "4    50.318\n",
       "dtype: float64"
      ]
     },
     "execution_count": 65,
     "metadata": {},
     "output_type": "execute_result"
    }
   ],
   "source": [
    "mean_indoor = (test_erros['14'] + test_erros['17'] + test_erros['20'] + test_erros['23'] + test_erros['26'])/5\n",
    "mean_indoor.head()"
   ]
  },
  {
   "cell_type": "code",
   "execution_count": 66,
   "metadata": {},
   "outputs": [
    {
     "data": {
      "text/plain": [
       "17.44"
      ]
     },
     "execution_count": 66,
     "metadata": {},
     "output_type": "execute_result"
    }
   ],
   "source": [
    "min_outdoor = min(test_erro['14']['min'], test_erro['17']['min'], test_erro['20']['min'], test_erro['23']['min'], test_erro['26']['min'])\n",
    "min_outdoor"
   ]
  },
  {
   "cell_type": "code",
   "execution_count": 67,
   "metadata": {},
   "outputs": [
    {
     "data": {
      "text/plain": [
       "137.37"
      ]
     },
     "execution_count": 67,
     "metadata": {},
     "output_type": "execute_result"
    }
   ],
   "source": [
    "max_outdoor = max(test_erro['14']['max'], test_erro['17']['max'], test_erro['20']['max'], test_erro['23']['max'], test_erro['26']['max'])\n",
    "max_outdoor"
   ]
  },
  {
   "cell_type": "markdown",
   "metadata": {},
   "source": [
    "# SVR-Indoor-Outdoor:"
   ]
  },
  {
   "cell_type": "code",
   "execution_count": 68,
   "metadata": {},
   "outputs": [
    {
     "data": {
      "text/plain": [
       "0    70.468\n",
       "1    48.744\n",
       "2    34.718\n",
       "3    26.106\n",
       "4    65.814\n",
       "dtype: float64"
      ]
     },
     "execution_count": 68,
     "metadata": {},
     "output_type": "execute_result"
    }
   ],
   "source": [
    "mean_indoor_outdoor = (test_erros['15'] + test_erros['18'] + test_erros['21'] + test_erros['24'] + test_erros['27'])/5\n",
    "mean_indoor_outdoor.head()"
   ]
  },
  {
   "cell_type": "code",
   "execution_count": 69,
   "metadata": {},
   "outputs": [
    {
     "data": {
      "text/plain": [
       "0.65"
      ]
     },
     "execution_count": 69,
     "metadata": {},
     "output_type": "execute_result"
    }
   ],
   "source": [
    "min_outdoor = min(test_erro['15']['min'], test_erro['18']['min'], test_erro['21']['min'], test_erro['24']['min'], test_erro['27']['min'])\n",
    "min_outdoor"
   ]
  },
  {
   "cell_type": "code",
   "execution_count": 70,
   "metadata": {},
   "outputs": [
    {
     "data": {
      "text/plain": [
       "258.61"
      ]
     },
     "execution_count": 70,
     "metadata": {},
     "output_type": "execute_result"
    }
   ],
   "source": [
    "max_outdoor = max(test_erro['15']['max'], test_erro['18']['max'], test_erro['21']['max'], test_erro['24']['max'], test_erro['27']['max'])\n",
    "max_outdoor"
   ]
  },
  {
   "cell_type": "code",
   "execution_count": 44,
   "metadata": {},
   "outputs": [],
   "source": [
    "#errors_df.to_csv(ERROS_CSV_FILE, index=False)"
   ]
  },
  {
   "cell_type": "code",
   "execution_count": 75,
   "metadata": {},
   "outputs": [
    {
     "data": {
      "text/html": [
       "<div>\n",
       "<style scoped>\n",
       "    .dataframe tbody tr th:only-of-type {\n",
       "        vertical-align: middle;\n",
       "    }\n",
       "\n",
       "    .dataframe tbody tr th {\n",
       "        vertical-align: top;\n",
       "    }\n",
       "\n",
       "    .dataframe thead th {\n",
       "        text-align: right;\n",
       "    }\n",
       "</style>\n",
       "<table border=\"1\" class=\"dataframe\">\n",
       "  <thead>\n",
       "    <tr style=\"text-align: right;\">\n",
       "      <th></th>\n",
       "      <th>0</th>\n",
       "      <th>1</th>\n",
       "      <th>2</th>\n",
       "    </tr>\n",
       "  </thead>\n",
       "  <tbody>\n",
       "    <tr>\n",
       "      <th>0</th>\n",
       "      <td>42.50</td>\n",
       "      <td>28.53</td>\n",
       "      <td>70.47</td>\n",
       "    </tr>\n",
       "    <tr>\n",
       "      <th>1</th>\n",
       "      <td>69.04</td>\n",
       "      <td>42.13</td>\n",
       "      <td>48.74</td>\n",
       "    </tr>\n",
       "    <tr>\n",
       "      <th>2</th>\n",
       "      <td>39.06</td>\n",
       "      <td>28.53</td>\n",
       "      <td>34.72</td>\n",
       "    </tr>\n",
       "    <tr>\n",
       "      <th>3</th>\n",
       "      <td>91.92</td>\n",
       "      <td>96.42</td>\n",
       "      <td>26.11</td>\n",
       "    </tr>\n",
       "    <tr>\n",
       "      <th>4</th>\n",
       "      <td>53.87</td>\n",
       "      <td>50.32</td>\n",
       "      <td>65.81</td>\n",
       "    </tr>\n",
       "  </tbody>\n",
       "</table>\n",
       "</div>"
      ],
      "text/plain": [
       "       0      1      2\n",
       "0  42.50  28.53  70.47\n",
       "1  69.04  42.13  48.74\n",
       "2  39.06  28.53  34.72\n",
       "3  91.92  96.42  26.11\n",
       "4  53.87  50.32  65.81"
      ]
     },
     "execution_count": 75,
     "metadata": {},
     "output_type": "execute_result"
    }
   ],
   "source": [
    "erros_SVR = [mean_outdoor,mean_indoor, mean_indoor_outdoor ]\n",
    "erros_SVR = pd.DataFrame(erros_SVR)\n",
    "erros_SVR = erros_SVR.T\n",
    "erros_SVR = round(erros_SVR,2)\n",
    "erros_SVR.to_csv(ERROS_CSV_FILE, index=False)\n",
    "erros_SVR.head()\n"
   ]
  },
  {
   "cell_type": "code",
   "execution_count": 78,
   "metadata": {},
   "outputs": [
    {
     "data": {
      "text/html": [
       "<div>\n",
       "<style scoped>\n",
       "    .dataframe tbody tr th:only-of-type {\n",
       "        vertical-align: middle;\n",
       "    }\n",
       "\n",
       "    .dataframe tbody tr th {\n",
       "        vertical-align: top;\n",
       "    }\n",
       "\n",
       "    .dataframe thead th {\n",
       "        text-align: right;\n",
       "    }\n",
       "</style>\n",
       "<table border=\"1\" class=\"dataframe\">\n",
       "  <thead>\n",
       "    <tr style=\"text-align: right;\">\n",
       "      <th></th>\n",
       "      <th>0</th>\n",
       "      <th>1</th>\n",
       "      <th>2</th>\n",
       "    </tr>\n",
       "  </thead>\n",
       "  <tbody>\n",
       "    <tr>\n",
       "      <th>count</th>\n",
       "      <td>400.00</td>\n",
       "      <td>400.00</td>\n",
       "      <td>400.00</td>\n",
       "    </tr>\n",
       "    <tr>\n",
       "      <th>mean</th>\n",
       "      <td>49.80</td>\n",
       "      <td>79.29</td>\n",
       "      <td>63.87</td>\n",
       "    </tr>\n",
       "    <tr>\n",
       "      <th>std</th>\n",
       "      <td>18.32</td>\n",
       "      <td>34.10</td>\n",
       "      <td>29.72</td>\n",
       "    </tr>\n",
       "    <tr>\n",
       "      <th>min</th>\n",
       "      <td>12.15</td>\n",
       "      <td>28.53</td>\n",
       "      <td>14.42</td>\n",
       "    </tr>\n",
       "    <tr>\n",
       "      <th>25%</th>\n",
       "      <td>36.56</td>\n",
       "      <td>42.13</td>\n",
       "      <td>41.44</td>\n",
       "    </tr>\n",
       "    <tr>\n",
       "      <th>50%</th>\n",
       "      <td>49.27</td>\n",
       "      <td>87.04</td>\n",
       "      <td>61.09</td>\n",
       "    </tr>\n",
       "    <tr>\n",
       "      <th>75%</th>\n",
       "      <td>61.06</td>\n",
       "      <td>102.64</td>\n",
       "      <td>87.04</td>\n",
       "    </tr>\n",
       "    <tr>\n",
       "      <th>max</th>\n",
       "      <td>108.21</td>\n",
       "      <td>137.37</td>\n",
       "      <td>137.37</td>\n",
       "    </tr>\n",
       "  </tbody>\n",
       "</table>\n",
       "</div>"
      ],
      "text/plain": [
       "            0       1       2\n",
       "count  400.00  400.00  400.00\n",
       "mean    49.80   79.29   63.87\n",
       "std     18.32   34.10   29.72\n",
       "min     12.15   28.53   14.42\n",
       "25%     36.56   42.13   41.44\n",
       "50%     49.27   87.04   61.09\n",
       "75%     61.06  102.64   87.04\n",
       "max    108.21  137.37  137.37"
      ]
     },
     "execution_count": 78,
     "metadata": {},
     "output_type": "execute_result"
    }
   ],
   "source": [
    "results_SVR = round(erros_SVR.describe(), 2)\n",
    "results_SVR\n",
    "#results_SVR.to_csv('./result-k-fold/Result-SVR-k-fold.csv', index=False)"
   ]
  },
  {
   "cell_type": "code",
   "execution_count": null,
   "metadata": {},
   "outputs": [],
   "source": []
  }
 ],
 "metadata": {
  "kernelspec": {
   "display_name": "Python 3",
   "language": "python",
   "name": "python3"
  },
  "language_info": {
   "codemirror_mode": {
    "name": "ipython",
    "version": 3
   },
   "file_extension": ".py",
   "mimetype": "text/x-python",
   "name": "python",
   "nbconvert_exporter": "python",
   "pygments_lexer": "ipython3",
   "version": "3.7.3"
  }
 },
 "nbformat": 4,
 "nbformat_minor": 2
}
