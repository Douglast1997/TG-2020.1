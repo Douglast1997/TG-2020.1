{
 "cells": [
  {
   "cell_type": "code",
   "execution_count": 3,
   "metadata": {},
   "outputs": [],
   "source": [
    "import sklearn\n",
    "import numpy as np\n",
    "import pandas as pd\n",
    "from matplotlib import pyplot as plt\n",
    "import seaborn as sns\n",
    "from PyRadioLoc.Utils.GeoUtils import GeoUtils\n",
    "from sklearn.ensemble import RandomForestRegressor\n",
    "%run Imports.ipynb\n",
    "\n",
    "def write_to_csv(x_pred, y_pred, file_path):\n",
    "    #labels = [\"rssi_1_1\", \"rssi_1_2\", \"rssi_1_3\", \"rssi_2_1\", \"rssi_2_2\", \"rssi_2_3\", \"rssi_3_1\", \"rssi_3_2\", \"rssi_3_3\"]\n",
    "    #y_pred_dataframe = pd.DataFrame(y_pred)\n",
    "    res = pd.concat([x_pred, y_pred], axis=1)\n",
    "    res.to_csv(path_or_buf=file_path, index = False)"
   ]
  },
  {
   "cell_type": "code",
   "execution_count": 72,
   "metadata": {},
   "outputs": [
    {
     "data": {
      "text/html": [
       "<div>\n",
       "<style scoped>\n",
       "    .dataframe tbody tr th:only-of-type {\n",
       "        vertical-align: middle;\n",
       "    }\n",
       "\n",
       "    .dataframe tbody tr th {\n",
       "        vertical-align: top;\n",
       "    }\n",
       "\n",
       "    .dataframe thead th {\n",
       "        text-align: right;\n",
       "    }\n",
       "</style>\n",
       "<table border=\"1\" class=\"dataframe\">\n",
       "  <thead>\n",
       "    <tr style=\"text-align: right;\">\n",
       "      <th></th>\n",
       "      <th>rssi_1_1</th>\n",
       "      <th>rssi_1_2</th>\n",
       "      <th>rssi_1_3</th>\n",
       "      <th>rssi_2_1</th>\n",
       "      <th>rssi_2_2</th>\n",
       "      <th>rssi_2_3</th>\n",
       "      <th>rssi_3_1</th>\n",
       "      <th>rssi_3_2</th>\n",
       "      <th>rssi_3_3</th>\n",
       "      <th>delta_1_12</th>\n",
       "      <th>...</th>\n",
       "      <th>ang_3</th>\n",
       "      <th>cos_3</th>\n",
       "      <th>sin_3</th>\n",
       "      <th>tg_3</th>\n",
       "      <th>delay_1</th>\n",
       "      <th>delay_2</th>\n",
       "      <th>delay_3</th>\n",
       "      <th>delay_12</th>\n",
       "      <th>delay_13</th>\n",
       "      <th>delay_23</th>\n",
       "    </tr>\n",
       "  </thead>\n",
       "  <tbody>\n",
       "    <tr>\n",
       "      <th>0</th>\n",
       "      <td>-91.801429</td>\n",
       "      <td>-92.775714</td>\n",
       "      <td>-93.930000</td>\n",
       "      <td>-96.246667</td>\n",
       "      <td>-92.3700</td>\n",
       "      <td>-86.497143</td>\n",
       "      <td>-91.915000</td>\n",
       "      <td>-83.340000</td>\n",
       "      <td>-95.8575</td>\n",
       "      <td>0.974286</td>\n",
       "      <td>...</td>\n",
       "      <td>111.046648</td>\n",
       "      <td>-0.359128</td>\n",
       "      <td>0.933288</td>\n",
       "      <td>-2.598763</td>\n",
       "      <td>7</td>\n",
       "      <td>3</td>\n",
       "      <td>4</td>\n",
       "      <td>4</td>\n",
       "      <td>3</td>\n",
       "      <td>-1</td>\n",
       "    </tr>\n",
       "    <tr>\n",
       "      <th>1</th>\n",
       "      <td>-87.827143</td>\n",
       "      <td>-90.397143</td>\n",
       "      <td>-88.951429</td>\n",
       "      <td>-67.090000</td>\n",
       "      <td>-82.1725</td>\n",
       "      <td>-81.895714</td>\n",
       "      <td>-86.488333</td>\n",
       "      <td>-92.622000</td>\n",
       "      <td>-97.6000</td>\n",
       "      <td>2.570000</td>\n",
       "      <td>...</td>\n",
       "      <td>71.008261</td>\n",
       "      <td>0.325432</td>\n",
       "      <td>0.945566</td>\n",
       "      <td>2.905572</td>\n",
       "      <td>4</td>\n",
       "      <td>2</td>\n",
       "      <td>5</td>\n",
       "      <td>2</td>\n",
       "      <td>-1</td>\n",
       "      <td>-3</td>\n",
       "    </tr>\n",
       "    <tr>\n",
       "      <th>2</th>\n",
       "      <td>-96.500000</td>\n",
       "      <td>-89.047013</td>\n",
       "      <td>-94.131524</td>\n",
       "      <td>-95.600000</td>\n",
       "      <td>-94.3100</td>\n",
       "      <td>-74.561071</td>\n",
       "      <td>-88.900000</td>\n",
       "      <td>-91.629273</td>\n",
       "      <td>-95.8575</td>\n",
       "      <td>-7.452987</td>\n",
       "      <td>...</td>\n",
       "      <td>110.132440</td>\n",
       "      <td>-0.344191</td>\n",
       "      <td>0.938900</td>\n",
       "      <td>-2.727842</td>\n",
       "      <td>8</td>\n",
       "      <td>3</td>\n",
       "      <td>5</td>\n",
       "      <td>5</td>\n",
       "      <td>3</td>\n",
       "      <td>-2</td>\n",
       "    </tr>\n",
       "    <tr>\n",
       "      <th>3</th>\n",
       "      <td>-76.247143</td>\n",
       "      <td>-88.987143</td>\n",
       "      <td>-77.557500</td>\n",
       "      <td>-86.900000</td>\n",
       "      <td>-84.5200</td>\n",
       "      <td>-91.645000</td>\n",
       "      <td>-80.279444</td>\n",
       "      <td>-102.828000</td>\n",
       "      <td>-97.8275</td>\n",
       "      <td>12.740000</td>\n",
       "      <td>...</td>\n",
       "      <td>26.342135</td>\n",
       "      <td>0.896160</td>\n",
       "      <td>0.443730</td>\n",
       "      <td>0.495146</td>\n",
       "      <td>2</td>\n",
       "      <td>5</td>\n",
       "      <td>4</td>\n",
       "      <td>-3</td>\n",
       "      <td>-2</td>\n",
       "      <td>1</td>\n",
       "    </tr>\n",
       "    <tr>\n",
       "      <th>4</th>\n",
       "      <td>-75.950000</td>\n",
       "      <td>-88.482857</td>\n",
       "      <td>-74.288571</td>\n",
       "      <td>-86.510000</td>\n",
       "      <td>-91.5200</td>\n",
       "      <td>-93.597143</td>\n",
       "      <td>-84.063333</td>\n",
       "      <td>-104.362000</td>\n",
       "      <td>-81.3025</td>\n",
       "      <td>12.532857</td>\n",
       "      <td>...</td>\n",
       "      <td>-15.625616</td>\n",
       "      <td>0.963042</td>\n",
       "      <td>-0.269350</td>\n",
       "      <td>-0.279687</td>\n",
       "      <td>4</td>\n",
       "      <td>7</td>\n",
       "      <td>3</td>\n",
       "      <td>-3</td>\n",
       "      <td>1</td>\n",
       "      <td>4</td>\n",
       "    </tr>\n",
       "  </tbody>\n",
       "</table>\n",
       "<p>5 rows × 39 columns</p>\n",
       "</div>"
      ],
      "text/plain": [
       "    rssi_1_1   rssi_1_2   rssi_1_3   rssi_2_1  rssi_2_2   rssi_2_3   rssi_3_1  \\\n",
       "0 -91.801429 -92.775714 -93.930000 -96.246667  -92.3700 -86.497143 -91.915000   \n",
       "1 -87.827143 -90.397143 -88.951429 -67.090000  -82.1725 -81.895714 -86.488333   \n",
       "2 -96.500000 -89.047013 -94.131524 -95.600000  -94.3100 -74.561071 -88.900000   \n",
       "3 -76.247143 -88.987143 -77.557500 -86.900000  -84.5200 -91.645000 -80.279444   \n",
       "4 -75.950000 -88.482857 -74.288571 -86.510000  -91.5200 -93.597143 -84.063333   \n",
       "\n",
       "     rssi_3_2  rssi_3_3  delta_1_12  ...       ang_3     cos_3     sin_3  \\\n",
       "0  -83.340000  -95.8575    0.974286  ...  111.046648 -0.359128  0.933288   \n",
       "1  -92.622000  -97.6000    2.570000  ...   71.008261  0.325432  0.945566   \n",
       "2  -91.629273  -95.8575   -7.452987  ...  110.132440 -0.344191  0.938900   \n",
       "3 -102.828000  -97.8275   12.740000  ...   26.342135  0.896160  0.443730   \n",
       "4 -104.362000  -81.3025   12.532857  ...  -15.625616  0.963042 -0.269350   \n",
       "\n",
       "       tg_3  delay_1  delay_2  delay_3  delay_12  delay_13  delay_23  \n",
       "0 -2.598763        7        3        4         4         3        -1  \n",
       "1  2.905572        4        2        5         2        -1        -3  \n",
       "2 -2.727842        8        3        5         5         3        -2  \n",
       "3  0.495146        2        5        4        -3        -2         1  \n",
       "4 -0.279687        4        7        3        -3         1         4  \n",
       "\n",
       "[5 rows x 39 columns]"
      ]
     },
     "execution_count": 72,
     "metadata": {},
     "output_type": "execute_result"
    }
   ],
   "source": [
    "db_train = pd.read_csv(\"databases/Outdoor_X_train_90%.csv\")\n",
    "X_train = db_train.drop(\"idx\", axis = 1)\n",
    "X_train = X_train.drop(\"lat\", axis = 1)\n",
    "X_train = X_train.drop(\"lon\", axis = 1)\n",
    "#lon_train = db_train[\"lon\"]\n",
    "#lat_train = db_train[\"lat\"]\n",
    "#X_train = pd.concat([lat_train, lon_train], axis=1)\n",
    "X_train.head()"
   ]
  },
  {
   "cell_type": "code",
   "execution_count": 71,
   "metadata": {},
   "outputs": [
    {
     "data": {
      "text/html": [
       "<div>\n",
       "<style scoped>\n",
       "    .dataframe tbody tr th:only-of-type {\n",
       "        vertical-align: middle;\n",
       "    }\n",
       "\n",
       "    .dataframe tbody tr th {\n",
       "        vertical-align: top;\n",
       "    }\n",
       "\n",
       "    .dataframe thead th {\n",
       "        text-align: right;\n",
       "    }\n",
       "</style>\n",
       "<table border=\"1\" class=\"dataframe\">\n",
       "  <thead>\n",
       "    <tr style=\"text-align: right;\">\n",
       "      <th></th>\n",
       "      <th>lon</th>\n",
       "    </tr>\n",
       "  </thead>\n",
       "  <tbody>\n",
       "    <tr>\n",
       "      <th>0</th>\n",
       "      <td>-34.959850</td>\n",
       "    </tr>\n",
       "    <tr>\n",
       "      <th>1</th>\n",
       "      <td>-34.959549</td>\n",
       "    </tr>\n",
       "    <tr>\n",
       "      <th>2</th>\n",
       "      <td>-34.959248</td>\n",
       "    </tr>\n",
       "    <tr>\n",
       "      <th>3</th>\n",
       "      <td>-34.958948</td>\n",
       "    </tr>\n",
       "    <tr>\n",
       "      <th>4</th>\n",
       "      <td>-34.958647</td>\n",
       "    </tr>\n",
       "  </tbody>\n",
       "</table>\n",
       "</div>"
      ],
      "text/plain": [
       "         lon\n",
       "0 -34.959850\n",
       "1 -34.959549\n",
       "2 -34.959248\n",
       "3 -34.958948\n",
       "4 -34.958647"
      ]
     },
     "execution_count": 71,
     "metadata": {},
     "output_type": "execute_result"
    }
   ],
   "source": [
    "# Essa Linha y_train = pd.read_csv(\"databases/Outdoor_y_train_90%.csv\")\n",
    "#y_train = db_train\n",
    "#y_train = y_train.drop(\"idx\", axis = 1)\n",
    "#y_train = y_train.drop(\"lat\", axis = 1)\n",
    "#y_train = y_train.drop(\"lon\", axis = 1)\n",
    "# Essa linha y_train.head()\n",
    "y_train_lon = pd.read_csv(\"Grid/grid_30.csv\")\n",
    "y_train_lon = y_train_lon.drop(\"lat\", axis = 1)\n",
    "y_train_lon.head()"
   ]
  },
  {
   "cell_type": "code",
   "execution_count": 55,
   "metadata": {},
   "outputs": [
    {
     "data": {
      "text/html": [
       "<div>\n",
       "<style scoped>\n",
       "    .dataframe tbody tr th:only-of-type {\n",
       "        vertical-align: middle;\n",
       "    }\n",
       "\n",
       "    .dataframe tbody tr th {\n",
       "        vertical-align: top;\n",
       "    }\n",
       "\n",
       "    .dataframe thead th {\n",
       "        text-align: right;\n",
       "    }\n",
       "</style>\n",
       "<table border=\"1\" class=\"dataframe\">\n",
       "  <thead>\n",
       "    <tr style=\"text-align: right;\">\n",
       "      <th></th>\n",
       "      <th>rssi_1_1</th>\n",
       "      <th>rssi_1_2</th>\n",
       "      <th>rssi_1_3</th>\n",
       "      <th>rssi_2_1</th>\n",
       "      <th>rssi_2_2</th>\n",
       "      <th>rssi_2_3</th>\n",
       "      <th>rssi_3_1</th>\n",
       "      <th>rssi_3_2</th>\n",
       "      <th>rssi_3_3</th>\n",
       "      <th>delta_1_12</th>\n",
       "      <th>...</th>\n",
       "      <th>ang_3</th>\n",
       "      <th>cos_3</th>\n",
       "      <th>sin_3</th>\n",
       "      <th>tg_3</th>\n",
       "      <th>delay_1</th>\n",
       "      <th>delay_2</th>\n",
       "      <th>delay_3</th>\n",
       "      <th>delay_12</th>\n",
       "      <th>delay_13</th>\n",
       "      <th>delay_23</th>\n",
       "    </tr>\n",
       "  </thead>\n",
       "  <tbody>\n",
       "    <tr>\n",
       "      <th>0</th>\n",
       "      <td>-94.588571</td>\n",
       "      <td>-97.102857</td>\n",
       "      <td>-94.058571</td>\n",
       "      <td>-96.128333</td>\n",
       "      <td>-92.27500</td>\n",
       "      <td>-90.411429</td>\n",
       "      <td>-77.951667</td>\n",
       "      <td>-73.190</td>\n",
       "      <td>-94.7525</td>\n",
       "      <td>2.514286</td>\n",
       "      <td>...</td>\n",
       "      <td>94.650653</td>\n",
       "      <td>-0.081080</td>\n",
       "      <td>0.996708</td>\n",
       "      <td>-12.292874</td>\n",
       "      <td>6</td>\n",
       "      <td>5</td>\n",
       "      <td>1</td>\n",
       "      <td>1</td>\n",
       "      <td>5</td>\n",
       "      <td>4</td>\n",
       "    </tr>\n",
       "    <tr>\n",
       "      <th>1</th>\n",
       "      <td>-103.010000</td>\n",
       "      <td>-84.498571</td>\n",
       "      <td>-97.591429</td>\n",
       "      <td>-95.010000</td>\n",
       "      <td>-98.83750</td>\n",
       "      <td>-97.332857</td>\n",
       "      <td>-100.650000</td>\n",
       "      <td>-101.620</td>\n",
       "      <td>-94.4075</td>\n",
       "      <td>-18.511429</td>\n",
       "      <td>...</td>\n",
       "      <td>52.781288</td>\n",
       "      <td>0.604859</td>\n",
       "      <td>0.796332</td>\n",
       "      <td>1.316558</td>\n",
       "      <td>3</td>\n",
       "      <td>3</td>\n",
       "      <td>6</td>\n",
       "      <td>0</td>\n",
       "      <td>-3</td>\n",
       "      <td>-3</td>\n",
       "    </tr>\n",
       "    <tr>\n",
       "      <th>2</th>\n",
       "      <td>-95.202857</td>\n",
       "      <td>-86.280000</td>\n",
       "      <td>-93.030000</td>\n",
       "      <td>-53.330000</td>\n",
       "      <td>-84.96500</td>\n",
       "      <td>-81.080000</td>\n",
       "      <td>-90.826667</td>\n",
       "      <td>-94.342</td>\n",
       "      <td>-98.9125</td>\n",
       "      <td>-8.922857</td>\n",
       "      <td>...</td>\n",
       "      <td>65.551640</td>\n",
       "      <td>0.413873</td>\n",
       "      <td>0.910335</td>\n",
       "      <td>2.199551</td>\n",
       "      <td>4</td>\n",
       "      <td>2</td>\n",
       "      <td>6</td>\n",
       "      <td>2</td>\n",
       "      <td>-2</td>\n",
       "      <td>-4</td>\n",
       "    </tr>\n",
       "    <tr>\n",
       "      <th>3</th>\n",
       "      <td>-92.422619</td>\n",
       "      <td>-90.242143</td>\n",
       "      <td>-93.064643</td>\n",
       "      <td>-80.359286</td>\n",
       "      <td>-87.13750</td>\n",
       "      <td>-86.910952</td>\n",
       "      <td>-91.338333</td>\n",
       "      <td>-93.248</td>\n",
       "      <td>-97.2550</td>\n",
       "      <td>-2.180476</td>\n",
       "      <td>...</td>\n",
       "      <td>81.758935</td>\n",
       "      <td>0.143338</td>\n",
       "      <td>0.989674</td>\n",
       "      <td>6.904462</td>\n",
       "      <td>5</td>\n",
       "      <td>2</td>\n",
       "      <td>5</td>\n",
       "      <td>3</td>\n",
       "      <td>0</td>\n",
       "      <td>-3</td>\n",
       "    </tr>\n",
       "    <tr>\n",
       "      <th>4</th>\n",
       "      <td>-86.227143</td>\n",
       "      <td>-86.231429</td>\n",
       "      <td>-87.885714</td>\n",
       "      <td>-72.830000</td>\n",
       "      <td>-80.56625</td>\n",
       "      <td>-85.737143</td>\n",
       "      <td>-90.191667</td>\n",
       "      <td>-90.704</td>\n",
       "      <td>-97.6000</td>\n",
       "      <td>0.004286</td>\n",
       "      <td>...</td>\n",
       "      <td>72.359742</td>\n",
       "      <td>0.303040</td>\n",
       "      <td>0.952978</td>\n",
       "      <td>3.144731</td>\n",
       "      <td>5</td>\n",
       "      <td>2</td>\n",
       "      <td>5</td>\n",
       "      <td>3</td>\n",
       "      <td>0</td>\n",
       "      <td>-3</td>\n",
       "    </tr>\n",
       "  </tbody>\n",
       "</table>\n",
       "<p>5 rows × 39 columns</p>\n",
       "</div>"
      ],
      "text/plain": [
       "     rssi_1_1   rssi_1_2   rssi_1_3   rssi_2_1  rssi_2_2   rssi_2_3  \\\n",
       "0  -94.588571 -97.102857 -94.058571 -96.128333 -92.27500 -90.411429   \n",
       "1 -103.010000 -84.498571 -97.591429 -95.010000 -98.83750 -97.332857   \n",
       "2  -95.202857 -86.280000 -93.030000 -53.330000 -84.96500 -81.080000   \n",
       "3  -92.422619 -90.242143 -93.064643 -80.359286 -87.13750 -86.910952   \n",
       "4  -86.227143 -86.231429 -87.885714 -72.830000 -80.56625 -85.737143   \n",
       "\n",
       "     rssi_3_1  rssi_3_2  rssi_3_3  delta_1_12  ...      ang_3     cos_3  \\\n",
       "0  -77.951667   -73.190  -94.7525    2.514286  ...  94.650653 -0.081080   \n",
       "1 -100.650000  -101.620  -94.4075  -18.511429  ...  52.781288  0.604859   \n",
       "2  -90.826667   -94.342  -98.9125   -8.922857  ...  65.551640  0.413873   \n",
       "3  -91.338333   -93.248  -97.2550   -2.180476  ...  81.758935  0.143338   \n",
       "4  -90.191667   -90.704  -97.6000    0.004286  ...  72.359742  0.303040   \n",
       "\n",
       "      sin_3       tg_3  delay_1  delay_2  delay_3  delay_12  delay_13  \\\n",
       "0  0.996708 -12.292874        6        5        1         1         5   \n",
       "1  0.796332   1.316558        3        3        6         0        -3   \n",
       "2  0.910335   2.199551        4        2        6         2        -2   \n",
       "3  0.989674   6.904462        5        2        5         3         0   \n",
       "4  0.952978   3.144731        5        2        5         3         0   \n",
       "\n",
       "   delay_23  \n",
       "0         4  \n",
       "1        -3  \n",
       "2        -4  \n",
       "3        -3  \n",
       "4        -3  \n",
       "\n",
       "[5 rows x 39 columns]"
      ]
     },
     "execution_count": 55,
     "metadata": {},
     "output_type": "execute_result"
    }
   ],
   "source": [
    "# Essa linha X_test = pd.read_csv(\"Grid/grid_20.csv\")\n",
    "# Essa linha X_test.head()\n",
    "X_test = pd.read_csv(\"databases/Outdoor_X_test_10%.csv\")\n",
    "X_test = X_test.drop(\"idx\", axis = 1)\n",
    "X_test = X_test.drop(\"lat\", axis = 1)\n",
    "X_test = X_test.drop(\"lon\", axis = 1)\n",
    "X_test.head()"
   ]
  },
  {
   "cell_type": "code",
   "execution_count": 112,
   "metadata": {},
   "outputs": [],
   "source": [
    "#reg_cso = RandomForestRegressor(n_estimators = 115, random_state = 42, criterion = 'mae')\n",
    "#reg_cso.fit(X_train, y_train)\n",
    "#y_pred_cso = reg_cso.predict(X_test)"
   ]
  },
  {
   "cell_type": "markdown",
   "metadata": {},
   "source": [
    "# LightGBM "
   ]
  },
  {
   "cell_type": "code",
   "execution_count": 55,
   "metadata": {},
   "outputs": [],
   "source": [
    "# Splitting the dataset into the Training set and Test set\n",
    "#from sklearn.model_selection import train_test_split\n",
    "#x_train, x_test, y_train, y_test = train_test_split(X, y, test_size = 0.25, random_state = 0)"
   ]
  },
  {
   "cell_type": "code",
   "execution_count": 56,
   "metadata": {},
   "outputs": [],
   "source": [
    "# Feature Scaling\n",
    "from sklearn.preprocessing import StandardScaler\n",
    "sc = StandardScaler()\n",
    "X_train = sc.fit_transform(X_train)\n",
    "X_test = sc.transform(X_test)"
   ]
  },
  {
   "cell_type": "code",
   "execution_count": 57,
   "metadata": {},
   "outputs": [],
   "source": [
    "import lightgbm as lgb"
   ]
  },
  {
   "cell_type": "code",
   "execution_count": 58,
   "metadata": {},
   "outputs": [
    {
     "data": {
      "text/plain": [
       "<lightgbm.basic.Dataset at 0x1a63abf74a8>"
      ]
     },
     "execution_count": 58,
     "metadata": {},
     "output_type": "execute_result"
    }
   ],
   "source": [
    "d_train_lon = lgb.Dataset(X_train, label=y_train_lon)\n",
    "d_train_lon"
   ]
  },
  {
   "cell_type": "code",
   "execution_count": 117,
   "metadata": {},
   "outputs": [],
   "source": [
    "params = {}\n",
    "params['learning_rate'] = 0.003\n",
    "params['boosting_type'] = 'gbdt'\n",
    "params['metric'] = 'mae'\n",
    "params['sub_feature'] = 0.8\n",
    "params['num_leaves'] = 28\n",
    "#params['min_data'] = 50\n",
    "#params['max_depth'] = 10\n",
    "clf = lgb.train(params, d_train_lon, 10000)"
   ]
  },
  {
   "cell_type": "code",
   "execution_count": 118,
   "metadata": {},
   "outputs": [],
   "source": [
    "#Prediction\n",
    "y_pred_lon=clf.predict(X_test)\n",
    "#y_pred_lon"
   ]
  },
  {
   "cell_type": "code",
   "execution_count": 119,
   "metadata": {},
   "outputs": [],
   "source": [
    "X_test = pd.read_csv(\"databases/Outdoor_X_test_10%.csv\")\n",
    "X_test = X_test.drop(\"lat\", axis = 1)\n",
    "X_test = X_test.drop(\"lon\", axis = 1)"
   ]
  },
  {
   "cell_type": "code",
   "execution_count": 120,
   "metadata": {},
   "outputs": [],
   "source": [
    "y_pred_lon = pd.DataFrame({'lon': y_pred_lon})\n",
    "#y_pred_lon"
   ]
  },
  {
   "cell_type": "code",
   "execution_count": 121,
   "metadata": {},
   "outputs": [],
   "source": [
    "write_to_csv(X_test, y_pred_lon, \"fingerprint_LightGBM_grid_20.csv\")"
   ]
  },
  {
   "cell_type": "code",
   "execution_count": 124,
   "metadata": {},
   "outputs": [
    {
     "data": {
      "text/html": [
       "<div>\n",
       "<style scoped>\n",
       "    .dataframe tbody tr th:only-of-type {\n",
       "        vertical-align: middle;\n",
       "    }\n",
       "\n",
       "    .dataframe tbody tr th {\n",
       "        vertical-align: top;\n",
       "    }\n",
       "\n",
       "    .dataframe thead th {\n",
       "        text-align: right;\n",
       "    }\n",
       "</style>\n",
       "<table border=\"1\" class=\"dataframe\">\n",
       "  <thead>\n",
       "    <tr style=\"text-align: right;\">\n",
       "      <th></th>\n",
       "      <th>idx</th>\n",
       "      <th>rssi_1_1</th>\n",
       "      <th>rssi_1_2</th>\n",
       "      <th>rssi_1_3</th>\n",
       "      <th>rssi_2_1</th>\n",
       "      <th>rssi_2_2</th>\n",
       "      <th>rssi_2_3</th>\n",
       "      <th>rssi_3_1</th>\n",
       "      <th>rssi_3_2</th>\n",
       "      <th>rssi_3_3</th>\n",
       "      <th>...</th>\n",
       "      <th>cos_3</th>\n",
       "      <th>sin_3</th>\n",
       "      <th>tg_3</th>\n",
       "      <th>delay_1</th>\n",
       "      <th>delay_2</th>\n",
       "      <th>delay_3</th>\n",
       "      <th>delay_12</th>\n",
       "      <th>delay_13</th>\n",
       "      <th>delay_23</th>\n",
       "      <th>lon</th>\n",
       "    </tr>\n",
       "  </thead>\n",
       "  <tbody>\n",
       "    <tr>\n",
       "      <th>0</th>\n",
       "      <td>7080</td>\n",
       "      <td>-94.588571</td>\n",
       "      <td>-97.102857</td>\n",
       "      <td>-94.058571</td>\n",
       "      <td>-96.128333</td>\n",
       "      <td>-92.27500</td>\n",
       "      <td>-90.411429</td>\n",
       "      <td>-77.951667</td>\n",
       "      <td>-73.190</td>\n",
       "      <td>-94.7525</td>\n",
       "      <td>...</td>\n",
       "      <td>-0.081080</td>\n",
       "      <td>0.996708</td>\n",
       "      <td>-12.292874</td>\n",
       "      <td>6</td>\n",
       "      <td>5</td>\n",
       "      <td>1</td>\n",
       "      <td>1</td>\n",
       "      <td>5</td>\n",
       "      <td>4</td>\n",
       "      <td>-34.950584</td>\n",
       "    </tr>\n",
       "    <tr>\n",
       "      <th>1</th>\n",
       "      <td>9438</td>\n",
       "      <td>-103.010000</td>\n",
       "      <td>-84.498571</td>\n",
       "      <td>-97.591429</td>\n",
       "      <td>-95.010000</td>\n",
       "      <td>-98.83750</td>\n",
       "      <td>-97.332857</td>\n",
       "      <td>-100.650000</td>\n",
       "      <td>-101.620</td>\n",
       "      <td>-94.4075</td>\n",
       "      <td>...</td>\n",
       "      <td>0.604859</td>\n",
       "      <td>0.796332</td>\n",
       "      <td>1.316558</td>\n",
       "      <td>3</td>\n",
       "      <td>3</td>\n",
       "      <td>6</td>\n",
       "      <td>0</td>\n",
       "      <td>-3</td>\n",
       "      <td>-3</td>\n",
       "      <td>-34.951302</td>\n",
       "    </tr>\n",
       "    <tr>\n",
       "      <th>2</th>\n",
       "      <td>8840</td>\n",
       "      <td>-95.202857</td>\n",
       "      <td>-86.280000</td>\n",
       "      <td>-93.030000</td>\n",
       "      <td>-53.330000</td>\n",
       "      <td>-84.96500</td>\n",
       "      <td>-81.080000</td>\n",
       "      <td>-90.826667</td>\n",
       "      <td>-94.342</td>\n",
       "      <td>-98.9125</td>\n",
       "      <td>...</td>\n",
       "      <td>0.413873</td>\n",
       "      <td>0.910335</td>\n",
       "      <td>2.199551</td>\n",
       "      <td>4</td>\n",
       "      <td>2</td>\n",
       "      <td>6</td>\n",
       "      <td>2</td>\n",
       "      <td>-2</td>\n",
       "      <td>-4</td>\n",
       "      <td>-34.950420</td>\n",
       "    </tr>\n",
       "    <tr>\n",
       "      <th>3</th>\n",
       "      <td>7629</td>\n",
       "      <td>-92.422619</td>\n",
       "      <td>-90.242143</td>\n",
       "      <td>-93.064643</td>\n",
       "      <td>-80.359286</td>\n",
       "      <td>-87.13750</td>\n",
       "      <td>-86.910952</td>\n",
       "      <td>-91.338333</td>\n",
       "      <td>-93.248</td>\n",
       "      <td>-97.2550</td>\n",
       "      <td>...</td>\n",
       "      <td>0.143338</td>\n",
       "      <td>0.989674</td>\n",
       "      <td>6.904462</td>\n",
       "      <td>5</td>\n",
       "      <td>2</td>\n",
       "      <td>5</td>\n",
       "      <td>3</td>\n",
       "      <td>0</td>\n",
       "      <td>-3</td>\n",
       "      <td>-34.951460</td>\n",
       "    </tr>\n",
       "    <tr>\n",
       "      <th>4</th>\n",
       "      <td>7988</td>\n",
       "      <td>-86.227143</td>\n",
       "      <td>-86.231429</td>\n",
       "      <td>-87.885714</td>\n",
       "      <td>-72.830000</td>\n",
       "      <td>-80.56625</td>\n",
       "      <td>-85.737143</td>\n",
       "      <td>-90.191667</td>\n",
       "      <td>-90.704</td>\n",
       "      <td>-97.6000</td>\n",
       "      <td>...</td>\n",
       "      <td>0.303040</td>\n",
       "      <td>0.952978</td>\n",
       "      <td>3.144731</td>\n",
       "      <td>5</td>\n",
       "      <td>2</td>\n",
       "      <td>5</td>\n",
       "      <td>3</td>\n",
       "      <td>0</td>\n",
       "      <td>-3</td>\n",
       "      <td>-34.949914</td>\n",
       "    </tr>\n",
       "  </tbody>\n",
       "</table>\n",
       "<p>5 rows × 41 columns</p>\n",
       "</div>"
      ],
      "text/plain": [
       "    idx    rssi_1_1   rssi_1_2   rssi_1_3   rssi_2_1  rssi_2_2   rssi_2_3  \\\n",
       "0  7080  -94.588571 -97.102857 -94.058571 -96.128333 -92.27500 -90.411429   \n",
       "1  9438 -103.010000 -84.498571 -97.591429 -95.010000 -98.83750 -97.332857   \n",
       "2  8840  -95.202857 -86.280000 -93.030000 -53.330000 -84.96500 -81.080000   \n",
       "3  7629  -92.422619 -90.242143 -93.064643 -80.359286 -87.13750 -86.910952   \n",
       "4  7988  -86.227143 -86.231429 -87.885714 -72.830000 -80.56625 -85.737143   \n",
       "\n",
       "     rssi_3_1  rssi_3_2  rssi_3_3  ...     cos_3     sin_3       tg_3  \\\n",
       "0  -77.951667   -73.190  -94.7525  ... -0.081080  0.996708 -12.292874   \n",
       "1 -100.650000  -101.620  -94.4075  ...  0.604859  0.796332   1.316558   \n",
       "2  -90.826667   -94.342  -98.9125  ...  0.413873  0.910335   2.199551   \n",
       "3  -91.338333   -93.248  -97.2550  ...  0.143338  0.989674   6.904462   \n",
       "4  -90.191667   -90.704  -97.6000  ...  0.303040  0.952978   3.144731   \n",
       "\n",
       "   delay_1  delay_2  delay_3  delay_12  delay_13  delay_23        lon  \n",
       "0        6        5        1         1         5         4 -34.950584  \n",
       "1        3        3        6         0        -3        -3 -34.951302  \n",
       "2        4        2        6         2        -2        -4 -34.950420  \n",
       "3        5        2        5         3         0        -3 -34.951460  \n",
       "4        5        2        5         3         0        -3 -34.949914  \n",
       "\n",
       "[5 rows x 41 columns]"
      ]
     },
     "execution_count": 124,
     "metadata": {},
     "output_type": "execute_result"
    }
   ],
   "source": [
    "parcialResult = pd.concat([X_test, y_pred_lon], axis=1)\n",
    "parcialResult.head()"
   ]
  },
  {
   "cell_type": "code",
   "execution_count": 128,
   "metadata": {},
   "outputs": [
    {
     "data": {
      "text/html": [
       "<div>\n",
       "<style scoped>\n",
       "    .dataframe tbody tr th:only-of-type {\n",
       "        vertical-align: middle;\n",
       "    }\n",
       "\n",
       "    .dataframe tbody tr th {\n",
       "        vertical-align: top;\n",
       "    }\n",
       "\n",
       "    .dataframe thead th {\n",
       "        text-align: right;\n",
       "    }\n",
       "</style>\n",
       "<table border=\"1\" class=\"dataframe\">\n",
       "  <thead>\n",
       "    <tr style=\"text-align: right;\">\n",
       "      <th></th>\n",
       "      <th>lat</th>\n",
       "    </tr>\n",
       "  </thead>\n",
       "  <tbody>\n",
       "    <tr>\n",
       "      <th>0</th>\n",
       "      <td>-8.05955</td>\n",
       "    </tr>\n",
       "    <tr>\n",
       "      <th>1</th>\n",
       "      <td>-8.05955</td>\n",
       "    </tr>\n",
       "    <tr>\n",
       "      <th>2</th>\n",
       "      <td>-8.05955</td>\n",
       "    </tr>\n",
       "    <tr>\n",
       "      <th>3</th>\n",
       "      <td>-8.05955</td>\n",
       "    </tr>\n",
       "    <tr>\n",
       "      <th>4</th>\n",
       "      <td>-8.05955</td>\n",
       "    </tr>\n",
       "  </tbody>\n",
       "</table>\n",
       "</div>"
      ],
      "text/plain": [
       "       lat\n",
       "0 -8.05955\n",
       "1 -8.05955\n",
       "2 -8.05955\n",
       "3 -8.05955\n",
       "4 -8.05955"
      ]
     },
     "execution_count": 128,
     "metadata": {},
     "output_type": "execute_result"
    }
   ],
   "source": [
    "# Essa Linha y_train = pd.read_csv(\"databases/Outdoor_y_train_90%.csv\")\n",
    "#y_train = db_train\n",
    "#y_train = y_train.drop(\"idx\", axis = 1)\n",
    "#y_train = y_train.drop(\"lat\", axis = 1)\n",
    "#y_train = y_train.drop(\"lon\", axis = 1)\n",
    "# Essa linha y_train.head()\n",
    "y_train_lat = pd.read_csv(\"Grid/grid_30.csv\")\n",
    "y_train_lat = y_train_lat.drop(\"lon\", axis = 1)\n",
    "y_train_lat.head()"
   ]
  },
  {
   "cell_type": "code",
   "execution_count": 129,
   "metadata": {},
   "outputs": [
    {
     "data": {
      "text/html": [
       "<div>\n",
       "<style scoped>\n",
       "    .dataframe tbody tr th:only-of-type {\n",
       "        vertical-align: middle;\n",
       "    }\n",
       "\n",
       "    .dataframe tbody tr th {\n",
       "        vertical-align: top;\n",
       "    }\n",
       "\n",
       "    .dataframe thead th {\n",
       "        text-align: right;\n",
       "    }\n",
       "</style>\n",
       "<table border=\"1\" class=\"dataframe\">\n",
       "  <thead>\n",
       "    <tr style=\"text-align: right;\">\n",
       "      <th></th>\n",
       "      <th>rssi_1_1</th>\n",
       "      <th>rssi_1_2</th>\n",
       "      <th>rssi_1_3</th>\n",
       "      <th>rssi_2_1</th>\n",
       "      <th>rssi_2_2</th>\n",
       "      <th>rssi_2_3</th>\n",
       "      <th>rssi_3_1</th>\n",
       "      <th>rssi_3_2</th>\n",
       "      <th>rssi_3_3</th>\n",
       "      <th>delta_1_12</th>\n",
       "      <th>...</th>\n",
       "      <th>ang_3</th>\n",
       "      <th>cos_3</th>\n",
       "      <th>sin_3</th>\n",
       "      <th>tg_3</th>\n",
       "      <th>delay_1</th>\n",
       "      <th>delay_2</th>\n",
       "      <th>delay_3</th>\n",
       "      <th>delay_12</th>\n",
       "      <th>delay_13</th>\n",
       "      <th>delay_23</th>\n",
       "    </tr>\n",
       "  </thead>\n",
       "  <tbody>\n",
       "    <tr>\n",
       "      <th>0</th>\n",
       "      <td>-94.588571</td>\n",
       "      <td>-97.102857</td>\n",
       "      <td>-94.058571</td>\n",
       "      <td>-96.128333</td>\n",
       "      <td>-92.27500</td>\n",
       "      <td>-90.411429</td>\n",
       "      <td>-77.951667</td>\n",
       "      <td>-73.190</td>\n",
       "      <td>-94.7525</td>\n",
       "      <td>2.514286</td>\n",
       "      <td>...</td>\n",
       "      <td>94.650653</td>\n",
       "      <td>-0.081080</td>\n",
       "      <td>0.996708</td>\n",
       "      <td>-12.292874</td>\n",
       "      <td>6</td>\n",
       "      <td>5</td>\n",
       "      <td>1</td>\n",
       "      <td>1</td>\n",
       "      <td>5</td>\n",
       "      <td>4</td>\n",
       "    </tr>\n",
       "    <tr>\n",
       "      <th>1</th>\n",
       "      <td>-103.010000</td>\n",
       "      <td>-84.498571</td>\n",
       "      <td>-97.591429</td>\n",
       "      <td>-95.010000</td>\n",
       "      <td>-98.83750</td>\n",
       "      <td>-97.332857</td>\n",
       "      <td>-100.650000</td>\n",
       "      <td>-101.620</td>\n",
       "      <td>-94.4075</td>\n",
       "      <td>-18.511429</td>\n",
       "      <td>...</td>\n",
       "      <td>52.781288</td>\n",
       "      <td>0.604859</td>\n",
       "      <td>0.796332</td>\n",
       "      <td>1.316558</td>\n",
       "      <td>3</td>\n",
       "      <td>3</td>\n",
       "      <td>6</td>\n",
       "      <td>0</td>\n",
       "      <td>-3</td>\n",
       "      <td>-3</td>\n",
       "    </tr>\n",
       "    <tr>\n",
       "      <th>2</th>\n",
       "      <td>-95.202857</td>\n",
       "      <td>-86.280000</td>\n",
       "      <td>-93.030000</td>\n",
       "      <td>-53.330000</td>\n",
       "      <td>-84.96500</td>\n",
       "      <td>-81.080000</td>\n",
       "      <td>-90.826667</td>\n",
       "      <td>-94.342</td>\n",
       "      <td>-98.9125</td>\n",
       "      <td>-8.922857</td>\n",
       "      <td>...</td>\n",
       "      <td>65.551640</td>\n",
       "      <td>0.413873</td>\n",
       "      <td>0.910335</td>\n",
       "      <td>2.199551</td>\n",
       "      <td>4</td>\n",
       "      <td>2</td>\n",
       "      <td>6</td>\n",
       "      <td>2</td>\n",
       "      <td>-2</td>\n",
       "      <td>-4</td>\n",
       "    </tr>\n",
       "    <tr>\n",
       "      <th>3</th>\n",
       "      <td>-92.422619</td>\n",
       "      <td>-90.242143</td>\n",
       "      <td>-93.064643</td>\n",
       "      <td>-80.359286</td>\n",
       "      <td>-87.13750</td>\n",
       "      <td>-86.910952</td>\n",
       "      <td>-91.338333</td>\n",
       "      <td>-93.248</td>\n",
       "      <td>-97.2550</td>\n",
       "      <td>-2.180476</td>\n",
       "      <td>...</td>\n",
       "      <td>81.758935</td>\n",
       "      <td>0.143338</td>\n",
       "      <td>0.989674</td>\n",
       "      <td>6.904462</td>\n",
       "      <td>5</td>\n",
       "      <td>2</td>\n",
       "      <td>5</td>\n",
       "      <td>3</td>\n",
       "      <td>0</td>\n",
       "      <td>-3</td>\n",
       "    </tr>\n",
       "    <tr>\n",
       "      <th>4</th>\n",
       "      <td>-86.227143</td>\n",
       "      <td>-86.231429</td>\n",
       "      <td>-87.885714</td>\n",
       "      <td>-72.830000</td>\n",
       "      <td>-80.56625</td>\n",
       "      <td>-85.737143</td>\n",
       "      <td>-90.191667</td>\n",
       "      <td>-90.704</td>\n",
       "      <td>-97.6000</td>\n",
       "      <td>0.004286</td>\n",
       "      <td>...</td>\n",
       "      <td>72.359742</td>\n",
       "      <td>0.303040</td>\n",
       "      <td>0.952978</td>\n",
       "      <td>3.144731</td>\n",
       "      <td>5</td>\n",
       "      <td>2</td>\n",
       "      <td>5</td>\n",
       "      <td>3</td>\n",
       "      <td>0</td>\n",
       "      <td>-3</td>\n",
       "    </tr>\n",
       "  </tbody>\n",
       "</table>\n",
       "<p>5 rows × 39 columns</p>\n",
       "</div>"
      ],
      "text/plain": [
       "     rssi_1_1   rssi_1_2   rssi_1_3   rssi_2_1  rssi_2_2   rssi_2_3  \\\n",
       "0  -94.588571 -97.102857 -94.058571 -96.128333 -92.27500 -90.411429   \n",
       "1 -103.010000 -84.498571 -97.591429 -95.010000 -98.83750 -97.332857   \n",
       "2  -95.202857 -86.280000 -93.030000 -53.330000 -84.96500 -81.080000   \n",
       "3  -92.422619 -90.242143 -93.064643 -80.359286 -87.13750 -86.910952   \n",
       "4  -86.227143 -86.231429 -87.885714 -72.830000 -80.56625 -85.737143   \n",
       "\n",
       "     rssi_3_1  rssi_3_2  rssi_3_3  delta_1_12  ...      ang_3     cos_3  \\\n",
       "0  -77.951667   -73.190  -94.7525    2.514286  ...  94.650653 -0.081080   \n",
       "1 -100.650000  -101.620  -94.4075  -18.511429  ...  52.781288  0.604859   \n",
       "2  -90.826667   -94.342  -98.9125   -8.922857  ...  65.551640  0.413873   \n",
       "3  -91.338333   -93.248  -97.2550   -2.180476  ...  81.758935  0.143338   \n",
       "4  -90.191667   -90.704  -97.6000    0.004286  ...  72.359742  0.303040   \n",
       "\n",
       "      sin_3       tg_3  delay_1  delay_2  delay_3  delay_12  delay_13  \\\n",
       "0  0.996708 -12.292874        6        5        1         1         5   \n",
       "1  0.796332   1.316558        3        3        6         0        -3   \n",
       "2  0.910335   2.199551        4        2        6         2        -2   \n",
       "3  0.989674   6.904462        5        2        5         3         0   \n",
       "4  0.952978   3.144731        5        2        5         3         0   \n",
       "\n",
       "   delay_23  \n",
       "0         4  \n",
       "1        -3  \n",
       "2        -4  \n",
       "3        -3  \n",
       "4        -3  \n",
       "\n",
       "[5 rows x 39 columns]"
      ]
     },
     "execution_count": 129,
     "metadata": {},
     "output_type": "execute_result"
    }
   ],
   "source": [
    "# Essa linha X_test = pd.read_csv(\"Grid/grid_20.csv\")\n",
    "# Essa linha X_test.head()\n",
    "X_test = pd.read_csv(\"databases/Outdoor_X_test_10%.csv\")\n",
    "X_test = X_test.drop(\"idx\", axis = 1)\n",
    "X_test = X_test.drop(\"lat\", axis = 1)\n",
    "X_test = X_test.drop(\"lon\", axis = 1)\n",
    "X_test.head()"
   ]
  },
  {
   "cell_type": "code",
   "execution_count": 130,
   "metadata": {},
   "outputs": [],
   "source": [
    "# Feature Scaling\n",
    "from sklearn.preprocessing import StandardScaler\n",
    "sc = StandardScaler()\n",
    "X_train = sc.fit_transform(X_train)\n",
    "X_test = sc.transform(X_test)"
   ]
  },
  {
   "cell_type": "code",
   "execution_count": 131,
   "metadata": {},
   "outputs": [],
   "source": [
    "import lightgbm as lgb"
   ]
  },
  {
   "cell_type": "code",
   "execution_count": 132,
   "metadata": {},
   "outputs": [
    {
     "data": {
      "text/plain": [
       "<lightgbm.basic.Dataset at 0x2a134eed278>"
      ]
     },
     "execution_count": 132,
     "metadata": {},
     "output_type": "execute_result"
    }
   ],
   "source": [
    "d_train_lat = lgb.Dataset(X_train, label=y_train_lat)\n",
    "d_train_lat"
   ]
  },
  {
   "cell_type": "code",
   "execution_count": 133,
   "metadata": {},
   "outputs": [],
   "source": [
    "params = {}\n",
    "params['learning_rate'] = 0.003\n",
    "params['boosting_type'] = 'gbdt'\n",
    "params['metric'] = 'mae'\n",
    "params['sub_feature'] = 0.8\n",
    "params['num_leaves'] = 28\n",
    "#params['min_data'] = 50\n",
    "#params['max_depth'] = 10\n",
    "clf = lgb.train(params, d_train_lat, 10000)"
   ]
  },
  {
   "cell_type": "code",
   "execution_count": 139,
   "metadata": {},
   "outputs": [
    {
     "data": {
      "text/html": [
       "<div>\n",
       "<style scoped>\n",
       "    .dataframe tbody tr th:only-of-type {\n",
       "        vertical-align: middle;\n",
       "    }\n",
       "\n",
       "    .dataframe tbody tr th {\n",
       "        vertical-align: top;\n",
       "    }\n",
       "\n",
       "    .dataframe thead th {\n",
       "        text-align: right;\n",
       "    }\n",
       "</style>\n",
       "<table border=\"1\" class=\"dataframe\">\n",
       "  <thead>\n",
       "    <tr style=\"text-align: right;\">\n",
       "      <th></th>\n",
       "      <th>lat</th>\n",
       "    </tr>\n",
       "  </thead>\n",
       "  <tbody>\n",
       "    <tr>\n",
       "      <th>0</th>\n",
       "      <td>-8.050560</td>\n",
       "    </tr>\n",
       "    <tr>\n",
       "      <th>1</th>\n",
       "      <td>-8.053089</td>\n",
       "    </tr>\n",
       "    <tr>\n",
       "      <th>2</th>\n",
       "      <td>-8.054150</td>\n",
       "    </tr>\n",
       "    <tr>\n",
       "      <th>3</th>\n",
       "      <td>-8.056325</td>\n",
       "    </tr>\n",
       "    <tr>\n",
       "      <th>4</th>\n",
       "      <td>-8.054176</td>\n",
       "    </tr>\n",
       "  </tbody>\n",
       "</table>\n",
       "</div>"
      ],
      "text/plain": [
       "        lat\n",
       "0 -8.050560\n",
       "1 -8.053089\n",
       "2 -8.054150\n",
       "3 -8.056325\n",
       "4 -8.054176"
      ]
     },
     "execution_count": 139,
     "metadata": {},
     "output_type": "execute_result"
    }
   ],
   "source": [
    "#Prediction\n",
    "y_pred_lat=clf.predict(X_test)\n",
    "#y_pred_lat\n",
    "y_pred_lat = pd.DataFrame({'lat': y_pred_lat})\n",
    "y_pred_lat.head()"
   ]
  },
  {
   "cell_type": "code",
   "execution_count": 140,
   "metadata": {},
   "outputs": [],
   "source": [
    "write_to_csv(parcialResult, y_pred_lat, \"fingerprint_LightGBM_grid_20.csv\")"
   ]
  },
  {
   "cell_type": "code",
   "execution_count": 4,
   "metadata": {},
   "outputs": [],
   "source": [
    "import math\n",
    "import pandas as pd\n",
    "from sklearn.preprocessing import MinMaxScaler\n",
    "from sklearn.svm import SVR\n",
    "from sklearn.model_selection import GridSearchCV, cross_validate\n",
    "from sklearn.utils import shuffle"
   ]
  },
  {
   "cell_type": "code",
   "execution_count": 5,
   "metadata": {},
   "outputs": [
    {
     "data": {
      "text/html": [
       "<div>\n",
       "<style scoped>\n",
       "    .dataframe tbody tr th:only-of-type {\n",
       "        vertical-align: middle;\n",
       "    }\n",
       "\n",
       "    .dataframe tbody tr th {\n",
       "        vertical-align: top;\n",
       "    }\n",
       "\n",
       "    .dataframe thead th {\n",
       "        text-align: right;\n",
       "    }\n",
       "</style>\n",
       "<table border=\"1\" class=\"dataframe\">\n",
       "  <thead>\n",
       "    <tr style=\"text-align: right;\">\n",
       "      <th></th>\n",
       "      <th>dist_1</th>\n",
       "      <th>dist_2</th>\n",
       "      <th>dist_3</th>\n",
       "      <th>ang_1</th>\n",
       "      <th>cos_1</th>\n",
       "      <th>sin_1</th>\n",
       "      <th>tg_1</th>\n",
       "      <th>ang_2</th>\n",
       "      <th>cos_2</th>\n",
       "      <th>sin_2</th>\n",
       "      <th>...</th>\n",
       "      <th>ang_3</th>\n",
       "      <th>cos_3</th>\n",
       "      <th>sin_3</th>\n",
       "      <th>tg_3</th>\n",
       "      <th>delay_1</th>\n",
       "      <th>delay_2</th>\n",
       "      <th>delay_3</th>\n",
       "      <th>delay_12</th>\n",
       "      <th>delay_13</th>\n",
       "      <th>delay_23</th>\n",
       "    </tr>\n",
       "  </thead>\n",
       "  <tbody>\n",
       "    <tr>\n",
       "      <th>0</th>\n",
       "      <td>1.623132</td>\n",
       "      <td>0.504054</td>\n",
       "      <td>1.266725</td>\n",
       "      <td>158.235526</td>\n",
       "      <td>-0.928716</td>\n",
       "      <td>0.370792</td>\n",
       "      <td>-0.399252</td>\n",
       "      <td>-155.889424</td>\n",
       "      <td>-0.912759</td>\n",
       "      <td>-0.408499</td>\n",
       "      <td>...</td>\n",
       "      <td>98.688231</td>\n",
       "      <td>-0.151058</td>\n",
       "      <td>0.988525</td>\n",
       "      <td>-6.544019</td>\n",
       "      <td>7</td>\n",
       "      <td>2</td>\n",
       "      <td>5</td>\n",
       "      <td>5</td>\n",
       "      <td>2</td>\n",
       "      <td>-3</td>\n",
       "    </tr>\n",
       "    <tr>\n",
       "      <th>1</th>\n",
       "      <td>0.946625</td>\n",
       "      <td>0.892100</td>\n",
       "      <td>0.682786</td>\n",
       "      <td>-175.257624</td>\n",
       "      <td>-0.996577</td>\n",
       "      <td>-0.082676</td>\n",
       "      <td>0.082960</td>\n",
       "      <td>-83.308432</td>\n",
       "      <td>0.116525</td>\n",
       "      <td>-0.993188</td>\n",
       "      <td>...</td>\n",
       "      <td>56.916564</td>\n",
       "      <td>0.545860</td>\n",
       "      <td>0.837877</td>\n",
       "      <td>1.534967</td>\n",
       "      <td>4</td>\n",
       "      <td>4</td>\n",
       "      <td>3</td>\n",
       "      <td>0</td>\n",
       "      <td>1</td>\n",
       "      <td>1</td>\n",
       "    </tr>\n",
       "    <tr>\n",
       "      <th>2</th>\n",
       "      <td>0.813049</td>\n",
       "      <td>1.083588</td>\n",
       "      <td>0.677145</td>\n",
       "      <td>-162.727849</td>\n",
       "      <td>-0.954905</td>\n",
       "      <td>-0.296911</td>\n",
       "      <td>0.310932</td>\n",
       "      <td>-75.519693</td>\n",
       "      <td>0.250047</td>\n",
       "      <td>-0.968234</td>\n",
       "      <td>...</td>\n",
       "      <td>37.152301</td>\n",
       "      <td>0.797033</td>\n",
       "      <td>0.603936</td>\n",
       "      <td>0.757730</td>\n",
       "      <td>3</td>\n",
       "      <td>5</td>\n",
       "      <td>3</td>\n",
       "      <td>-2</td>\n",
       "      <td>0</td>\n",
       "      <td>2</td>\n",
       "    </tr>\n",
       "    <tr>\n",
       "      <th>3</th>\n",
       "      <td>0.827905</td>\n",
       "      <td>0.499070</td>\n",
       "      <td>1.382476</td>\n",
       "      <td>138.771771</td>\n",
       "      <td>-0.752090</td>\n",
       "      <td>0.659060</td>\n",
       "      <td>-0.876304</td>\n",
       "      <td>-31.683823</td>\n",
       "      <td>0.850959</td>\n",
       "      <td>-0.525231</td>\n",
       "      <td>...</td>\n",
       "      <td>59.895457</td>\n",
       "      <td>0.501579</td>\n",
       "      <td>0.865112</td>\n",
       "      <td>1.724775</td>\n",
       "      <td>4</td>\n",
       "      <td>2</td>\n",
       "      <td>6</td>\n",
       "      <td>2</td>\n",
       "      <td>-2</td>\n",
       "      <td>-4</td>\n",
       "    </tr>\n",
       "    <tr>\n",
       "      <th>4</th>\n",
       "      <td>0.702384</td>\n",
       "      <td>0.731350</td>\n",
       "      <td>1.042135</td>\n",
       "      <td>165.550330</td>\n",
       "      <td>-0.968367</td>\n",
       "      <td>0.249529</td>\n",
       "      <td>-0.257681</td>\n",
       "      <td>-59.864250</td>\n",
       "      <td>0.502050</td>\n",
       "      <td>-0.864838</td>\n",
       "      <td>...</td>\n",
       "      <td>52.395419</td>\n",
       "      <td>0.610209</td>\n",
       "      <td>0.792241</td>\n",
       "      <td>1.298312</td>\n",
       "      <td>3</td>\n",
       "      <td>3</td>\n",
       "      <td>4</td>\n",
       "      <td>0</td>\n",
       "      <td>-1</td>\n",
       "      <td>-1</td>\n",
       "    </tr>\n",
       "  </tbody>\n",
       "</table>\n",
       "<p>5 rows × 21 columns</p>\n",
       "</div>"
      ],
      "text/plain": [
       "     dist_1    dist_2    dist_3       ang_1     cos_1     sin_1      tg_1  \\\n",
       "0  1.623132  0.504054  1.266725  158.235526 -0.928716  0.370792 -0.399252   \n",
       "1  0.946625  0.892100  0.682786 -175.257624 -0.996577 -0.082676  0.082960   \n",
       "2  0.813049  1.083588  0.677145 -162.727849 -0.954905 -0.296911  0.310932   \n",
       "3  0.827905  0.499070  1.382476  138.771771 -0.752090  0.659060 -0.876304   \n",
       "4  0.702384  0.731350  1.042135  165.550330 -0.968367  0.249529 -0.257681   \n",
       "\n",
       "        ang_2     cos_2     sin_2  ...      ang_3     cos_3     sin_3  \\\n",
       "0 -155.889424 -0.912759 -0.408499  ...  98.688231 -0.151058  0.988525   \n",
       "1  -83.308432  0.116525 -0.993188  ...  56.916564  0.545860  0.837877   \n",
       "2  -75.519693  0.250047 -0.968234  ...  37.152301  0.797033  0.603936   \n",
       "3  -31.683823  0.850959 -0.525231  ...  59.895457  0.501579  0.865112   \n",
       "4  -59.864250  0.502050 -0.864838  ...  52.395419  0.610209  0.792241   \n",
       "\n",
       "       tg_3  delay_1  delay_2  delay_3  delay_12  delay_13  delay_23  \n",
       "0 -6.544019        7        2        5         5         2        -3  \n",
       "1  1.534967        4        4        3         0         1         1  \n",
       "2  0.757730        3        5        3        -2         0         2  \n",
       "3  1.724775        4        2        6         2        -2        -4  \n",
       "4  1.298312        3        3        4         0        -1        -1  \n",
       "\n",
       "[5 rows x 21 columns]"
      ]
     },
     "execution_count": 5,
     "metadata": {},
     "output_type": "execute_result"
    }
   ],
   "source": [
    "X = X_train\n",
    "#X.head()\n",
    "#X = dataset.iloc[:, [0, 12]]\n",
    "#y = dataset.iloc[:, \n",
    "X.head()"
   ]
  },
  {
   "cell_type": "code",
   "execution_count": 6,
   "metadata": {},
   "outputs": [
    {
     "data": {
      "text/html": [
       "<div>\n",
       "<style scoped>\n",
       "    .dataframe tbody tr th:only-of-type {\n",
       "        vertical-align: middle;\n",
       "    }\n",
       "\n",
       "    .dataframe tbody tr th {\n",
       "        vertical-align: top;\n",
       "    }\n",
       "\n",
       "    .dataframe thead th {\n",
       "        text-align: right;\n",
       "    }\n",
       "</style>\n",
       "<table border=\"1\" class=\"dataframe\">\n",
       "  <thead>\n",
       "    <tr style=\"text-align: right;\">\n",
       "      <th></th>\n",
       "      <th>rssi_1_1</th>\n",
       "    </tr>\n",
       "  </thead>\n",
       "  <tbody>\n",
       "    <tr>\n",
       "      <th>0</th>\n",
       "      <td>-87.185714</td>\n",
       "    </tr>\n",
       "    <tr>\n",
       "      <th>1</th>\n",
       "      <td>-85.330000</td>\n",
       "    </tr>\n",
       "    <tr>\n",
       "      <th>2</th>\n",
       "      <td>-90.572857</td>\n",
       "    </tr>\n",
       "    <tr>\n",
       "      <th>3</th>\n",
       "      <td>-96.702857</td>\n",
       "    </tr>\n",
       "    <tr>\n",
       "      <th>4</th>\n",
       "      <td>-91.864286</td>\n",
       "    </tr>\n",
       "  </tbody>\n",
       "</table>\n",
       "</div>"
      ],
      "text/plain": [
       "    rssi_1_1\n",
       "0 -87.185714\n",
       "1 -85.330000\n",
       "2 -90.572857\n",
       "3 -96.702857\n",
       "4 -91.864286"
      ]
     },
     "execution_count": 6,
     "metadata": {},
     "output_type": "execute_result"
    }
   ],
   "source": [
    "y = y_train_rssi_1_1\n",
    "y.head()"
   ]
  },
  {
   "cell_type": "code",
   "execution_count": 7,
   "metadata": {},
   "outputs": [],
   "source": [
    "scaler = MinMaxScaler(feature_range=(0, 1))\n",
    "X = scaler.fit_transform(X)"
   ]
  },
  {
   "cell_type": "code",
   "execution_count": 8,
   "metadata": {},
   "outputs": [],
   "source": [
    "seed = 42\n",
    "X, y = shuffle(X, y, random_state=seed)"
   ]
  },
  {
   "cell_type": "code",
   "execution_count": 9,
   "metadata": {
    "scrolled": true
   },
   "outputs": [],
   "source": [
    "#test = list(map(pot_2,np.arange(-2,10, dtype=float) ))\n",
    "#test "
   ]
  },
  {
   "cell_type": "code",
   "execution_count": 12,
   "metadata": {},
   "outputs": [],
   "source": [
    "def svr_model(X, y):\n",
    "    gsc = GridSearchCV(\n",
    "        estimator=SVR(),\n",
    "        param_grid={\n",
    "            'C': list(map(pot_2,np.arange(-2,14, dtype=float) )), #[0.125, 0.25, 0.5, 1, 2, 4, 8, 16, 32, 64, 128, 256],\n",
    "            'epsilon': [0.01, 0.05, 0.1, 0.5, 1, 2, 4],\n",
    "            'gamma': list(map(pot_2,np.arange(-5,4, dtype=float) )), #[0.03125, 0.0625, 0.125, 0.25, 0.5, 1, 2, 4, 8],\n",
    "            'kernel': ['rbf'] # ['sigmoid', 'linear',]\n",
    "        },\n",
    "        cv=5, scoring='neg_mean_squared_error', verbose=0, n_jobs=-1)\n",
    "\n",
    "    grid_result = gsc.fit(X, y.values.ravel())\n",
    "    best_params = grid_result.best_params_\n",
    "    best_svr = SVR(kernel=best_params[\"kernel\"], C=best_params[\"C\"], epsilon=best_params[\"epsilon\"], gamma=best_params[\"gamma\"],\n",
    "                   coef0=0.1, shrinking=True,\n",
    "                   tol=0.001, cache_size=200, verbose=False, max_iter=-1)\n",
    "\n",
    "    scoring = {\n",
    "               'abs_error': 'neg_mean_absolute_error',\n",
    "               'squared_error': 'neg_mean_squared_error'}\n",
    "\n",
    "    scores = cross_validate(best_svr, X, y, cv=10, scoring=scoring, return_train_score=True)\n",
    "    return \"MAE :\", abs(scores['test_abs_error'].mean()), \"| RMSE :\", math.sqrt(abs(scores['test_squared_error'].mean())), \"| best_svr :\", best_svr"
   ]
  },
  {
   "cell_type": "code",
   "execution_count": 13,
   "metadata": {},
   "outputs": [
    {
     "name": "stderr",
     "output_type": "stream",
     "text": [
      "C:\\Users\\DOUGLAS.SILVA\\Anaconda3\\lib\\site-packages\\sklearn\\utils\\validation.py:724: DataConversionWarning: A column-vector y was passed when a 1d array was expected. Please change the shape of y to (n_samples, ), for example using ravel().\n",
      "  y = column_or_1d(y, warn=True)\n",
      "C:\\Users\\DOUGLAS.SILVA\\Anaconda3\\lib\\site-packages\\sklearn\\utils\\validation.py:724: DataConversionWarning: A column-vector y was passed when a 1d array was expected. Please change the shape of y to (n_samples, ), for example using ravel().\n",
      "  y = column_or_1d(y, warn=True)\n",
      "C:\\Users\\DOUGLAS.SILVA\\Anaconda3\\lib\\site-packages\\sklearn\\utils\\validation.py:724: DataConversionWarning: A column-vector y was passed when a 1d array was expected. Please change the shape of y to (n_samples, ), for example using ravel().\n",
      "  y = column_or_1d(y, warn=True)\n",
      "C:\\Users\\DOUGLAS.SILVA\\Anaconda3\\lib\\site-packages\\sklearn\\utils\\validation.py:724: DataConversionWarning: A column-vector y was passed when a 1d array was expected. Please change the shape of y to (n_samples, ), for example using ravel().\n",
      "  y = column_or_1d(y, warn=True)\n",
      "C:\\Users\\DOUGLAS.SILVA\\Anaconda3\\lib\\site-packages\\sklearn\\utils\\validation.py:724: DataConversionWarning: A column-vector y was passed when a 1d array was expected. Please change the shape of y to (n_samples, ), for example using ravel().\n",
      "  y = column_or_1d(y, warn=True)\n",
      "C:\\Users\\DOUGLAS.SILVA\\Anaconda3\\lib\\site-packages\\sklearn\\utils\\validation.py:724: DataConversionWarning: A column-vector y was passed when a 1d array was expected. Please change the shape of y to (n_samples, ), for example using ravel().\n",
      "  y = column_or_1d(y, warn=True)\n",
      "C:\\Users\\DOUGLAS.SILVA\\Anaconda3\\lib\\site-packages\\sklearn\\utils\\validation.py:724: DataConversionWarning: A column-vector y was passed when a 1d array was expected. Please change the shape of y to (n_samples, ), for example using ravel().\n",
      "  y = column_or_1d(y, warn=True)\n",
      "C:\\Users\\DOUGLAS.SILVA\\Anaconda3\\lib\\site-packages\\sklearn\\utils\\validation.py:724: DataConversionWarning: A column-vector y was passed when a 1d array was expected. Please change the shape of y to (n_samples, ), for example using ravel().\n",
      "  y = column_or_1d(y, warn=True)\n",
      "C:\\Users\\DOUGLAS.SILVA\\Anaconda3\\lib\\site-packages\\sklearn\\utils\\validation.py:724: DataConversionWarning: A column-vector y was passed when a 1d array was expected. Please change the shape of y to (n_samples, ), for example using ravel().\n",
      "  y = column_or_1d(y, warn=True)\n",
      "C:\\Users\\DOUGLAS.SILVA\\Anaconda3\\lib\\site-packages\\sklearn\\utils\\validation.py:724: DataConversionWarning: A column-vector y was passed when a 1d array was expected. Please change the shape of y to (n_samples, ), for example using ravel().\n",
      "  y = column_or_1d(y, warn=True)\n"
     ]
    },
    {
     "name": "stdout",
     "output_type": "stream",
     "text": [
      "('MAE :', 2.032841652002269, '| RMSE :', 3.270056503797917, '| best_svr :', SVR(C=64.0, cache_size=200, coef0=0.1, degree=3, epsilon=0.5, gamma=8.0,\n",
      "    kernel='rbf', max_iter=-1, shrinking=True, tol=0.001, verbose=False))\n"
     ]
    }
   ],
   "source": [
    "print(svr_model(X,y))"
   ]
  },
  {
   "cell_type": "code",
   "execution_count": null,
   "metadata": {},
   "outputs": [],
   "source": [
    "#27/09/20 19:48PM\n",
    "('MAE :', 2.032841652002269, '| RMSE :', 3.270056503797917, '| best_svr :', SVR(C=64.0, cache_size=200, coef0=0.1, degree=3, epsilon=0.5, gamma=8.0,\n",
    "    kernel='rbf', max_iter=-1, shrinking=True, tol=0.001, verbose=False))"
   ]
  },
  {
   "cell_type": "code",
   "execution_count": null,
   "metadata": {},
   "outputs": [],
   "source": [
    "#27/09/20\n",
    "('MAE :', 1.9664204614552834, '| RMSE :', 3.227352843669652, '| best_svr :', SVR(C=32.0, cache_size=200, coef0=0.1, degree=3, epsilon=0.5, gamma=16.0,\n",
    "    kernel='rbf', max_iter=-1, shrinking=True, tol=0.001, verbose=False))"
   ]
  },
  {
   "cell_type": "code",
   "execution_count": null,
   "metadata": {},
   "outputs": [],
   "source": [
    "('MAE :', 2.083546343441733, '| RMSE :', 3.3166580120758025, '| best_svr :', SVR(C=100, cache_size=200, coef0=0.1, degree=3, epsilon=0.5, gamma=5,\n",
    "    kernel='rbf', max_iter=-1, shrinking=True, tol=0.001, verbose=False))"
   ]
  },
  {
   "cell_type": "code",
   "execution_count": null,
   "metadata": {},
   "outputs": [],
   "source": [
    "('MAE :', 2.032766183511892, '| RMSE :', 3.270037850352753, '| best_svr :', SVR(C=64, cache_size=200, coef0=0.1, degree=3, epsilon=0.5, gamma=8,\n",
    "    kernel='rbf', max_iter=-1, shrinking=True, tol=0.001, verbose=False))"
   ]
  },
  {
   "cell_type": "markdown",
   "metadata": {},
   "source": [
    "# Grid Search LightGBM:"
   ]
  },
  {
   "cell_type": "code",
   "execution_count": 15,
   "metadata": {},
   "outputs": [],
   "source": [
    "import math\n",
    "import pandas as pd\n",
    "from sklearn.preprocessing import MinMaxScaler\n",
    "from sklearn.svm import SVR\n",
    "from sklearn.model_selection import GridSearchCV, cross_validate\n",
    "from sklearn.utils import shuffle\n",
    "import lightgbm as lgb\n",
    "%run Imports.ipynb"
   ]
  },
  {
   "cell_type": "code",
   "execution_count": 16,
   "metadata": {},
   "outputs": [],
   "source": [
    "X_LightGBM = X_train"
   ]
  },
  {
   "cell_type": "code",
   "execution_count": 17,
   "metadata": {},
   "outputs": [],
   "source": [
    "y_LightGBM = y_train_rssi_1_1"
   ]
  },
  {
   "cell_type": "code",
   "execution_count": 18,
   "metadata": {},
   "outputs": [],
   "source": [
    "scaler = MinMaxScaler(feature_range=(0, 1))\n",
    "X_LightGBM = scaler.fit_transform(X_LightGBM)"
   ]
  },
  {
   "cell_type": "code",
   "execution_count": 19,
   "metadata": {},
   "outputs": [],
   "source": [
    "seed = 42\n",
    "X_LightGBM, y_LightGBM = shuffle(X_LightGBM, y_LightGBM, random_state=seed)"
   ]
  },
  {
   "cell_type": "markdown",
   "metadata": {},
   "source": [
    "# Step 1"
   ]
  },
  {
   "cell_type": "code",
   "execution_count": 54,
   "metadata": {},
   "outputs": [
    {
     "name": "stdout",
     "output_type": "stream",
     "text": [
      "Fitting 5 folds for each of 80 candidates, totalling 400 fits\n"
     ]
    },
    {
     "name": "stderr",
     "output_type": "stream",
     "text": [
      "[Parallel(n_jobs=4)]: Using backend LokyBackend with 4 concurrent workers.\n",
      "[Parallel(n_jobs=4)]: Done  42 tasks      | elapsed:    2.8s\n",
      "[Parallel(n_jobs=4)]: Done 192 tasks      | elapsed:   17.4s\n",
      "[Parallel(n_jobs=4)]: Done 400 out of 400 | elapsed:   49.4s finished\n"
     ]
    },
    {
     "data": {
      "text/plain": [
       "({'n_estimators': 200}, -1.4892469532523415e+77)"
      ]
     },
     "execution_count": 54,
     "metadata": {},
     "output_type": "execute_result"
    }
   ],
   "source": [
    "import pandas as pd\n",
    "import lightgbm as lgb\n",
    "from sklearn.model_selection import GridSearchCV\n",
    "\n",
    "model = lgb.LGBMRegressor( \n",
    "    boosting_type=\"goss\",\n",
    "    n_estimators=50, \n",
    "    max_depth=8,\n",
    "    feature_fraction=0.7,  \n",
    "    learning_rate=0.1,    \n",
    ")\n",
    "\n",
    "params_opt = {'n_estimators':range(200, 1000, 100)}\n",
    "gridSearchCV = GridSearchCV(estimator = model, \n",
    "    param_grid = params_opt, \n",
    "    scoring='neg_mean_squared_error',\n",
    "    n_jobs=4,\n",
    "    iid=False, \n",
    "    verbose=1,\n",
    "    cv=5)\n",
    "gridSearchCV.fit(X_train,y_train_rssi_1_1)\n",
    "gridSearchCV.best_params_, gridSearchCV.best_score_"
   ]
  },
  {
   "cell_type": "markdown",
   "metadata": {},
   "source": [
    "# Step 2"
   ]
  },
  {
   "cell_type": "code",
   "execution_count": 55,
   "metadata": {},
   "outputs": [
    {
     "name": "stdout",
     "output_type": "stream",
     "text": [
      "Fitting 5 folds for each of 180 candidates, totalling 900 fits\n"
     ]
    },
    {
     "name": "stderr",
     "output_type": "stream",
     "text": [
      "[Parallel(n_jobs=4)]: Using backend LokyBackend with 4 concurrent workers.\n",
      "[Parallel(n_jobs=4)]: Done  76 tasks      | elapsed:    2.4s\n",
      "[Parallel(n_jobs=4)]: Done 376 tasks      | elapsed:   18.7s\n",
      "[Parallel(n_jobs=4)]: Done 876 tasks      | elapsed:  1.1min\n",
      "[Parallel(n_jobs=4)]: Done 900 out of 900 | elapsed:  1.1min finished\n"
     ]
    },
    {
     "data": {
      "text/plain": [
       "({'max_depth': 3, 'num_leaves': 5}, -6.8112097852742e+58)"
      ]
     },
     "execution_count": 55,
     "metadata": {},
     "output_type": "execute_result"
    }
   ],
   "source": [
    "import pandas as pd\n",
    "import lightgbm as lgb\n",
    "from sklearn.model_selection import GridSearchCV\n",
    "\n",
    "model = lgb.LGBMRegressor( \n",
    "    boosting_type=\"goss\",\n",
    "    n_estimators=200, \n",
    "    max_depth=8,\n",
    "    feature_fraction=0.7,  \n",
    "    learning_rate=0.1,    \n",
    ")\n",
    "\n",
    "params_opt = {'max_depth': range(3, 10, 1), 'num_leaves': range(10, 110, 10)}\n",
    "gridSearchCV = GridSearchCV(estimator = model, \n",
    "    param_grid = params_opt, \n",
    "    scoring='neg_mean_squared_error',\n",
    "    n_jobs=4,\n",
    "    iid=False, \n",
    "    verbose=1,\n",
    "    cv=5)\n",
    "gridSearchCV.fit(X_train,y_train_rssi_1_1)\n",
    "gridSearchCV.best_params_, gridSearchCV.best_score_"
   ]
  },
  {
   "cell_type": "code",
   "execution_count": 50,
   "metadata": {},
   "outputs": [
    {
     "name": "stderr",
     "output_type": "stream",
     "text": [
      "C:\\Users\\DOUGLAS.SILVA\\Anaconda3\\lib\\site-packages\\sklearn\\model_selection\\_search.py:813: DeprecationWarning: The default of the `iid` parameter will change from True to False in version 0.22 and will be removed in 0.24. This will change numeric results when test-set sizes are unequal.\n",
      "  DeprecationWarning)\n"
     ]
    },
    {
     "data": {
      "text/plain": [
       "({'max_depth': 10, 'num_leaves': 50}, -3.634671762602775e+17)"
      ]
     },
     "execution_count": 50,
     "metadata": {},
     "output_type": "execute_result"
    }
   ],
   "source": [
    "from sklearn.model_selection import GridSearchCV\n",
    "y_train= y_train_rssi_1_2\n",
    "y_test= y_train_rssi_1_2\n",
    "params_test1={'max_depth': np.arange(3,12,1), 'num_leaves': np.arange(5,150,5)}\n",
    "              \n",
    "gsearch1 = GridSearchCV(estimator = lgb.LGBMRegressor(boosting_type='goss',metrics='mse',learning_rate=0.1, n_estimators=100, max_depth=8,feature_fraction = 0.8), \n",
    "                       param_grid = params_test1, scoring='neg_mean_squared_error',cv=5,n_jobs=-1)\n",
    "gsearch1.fit(X_train,y_train)\n",
    "gsearch1.best_params_, gsearch1.best_score_"
   ]
  },
  {
   "cell_type": "markdown",
   "metadata": {},
   "source": [
    "# Step 3"
   ]
  },
  {
   "cell_type": "code",
   "execution_count": 35,
   "metadata": {},
   "outputs": [
    {
     "name": "stderr",
     "output_type": "stream",
     "text": [
      "C:\\Users\\DOUGLAS.SILVA\\Anaconda3\\lib\\site-packages\\sklearn\\model_selection\\_search.py:813: DeprecationWarning: The default of the `iid` parameter will change from True to False in version 0.22 and will be removed in 0.24. This will change numeric results when test-set sizes are unequal.\n",
      "  DeprecationWarning)\n"
     ]
    },
    {
     "data": {
      "text/plain": [
       "({'max_bin': 5, 'min_data_in_leaf': 61}, -1.0915389708511447e+23)"
      ]
     },
     "execution_count": 35,
     "metadata": {},
     "output_type": "execute_result"
    }
   ],
   "source": [
    "params_test2={'max_bin': np.arange(5,256,10), 'min_data_in_leaf': np.arange(1,102,10)}\n",
    "              \n",
    "gsearch2 = GridSearchCV(estimator = lgb.LGBMRegressor(boosting_type='goss',metrics='mse',learning_rate=0.1, n_estimators=100, max_depth=6, num_leaves=10, feature_fraction = 0.8), \n",
    "                       param_grid = params_test2, scoring='neg_mean_squared_error',cv=5,n_jobs=-1)\n",
    "gsearch2.fit(X_train,y_train)\n",
    "gsearch2.best_params_, gsearch2.best_score_"
   ]
  },
  {
   "cell_type": "markdown",
   "metadata": {},
   "source": [
    "# Step 4"
   ]
  },
  {
   "cell_type": "code",
   "execution_count": 40,
   "metadata": {},
   "outputs": [
    {
     "name": "stderr",
     "output_type": "stream",
     "text": [
      "C:\\Users\\DOUGLAS.SILVA\\Anaconda3\\lib\\site-packages\\sklearn\\model_selection\\_search.py:813: DeprecationWarning: The default of the `iid` parameter will change from True to False in version 0.22 and will be removed in 0.24. This will change numeric results when test-set sizes are unequal.\n",
      "  DeprecationWarning)\n"
     ]
    },
    {
     "data": {
      "text/plain": [
       "({'feature_fraction': 0.6}, -8.741721636386762e+34)"
      ]
     },
     "execution_count": 40,
     "metadata": {},
     "output_type": "execute_result"
    }
   ],
   "source": [
    "params_test3={'feature_fraction': [0.6,0.7,0.8,0.9,1.0]}\n",
    "y_train= y_train_rssi_3_3            \n",
    "gsearch3 = GridSearchCV(estimator = lgb.LGBMRegressor(boosting_type='goss',metrics='mse',learning_rate=0.1, n_estimators=1000, max_depth=6, num_leaves=10, feature_fraction = 0.8, max_bin = 5, min_data_in_leaf = 61), \n",
    "                       param_grid = params_test3, scoring='neg_mean_squared_error',cv=5,n_jobs=-1)\n",
    "gsearch3.fit(X_train,y_train)\n",
    "gsearch3.best_params_, gsearch3.best_score_"
   ]
  },
  {
   "cell_type": "markdown",
   "metadata": {},
   "source": [
    "# Step 5"
   ]
  },
  {
   "cell_type": "code",
   "execution_count": 42,
   "metadata": {},
   "outputs": [
    {
     "name": "stderr",
     "output_type": "stream",
     "text": [
      "C:\\Users\\DOUGLAS.SILVA\\Anaconda3\\lib\\site-packages\\sklearn\\model_selection\\_search.py:813: DeprecationWarning: The default of the `iid` parameter will change from True to False in version 0.22 and will be removed in 0.24. This will change numeric results when test-set sizes are unequal.\n",
      "  DeprecationWarning)\n"
     ]
    },
    {
     "data": {
      "text/plain": [
       "({'lambda_l1': 8.0, 'lambda_l2': 10.0}, -45.335813926708084)"
      ]
     },
     "execution_count": 42,
     "metadata": {},
     "output_type": "execute_result"
    }
   ],
   "source": [
    "params_test4={'lambda_l1': [1e-5,1e-3,1e-1,0.0,0.1,0.3,0.5,0.7,0.9,1.0,2.0, 4.0, 6.0, 8.0, 10.0],\n",
    "              'lambda_l2': [1e-5,1e-3,1e-1,0.0,0.1,0.3,0.5,0.7,0.9,1.0,2.0, 4.0, 6.0, 8.0, 10.0]\n",
    "}\n",
    "              \n",
    "gsearch4 = GridSearchCV(estimator = lgb.LGBMRegressor(boosting_type='goss',metrics='mse',learning_rate=0.1, n_estimators=1000, max_depth=6, num_leaves=10, feature_fraction = 0.6, max_bin = 5, min_data_in_leaf = 61), \n",
    "                       param_grid = params_test4, scoring='neg_mean_squared_error',cv=5,n_jobs=-1)\n",
    "gsearch4.fit(X_train,y_train)\n",
    "gsearch4.best_params_, gsearch4.best_score_"
   ]
  },
  {
   "cell_type": "markdown",
   "metadata": {},
   "source": [
    "# Step 6"
   ]
  },
  {
   "cell_type": "code",
   "execution_count": 47,
   "metadata": {},
   "outputs": [
    {
     "name": "stderr",
     "output_type": "stream",
     "text": [
      "C:\\Users\\DOUGLAS.SILVA\\Anaconda3\\lib\\site-packages\\sklearn\\model_selection\\_search.py:813: DeprecationWarning: The default of the `iid` parameter will change from True to False in version 0.22 and will be removed in 0.24. This will change numeric results when test-set sizes are unequal.\n",
      "  DeprecationWarning)\n"
     ]
    },
    {
     "data": {
      "text/plain": [
       "({'min_split_gain': 10.0}, -461.40006304556834)"
      ]
     },
     "execution_count": 47,
     "metadata": {},
     "output_type": "execute_result"
    }
   ],
   "source": [
    "params_test5={'min_split_gain':[0.0,0.1,0.2,0.3,0.4,0.5,0.6,0.7,0.8,0.9,1.0,2.0, 4.0, 6.0, 8.0, 10.0]}\n",
    "y_train= y_train_rssi_1_1          \n",
    "gsearch5 = GridSearchCV(estimator = lgb.LGBMRegressor(boosting_type='goss',metrics='mse',learning_rate=0.1, n_estimators=1000, max_depth=6, num_leaves=10, feature_fraction = 0.6, max_bin = 5, min_data_in_leaf = 61, lambda_l1 = 8, lambda_l2 = 10), \n",
    "                       param_grid = params_test5, scoring='neg_mean_squared_error',cv=5,n_jobs=-1)\n",
    "gsearch5.fit(X_train,y_train)\n",
    "gsearch5.best_params_, gsearch5.best_score_"
   ]
  },
  {
   "cell_type": "markdown",
   "metadata": {},
   "source": [
    "# Step 7"
   ]
  },
  {
   "cell_type": "code",
   "execution_count": 44,
   "metadata": {},
   "outputs": [
    {
     "ename": "NameError",
     "evalue": "name 'metrics' is not defined",
     "output_type": "error",
     "traceback": [
      "\u001b[1;31m---------------------------------------------------------------------------\u001b[0m",
      "\u001b[1;31mNameError\u001b[0m                                 Traceback (most recent call last)",
      "\u001b[1;32m<ipython-input-44-5cea3cf30c1b>\u001b[0m in \u001b[0;36m<module>\u001b[1;34m\u001b[0m\n\u001b[0;32m      2\u001b[0m \u001b[0mmodel\u001b[0m\u001b[1;33m.\u001b[0m\u001b[0mfit\u001b[0m\u001b[1;33m(\u001b[0m\u001b[0mX_train\u001b[0m\u001b[1;33m,\u001b[0m\u001b[0my_train\u001b[0m\u001b[1;33m)\u001b[0m\u001b[1;33m\u001b[0m\u001b[1;33m\u001b[0m\u001b[0m\n\u001b[0;32m      3\u001b[0m \u001b[0my_pre\u001b[0m\u001b[1;33m=\u001b[0m\u001b[0mmodel\u001b[0m\u001b[1;33m.\u001b[0m\u001b[0mpredict\u001b[0m\u001b[1;33m(\u001b[0m\u001b[0mX_test\u001b[0m\u001b[1;33m)\u001b[0m\u001b[1;33m\u001b[0m\u001b[1;33m\u001b[0m\u001b[0m\n\u001b[1;32m----> 4\u001b[1;33m \u001b[0mprint\u001b[0m\u001b[1;33m(\u001b[0m\u001b[1;34m\"acc:\"\u001b[0m\u001b[1;33m,\u001b[0m\u001b[0mmetrics\u001b[0m\u001b[1;33m.\u001b[0m\u001b[0maccuracy_score\u001b[0m\u001b[1;33m(\u001b[0m\u001b[0my_test\u001b[0m\u001b[1;33m,\u001b[0m\u001b[0my_pre\u001b[0m\u001b[1;33m)\u001b[0m\u001b[1;33m)\u001b[0m\u001b[1;33m\u001b[0m\u001b[1;33m\u001b[0m\u001b[0m\n\u001b[0m\u001b[0;32m      5\u001b[0m \u001b[0mprint\u001b[0m\u001b[1;33m(\u001b[0m\u001b[1;34m\"auc:\"\u001b[0m\u001b[1;33m,\u001b[0m\u001b[0mmetrics\u001b[0m\u001b[1;33m.\u001b[0m\u001b[0mroc_auc_score\u001b[0m\u001b[1;33m(\u001b[0m\u001b[0my_test\u001b[0m\u001b[1;33m,\u001b[0m\u001b[0my_pre\u001b[0m\u001b[1;33m)\u001b[0m\u001b[1;33m)\u001b[0m\u001b[1;33m\u001b[0m\u001b[1;33m\u001b[0m\u001b[0m\n",
      "\u001b[1;31mNameError\u001b[0m: name 'metrics' is not defined"
     ]
    }
   ],
   "source": [
    "model=lgb.LGBMRegressor(boosting_type='goss',metrics='mse',learning_rate=0.1, n_estimators=1000, max_depth=6, num_leaves=10, feature_fraction = 0.8, max_bin = 5, min_data_in_leaf = 61, lambda_l1 = 8, lambda_l2 = 10, min_split_gain = 0.1) \n",
    "model.fit(X_train,y_train)\n",
    "y_pre=model.predict(X_test)\n",
    "print(\"acc:\",metrics.accuracy_score(y_test,y_pre))\n",
    "print(\"auc:\",metrics.roc_auc_score(y_test,y_pre))"
   ]
  },
  {
   "cell_type": "markdown",
   "metadata": {},
   "source": [
    "# GridSearch Original"
   ]
  },
  {
   "cell_type": "code",
   "execution_count": 99,
   "metadata": {
    "scrolled": true
   },
   "outputs": [
    {
     "name": "stdout",
     "output_type": "stream",
     "text": [
      "{'min_child_weight': 41}\n",
      "0.07401638798350865\n"
     ]
    },
    {
     "name": "stderr",
     "output_type": "stream",
     "text": [
      "C:\\Users\\DOUGLAS.SILVA\\Anaconda3\\lib\\site-packages\\sklearn\\model_selection\\_search.py:813: DeprecationWarning: The default of the `iid` parameter will change from True to False in version 0.22 and will be removed in 0.24. This will change numeric results when test-set sizes are unequal.\n",
      "  DeprecationWarning)\n"
     ]
    }
   ],
   "source": [
    "# Set params\n",
    "params = {'boosting_type': 'goss',\n",
    "          'learning_rate': 0.1,\n",
    "          'metric': 'mse',\n",
    "          'max_depth': 7,\n",
    "          'num_leaves': 32,\n",
    "          'n_estimators': 200,\n",
    "          'min_data_in_leaf': 21,\n",
    "          'feature_fraction': 1,\n",
    "          'lambda_l1': 8.5,\n",
    "          'lambda_l2': 10,\n",
    "          'min_split_gain': 10,\n",
    "          #'min_child_weight': 42,\n",
    "          \n",
    "         }\n",
    "  \n",
    "# Create parameters to search\n",
    "gridParams = {\n",
    "    #'learning_rate': [0.005, 0.1, 0.25,0.5, 1.0],\n",
    "    #'num_leaves': list(map(pot_2,np.arange(3,10))),#[16,18,20,22,24,26,28,30,32,34,36,38,40,42,54,56,58,60,62,64,66],\n",
    "    #'max_depth': np.arange(5,11),#[-1,10,20,40,80], #10\n",
    "    #'bagging_fraction': np.arange(0.25,1.05,0.05),\n",
    "    #'feature_fraction': np.arange(0.6,1.01,0.1),\n",
    "    #'max_bin': np.arange(205,255,5),\n",
    "    #'min_data_in_leaf': np.arange(1,52,10),\n",
    "    #'lambda_l1': np.arange(8,10.5,0.5),\n",
    "    #'lambda_l2': np.arange(8,10.5,0.5),\n",
    "    #'min_split_gain':[5.0, 6.0, 7.0, 8.0, 9.0, 10.0]\n",
    "    #'top_rate': np.arange(0,1.01,0.1),\n",
    "    #'other_rate': np.arange(0,1.01,0.1),\n",
    "    'min_child_weight': np.arange(11,42,10), #np.arange(30,43,1),\n",
    "    \n",
    "}\n",
    "\n",
    "# Create classifier to use. Note that parameters have to be input manually\n",
    "# not as a dict!\n",
    "mdl = lgb.LGBMRegressor(boosting_type= 'goss', silent = True,)\n",
    "          \n",
    "# To view the default model params:\n",
    "mdl.get_params().keys()\n",
    "\n",
    "# Create the grid\n",
    "grid = GridSearchCV(mdl, gridParams, verbose=0,cv=5)\n",
    "                         \n",
    "# Run the grid\n",
    "grid.fit(X_LightGBM, y_LightGBM.values.ravel())\n",
    "\n",
    "# Print the best parameters found\n",
    "print(grid.best_params_)\n",
    "print(grid.best_score_)"
   ]
  },
  {
   "cell_type": "code",
   "execution_count": 100,
   "metadata": {},
   "outputs": [
    {
     "data": {
      "text/plain": [
       "array([11, 21, 31, 41])"
      ]
     },
     "execution_count": 100,
     "metadata": {},
     "output_type": "execute_result"
    }
   ],
   "source": [
    "test = np.arange(11,42,10)\n",
    "test"
   ]
  },
  {
   "cell_type": "code",
   "execution_count": null,
   "metadata": {},
   "outputs": [],
   "source": [
    "'top_rate': np.arange(0.0,1.01,0.1)\n",
    "'other_rate': np.arange(0.0,1.01,0.1)\n",
    "'min_child_weight': np.arange(22,62,10)"
   ]
  },
  {
   "cell_type": "code",
   "execution_count": null,
   "metadata": {},
   "outputs": [],
   "source": [
    "    #'min_split_gain':[5.0, 6.0, 7.0, 8.0, 9.0, 10.0]\n",
    "    #'top_rate': np.arange(0,1.01,0.1),\n",
    "    #'other_rate': np.arange(0,1.01,0.1),\n",
    "    'min_child_weight': np.arange(30,43,1),"
   ]
  }
 ],
 "metadata": {
  "kernelspec": {
   "display_name": "Python 3",
   "language": "python",
   "name": "python3"
  },
  "language_info": {
   "codemirror_mode": {
    "name": "ipython",
    "version": 3
   },
   "file_extension": ".py",
   "mimetype": "text/x-python",
   "name": "python",
   "nbconvert_exporter": "python",
   "pygments_lexer": "ipython3",
   "version": "3.7.3"
  }
 },
 "nbformat": 4,
 "nbformat_minor": 2
}
