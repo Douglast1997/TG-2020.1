{
 "cells": [
  {
   "cell_type": "markdown",
   "metadata": {},
   "source": [
    "# Utiliza o CDB com ML para predizer a localização (lat,lon) das EM:"
   ]
  },
  {
   "cell_type": "code",
   "execution_count": 207,
   "metadata": {},
   "outputs": [],
   "source": [
    "import pandas as pd\n",
    "import numpy as np\n",
    "import math\n",
    "import os\n",
    "from tqdm import tqdm\n",
    "%run Imports.ipynb\n",
    "%run UtilsLightGBMFingerPrinting.ipynb"
   ]
  },
  {
   "cell_type": "code",
   "execution_count": 208,
   "metadata": {},
   "outputs": [],
   "source": [
    "#X_test = pd.read_csv(\"./CDB/CDB_20_SVR_Complete.csv\")\n",
    "#X_test.head()"
   ]
  },
  {
   "cell_type": "code",
   "execution_count": 209,
   "metadata": {},
   "outputs": [],
   "source": [
    "#X_test = pd.read_csv(\"./CDB/CDB_20_LightGBM_Complete.csv\")\n",
    "#X_test.head()"
   ]
  },
  {
   "cell_type": "code",
   "execution_count": 210,
   "metadata": {},
   "outputs": [],
   "source": [
    "FILES = [\n",
    "    # Arquivos de Teste Outdoor Só possui RSSIs, delays, idx\n",
    "    (7,'./Test/Outdoor_Test.csv'), # Usar CDB_20_LightGBM_Complete\n",
    "    (8,'./Test/Indoor_Test.csv'), # Usar CDB_20_LightGBM_Complete\n",
    "    (9,'./Test/Indoor-Outdoor_Test.csv'), # Usar CDB_20_LightGBM_Complete\n",
    "    \n",
    "    #(10,'./Test/Outdoor_Test.csv'), # Usar CDB_20_SVR_Complete\n",
    "    #(11,'./Test/Indoor_Test.csv'), # Usar CDB_20_SVR_Complete\n",
    "    #(12,'./Test/Indoor-Outdoor_Test.csv') # Usar CDB_20_SVR_Complete\n",
    "    \n",
    "]\n",
    "\n",
    "TEST_DATABASE = \"./CDB/CDB_20_LightGBM_Complete.csv\"\n",
    "#TEST_DATABASE = \"./CDB/CDB_20_SVR_Complete.csv\"\n",
    "\n",
    "#TEST_DATABASE = \"./CDB/CDB_20_LightGBM_Complete_Med.csv\" #Outdoor Melhora, mas o indoor piora\n",
    "#TEST_DATABASE = \"./CDB/CDB_20_SVR_Complete_Med.csv\""
   ]
  },
  {
   "cell_type": "code",
   "execution_count": 211,
   "metadata": {},
   "outputs": [],
   "source": [
    "def get_nearest_point(test_database, point):\n",
    "    \"\"\"\n",
    "    Encontra o ponto no fingerprint que possui a menor distância euclidiana para o ponto passado como argumento\n",
    "    \"\"\"\n",
    "    min_dist = None\n",
    "    lat = None\n",
    "    lon = None\n",
    "    CDB_Reduced = CDB_ReducedByPDs(point['delay_1'], point['delay_2'], point['delay_3'],\n",
    "                                   point['delay_12'], point['delay_13'], point['delay_23'], test_database)\n",
    "    for idx, point_fg in CDB_Reduced.iterrows():\n",
    "        fg = point_fg[:-2]\n",
    "        dist = euclidean_distance(point[:-1], fg)\n",
    "        \n",
    "        if (min_dist == None) or (min_dist > dist):\n",
    "            min_dist = dist\n",
    "            lat = point_fg.lat\n",
    "            lon = point_fg.lon\n",
    "\n",
    "    return lat, lon\n",
    "\n",
    "def calculate_coords_th(fingerprint, test_database):\n",
    "    \"\"\"\n",
    "    Calcula as coordenadas usando um fingerprint e retorna um dataframe contendo\n",
    "    latitude, longitude e pontoId\n",
    "    \"\"\"\n",
    "    points_dict = {'lat_pred': [], 'lon_pred': [], 'idx': []}\n",
    "    \n",
    "    \"\"\"\"\n",
    "    for idx, point in tqdm(test_database.iterrows()):\n",
    "        lat, lon = get_nearest_point(fingerprint, point)\n",
    "        points_dict['lat_pred'].append(lat)\n",
    "        points_dict['lon_pred'].append(lon)\n",
    "        points_dict['idx'].append(point.idx)\n",
    "    \"\"\"\n",
    "    for idx, point in tqdm(fingerprint.iterrows()):\n",
    "        lat, lon = get_nearest_point(test_database, point)\n",
    "        points_dict['lat_pred'].append(lat)\n",
    "        points_dict['lon_pred'].append(lon)\n",
    "        points_dict['idx'].append(point.idx)\n",
    "    \n",
    "    \n",
    "    return pd.DataFrame(points_dict)\n",
    "    \n",
    "def generate_theorical_results():\n",
    "    \"\"\"\n",
    "    Calcula as latitudes e longitudes estimadas dos pontos da base de teste usando cada um dos fingerprints\n",
    "    com as dimensões listadas no vetor DIM\n",
    "    \"\"\"\n",
    "    test_database = pd.read_csv(TEST_DATABASE)\n",
    "    for method, file in FILES:\n",
    "        fingerprint = pd.read_csv(file)\n",
    "        points_df = calculate_coords_th(fingerprint, test_database)\n",
    "        points_df.to_csv(\"./FinalResult/Resultados_Metodo_{}.csv\".format(method), index=False)"
   ]
  },
  {
   "cell_type": "code",
   "execution_count": 212,
   "metadata": {},
   "outputs": [
    {
     "name": "stderr",
     "output_type": "stream",
     "text": [
      "150it [00:03, 47.70it/s]\n",
      "150it [00:03, 47.02it/s]\n",
      "150it [00:03, 46.60it/s]\n"
     ]
    }
   ],
   "source": [
    "# gera os resultados teoricos\n",
    "generate_theorical_results()"
   ]
  },
  {
   "cell_type": "code",
   "execution_count": 134,
   "metadata": {},
   "outputs": [
    {
     "data": {
      "text/html": [
       "<div>\n",
       "<style scoped>\n",
       "    .dataframe tbody tr th:only-of-type {\n",
       "        vertical-align: middle;\n",
       "    }\n",
       "\n",
       "    .dataframe tbody tr th {\n",
       "        vertical-align: top;\n",
       "    }\n",
       "\n",
       "    .dataframe thead th {\n",
       "        text-align: right;\n",
       "    }\n",
       "</style>\n",
       "<table border=\"1\" class=\"dataframe\">\n",
       "  <thead>\n",
       "    <tr style=\"text-align: right;\">\n",
       "      <th></th>\n",
       "      <th>dist_1</th>\n",
       "      <th>dist_2</th>\n",
       "      <th>dist_3</th>\n",
       "      <th>ang_1</th>\n",
       "      <th>cos_1</th>\n",
       "      <th>sin_1</th>\n",
       "      <th>tg_1</th>\n",
       "      <th>ang_2</th>\n",
       "      <th>cos_2</th>\n",
       "      <th>sin_2</th>\n",
       "      <th>...</th>\n",
       "      <th>ang_3</th>\n",
       "      <th>cos_3</th>\n",
       "      <th>sin_3</th>\n",
       "      <th>tg_3</th>\n",
       "      <th>delay_1</th>\n",
       "      <th>delay_2</th>\n",
       "      <th>delay_3</th>\n",
       "      <th>delay_12</th>\n",
       "      <th>delay_13</th>\n",
       "      <th>delay_23</th>\n",
       "    </tr>\n",
       "  </thead>\n",
       "  <tbody>\n",
       "    <tr>\n",
       "      <th>50</th>\n",
       "      <td>1.242567</td>\n",
       "      <td>1.001982</td>\n",
       "      <td>0.480684</td>\n",
       "      <td>-171.788725</td>\n",
       "      <td>-0.989748</td>\n",
       "      <td>-0.142824</td>\n",
       "      <td>0.144303</td>\n",
       "      <td>-100.494039</td>\n",
       "      <td>-0.182133</td>\n",
       "      <td>-0.983274</td>\n",
       "      <td>...</td>\n",
       "      <td>79.661828</td>\n",
       "      <td>0.179458</td>\n",
       "      <td>0.983766</td>\n",
       "      <td>5.481882</td>\n",
       "      <td>5</td>\n",
       "      <td>4</td>\n",
       "      <td>2</td>\n",
       "      <td>1</td>\n",
       "      <td>3</td>\n",
       "      <td>2</td>\n",
       "    </tr>\n",
       "    <tr>\n",
       "      <th>51</th>\n",
       "      <td>1.190175</td>\n",
       "      <td>0.987275</td>\n",
       "      <td>0.499025</td>\n",
       "      <td>-171.746444</td>\n",
       "      <td>-0.989642</td>\n",
       "      <td>-0.143554</td>\n",
       "      <td>0.145056</td>\n",
       "      <td>-97.596518</td>\n",
       "      <td>-0.132196</td>\n",
       "      <td>-0.991224</td>\n",
       "      <td>...</td>\n",
       "      <td>73.917268</td>\n",
       "      <td>0.277025</td>\n",
       "      <td>0.960863</td>\n",
       "      <td>3.468504</td>\n",
       "      <td>5</td>\n",
       "      <td>4</td>\n",
       "      <td>2</td>\n",
       "      <td>1</td>\n",
       "      <td>3</td>\n",
       "      <td>2</td>\n",
       "    </tr>\n",
       "    <tr>\n",
       "      <th>69</th>\n",
       "      <td>1.234103</td>\n",
       "      <td>1.046953</td>\n",
       "      <td>0.436666</td>\n",
       "      <td>-169.449416</td>\n",
       "      <td>-0.983094</td>\n",
       "      <td>-0.183104</td>\n",
       "      <td>0.186252</td>\n",
       "      <td>-99.117843</td>\n",
       "      <td>-0.158466</td>\n",
       "      <td>-0.987365</td>\n",
       "      <td>...</td>\n",
       "      <td>76.376536</td>\n",
       "      <td>0.235540</td>\n",
       "      <td>0.971865</td>\n",
       "      <td>4.126111</td>\n",
       "      <td>5</td>\n",
       "      <td>4</td>\n",
       "      <td>2</td>\n",
       "      <td>1</td>\n",
       "      <td>3</td>\n",
       "      <td>2</td>\n",
       "    </tr>\n",
       "    <tr>\n",
       "      <th>114</th>\n",
       "      <td>1.163275</td>\n",
       "      <td>0.979734</td>\n",
       "      <td>0.511192</td>\n",
       "      <td>-171.773682</td>\n",
       "      <td>-0.989711</td>\n",
       "      <td>-0.143084</td>\n",
       "      <td>0.144571</td>\n",
       "      <td>-96.091782</td>\n",
       "      <td>-0.106121</td>\n",
       "      <td>-0.994353</td>\n",
       "      <td>...</td>\n",
       "      <td>71.194579</td>\n",
       "      <td>0.322355</td>\n",
       "      <td>0.946619</td>\n",
       "      <td>2.936570</td>\n",
       "      <td>5</td>\n",
       "      <td>4</td>\n",
       "      <td>2</td>\n",
       "      <td>1</td>\n",
       "      <td>3</td>\n",
       "      <td>2</td>\n",
       "    </tr>\n",
       "    <tr>\n",
       "      <th>134</th>\n",
       "      <td>1.234891</td>\n",
       "      <td>1.039690</td>\n",
       "      <td>0.443662</td>\n",
       "      <td>-169.820161</td>\n",
       "      <td>-0.984258</td>\n",
       "      <td>-0.176738</td>\n",
       "      <td>0.179565</td>\n",
       "      <td>-99.305572</td>\n",
       "      <td>-0.161700</td>\n",
       "      <td>-0.986840</td>\n",
       "      <td>...</td>\n",
       "      <td>76.888877</td>\n",
       "      <td>0.226840</td>\n",
       "      <td>0.973932</td>\n",
       "      <td>4.293468</td>\n",
       "      <td>5</td>\n",
       "      <td>4</td>\n",
       "      <td>2</td>\n",
       "      <td>1</td>\n",
       "      <td>3</td>\n",
       "      <td>2</td>\n",
       "    </tr>\n",
       "  </tbody>\n",
       "</table>\n",
       "<p>5 rows × 21 columns</p>\n",
       "</div>"
      ],
      "text/plain": [
       "       dist_1    dist_2    dist_3       ang_1     cos_1     sin_1      tg_1  \\\n",
       "50   1.242567  1.001982  0.480684 -171.788725 -0.989748 -0.142824  0.144303   \n",
       "51   1.190175  0.987275  0.499025 -171.746444 -0.989642 -0.143554  0.145056   \n",
       "69   1.234103  1.046953  0.436666 -169.449416 -0.983094 -0.183104  0.186252   \n",
       "114  1.163275  0.979734  0.511192 -171.773682 -0.989711 -0.143084  0.144571   \n",
       "134  1.234891  1.039690  0.443662 -169.820161 -0.984258 -0.176738  0.179565   \n",
       "\n",
       "          ang_2     cos_2     sin_2  ...      ang_3     cos_3     sin_3  \\\n",
       "50  -100.494039 -0.182133 -0.983274  ...  79.661828  0.179458  0.983766   \n",
       "51   -97.596518 -0.132196 -0.991224  ...  73.917268  0.277025  0.960863   \n",
       "69   -99.117843 -0.158466 -0.987365  ...  76.376536  0.235540  0.971865   \n",
       "114  -96.091782 -0.106121 -0.994353  ...  71.194579  0.322355  0.946619   \n",
       "134  -99.305572 -0.161700 -0.986840  ...  76.888877  0.226840  0.973932   \n",
       "\n",
       "         tg_3  delay_1  delay_2  delay_3  delay_12  delay_13  delay_23  \n",
       "50   5.481882        5        4        2         1         3         2  \n",
       "51   3.468504        5        4        2         1         3         2  \n",
       "69   4.126111        5        4        2         1         3         2  \n",
       "114  2.936570        5        4        2         1         3         2  \n",
       "134  4.293468        5        4        2         1         3         2  \n",
       "\n",
       "[5 rows x 21 columns]"
      ]
     },
     "execution_count": 134,
     "metadata": {},
     "output_type": "execute_result"
    }
   ],
   "source": [
    "fingerprint = pd.read_csv('./Test/Outdoor_Test.csv')\n",
    "for idx, point in fingerprint.iterrows():\n",
    "    CDB_Reduced = CDB_ReducedByPDs(point['delay_1'], point['delay_2'], point['delay_3'],point['delay_12'], point['delay_13'], point['delay_23'], X_train)\n",
    "CDB_Reduced.head()"
   ]
  },
  {
   "cell_type": "code",
   "execution_count": null,
   "metadata": {},
   "outputs": [],
   "source": []
  },
  {
   "cell_type": "code",
   "execution_count": null,
   "metadata": {},
   "outputs": [],
   "source": []
  },
  {
   "cell_type": "code",
   "execution_count": null,
   "metadata": {},
   "outputs": [],
   "source": []
  },
  {
   "cell_type": "code",
   "execution_count": 45,
   "metadata": {},
   "outputs": [
    {
     "data": {
      "text/plain": [
       "['rssi_1_1',\n",
       " 'rssi_1_2',\n",
       " 'rssi_1_3',\n",
       " 'rssi_2_1',\n",
       " 'rssi_2_2',\n",
       " 'rssi_2_3',\n",
       " 'rssi_3_1',\n",
       " 'rssi_3_2',\n",
       " 'rssi_3_3']"
      ]
     },
     "execution_count": 45,
     "metadata": {},
     "output_type": "execute_result"
    }
   ],
   "source": [
    "casa = [\"rssi_1_1\",\"rssi_1_2\",\"rssi_1_3\",\"rssi_2_1\",\"rssi_2_2\",\"rssi_2_3\",\"rssi_3_1\",\"rssi_3_2\",\"rssi_3_3\",\"delay_1\",\"delay_2\",\"delay_3\",\"delay_12\",\"delay_13\",\"delay_23\",\"idx\"]\n",
    "casa[:-7]"
   ]
  },
  {
   "cell_type": "code",
   "execution_count": 47,
   "metadata": {},
   "outputs": [
    {
     "data": {
      "text/plain": [
       "['rssi_1_1',\n",
       " 'rssi_1_2',\n",
       " 'rssi_1_3',\n",
       " 'rssi_2_1',\n",
       " 'rssi_2_2',\n",
       " 'rssi_2_3',\n",
       " 'rssi_3_1',\n",
       " 'rssi_3_2',\n",
       " 'rssi_3_3']"
      ]
     },
     "execution_count": 47,
     "metadata": {},
     "output_type": "execute_result"
    }
   ],
   "source": [
    "casa = [\"rssi_1_1\",\"rssi_1_2\",\"rssi_1_3\",\"rssi_2_1\",\"rssi_2_2\",\"rssi_2_3\",\"rssi_3_1\",\"rssi_3_2\",\"rssi_3_3\",\"delay_1\",\"delay_2\",\"delay_3\",\"delay_12\",\"delay_13\",\"delay_23\",\"lat\",\"lon\"]\n",
    "casa[:-8]"
   ]
  },
  {
   "cell_type": "code",
   "execution_count": null,
   "metadata": {},
   "outputs": [],
   "source": []
  },
  {
   "cell_type": "code",
   "execution_count": null,
   "metadata": {},
   "outputs": [],
   "source": []
  }
 ],
 "metadata": {
  "kernelspec": {
   "display_name": "Python 3",
   "language": "python",
   "name": "python3"
  },
  "language_info": {
   "codemirror_mode": {
    "name": "ipython",
    "version": 3
   },
   "file_extension": ".py",
   "mimetype": "text/x-python",
   "name": "python",
   "nbconvert_exporter": "python",
   "pygments_lexer": "ipython3",
   "version": "3.7.3"
  }
 },
 "nbformat": 4,
 "nbformat_minor": 2
}
