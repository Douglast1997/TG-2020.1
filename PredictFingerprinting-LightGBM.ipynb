{
 "cells": [
  {
   "cell_type": "markdown",
   "metadata": {},
   "source": [
    "# Utiliza o CDB com ML para predizer a localização (lat,lon) das EM:"
   ]
  },
  {
   "cell_type": "code",
   "execution_count": 10,
   "metadata": {},
   "outputs": [],
   "source": [
    "import pandas as pd\n",
    "import numpy as np\n",
    "import math\n",
    "import os\n",
    "from tqdm import tqdm\n",
    "%run Imports.ipynb\n",
    "%run UtilsLightGBMFingerPrinting.ipynb"
   ]
  },
  {
   "cell_type": "code",
   "execution_count": 11,
   "metadata": {},
   "outputs": [],
   "source": [
    "FILES = [\n",
    "    # Arquivos de Teste Outdoor Só possui RSSIs, delays, idx\n",
    "    #(7,'./Test/Outdoor_Test.csv'), # Usar CDB_20_LightGBM_Complete\n",
    "    #(8,'./Test/Indoor_Test-fold.csv'), # Usar CDB_20_LightGBM_Complete # \n",
    "    #(9,'./Test/Indoor-Outdoor_Test.csv'), # Usar CDB_20_LightGBM_Complete\n",
    "    \n",
    "    (7,'./k-fold-LightGBM/Test-LightGBM-Outdoor-Fold1.csv'), # Usar CDB_20_LightGBM_Complete_k-fold \n",
    "    (8,'./k-fold-LightGBM/Indoor_Test.csv'), # Usar CDB_20_LightGBM_Complete_k-fold\n",
    "    (9,'./k-fold-LightGBM/Test-LightGBM-Indoor-Outdoor-Fold1.csv') # Usar CDB_20_LightGBM_Complete_k-fold\n",
    "    \n",
    "    #(10,'./Test/Outdoor_Test.csv'), # Usar CDB_20_SVR_Complete\n",
    "    #(11,'./Test/Indoor_Test-fold.csv'), # Usar CDB_20_SVR_Complete \n",
    "    #(12,'./Test/Indoor-Outdoor_Test.csv') # Usar CDB_20_SVR_Complete\n",
    "    \n",
    "    #(10,'./k-fold-SVR/Test-SVR-Outdoor-Fold4.csv'), # Usar CDB_20_SVR_Complete_k-fold \n",
    "    #(11,'./k-fold-SVR/Indoor_Test.csv'), # Usar CDB_20_SVR_Complete_k-fold\n",
    "    #(12,'./k-fold-SVR/Test-SVR-Indoor-Outdoor-Fold4.csv') # Usar CDB_20_SVR_Complete_k-fold\n",
    "]\n",
    "\n",
    "#TEST_DATABASE = \"./CDB/CDB_20_LightGBM_Complete.csv\"\n",
    "#TEST_DATABASE = \"./CDB/CDB_20_SVR_Complete.csv\"\n",
    "\n",
    "#TEST_DATABASE = \"./k-fold-SVR/CDB-Fold4-SVR.csv\"\n",
    "TEST_DATABASE = \"./k-fold-LightGBM/CDB-Fold1-LightGBM.csv\""
   ]
  },
  {
   "cell_type": "markdown",
   "metadata": {},
   "source": [
    "# Sem k-fold:"
   ]
  },
  {
   "cell_type": "code",
   "execution_count": 12,
   "metadata": {},
   "outputs": [
    {
     "name": "stderr",
     "output_type": "stream",
     "text": [
      "400it [00:12, 32.36it/s]\n",
      "400it [00:12, 32.03it/s]\n",
      "400it [00:12, 32.55it/s]\n"
     ]
    }
   ],
   "source": [
    "generate_theorical_results(FILES, TEST_DATABASE)"
   ]
  },
  {
   "cell_type": "code",
   "execution_count": 25,
   "metadata": {},
   "outputs": [
    {
     "data": {
      "text/plain": [
       "array([ 1,  2,  3,  4,  5,  6,  7,  8,  9, 10])"
      ]
     },
     "execution_count": 25,
     "metadata": {},
     "output_type": "execute_result"
    }
   ],
   "source": [
    "x = np.arange(1,11)\n",
    "x"
   ]
  },
  {
   "cell_type": "code",
   "execution_count": 81,
   "metadata": {},
   "outputs": [
    {
     "data": {
      "text/plain": [
       "['rssi_1_1',\n",
       " 'rssi_1_2',\n",
       " 'rssi_1_3',\n",
       " 'rssi_2_1',\n",
       " 'rssi_2_2',\n",
       " 'rssi_2_3',\n",
       " 'rssi_3_1',\n",
       " 'rssi_3_2',\n",
       " 'rssi_3_3']"
      ]
     },
     "execution_count": 81,
     "metadata": {},
     "output_type": "execute_result"
    }
   ],
   "source": [
    "point = [\"rssi_1_1\",\"rssi_1_2\",\"rssi_1_3\",\"rssi_2_1\",\"rssi_2_2\",\"rssi_2_3\",\"rssi_3_1\",\"rssi_3_2\",\"rssi_3_3\",\"delay_1\",\"delay_2\",\"delay_3\",\"delay_12\",\"delay_13\",\"delay_23\",\"idx\"]\n",
    "point[:-7]#-1"
   ]
  },
  {
   "cell_type": "code",
   "execution_count": 82,
   "metadata": {},
   "outputs": [
    {
     "data": {
      "text/plain": [
       "['rssi_1_1',\n",
       " 'rssi_1_2',\n",
       " 'rssi_1_3',\n",
       " 'rssi_2_1',\n",
       " 'rssi_2_2',\n",
       " 'rssi_2_3',\n",
       " 'rssi_3_1',\n",
       " 'rssi_3_2',\n",
       " 'rssi_3_3']"
      ]
     },
     "execution_count": 82,
     "metadata": {},
     "output_type": "execute_result"
    }
   ],
   "source": [
    "cdb = [\"rssi_1_1\",\"rssi_1_2\",\"rssi_1_3\",\"rssi_2_1\",\"rssi_2_2\",\"rssi_2_3\",\"rssi_3_1\",\"rssi_3_2\",\"rssi_3_3\",\"delay_1\",\"delay_2\",\"delay_3\",\"delay_12\",\"delay_13\",\"delay_23\",\"lat\",\"lon\"]\n",
    "cdb[:-8]#-2"
   ]
  },
  {
   "cell_type": "code",
   "execution_count": null,
   "metadata": {},
   "outputs": [],
   "source": []
  }
 ],
 "metadata": {
  "kernelspec": {
   "display_name": "Python 3",
   "language": "python",
   "name": "python3"
  },
  "language_info": {
   "codemirror_mode": {
    "name": "ipython",
    "version": 3
   },
   "file_extension": ".py",
   "mimetype": "text/x-python",
   "name": "python",
   "nbconvert_exporter": "python",
   "pygments_lexer": "ipython3",
   "version": "3.7.3"
  }
 },
 "nbformat": 4,
 "nbformat_minor": 2
}
