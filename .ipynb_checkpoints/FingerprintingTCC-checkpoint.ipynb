{
 "cells": [
  {
   "cell_type": "code",
   "execution_count": 1,
   "metadata": {},
   "outputs": [],
   "source": [
    "import pandas as pd\n",
    "import numpy as np\n",
    "import math\n",
    "import os\n",
    "from tqdm import tqdm\n",
    "from PyRadioLoc.Utils.GeoUtils import GeoUtils\n",
    "from PyRadioLoc.Pathloss.Models import Cost231HataModel\n",
    "from PyRadioLoc.Pathloss.Models import OkumuraHataModel\n",
    "import seaborn as sns"
   ]
  },
  {
   "cell_type": "code",
   "execution_count": 2,
   "metadata": {},
   "outputs": [],
   "source": [
    "data = pd.read_csv(\"./databasesTCC/Outdoor_X_train_90%.csv\")\n",
    "#data = pd.read_csv(\"./databasesTCC/meds_pandasTCC.csv\")"
   ]
  },
  {
   "cell_type": "code",
   "execution_count": 3,
   "metadata": {},
   "outputs": [
    {
     "data": {
      "text/plain": [
       "-8057.0"
      ]
     },
     "execution_count": 3,
     "metadata": {},
     "output_type": "execute_result"
    }
   ],
   "source": [
    "LAT_INI  = min(data['lat'])\n",
    "LAT_INI"
   ]
  },
  {
   "cell_type": "code",
   "execution_count": 4,
   "metadata": {},
   "outputs": [
    {
     "data": {
      "text/plain": [
       "-8.04642"
      ]
     },
     "execution_count": 4,
     "metadata": {},
     "output_type": "execute_result"
    }
   ],
   "source": [
    "LAT_FIN  = max(data['lat'])\n",
    "LAT_FIN"
   ]
  },
  {
   "cell_type": "code",
   "execution_count": 5,
   "metadata": {},
   "outputs": [
    {
     "data": {
      "text/plain": [
       "-34959.0"
      ]
     },
     "execution_count": 5,
     "metadata": {},
     "output_type": "execute_result"
    }
   ],
   "source": [
    "LONG_INI = min(data['lon'])\n",
    "LONG_INI"
   ]
  },
  {
   "cell_type": "code",
   "execution_count": 6,
   "metadata": {},
   "outputs": [
    {
     "data": {
      "text/plain": [
       "-34.94511"
      ]
     },
     "execution_count": 6,
     "metadata": {},
     "output_type": "execute_result"
    }
   ],
   "source": [
    "LONG_FIN = max(data['lon'])\n",
    "LONG_FIN"
   ]
  },
  {
   "cell_type": "markdown",
   "metadata": {},
   "source": [
    "# Gera grids 20x20, 30x30 e 40x40"
   ]
  },
  {
   "cell_type": "code",
   "execution_count": 19,
   "metadata": {},
   "outputs": [],
   "source": [
    "def generate_grids():\n",
    "    #LAT_INI  = min(data['lat'])\n",
    "    #LAT_FIN  = max(data['lat'])\n",
    "    #LONG_INI = min(data['lon'])\n",
    "    #LONG_FIN = max(data['lon'])\n",
    "    \n",
    "    LAT_INI  = -8.05955\n",
    "    LAT_FIN  = -8.04642\n",
    "    LONG_INI = -34.95985\n",
    "    LONG_FIN = -34.94511\n",
    "    \n",
    "    \n",
    "    delta_x = max(GeoUtils.distanceInKm(LAT_INI, LONG_INI, LAT_INI, LONG_FIN),\n",
    "                  GeoUtils.distanceInKm(LAT_FIN, LONG_INI, LAT_FIN, LONG_FIN))\n",
    "    delta_y = max(GeoUtils.distanceInKm(LAT_INI, LONG_INI, LAT_FIN, LONG_INI),\n",
    "                  GeoUtils.distanceInKm(LAT_INI, LONG_FIN, LAT_FIN, LONG_FIN))\n",
    "    R = [5, 10, 20, 30, 40]               # dimensoes de cada célula m x m\n",
    "\n",
    "    # Para cada um das dimensoes de R calcula uma matriz de fingerprint e salva e um csv \n",
    "    for num in R:    \n",
    "        n_cells_x = math.ceil((delta_x * 1000) / num)\n",
    "        n_cells_y = math.ceil((delta_y * 1000) / num)\n",
    "\n",
    "        inc_lat = (LAT_FIN - LAT_INI) / n_cells_x\n",
    "        inc_lng = (LONG_FIN - LONG_INI) / n_cells_y\n",
    "\n",
    "        result = []\n",
    "\n",
    "        for i in range(n_cells_x):\n",
    "            for j in range(n_cells_y):\n",
    "                lat = LAT_INI + i * inc_lat\n",
    "                lng = LONG_INI + j * inc_lng\n",
    "                result.append((lat, lng))\n",
    "\n",
    "        # salva para o CSV\n",
    "        fingerprint_map = pd.DataFrame(result, columns=['lat', 'lon'])\n",
    "        fingerprint_map.to_csv(\"./Grid/grid_{}.csv\".format(num), index=False)\n",
    "\n",
    "        print(n_cells_x, n_cells_y)"
   ]
  },
  {
   "cell_type": "code",
   "execution_count": 20,
   "metadata": {},
   "outputs": [
    {
     "name": "stdout",
     "output_type": "stream",
     "text": [
      "325 291\n",
      "163 146\n",
      "82 73\n",
      "55 49\n",
      "41 37\n"
     ]
    }
   ],
   "source": [
    "generate_grids()"
   ]
  },
  {
   "cell_type": "code",
   "execution_count": 17,
   "metadata": {},
   "outputs": [],
   "source": [
    "Grid = pd.read_csv(\"./Grid/grid_20.csv\")\n",
    "#sns.jointplot(x='lon', y='lat', data=Grid, height=40)"
   ]
  },
  {
   "cell_type": "markdown",
   "metadata": {},
   "source": [
    "# Calcular a distância do ponto para as ERBs"
   ]
  },
  {
   "cell_type": "code",
   "execution_count": 64,
   "metadata": {},
   "outputs": [],
   "source": [
    "def calculate_erb_rssi(fingerprint, erb):\n",
    "    \"\"\"\n",
    "    Calcula todos os valores de rssi de uma erb para todos os pontos de um fingerprint\n",
    "    \"\"\"\n",
    "    #rssi_list = []\n",
    "    #eirp = erb['Eirp']\n",
    "    dist_List =  []\n",
    "    lat_erb = erb['lat']\n",
    "    lon_erb = erb['lon']\n",
    "    rssiId = erb['RssiId']\n",
    "\n",
    "    for n, point in fingerprint.iterrows():\n",
    "        lat = point['lat']\n",
    "        lon = point['lon']\n",
    "        \n",
    "        distance = GeoUtils.distanceInKm(lat_erb, lon_erb, lat, lon)\n",
    "        dist_List.append(distance)\n",
    "    \n",
    "    return dist_List\n",
    "\n",
    "def generate_grid(erbs, fingerprint):\n",
    "    \"\"\"\n",
    "    Gera um fingerprint e retorna como dataFrame\n",
    "    \"\"\"\n",
    "    rssi_dict = {}\n",
    "    for idx, erb in tqdm(erbs.iterrows()):\n",
    "        rssiId = erb['RssiId']\n",
    "        rssi_dict[rssiId] = calculate_erb_rssi(fingerprint, erb)\n",
    "    grid = pd.DataFrame(rssi_dict)\n",
    "    return grid\n",
    "    \n",
    "def fingerprints_to_csv():\n",
    "    \"\"\"\n",
    "    Gera todos os fingerprints e salva em csv\n",
    "    \"\"\"\n",
    "    #dims = [5, 10, 20, 30, 40]\n",
    "    dims = [20]\n",
    "    \n",
    "    erbs = pd.read_csv(\"./databasesTCC/BtsTCC.csv\")\n",
    "    for dim in tqdm(dims):\n",
    "        fingerprint = pd.read_csv(\"./Grid/grid_{}.csv\".format(dim))\n",
    "        grid = generate_grid(erbs, fingerprint)\n",
    "        grid.insert(0, 'lat', fingerprint['lat'], True)\n",
    "        grid.insert(1, 'lon', fingerprint['lon'], True)\n",
    "        grid.rename({\"rssi_1_1\": \"dist_1\"}, axis=1, inplace=True)\n",
    "        grid.rename({\"rssi_2_1\": \"dist_2\"}, axis=1, inplace=True)\n",
    "        grid.rename({\"rssi_3_1\": \"dist_3\"}, axis=1, inplace=True)\n",
    "        grid.to_csv(\"./CDB/CDB_{}.csv\".format(dim), index=False)"
   ]
  },
  {
   "cell_type": "code",
   "execution_count": 65,
   "metadata": {},
   "outputs": [
    {
     "name": "stderr",
     "output_type": "stream",
     "text": [
      "  0%|                                                                                            | 0/1 [00:00<?, ?it/s]\n",
      "0it [00:00, ?it/s]\n",
      "1it [00:02,  2.83s/it]\n",
      "2it [00:05,  2.78s/it]\n",
      "100%|████████████████████████████████████████████████████████████████████████████████████| 1/1 [00:08<00:00,  8.23s/it]\n"
     ]
    }
   ],
   "source": [
    "# gera os fingerprints que estão em dims\n",
    "fingerprints_to_csv()"
   ]
  },
  {
   "cell_type": "code",
   "execution_count": 5,
   "metadata": {},
   "outputs": [
    {
     "data": {
      "text/html": [
       "<div>\n",
       "<style scoped>\n",
       "    .dataframe tbody tr th:only-of-type {\n",
       "        vertical-align: middle;\n",
       "    }\n",
       "\n",
       "    .dataframe tbody tr th {\n",
       "        vertical-align: top;\n",
       "    }\n",
       "\n",
       "    .dataframe thead th {\n",
       "        text-align: right;\n",
       "    }\n",
       "</style>\n",
       "<table border=\"1\" class=\"dataframe\">\n",
       "  <thead>\n",
       "    <tr style=\"text-align: right;\">\n",
       "      <th></th>\n",
       "      <th>lat</th>\n",
       "      <th>lon</th>\n",
       "      <th>dist_1</th>\n",
       "      <th>dist_2</th>\n",
       "      <th>dist_3</th>\n",
       "      <th>delay_1</th>\n",
       "      <th>delay_2</th>\n",
       "      <th>delay_3</th>\n",
       "      <th>delay_12</th>\n",
       "      <th>delay_13</th>\n",
       "      <th>delay_23</th>\n",
       "    </tr>\n",
       "  </thead>\n",
       "  <tbody>\n",
       "    <tr>\n",
       "      <th>0</th>\n",
       "      <td>-8.05955</td>\n",
       "      <td>-34.959850</td>\n",
       "      <td>1.982699</td>\n",
       "      <td>1.828006</td>\n",
       "      <td>0.514838</td>\n",
       "      <td>8.0</td>\n",
       "      <td>8.0</td>\n",
       "      <td>2.0</td>\n",
       "      <td>0.0</td>\n",
       "      <td>6.0</td>\n",
       "      <td>6.0</td>\n",
       "    </tr>\n",
       "    <tr>\n",
       "      <th>1</th>\n",
       "      <td>-8.05955</td>\n",
       "      <td>-34.959648</td>\n",
       "      <td>1.973087</td>\n",
       "      <td>1.807658</td>\n",
       "      <td>0.505950</td>\n",
       "      <td>8.0</td>\n",
       "      <td>8.0</td>\n",
       "      <td>2.0</td>\n",
       "      <td>0.0</td>\n",
       "      <td>6.0</td>\n",
       "      <td>6.0</td>\n",
       "    </tr>\n",
       "    <tr>\n",
       "      <th>2</th>\n",
       "      <td>-8.05955</td>\n",
       "      <td>-34.959446</td>\n",
       "      <td>1.963680</td>\n",
       "      <td>1.787356</td>\n",
       "      <td>0.497899</td>\n",
       "      <td>8.0</td>\n",
       "      <td>8.0</td>\n",
       "      <td>2.0</td>\n",
       "      <td>0.0</td>\n",
       "      <td>6.0</td>\n",
       "      <td>6.0</td>\n",
       "    </tr>\n",
       "    <tr>\n",
       "      <th>3</th>\n",
       "      <td>-8.05955</td>\n",
       "      <td>-34.959244</td>\n",
       "      <td>1.954482</td>\n",
       "      <td>1.767100</td>\n",
       "      <td>0.490726</td>\n",
       "      <td>8.0</td>\n",
       "      <td>8.0</td>\n",
       "      <td>2.0</td>\n",
       "      <td>0.0</td>\n",
       "      <td>6.0</td>\n",
       "      <td>6.0</td>\n",
       "    </tr>\n",
       "    <tr>\n",
       "      <th>4</th>\n",
       "      <td>-8.05955</td>\n",
       "      <td>-34.959042</td>\n",
       "      <td>1.945494</td>\n",
       "      <td>1.746894</td>\n",
       "      <td>0.484471</td>\n",
       "      <td>8.0</td>\n",
       "      <td>7.0</td>\n",
       "      <td>2.0</td>\n",
       "      <td>1.0</td>\n",
       "      <td>6.0</td>\n",
       "      <td>5.0</td>\n",
       "    </tr>\n",
       "  </tbody>\n",
       "</table>\n",
       "</div>"
      ],
      "text/plain": [
       "       lat        lon    dist_1    dist_2    dist_3  delay_1  delay_2  \\\n",
       "0 -8.05955 -34.959850  1.982699  1.828006  0.514838      8.0      8.0   \n",
       "1 -8.05955 -34.959648  1.973087  1.807658  0.505950      8.0      8.0   \n",
       "2 -8.05955 -34.959446  1.963680  1.787356  0.497899      8.0      8.0   \n",
       "3 -8.05955 -34.959244  1.954482  1.767100  0.490726      8.0      8.0   \n",
       "4 -8.05955 -34.959042  1.945494  1.746894  0.484471      8.0      7.0   \n",
       "\n",
       "   delay_3  delay_12  delay_13  delay_23  \n",
       "0      2.0       0.0       6.0       6.0  \n",
       "1      2.0       0.0       6.0       6.0  \n",
       "2      2.0       0.0       6.0       6.0  \n",
       "3      2.0       0.0       6.0       6.0  \n",
       "4      2.0       1.0       6.0       5.0  "
      ]
     },
     "execution_count": 5,
     "metadata": {},
     "output_type": "execute_result"
    }
   ],
   "source": [
    "CDB = pd.read_csv(\"./CDB/CDB_20.csv\")\n",
    "CDB[\"delay_1\"] = CDB[\"dist_1\"].apply(lambda X:int(np.round(x/0.234))) #Dividir por 234 metros\n",
    "CDB[\"delay_2\"] = CDB[\"dist_2\"].apply(lambda X:int(np.round(x/0.234))) \n",
    "CDB[\"delay_3\"] = CDB[\"dist_3\"].apply(lambda X:int(np.round(x/0.234))) \n",
    "#CDB[\"delay_1\"] = round(CDB[\"dist_1\"]/0.234) #Dividir por 234 metros\n",
    "#CDB[\"delay_2\"] = round(CDB[\"dist_2\"]/0.234)\n",
    "#CDB[\"delay_3\"] = round(CDB[\"dist_3\"]/0.234)\n",
    "CDB[\"delay_12\"] = CDB[\"delay_1\"] - CDB[\"delay_2\"]\n",
    "CDB[\"delay_13\"] = CDB[\"delay_1\"] - CDB[\"delay_3\"]\n",
    "CDB[\"delay_23\"] = CDB[\"delay_2\"] - CDB[\"delay_3\"]\n",
    "CDB.to_csv(\"./CDB/CDB_20.csv\", index=False)\n",
    "CDB.head()"
   ]
  },
  {
   "cell_type": "code",
   "execution_count": null,
   "metadata": {},
   "outputs": [],
   "source": [
    "Angulo = GeoUtils.AzimuthAtoB(8.04642,-34.94511,8.05642,-34.04511)\n",
    "Angulo"
   ]
  },
  {
   "cell_type": "code",
   "execution_count": null,
   "metadata": {},
   "outputs": [],
   "source": [
    "def PutAzimuthsFromBTss(df_bts, df_meds):\n",
    "    \n",
    "    lat1, lon1 = df_bts['lat'][0], df_bts['lon'][0] # Lat, Lon ERB1\n",
    "    lat2, lon2 = df_bts['lat'][1], df_bts['lon'][1] # Lat, Lon ERB2\n",
    "    lat3, lon3 = df_bts['lat'][2], df_bts['lon'][2] # Lat, Lon ERB3\n",
    "    lats, lons = np.array(df_meds[['lat']]), np.array(df_meds[['lon']])\n",
    "    \n",
    "    df_meds['ang_1'] = GeoUtils.AzimuthAtoB(lat1,lon1,lats,lon)\n",
    "    df_meds['cos_1'] = np.cos(np.deg2rad(df_meds['ang_1']))\n",
    "    df_meds['sin_1'] = np.sin(np.deg2rad(df_meds['ang_1']))\n",
    "    df_meds['tg_1'] = np.cos(np.deg2rad(df_meds['ang_1']))\n",
    "    \n",
    "    "
   ]
  },
  {
   "cell_type": "markdown",
   "metadata": {},
   "source": [
    "# Aplica o modelo teorico de Cost231HataModel e gera os fingerprints"
   ]
  },
  {
   "cell_type": "code",
   "execution_count": 5,
   "metadata": {},
   "outputs": [],
   "source": [
    "FREQ_ERBS = 1800\n",
    "MODEL = Cost231HataModel(FREQ_ERBS)"
   ]
  },
  {
   "cell_type": "code",
   "execution_count": 6,
   "metadata": {},
   "outputs": [],
   "source": [
    "def calculate_erb_rssi(fingerprint, erb, model):\n",
    "    \"\"\"\n",
    "    Calcula todos os valores de rssi de uma erb para todos os pontos de um fingerprint\n",
    "    \"\"\"\n",
    "    rssi_list = []\n",
    "    eirp = erb['Eirp']\n",
    "    lat_erb = erb['lat']\n",
    "    lon_erb = erb['lon']\n",
    "    rssiId = erb['RssiId']\n",
    "\n",
    "    for n, point in fingerprint.iterrows():\n",
    "        lat = point['lat']\n",
    "        lon = point['lon']\n",
    "        \n",
    "        distance = GeoUtils.distanceInKm(lat_erb, lon_erb, lat, lon)\n",
    "        pathloss = model.pathloss(distance)\n",
    "        rssi = eirp - pathloss\n",
    "        rssi_list.append(rssi)\n",
    "    \n",
    "    return rssi_list\n",
    "\n",
    "def generate_grid(erbs, fingerprint):\n",
    "    \"\"\"\n",
    "    Gera um fingerprint e retorna como dataFrame\n",
    "    \"\"\"\n",
    "    rssi_dict = {}\n",
    "    for idx, erb in tqdm(erbs.iterrows()):\n",
    "        rssiId = erb['RssiId']\n",
    "        rssi_dict[rssiId] = calculate_erb_rssi(fingerprint, erb, MODEL)\n",
    "    grid = pd.DataFrame(rssi_dict)\n",
    "    return grid\n",
    "    \n",
    "def fingerprints_to_csv():\n",
    "    \"\"\"\n",
    "    Gera todos os fingerprints e salva em csv\n",
    "    \"\"\"\n",
    "    dims = [5, 10, 20, 30, 40]\n",
    "    erbs = pd.read_csv(\"./databases/Bts.csv\")\n",
    "    for dim in tqdm(dims):\n",
    "        fingerprint = pd.read_csv(\"./Grid/grid_{}.csv\".format(dim))\n",
    "        grid = generate_grid(erbs, fingerprint)\n",
    "        grid.insert(0, 'lat', fingerprint['lat'], True)\n",
    "        grid.insert(1, 'lon', fingerprint['lon'], True)\n",
    "        grid.to_csv(\"./Fingerprint/fingerprint_{}.csv\".format(dim), index=False)"
   ]
  },
  {
   "cell_type": "code",
   "execution_count": 7,
   "metadata": {},
   "outputs": [
    {
     "name": "stderr",
     "output_type": "stream",
     "text": [
      "  0%|                                                                                            | 0/5 [00:00<?, ?it/s]\n",
      "0it [00:00, ?it/s]\n",
      "1it [00:48, 48.72s/it]\n",
      "2it [01:37, 48.71s/it]\n",
      "3it [02:26, 48.95s/it]\n",
      "4it [03:10, 47.25s/it]\n",
      "5it [03:57, 47.17s/it]\n",
      "6it [04:43, 47.05s/it]\n",
      "7it [05:28, 46.25s/it]\n",
      "8it [06:12, 45.49s/it]\n",
      " 20%|████████████████▌                                                                  | 1/5 [07:00<28:01, 420.40s/it]\n",
      "0it [00:00, ?it/s]\n",
      "1it [00:11, 11.79s/it]\n",
      "2it [00:23, 11.78s/it]\n",
      "3it [00:34, 11.64s/it]\n",
      "4it [00:46, 11.51s/it]\n",
      "5it [00:57, 11.47s/it]\n",
      "6it [01:08, 11.41s/it]\n",
      "7it [01:19, 11.31s/it]\n",
      "8it [01:30, 11.23s/it]\n",
      " 40%|█████████████████████████████████▏                                                 | 2/5 [08:43<16:15, 325.16s/it]\n",
      "0it [00:00, ?it/s]\n",
      "1it [00:02,  2.99s/it]\n",
      "2it [00:05,  2.99s/it]\n",
      "3it [00:08,  2.98s/it]\n",
      "4it [00:11,  2.95s/it]\n",
      "5it [00:14,  2.92s/it]\n",
      "6it [00:17,  2.89s/it]\n",
      "7it [00:20,  2.86s/it]\n",
      "8it [00:22,  2.79s/it]\n",
      " 60%|█████████████████████████████████████████████████▊                                 | 3/5 [09:09<07:50, 235.42s/it]\n",
      "0it [00:00, ?it/s]\n",
      "1it [00:01,  1.35s/it]\n",
      "2it [00:02,  1.35s/it]\n",
      "3it [00:04,  1.34s/it]\n",
      "4it [00:05,  1.33s/it]\n",
      "5it [00:06,  1.32s/it]\n",
      "6it [00:07,  1.31s/it]\n",
      "7it [00:09,  1.29s/it]\n",
      "8it [00:10,  1.28s/it]\n",
      " 80%|██████████████████████████████████████████████████████████████████▍                | 4/5 [09:21<02:48, 168.33s/it]\n",
      "0it [00:00, ?it/s]\n",
      "1it [00:00,  1.33it/s]\n",
      "2it [00:01,  1.32it/s]\n",
      "3it [00:02,  1.32it/s]\n",
      "4it [00:03,  1.33it/s]\n",
      "5it [00:03,  1.35it/s]\n",
      "6it [00:04,  1.35it/s]\n",
      "7it [00:05,  1.36it/s]\n",
      "8it [00:05,  1.37it/s]\n",
      "100%|███████████████████████████████████████████████████████████████████████████████████| 5/5 [09:27<00:00, 119.84s/it]\n"
     ]
    }
   ],
   "source": [
    "# gera os fingerprints que estão em dims\n",
    "fingerprints_to_csv()"
   ]
  },
  {
   "cell_type": "code",
   "execution_count": null,
   "metadata": {},
   "outputs": [],
   "source": []
  }
 ],
 "metadata": {
  "kernelspec": {
   "display_name": "Python 3",
   "language": "python",
   "name": "python3"
  },
  "language_info": {
   "codemirror_mode": {
    "name": "ipython",
    "version": 3
   },
   "file_extension": ".py",
   "mimetype": "text/x-python",
   "name": "python",
   "nbconvert_exporter": "python",
   "pygments_lexer": "ipython3",
   "version": "3.7.3"
  }
 },
 "nbformat": 4,
 "nbformat_minor": 2
}
