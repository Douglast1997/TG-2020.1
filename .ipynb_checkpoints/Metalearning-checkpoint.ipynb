{
 "cells": [
  {
   "cell_type": "code",
   "execution_count": 43,
   "metadata": {},
   "outputs": [],
   "source": [
    "%run Imports.ipynb"
   ]
  },
  {
   "cell_type": "markdown",
   "metadata": {},
   "source": [
    "# Arquivo de teste: Outdoor_X_test_10% Apenas dados Outdoor"
   ]
  },
  {
   "cell_type": "code",
   "execution_count": 44,
   "metadata": {},
   "outputs": [
    {
     "data": {
      "text/html": [
       "<div>\n",
       "<style scoped>\n",
       "    .dataframe tbody tr th:only-of-type {\n",
       "        vertical-align: middle;\n",
       "    }\n",
       "\n",
       "    .dataframe tbody tr th {\n",
       "        vertical-align: top;\n",
       "    }\n",
       "\n",
       "    .dataframe thead th {\n",
       "        text-align: right;\n",
       "    }\n",
       "</style>\n",
       "<table border=\"1\" class=\"dataframe\">\n",
       "  <thead>\n",
       "    <tr style=\"text-align: right;\">\n",
       "      <th></th>\n",
       "      <th>dist_1</th>\n",
       "      <th>dist_2</th>\n",
       "      <th>dist_3</th>\n",
       "      <th>ang_1</th>\n",
       "      <th>cos_1</th>\n",
       "      <th>sin_1</th>\n",
       "      <th>tg_1</th>\n",
       "      <th>ang_2</th>\n",
       "      <th>cos_2</th>\n",
       "      <th>sin_2</th>\n",
       "      <th>...</th>\n",
       "      <th>ang_3</th>\n",
       "      <th>cos_3</th>\n",
       "      <th>sin_3</th>\n",
       "      <th>tg_3</th>\n",
       "      <th>delay_1</th>\n",
       "      <th>delay_2</th>\n",
       "      <th>delay_3</th>\n",
       "      <th>delay_12</th>\n",
       "      <th>delay_13</th>\n",
       "      <th>delay_23</th>\n",
       "    </tr>\n",
       "  </thead>\n",
       "  <tbody>\n",
       "    <tr>\n",
       "      <th>0</th>\n",
       "      <td>1.381194</td>\n",
       "      <td>1.169714</td>\n",
       "      <td>0.327354</td>\n",
       "      <td>-166.430115</td>\n",
       "      <td>-0.972084</td>\n",
       "      <td>-0.234631</td>\n",
       "      <td>0.241369</td>\n",
       "      <td>-104.623113</td>\n",
       "      <td>-0.252460</td>\n",
       "      <td>-0.967607</td>\n",
       "      <td>...</td>\n",
       "      <td>94.651068</td>\n",
       "      <td>-0.081087</td>\n",
       "      <td>0.996707</td>\n",
       "      <td>-12.291773</td>\n",
       "      <td>6</td>\n",
       "      <td>5</td>\n",
       "      <td>1</td>\n",
       "      <td>1</td>\n",
       "      <td>5</td>\n",
       "      <td>4</td>\n",
       "    </tr>\n",
       "    <tr>\n",
       "      <th>1</th>\n",
       "      <td>0.664883</td>\n",
       "      <td>0.676311</td>\n",
       "      <td>1.429879</td>\n",
       "      <td>132.739565</td>\n",
       "      <td>-0.678667</td>\n",
       "      <td>0.734446</td>\n",
       "      <td>-1.082189</td>\n",
       "      <td>-28.186241</td>\n",
       "      <td>0.881417</td>\n",
       "      <td>-0.472339</td>\n",
       "      <td>...</td>\n",
       "      <td>52.782734</td>\n",
       "      <td>0.604839</td>\n",
       "      <td>0.796348</td>\n",
       "      <td>1.316627</td>\n",
       "      <td>3</td>\n",
       "      <td>3</td>\n",
       "      <td>6</td>\n",
       "      <td>0</td>\n",
       "      <td>-3</td>\n",
       "      <td>-3</td>\n",
       "    </tr>\n",
       "    <tr>\n",
       "      <th>2</th>\n",
       "      <td>0.983289</td>\n",
       "      <td>0.359384</td>\n",
       "      <td>1.459081</td>\n",
       "      <td>136.414634</td>\n",
       "      <td>-0.724348</td>\n",
       "      <td>0.689435</td>\n",
       "      <td>-0.951800</td>\n",
       "      <td>-21.180938</td>\n",
       "      <td>0.932444</td>\n",
       "      <td>-0.361314</td>\n",
       "      <td>...</td>\n",
       "      <td>65.553328</td>\n",
       "      <td>0.413846</td>\n",
       "      <td>0.910347</td>\n",
       "      <td>2.199723</td>\n",
       "      <td>4</td>\n",
       "      <td>2</td>\n",
       "      <td>6</td>\n",
       "      <td>2</td>\n",
       "      <td>-2</td>\n",
       "      <td>-4</td>\n",
       "    </tr>\n",
       "    <tr>\n",
       "      <th>3</th>\n",
       "      <td>1.232941</td>\n",
       "      <td>0.412945</td>\n",
       "      <td>1.072575</td>\n",
       "      <td>160.520250</td>\n",
       "      <td>-0.942759</td>\n",
       "      <td>0.333474</td>\n",
       "      <td>-0.353721</td>\n",
       "      <td>-106.173062</td>\n",
       "      <td>-0.278540</td>\n",
       "      <td>-0.960425</td>\n",
       "      <td>...</td>\n",
       "      <td>81.760284</td>\n",
       "      <td>0.143315</td>\n",
       "      <td>0.989677</td>\n",
       "      <td>6.905608</td>\n",
       "      <td>5</td>\n",
       "      <td>2</td>\n",
       "      <td>5</td>\n",
       "      <td>3</td>\n",
       "      <td>0</td>\n",
       "      <td>-3</td>\n",
       "    </tr>\n",
       "    <tr>\n",
       "      <th>4</th>\n",
       "      <td>1.062763</td>\n",
       "      <td>0.390264</td>\n",
       "      <td>1.127756</td>\n",
       "      <td>156.464321</td>\n",
       "      <td>-0.916812</td>\n",
       "      <td>0.399320</td>\n",
       "      <td>-0.435553</td>\n",
       "      <td>-79.220382</td>\n",
       "      <td>0.187032</td>\n",
       "      <td>-0.982354</td>\n",
       "      <td>...</td>\n",
       "      <td>72.361108</td>\n",
       "      <td>0.303017</td>\n",
       "      <td>0.952985</td>\n",
       "      <td>3.144991</td>\n",
       "      <td>5</td>\n",
       "      <td>2</td>\n",
       "      <td>5</td>\n",
       "      <td>3</td>\n",
       "      <td>0</td>\n",
       "      <td>-3</td>\n",
       "    </tr>\n",
       "  </tbody>\n",
       "</table>\n",
       "<p>5 rows × 21 columns</p>\n",
       "</div>"
      ],
      "text/plain": [
       "     dist_1    dist_2    dist_3       ang_1     cos_1     sin_1      tg_1  \\\n",
       "0  1.381194  1.169714  0.327354 -166.430115 -0.972084 -0.234631  0.241369   \n",
       "1  0.664883  0.676311  1.429879  132.739565 -0.678667  0.734446 -1.082189   \n",
       "2  0.983289  0.359384  1.459081  136.414634 -0.724348  0.689435 -0.951800   \n",
       "3  1.232941  0.412945  1.072575  160.520250 -0.942759  0.333474 -0.353721   \n",
       "4  1.062763  0.390264  1.127756  156.464321 -0.916812  0.399320 -0.435553   \n",
       "\n",
       "        ang_2     cos_2     sin_2  ...      ang_3     cos_3     sin_3  \\\n",
       "0 -104.623113 -0.252460 -0.967607  ...  94.651068 -0.081087  0.996707   \n",
       "1  -28.186241  0.881417 -0.472339  ...  52.782734  0.604839  0.796348   \n",
       "2  -21.180938  0.932444 -0.361314  ...  65.553328  0.413846  0.910347   \n",
       "3 -106.173062 -0.278540 -0.960425  ...  81.760284  0.143315  0.989677   \n",
       "4  -79.220382  0.187032 -0.982354  ...  72.361108  0.303017  0.952985   \n",
       "\n",
       "        tg_3  delay_1  delay_2  delay_3  delay_12  delay_13  delay_23  \n",
       "0 -12.291773        6        5        1         1         5         4  \n",
       "1   1.316627        3        3        6         0        -3        -3  \n",
       "2   2.199723        4        2        6         2        -2        -4  \n",
       "3   6.905608        5        2        5         3         0        -3  \n",
       "4   3.144991        5        2        5         3         0        -3  \n",
       "\n",
       "[5 rows x 21 columns]"
      ]
     },
     "execution_count": 44,
     "metadata": {},
     "output_type": "execute_result"
    }
   ],
   "source": [
    "# X_test Outdoor X_test 10%\n",
    "X_test = pd.read_csv(\"databasesTCC/Outdoor_X_test_10%.csv\")\n",
    "X_test = X_test.drop(\"lat\", axis = 1)\n",
    "X_test = X_test.drop(\"lon\", axis = 1)\n",
    "idx_test = X_test[\"idx\"]\n",
    "X_test = X_test.drop(\"idx\", axis = 1)\n",
    "X_test.head()"
   ]
  },
  {
   "cell_type": "markdown",
   "metadata": {},
   "source": [
    "# Geração dos RSSIs do CDB com LightGBM do que já foi construído:"
   ]
  },
  {
   "cell_type": "code",
   "execution_count": 49,
   "metadata": {},
   "outputs": [],
   "source": [
    "import time\n",
    "import tracemalloc"
   ]
  },
  {
   "cell_type": "code",
   "execution_count": 50,
   "metadata": {
    "scrolled": true
   },
   "outputs": [],
   "source": [
    "df_meds_CDB = pd.read_csv(\"./CDB/CDB_20.csv\")#20\n",
    "df_meds_CDB = df_meds_CDB.drop(\"lat\", axis = 1)\n",
    "df_meds_CDB = df_meds_CDB.drop(\"lon\", axis = 1)\n",
    "tracemalloc.start()\n",
    "T_Init = time.process_time() \n",
    "df_meds_CDB = y_pred_write_File(X_train, y_train_rssi_1_1, y_train_rssi_1_2, y_train_rssi_1_3, y_train_rssi_2_1, y_train_rssi_2_2, y_train_rssi_2_3, y_train_rssi_3_1, y_train_rssi_3_2, y_train_rssi_3_3, df_meds_CDB, 2)\n",
    "T_Finish = time.process_time()\n",
    "T_Train = T_Finish - T_Init\n",
    "df_meds_CDB.to_csv(\"./CDB/CDB_20_LightGBM.csv\", index=False)\n",
    "#df_meds_CDB.head()"
   ]
  },
  {
   "cell_type": "code",
   "execution_count": 51,
   "metadata": {},
   "outputs": [
    {
     "data": {
      "text/plain": [
       "8.484375"
      ]
     },
     "execution_count": 51,
     "metadata": {},
     "output_type": "execute_result"
    }
   ],
   "source": [
    "T_Train"
   ]
  },
  {
   "cell_type": "code",
   "execution_count": 52,
   "metadata": {
    "scrolled": true
   },
   "outputs": [
    {
     "name": "stdout",
     "output_type": "stream",
     "text": [
      "Current memory usage is 2.162661MB; Peak was 15.995198MB\n"
     ]
    }
   ],
   "source": [
    "df_meds_CDB = pd.read_csv(\"./CDB/CDB_20.csv\")\n",
    "df_meds_CDB_LightGBM = pd.read_csv(\"./CDB/CDB_20_LightGBM.csv\")\n",
    "df_meds_CDB_LightGBM['delay_1'] = df_meds_CDB['delay_1']\n",
    "df_meds_CDB_LightGBM['delay_2'] = df_meds_CDB['delay_2']\n",
    "df_meds_CDB_LightGBM['delay_3'] = df_meds_CDB['delay_3']\n",
    "df_meds_CDB_LightGBM['delay_12'] = df_meds_CDB['delay_12']\n",
    "df_meds_CDB_LightGBM['delay_13'] = df_meds_CDB['delay_13']\n",
    "df_meds_CDB_LightGBM['delay_23'] = df_meds_CDB['delay_23']\n",
    "df_meds_CDB_LightGBM['lat'] = df_meds_CDB['lat']\n",
    "df_meds_CDB_LightGBM['lon'] = df_meds_CDB['lon']\n",
    "df_meds_CDB_LightGBM.to_csv(\"./CDB/CDB_20_LightGBM_Complete.csv\", index=False)\n",
    "#df_meds_CDB_LightGBM.head()\n",
    "current, peak = tracemalloc.get_traced_memory()\n",
    "print(f\"Current memory usage is {current / 10**6}MB; Peak was {peak / 10**6}MB\")\n",
    "tracemalloc.stop()"
   ]
  },
  {
   "cell_type": "markdown",
   "metadata": {},
   "source": [
    "# Geração dos RSSIs do CDB com SVR do que já foi construído:"
   ]
  },
  {
   "cell_type": "code",
   "execution_count": 40,
   "metadata": {},
   "outputs": [],
   "source": [
    "import time\n",
    "df_meds_CDB = pd.read_csv(\"./CDB/CDB_20.csv\")\n",
    "df_meds_CDB = df_meds_CDB.drop(\"lat\", axis = 1)\n",
    "df_meds_CDB = df_meds_CDB.drop(\"lon\", axis = 1)\n",
    "tracemalloc.start()\n",
    "T_Init = time.process_time() \n",
    "df_meds_CDB = y_pred_SVR(X_train, y_train_rssi_1_1, y_train_rssi_1_2, y_train_rssi_1_3, y_train_rssi_2_1, y_train_rssi_2_2, y_train_rssi_2_3, y_train_rssi_3_1, y_train_rssi_3_2, y_train_rssi_3_3, df_meds_CDB)\n",
    "T_Finish = time.process_time()\n",
    "T_Train = T_Finish - T_Init\n",
    "df_meds_CDB.to_csv(\"./CDB/CDB_20_SVR.csv\", index=False)\n",
    "#df_meds_CDB.head()"
   ]
  },
  {
   "cell_type": "code",
   "execution_count": 41,
   "metadata": {},
   "outputs": [
    {
     "data": {
      "text/plain": [
       "12.53125"
      ]
     },
     "execution_count": 41,
     "metadata": {},
     "output_type": "execute_result"
    }
   ],
   "source": [
    "T_Train"
   ]
  },
  {
   "cell_type": "code",
   "execution_count": 42,
   "metadata": {},
   "outputs": [
    {
     "name": "stdout",
     "output_type": "stream",
     "text": [
      "Current memory usage is 2.155572MB; Peak was 14.237401MB\n"
     ]
    }
   ],
   "source": [
    "df_meds_CDB = pd.read_csv(\"./CDB/CDB_20.csv\")\n",
    "df_meds_CDB_LightGBM = pd.read_csv(\"./CDB/CDB_20_SVR.csv\")\n",
    "df_meds_CDB_LightGBM['delay_1'] = df_meds_CDB['delay_1']\n",
    "df_meds_CDB_LightGBM['delay_2'] = df_meds_CDB['delay_2']\n",
    "df_meds_CDB_LightGBM['delay_3'] = df_meds_CDB['delay_3']\n",
    "df_meds_CDB_LightGBM['delay_12'] = df_meds_CDB['delay_12']\n",
    "df_meds_CDB_LightGBM['delay_13'] = df_meds_CDB['delay_13']\n",
    "df_meds_CDB_LightGBM['delay_23'] = df_meds_CDB['delay_23']\n",
    "df_meds_CDB_LightGBM['lat'] = df_meds_CDB['lat']\n",
    "df_meds_CDB_LightGBM['lon'] = df_meds_CDB['lon']\n",
    "df_meds_CDB_LightGBM.to_csv(\"./CDB/CDB_20_SVR_Complete.csv\", index=False)\n",
    "#df_meds_CDB_LightGBM.head()\n",
    "current, peak = tracemalloc.get_traced_memory()\n",
    "print(f\"Current memory usage is {current / 10**6}MB; Peak was {peak / 10**6}MB\")\n",
    "tracemalloc.stop()"
   ]
  },
  {
   "cell_type": "code",
   "execution_count": null,
   "metadata": {},
   "outputs": [],
   "source": []
  }
 ],
 "metadata": {
  "kernelspec": {
   "display_name": "Python 3",
   "language": "python",
   "name": "python3"
  },
  "language_info": {
   "codemirror_mode": {
    "name": "ipython",
    "version": 3
   },
   "file_extension": ".py",
   "mimetype": "text/x-python",
   "name": "python",
   "nbconvert_exporter": "python",
   "pygments_lexer": "ipython3",
   "version": "3.7.3"
  }
 },
 "nbformat": 4,
 "nbformat_minor": 2
}
