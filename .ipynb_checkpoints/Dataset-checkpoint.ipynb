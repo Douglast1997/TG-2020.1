{
 "cells": [
  {
   "cell_type": "code",
   "execution_count": 1,
   "metadata": {},
   "outputs": [],
   "source": [
    "import numpy as np\n",
    "import pandas as pd\n",
    "\n",
    "#df_data = pd.read_csv(\"databasesTCC/meds_pandas.csv\")\n",
    "df_data = pd.read_csv(\"./databasesTCC/meds_pandasTCCM.csv\")"
   ]
  },
  {
   "cell_type": "code",
   "execution_count": 2,
   "metadata": {},
   "outputs": [],
   "source": [
    "#Excecuta uma única vez\n",
    "#df_data = df_data.drop(['delta_1_12', 'delta_1_13', 'delta_1_23', 'delta_2_12', 'delta_2_13', 'delta_2_23', 'delta_3_12', 'delta_3_13', 'delta_3_23'], axis = 1)\n",
    "#df_data.to_csv(\"./databasesTCC/meds_pandas.csv\", index=False)"
   ]
  },
  {
   "cell_type": "code",
   "execution_count": 10,
   "metadata": {},
   "outputs": [
    {
     "data": {
      "text/plain": [
       "3064"
      ]
     },
     "execution_count": 10,
     "metadata": {},
     "output_type": "execute_result"
    }
   ],
   "source": [
    "#df_data = pd.read_csv(\"databasesTCC/meds_pandas.csv\")\n",
    "df_data = pd.read_csv(\"meds_pandas_test.csv\")\n",
    "\n",
    "index = ['indoor', 'outdoor']\n",
    "\n",
    "# Select data where indoor feature equals True and False for each indoor and outdoor values\n",
    "indoor = np.where(df_data['indoor'] == True);\n",
    "outdoor = np.where(df_data['indoor'] == False);\n",
    "np.size(outdoor)\n",
    "\n",
    "# Get sizes and build a matrice\n",
    "#data = [np.size(indoor), np.size(outdoor)]\n",
    "#print(data)\n"
   ]
  },
  {
   "cell_type": "code",
   "execution_count": 5,
   "metadata": {},
   "outputs": [
    {
     "data": {
      "text/plain": [
       "indoor     6615\n",
       "outdoor    3064\n",
       "dtype: int64"
      ]
     },
     "execution_count": 5,
     "metadata": {},
     "output_type": "execute_result"
    }
   ],
   "source": [
    "def Count_Indoor_Outdoor():\n",
    "    #df_data = pd.read_csv(\"databasesTCC/meds_pandas.csv\")\n",
    "    df_data = pd.read_csv(\"./databasesTCC/meds_pandasTCCM.csv\")\n",
    "\n",
    "    index = ['indoor', 'outdoor']\n",
    "    \n",
    "    # Select data where indoor feature equals True and False for each indoor and outdoor values\n",
    "    indoor = np.where(df_data['indoor'] == True);\n",
    "    outdoor = np.where(df_data['indoor'] == False);\n",
    "    \n",
    "    # Get sizes and build a matrice\n",
    "    data = [np.size(indoor), np.size(outdoor)]\n",
    "    #print(data)\n",
    "    \n",
    "    # Construct a series object\n",
    "    series = pd.Series(data, index=index)\n",
    "    \n",
    "    return series # Return your answer\n",
    "\n",
    "\n",
    "Count_Indoor_Outdoor()"
   ]
  },
  {
   "cell_type": "code",
   "execution_count": 4,
   "metadata": {},
   "outputs": [],
   "source": [
    "def DatasetIndoorOutdoor():\n",
    "\n",
    "    indoordf = df_data.loc[(df_data['indoor'] == True)]\n",
    "    indoordf = indoordf.drop(columns=['indoor'])\n",
    "    indoordf.to_csv (r'databasesTCC/Indoordf.csv', index = False, header=True)\n",
    "    #print (indoordf)\n",
    "    outdoordf = df_data.loc[(df_data['indoor'] == False)]\n",
    "    outdoordf = outdoordf.drop(columns=['indoor'])\n",
    "    outdoordf.to_csv (r'databasesTCC/Outdoordf.csv', index = False, header=True)\n",
    "    #print (outdoordf)\n",
    "\n",
    "    return outdoordf, indoordf"
   ]
  },
  {
   "cell_type": "code",
   "execution_count": 5,
   "metadata": {},
   "outputs": [],
   "source": [
    "#Split the DataFrame into X (the data) and y (the labels).\n",
    "def SplitDataAndLabels():\n",
    "    outdoordf, indoordf = DatasetIndoorOutdoor()\n",
    "    \n",
    "    # Drop target column, axis=1 means drop column with given name, axis=0 means drop row.\n",
    "    X_outdoordf = outdoordf\n",
    "    X_outdoordf = outdoordf.drop(['rssi_1_1','rssi_1_2','rssi_1_3','rssi_2_1','rssi_2_2','rssi_2_3','rssi_3_1','rssi_3_2','rssi_3_3'], axis = 1)\n",
    "    #X_outdoordf = X_outdoordf.drop('lon', axis = 1)\n",
    "    y_outdoordf = outdoordf[['rssi_1_1','rssi_1_2','rssi_1_3','rssi_2_1','rssi_2_2','rssi_2_3','rssi_3_1','rssi_3_2','rssi_3_3']]\n",
    "    X_indoordf = indoordf\n",
    "    X_indoordf = indoordf.drop(['rssi_1_1','rssi_1_2','rssi_1_3','rssi_2_1','rssi_2_2','rssi_2_3','rssi_3_1','rssi_3_2','rssi_3_3'], axis = 1)\n",
    "    #X_indoordf = X_indoordf.drop('lon', axis = 1)\n",
    "    y_indoordf = indoordf[['rssi_1_1','rssi_1_2','rssi_1_3','rssi_2_1','rssi_2_2','rssi_2_3','rssi_3_1','rssi_3_2','rssi_3_3']]\n",
    "    \n",
    "    \n",
    "    return X_outdoordf, y_outdoordf, X_indoordf, y_indoordf"
   ]
  },
  {
   "cell_type": "code",
   "execution_count": 6,
   "metadata": {},
   "outputs": [
    {
     "data": {
      "text/plain": [
       "(2451, 24)"
      ]
     },
     "execution_count": 6,
     "metadata": {},
     "output_type": "execute_result"
    }
   ],
   "source": [
    "#Outdoor:\n",
    "from sklearn.model_selection import train_test_split\n",
    "\n",
    "def answer_four():\n",
    "    X, y, X_indoordf, y_indoordf = SplitDataAndLabels()\n",
    "    \n",
    "    # Your code here\n",
    "    X_train, X_test, y_train, y_test = train_test_split(X, y,test_size = 0.20, random_state = 0)\n",
    "    return X_train, X_test, y_train, y_test\n",
    "\n",
    "X_train, X_test, y_train, y_test = answer_four()\n",
    "X_train.shape"
   ]
  },
  {
   "cell_type": "code",
   "execution_count": 7,
   "metadata": {},
   "outputs": [],
   "source": [
    "X_train.to_csv (r'databasesTCC/Outdoor_X_train_90%.csv', index = False, header=True)\n",
    "X_test.to_csv (r'databasesTCC/Outdoor_X_test_10%.csv', index = False, header=True)\n",
    "y_train.to_csv (r'databasesTCC/Outdoor_y_train_90%.csv', index = False, header=True)\n",
    "y_test.to_csv (r'databasesTCC/Outdoor_y_test_10%.csv', index = False, header=True)\n"
   ]
  },
  {
   "cell_type": "markdown",
   "metadata": {},
   "source": [
    "# Indoor"
   ]
  },
  {
   "cell_type": "code",
   "execution_count": 8,
   "metadata": {},
   "outputs": [
    {
     "data": {
      "text/plain": [
       "(5292, 24)"
      ]
     },
     "execution_count": 8,
     "metadata": {},
     "output_type": "execute_result"
    }
   ],
   "source": [
    "#Indoor:\n",
    "from sklearn.model_selection import train_test_split\n",
    "\n",
    "def DatabasesTestIndoor():\n",
    "    X_outdoordf, y_outdoordf, X_indoordf, y_indoordf = SplitDataAndLabels()\n",
    "    \n",
    "    # Your code here\n",
    "    X_train, X_test, y_train, y_test = train_test_split(X_indoordf, y_indoordf,test_size = 0.20, random_state = 0)\n",
    "    return X_train, X_test, y_train, y_test\n",
    "\n",
    "X_train, X_test, y_train, y_test = DatabasesTestIndoor()\n",
    "X_train.shape"
   ]
  },
  {
   "cell_type": "code",
   "execution_count": 9,
   "metadata": {},
   "outputs": [],
   "source": [
    "X_train.to_csv (r'databasesTCC/indoor_X_train_90%.csv', index = False, header=True)\n",
    "X_test.to_csv (r'databasesTCC/indoor_X_test_10%.csv', index = False, header=True)\n",
    "y_train.to_csv (r'databasesTCC/indoor_y_train_90%.csv', index = False, header=True)\n",
    "y_test.to_csv (r'databasesTCC/indoor_y_test_10%.csv', index = False, header=True)"
   ]
  },
  {
   "cell_type": "markdown",
   "metadata": {},
   "source": [
    "# Geração dos Arquivos de teste Outdoor, Indoor, Indoor-Outdoor:"
   ]
  },
  {
   "cell_type": "markdown",
   "metadata": {},
   "source": [
    "# Arquivo Outdoor:"
   ]
  },
  {
   "cell_type": "code",
   "execution_count": null,
   "metadata": {},
   "outputs": [],
   "source": [
    "import numpy as np\n",
    "import pandas as pd\n",
    "X_test = pd.read_csv(\"databasesTCC/Outdoor_X_test_10%.csv\")\n",
    "y_test = pd.read_csv(\"databasesTCC/Outdoor_y_test_10%.csv\")\n",
    "y_test['delay_1'] = X_test['delay_1']\n",
    "y_test['delay_2'] = X_test['delay_2']\n",
    "y_test['delay_3'] = X_test['delay_3']\n",
    "y_test['delay_12'] = X_test['delay_12']\n",
    "y_test['delay_13'] = X_test['delay_13']\n",
    "y_test['delay_23'] = X_test['delay_23']\n",
    "y_test['idx'] = X_test['idx']\n",
    "#y_test = y_test.head(150)#150\n",
    "sample_n_outdoor = y_test.sample(n = 400)\n",
    "rest_sample_n_outdoor = y_test.drop(sample_n_outdoor.index) \n",
    "y_test = sample_n_outdoor\n",
    "#rest_sample_n_outdoor = rest_sample_n_outdoor.sample(n = 200)\n",
    "\n",
    "y_test.to_csv(\"./Test/Outdoor_Test.csv\", index=False)\n",
    "y_test.head()"
   ]
  },
  {
   "cell_type": "markdown",
   "metadata": {},
   "source": [
    "# Arquivo Indoor:"
   ]
  },
  {
   "cell_type": "code",
   "execution_count": null,
   "metadata": {},
   "outputs": [],
   "source": [
    "X_test = pd.read_csv(\"databasesTCC/indoor_X_test_10%.csv\")\n",
    "y_test = pd.read_csv(\"databasesTCC/indoor_y_test_10%.csv\")\n",
    "y_test['delay_1'] = X_test['delay_1']\n",
    "y_test['delay_2'] = X_test['delay_2']\n",
    "y_test['delay_3'] = X_test['delay_3']\n",
    "y_test['delay_12'] = X_test['delay_12']\n",
    "y_test['delay_13'] = X_test['delay_13']\n",
    "y_test['delay_23'] = X_test['delay_23']\n",
    "y_test['idx'] = X_test['idx']\n",
    "#y_test = y_test.head(150)#150\n",
    "sample_n_indoor = y_test.sample(n = 400)\n",
    "rest_sample_n_indoor = y_test.drop(sample_n_indoor.index) \n",
    "y_test = sample_n_indoor\n",
    "#rest_sample_n_indoor = rest_sample_n_indoor.sample(n = 200)\n",
    "\n",
    "y_test.to_csv(\"./Test/Indoor_Test.csv\", index=False)\n",
    "y_test.head()"
   ]
  },
  {
   "cell_type": "markdown",
   "metadata": {},
   "source": [
    "# Arquivo Indoor-Outdoor:"
   ]
  },
  {
   "cell_type": "code",
   "execution_count": null,
   "metadata": {},
   "outputs": [],
   "source": [
    "X_test_outdoor = pd.read_csv(\"databasesTCC/Outdoor_X_test_10%.csv\")\n",
    "y_test_outdoor = pd.read_csv(\"databasesTCC/Outdoor_y_test_10%.csv\")\n",
    "y_test_outdoor['delay_1'] = X_test_outdoor['delay_1']\n",
    "y_test_outdoor['delay_2'] = X_test_outdoor['delay_2']\n",
    "y_test_outdoor['delay_3'] = X_test_outdoor['delay_3']\n",
    "y_test_outdoor['delay_12'] = X_test_outdoor['delay_12']\n",
    "y_test_outdoor['delay_13'] = X_test_outdoor['delay_13']\n",
    "y_test_outdoor['delay_23'] = X_test_outdoor['delay_23']\n",
    "y_test_outdoor['idx'] = X_test_outdoor['idx']\n",
    "\n",
    "rest_sample_n_outdoor = rest_sample_n_outdoor.sample(n = 200)\n",
    "#y_test_outdoor = y_test_outdoor.tail(75)#75\n",
    "y_test_outdoor = rest_sample_n_outdoor \n",
    "\n",
    "\n",
    "X_test_indoor = pd.read_csv(\"databasesTCC/indoor_X_test_10%.csv\")\n",
    "y_test_indoor = pd.read_csv(\"databasesTCC/indoor_y_test_10%.csv\")\n",
    "y_test_indoor['delay_1'] = X_test_indoor['delay_1']\n",
    "y_test_indoor['delay_2'] = X_test_indoor['delay_2']\n",
    "y_test_indoor['delay_3'] = X_test_indoor['delay_3']\n",
    "y_test_indoor['delay_12'] = X_test_indoor['delay_12']\n",
    "y_test_indoor['delay_13'] = X_test_indoor['delay_13']\n",
    "y_test_indoor['delay_23'] = X_test_indoor['delay_23']\n",
    "y_test_indoor['idx'] = X_test_indoor['idx']\n",
    "\n",
    "rest_sample_n_indoor = rest_sample_n_indoor.sample(n = 200)\n",
    "#y_test_indoor = y_test_indoor.tail(75)#75\n",
    "y_test_indoor = rest_sample_n_indoor\n",
    "\n",
    "df_indoor_outdoor = pd.concat([y_test_outdoor, y_test_indoor])\n",
    "df_indoor_outdoor.to_csv(\"./Test/Indoor-Outdoor_Test.csv\", index=False)\n",
    "df_indoor_outdoor.head()"
   ]
  }
 ],
 "metadata": {
  "kernelspec": {
   "display_name": "Python 3",
   "language": "python",
   "name": "python3"
  },
  "language_info": {
   "codemirror_mode": {
    "name": "ipython",
    "version": 3
   },
   "file_extension": ".py",
   "mimetype": "text/x-python",
   "name": "python",
   "nbconvert_exporter": "python",
   "pygments_lexer": "ipython3",
   "version": "3.7.3"
  }
 },
 "nbformat": 4,
 "nbformat_minor": 2
}
