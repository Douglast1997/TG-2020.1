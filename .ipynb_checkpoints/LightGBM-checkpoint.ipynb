{
 "cells": [
  {
   "cell_type": "code",
   "execution_count": 1,
   "metadata": {},
   "outputs": [],
   "source": [
    "import numpy as np\n",
    "import matplotlib.pyplot as plt\n",
    "import pandas as pd"
   ]
  },
  {
   "cell_type": "code",
   "execution_count": 2,
   "metadata": {},
   "outputs": [],
   "source": [
    "# Importing the dataset\n",
    "dataset = pd.read_csv('Social_Network_Ads.csv')\n",
    "X = dataset.iloc[:, [2, 3]].values\n",
    "y = dataset.iloc[:, 4].values"
   ]
  },
  {
   "cell_type": "code",
   "execution_count": 3,
   "metadata": {},
   "outputs": [],
   "source": [
    "#dataset"
   ]
  },
  {
   "cell_type": "code",
   "execution_count": 4,
   "metadata": {},
   "outputs": [],
   "source": [
    "# Splitting the dataset into the Training set and Test set\n",
    "from sklearn.model_selection import train_test_split\n",
    "x_train, x_test, y_train, y_test = train_test_split(X, y, test_size = 0.25, random_state = 0)"
   ]
  },
  {
   "cell_type": "code",
   "execution_count": 5,
   "metadata": {},
   "outputs": [],
   "source": [
    "# Feature Scaling\n",
    "from sklearn.preprocessing import StandardScaler\n",
    "sc = StandardScaler()\n",
    "x_train = sc.fit_transform(x_train)\n",
    "x_test = sc.transform(x_test)"
   ]
  },
  {
   "cell_type": "code",
   "execution_count": 6,
   "metadata": {},
   "outputs": [],
   "source": [
    "import lightgbm as lgb"
   ]
  },
  {
   "cell_type": "code",
   "execution_count": 7,
   "metadata": {},
   "outputs": [],
   "source": [
    "d_train = lgb.Dataset(x_train, label=y_train)"
   ]
  },
  {
   "cell_type": "code",
   "execution_count": 8,
   "metadata": {},
   "outputs": [],
   "source": [
    "params = {}\n",
    "params['learning_rate'] = 0.003\n",
    "params['boosting_type'] = 'gbdt'\n",
    "params['objective'] = 'binary'\n",
    "params['metric'] = 'binary_logloss'\n",
    "params['sub_feature'] = 0.5\n",
    "params['num_leaves'] = 10\n",
    "params['min_data'] = 50\n",
    "params['max_depth'] = 10\n",
    "clf = lgb.train(params, d_train, 10000)"
   ]
  },
  {
   "cell_type": "code",
   "execution_count": 9,
   "metadata": {},
   "outputs": [
    {
     "data": {
      "text/plain": [
       "array([4.97926633e-02, 7.69830944e-04, 7.08547871e-03, 8.61200976e-04,\n",
       "       1.14324225e-05, 3.52364739e-05, 7.38103362e-05, 9.25308479e-01,\n",
       "       4.02868306e-06, 5.62978541e-01, 1.63949371e-06, 5.72052689e-06,\n",
       "       3.77144222e-03, 2.22972680e-01, 1.78402157e-03, 8.79436641e-01,\n",
       "       2.32975682e-01, 1.78402157e-03, 8.64888290e-01, 2.81987816e-04,\n",
       "       1.12578149e-05, 8.55365631e-01, 9.17941233e-03, 9.28507037e-01,\n",
       "       3.52364739e-05, 8.64888290e-01, 3.33293847e-02, 8.59348029e-04,\n",
       "       3.13486610e-03, 5.59968073e-03, 3.33293847e-02, 2.19417062e-01,\n",
       "       6.78539393e-01, 2.06703434e-03, 6.06947493e-06, 3.03719291e-06,\n",
       "       5.51682930e-04, 1.84377443e-07, 7.38103362e-05, 9.80227731e-01,\n",
       "       3.33293847e-02, 4.87471527e-03, 6.51507284e-04, 2.81987816e-04,\n",
       "       7.48370594e-01, 6.06947493e-06, 2.01515074e-01, 9.12115266e-01,\n",
       "       3.52364739e-05, 7.99065072e-01, 8.64888290e-01, 3.10565505e-05,\n",
       "       3.31622754e-05, 7.20616009e-01, 9.03255884e-01, 8.52980040e-01,\n",
       "       1.09970142e-03, 5.09062361e-04, 9.80227731e-01, 3.52364739e-05,\n",
       "       8.15724811e-05, 6.53766402e-01, 6.07231620e-04, 9.62206713e-01,\n",
       "       3.52364739e-05, 7.99065072e-01, 3.33293847e-02, 6.06947493e-06,\n",
       "       9.14173596e-03, 5.35903738e-01, 8.79436641e-01, 7.92002697e-03,\n",
       "       4.01510276e-06, 8.52980040e-01, 3.33293847e-02, 5.51682930e-04,\n",
       "       2.28831692e-01, 1.09278249e-02, 9.80227731e-01, 9.28507037e-01,\n",
       "       8.64888290e-01, 7.99065072e-01, 5.72052689e-06, 3.52364739e-05,\n",
       "       9.36752440e-01, 2.10368587e-01, 2.18319974e-01, 8.64888290e-01,\n",
       "       1.34994639e-01, 4.80659146e-03, 9.28597871e-03, 9.25308479e-01,\n",
       "       1.83514558e-06, 3.52364739e-05, 6.51507284e-04, 1.14299512e-01,\n",
       "       4.01510276e-06, 9.80227731e-01, 9.12115266e-01, 9.45814168e-01])"
      ]
     },
     "execution_count": 9,
     "metadata": {},
     "output_type": "execute_result"
    }
   ],
   "source": [
    "#Prediction\n",
    "y_pred=clf.predict(x_test)\n",
    "y_pred"
   ]
  },
  {
   "cell_type": "code",
   "execution_count": 10,
   "metadata": {},
   "outputs": [],
   "source": [
    "y_pred = np.round(y_pred)"
   ]
  },
  {
   "cell_type": "code",
   "execution_count": 11,
   "metadata": {},
   "outputs": [
    {
     "data": {
      "text/plain": [
       "array([[63,  5],\n",
       "       [ 4, 28]], dtype=int64)"
      ]
     },
     "execution_count": 11,
     "metadata": {},
     "output_type": "execute_result"
    }
   ],
   "source": [
    "#Confusion matrix\n",
    "from sklearn.metrics import confusion_matrix\n",
    "cm = confusion_matrix(y_test, y_pred)\n",
    "cm"
   ]
  },
  {
   "cell_type": "code",
   "execution_count": 12,
   "metadata": {},
   "outputs": [
    {
     "data": {
      "text/plain": [
       "0.91"
      ]
     },
     "execution_count": 12,
     "metadata": {},
     "output_type": "execute_result"
    }
   ],
   "source": [
    "#Accuracy\n",
    "from sklearn.metrics import accuracy_score\n",
    "accuracy=accuracy_score(y_pred,y_test)\n",
    "accuracy"
   ]
  },
  {
   "cell_type": "code",
   "execution_count": null,
   "metadata": {},
   "outputs": [],
   "source": []
  },
  {
   "cell_type": "code",
   "execution_count": null,
   "metadata": {},
   "outputs": [],
   "source": []
  }
 ],
 "metadata": {
  "kernelspec": {
   "display_name": "Python 3",
   "language": "python",
   "name": "python3"
  },
  "language_info": {
   "codemirror_mode": {
    "name": "ipython",
    "version": 3
   },
   "file_extension": ".py",
   "mimetype": "text/x-python",
   "name": "python",
   "nbconvert_exporter": "python",
   "pygments_lexer": "ipython3",
   "version": "3.7.3"
  }
 },
 "nbformat": 4,
 "nbformat_minor": 2
}
