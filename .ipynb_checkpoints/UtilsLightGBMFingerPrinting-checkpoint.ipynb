{
 "cells": [
  {
   "cell_type": "code",
   "execution_count": 1,
   "metadata": {},
   "outputs": [],
   "source": [
    "import pandas as pd\n",
    "import numpy as np\n",
    "import math\n",
    "import os\n",
    "import random\n",
    "from scipy.spatial import distance\n",
    "\n",
    "def euclidean_distance(a, b):\n",
    "    \"\"\"\n",
    "    Calcula a distância euclidiana entre dois pontos\n",
    "    \n",
    "    Parameters:\n",
    "    \n",
    "    a (Tuple)(List): Lista ou tupla com N elementos\n",
    "    b (Tuple)(List): Lista ou tupla com N elementos\n",
    "\n",
    "    Returns:\n",
    "    float: Distância euclidiana entre os pontos\n",
    "    \"\"\"\n",
    "    #return distance.euclidean(a,b)\n",
    "    return distance.cityblock(a,b)\n",
    "\n",
    "def merge_on_pontoId(df_1, df_2):\n",
    "    \"\"\"\n",
    "    Faz um merge de dois DataFrame usando o pontoId como referência\n",
    "    \"\"\"\n",
    "    return pd.merge(df_1, df_2, how='inner', on=['idx'])"
   ]
  },
  {
   "cell_type": "code",
   "execution_count": null,
   "metadata": {},
   "outputs": [],
   "source": []
  }
 ],
 "metadata": {
  "kernelspec": {
   "display_name": "Python 3",
   "language": "python",
   "name": "python3"
  },
  "language_info": {
   "codemirror_mode": {
    "name": "ipython",
    "version": 3
   },
   "file_extension": ".py",
   "mimetype": "text/x-python",
   "name": "python",
   "nbconvert_exporter": "python",
   "pygments_lexer": "ipython3",
   "version": "3.7.3"
  }
 },
 "nbformat": 4,
 "nbformat_minor": 2
}
