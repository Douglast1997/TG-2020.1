{
 "cells": [
  {
   "cell_type": "code",
   "execution_count": 1,
   "metadata": {},
   "outputs": [],
   "source": [
    "import pandas as pd\n",
    "import numpy as np\n",
    "import math\n",
    "import os\n",
    "import random\n",
    "from scipy.spatial import distance\n",
    "\n",
    "def euclidean_distance(a, b):\n",
    "    \"\"\"\n",
    "    Calcula a distância euclidiana entre dois pontos\n",
    "    \n",
    "    Parameters:\n",
    "    \n",
    "    a (Tuple)(List): Lista ou tupla com N elementos\n",
    "    b (Tuple)(List): Lista ou tupla com N elementos\n",
    "\n",
    "    Returns:\n",
    "    float: Distância euclidiana entre os pontos\n",
    "    \"\"\"\n",
    "    #return distance.euclidean(a,b)\n",
    "    return distance.cityblock(a,b)\n",
    "\n",
    "def merge_on_pontoId(df_1, df_2):\n",
    "    \"\"\"\n",
    "    Faz um merge de dois DataFrame usando o pontoId como referência\n",
    "    \"\"\"\n",
    "    return pd.merge(df_1, df_2, how='inner', on=['idx'])"
   ]
  },
  {
   "cell_type": "code",
   "execution_count": null,
   "metadata": {},
   "outputs": [],
   "source": [
    "def GetFingerprintByIndex(index, CDB_Meds):\n",
    "\n",
    "    PDs_df = CDB_Meds.loc[(CDB_Meds['idx'] == index)]\n",
    "\n",
    "    return PDs_df"
   ]
  },
  {
   "cell_type": "markdown",
   "metadata": {},
   "source": [
    "# Erros de localização médio, mínimo, máximo e desvio padrão"
   ]
  },
  {
   "cell_type": "code",
   "execution_count": null,
   "metadata": {},
   "outputs": [],
   "source": [
    "def calculate_errors(df_real, df_predict):\n",
    "    \"\"\"\n",
    "    Retorna uma lista contendo os erros em metros de todos os pontos no real e na predição\n",
    "    \"\"\"\n",
    "    df_merged = merge_on_pontoId(df_predict, df_real)\n",
    "    errors = []\n",
    "    \n",
    "    for idx, point in df_merged.iterrows():\n",
    "        distance = GeoUtils.distanceInKm(point.lat, point.lon, point.lat_pred, point.lon_pred)\n",
    "        errors.append(round(distance * 1000, 2))\n",
    "        \n",
    "    return errors\n",
    "\n",
    "def calculate_theorical_errors():\n",
    "    df_real = pd.read_csv(\"./databases/meds_pandas.csv\")\n",
    "    dict_errors = {}\n",
    "    \n",
    "    for file, method in zip(FILES,METHODS):\n",
    "        df_predict = pd.read_csv(file)\n",
    "        dict_errors[method] = calculate_errors(df_real, df_predict)\n",
    "    \n",
    "    return pd.DataFrame(dict_errors)"
   ]
  },
  {
   "cell_type": "code",
   "execution_count": null,
   "metadata": {},
   "outputs": [],
   "source": [
    "def get_nearest_point(test_database, point):\n",
    "    \"\"\"\n",
    "    Encontra o ponto no fingerprint que possui a menor distância euclidiana para o ponto passado como argumento\n",
    "    \"\"\"\n",
    "    min_dist = None\n",
    "    lat = None\n",
    "    lon = None\n",
    "    CDB_Reduced = CDB_ReducedByPDs(point['delay_1'], point['delay_2'], point['delay_3'],\n",
    "                                   point['delay_12'], point['delay_13'], point['delay_23'], test_database)\n",
    "    for idx, point_fg in CDB_Reduced.iterrows():\n",
    "        fg = point_fg[:-8]#-2\n",
    "        dist = euclidean_distance(point[:-7], fg)#-1\n",
    "        \n",
    "        if (min_dist == None) or (min_dist > dist):\n",
    "            min_dist = dist\n",
    "            lat = point_fg.lat\n",
    "            lon = point_fg.lon\n",
    "\n",
    "    return lat, lon\n",
    "\n",
    "def calculate_coords_th(fingerprint, test_database):\n",
    "    \"\"\"\n",
    "    Calcula as coordenadas usando um fingerprint e retorna um dataframe contendo\n",
    "    latitude, longitude e pontoId\n",
    "    \"\"\"\n",
    "    points_dict = {'lat_pred': [], 'lon_pred': [], 'idx': []}\n",
    "    \n",
    "    for idx, point in tqdm(fingerprint.iterrows()):\n",
    "        lat, lon = get_nearest_point(test_database, point)\n",
    "        points_dict['lat_pred'].append(lat)\n",
    "        points_dict['lon_pred'].append(lon)\n",
    "        points_dict['idx'].append(point.idx)\n",
    "    \n",
    "    \n",
    "    return pd.DataFrame(points_dict)\n",
    "    \n",
    "def generate_theorical_results(FILES, TEST_DATABASE):\n",
    "    \"\"\"\n",
    "    Calcula as latitudes e longitudes estimadas dos pontos da base de teste usando cada um dos fingerprints\n",
    "    com as dimensões listadas no vetor DIM\n",
    "    \"\"\"\n",
    "    test_database = pd.read_csv(TEST_DATABASE)\n",
    "    for method, file in FILES:\n",
    "        fingerprint = pd.read_csv(file)\n",
    "        points_df = calculate_coords_th(fingerprint, test_database)\n",
    "        points_df.to_csv(\"./FinalResult/Resultados_Metodo_{}.csv\".format(method), index=False)"
   ]
  }
 ],
 "metadata": {
  "kernelspec": {
   "display_name": "Python 3",
   "language": "python",
   "name": "python3"
  },
  "language_info": {
   "codemirror_mode": {
    "name": "ipython",
    "version": 3
   },
   "file_extension": ".py",
   "mimetype": "text/x-python",
   "name": "python",
   "nbconvert_exporter": "python",
   "pygments_lexer": "ipython3",
   "version": "3.7.3"
  }
 },
 "nbformat": 4,
 "nbformat_minor": 2
}
