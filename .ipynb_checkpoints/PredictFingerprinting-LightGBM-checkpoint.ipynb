{
 "cells": [
  {
   "cell_type": "markdown",
   "metadata": {},
   "source": [
    "# Utiliza o CDB com ML para predizer a localização (lat,lon) das EM:"
   ]
  },
  {
   "cell_type": "code",
   "execution_count": 1,
   "metadata": {},
   "outputs": [],
   "source": [
    "import pandas as pd\n",
    "import numpy as np\n",
    "import math\n",
    "import os\n",
    "from tqdm import tqdm\n",
    "%run Imports.ipynb\n",
    "%run UtilsLightGBMFingerPrinting.ipynb"
   ]
  },
  {
   "cell_type": "code",
   "execution_count": 14,
   "metadata": {},
   "outputs": [],
   "source": [
    "FILES = [\n",
    "    # Arquivos de Teste Outdoor Só possui RSSIs, delays, idx\n",
    "    #(7,'./Test/Outdoor_Test.csv'), # Usar CDB_20_LightGBM_Complete\n",
    "    #(8,'./Test/Indoor_Test.csv'), # Usar CDB_20_LightGBM_Complete\n",
    "    #(9,'./Test/Indoor-Outdoor_Test.csv'), # Usar CDB_20_LightGBM_Complete\n",
    "    \n",
    "    #(10,'./Test/Outdoor_Test.csv'), # Usar CDB_20_SVR_Complete\n",
    "    #(11,'./Test/Indoor_Test.csv'), # Usar CDB_20_SVR_Complete\n",
    "    #(12,'./Test/Indoor-Outdoor_Test.csv') # Usar CDB_20_SVR_Complete\n",
    "    \n",
    "    #k = 1\n",
    "    #(13,'./k-fold-SVR/Test-SVR-Outdoor-Fold1.csv'), # Usar CDB_20_SVR_Complete_k-fold \n",
    "    #(14,'./k-fold-SVR/Test-SVR-Indoor.csv'), # Usar CDB_20_SVR_Complete_k-fold\n",
    "    #(15,'./k-fold-SVR/Test-SVR-Indoor-Outdoor-Fold1.csv') # Usar CDB_20_SVR_Complete_k-fold\n",
    "    \n",
    "    #k = 2\n",
    "    #(16,'./k-fold-SVR/Test-SVR-Outdoor-Fold2.csv'), # Usar CDB_20_SVR_Complete_k-fold \n",
    "    #(17,'./k-fold-SVR/Test-SVR-Indoor.csv'), # Usar CDB_20_SVR_Complete_k-fold\n",
    "    #(18,'./k-fold-SVR/Test-SVR-Indoor-Outdoor-Fold2.csv') # Usar CDB_20_SVR_Complete_k-fold\n",
    "    \n",
    "    \n",
    "    #k = 3\n",
    "    #(19,'./k-fold-SVR/Test-SVR-Outdoor-Fold3.csv'), # Usar CDB_20_SVR_Complete_k-fold \n",
    "    #(20,'./k-fold-SVR/Test-SVR-Indoor.csv'), # Usar CDB_20_SVR_Complete_k-fold\n",
    "    #(21,'./k-fold-SVR/Test-SVR-Indoor-Outdoor-Fold3.csv') # Usar CDB_20_SVR_Complete_k-fold\n",
    "    \n",
    "    \n",
    "    #k = 4\n",
    "    #(22,'./k-fold-SVR/Test-SVR-Outdoor-Fold4.csv'), # Usar CDB_20_SVR_Complete_k-fold \n",
    "    #(23,'./k-fold-SVR/Test-SVR-Indoor.csv'), # Usar CDB_20_SVR_Complete_k-fold\n",
    "    #(24,'./k-fold-SVR/Test-SVR-Indoor-Outdoor-Fold4.csv') # Usar CDB_20_SVR_Complete_k-fold\n",
    "    \n",
    "    \n",
    "    #k = 5\n",
    "    (25,'./k-fold-SVR/Test-SVR-Outdoor-Fold5.csv'), # Usar CDB_20_SVR_Complete_k-fold \n",
    "    (26,'./k-fold-SVR/Test-SVR-Indoor.csv'), # Usar CDB_20_SVR_Complete_k-fold\n",
    "    (27,'./k-fold-SVR/Test-SVR-Indoor-Outdoor-Fold5.csv') # Usar CDB_20_SVR_Complete_k-fold\n",
    "    \n",
    "]\n",
    "\n",
    "#TEST_DATABASE = \"./CDB/CDB_20_LightGBM_Complete.csv\"\n",
    "#TEST_DATABASE = \"./CDB/CDB_20_SVR_Complete.csv\"\n",
    "\n",
    "#TEST_DATABASE = \"./CDB/CDB_20_LightGBM_Complete_Med.csv\" #Outdoor Melhora, mas o indoor piora\n",
    "#TEST_DATABASE = \"./CDB/CDB_20_SVR_Complete_Med.csv\"\n",
    "\n",
    "#TEST_DATABASE = \"./k-fold-SVR/CDB-Fold1-SVR.csv\"\n",
    "#TEST_DATABASE = \"./k-fold-SVR/CDB-Fold2-SVR.csv\"\n",
    "#TEST_DATABASE = \"./k-fold-SVR/CDB-Fold3-SVR.csv\"\n",
    "#TEST_DATABASE = \"./k-fold-SVR/CDB-Fold4-SVR.csv\"\n",
    "TEST_DATABASE = \"./k-fold-SVR/CDB-Fold5-SVR.csv\""
   ]
  },
  {
   "cell_type": "code",
   "execution_count": 15,
   "metadata": {},
   "outputs": [],
   "source": [
    "def get_nearest_point(test_database, point):\n",
    "    \"\"\"\n",
    "    Encontra o ponto no fingerprint que possui a menor distância euclidiana para o ponto passado como argumento\n",
    "    \"\"\"\n",
    "    min_dist = None\n",
    "    lat = None\n",
    "    lon = None\n",
    "    CDB_Reduced = CDB_ReducedByPDs(point['delay_1'], point['delay_2'], point['delay_3'],\n",
    "                                   point['delay_12'], point['delay_13'], point['delay_23'], test_database)\n",
    "    for idx, point_fg in CDB_Reduced.iterrows():\n",
    "        fg = point_fg[:-8]#-2\n",
    "        dist = euclidean_distance(point[:-7], fg)#-1\n",
    "        \n",
    "        if (min_dist == None) or (min_dist > dist):\n",
    "            min_dist = dist\n",
    "            lat = point_fg.lat\n",
    "            lon = point_fg.lon\n",
    "\n",
    "    return lat, lon\n",
    "\n",
    "def calculate_coords_th(fingerprint, test_database):\n",
    "    \"\"\"\n",
    "    Calcula as coordenadas usando um fingerprint e retorna um dataframe contendo\n",
    "    latitude, longitude e pontoId\n",
    "    \"\"\"\n",
    "    points_dict = {'lat_pred': [], 'lon_pred': [], 'idx': []}\n",
    "    \n",
    "    for idx, point in tqdm(fingerprint.iterrows()):\n",
    "        lat, lon = get_nearest_point(test_database, point)\n",
    "        points_dict['lat_pred'].append(lat)\n",
    "        points_dict['lon_pred'].append(lon)\n",
    "        points_dict['idx'].append(point.idx)\n",
    "    \n",
    "    \n",
    "    return pd.DataFrame(points_dict)\n",
    "    \n",
    "def generate_theorical_results():\n",
    "    \"\"\"\n",
    "    Calcula as latitudes e longitudes estimadas dos pontos da base de teste usando cada um dos fingerprints\n",
    "    com as dimensões listadas no vetor DIM\n",
    "    \"\"\"\n",
    "    test_database = pd.read_csv(TEST_DATABASE)\n",
    "    for method, file in FILES:\n",
    "        fingerprint = pd.read_csv(file)\n",
    "        points_df = calculate_coords_th(fingerprint, test_database)\n",
    "        points_df.to_csv(\"./FinalResult/Resultados_Metodo_{}.csv\".format(method), index=False)"
   ]
  },
  {
   "cell_type": "code",
   "execution_count": 16,
   "metadata": {},
   "outputs": [
    {
     "name": "stderr",
     "output_type": "stream",
     "text": [
      "400it [00:24, 15.71it/s]\n",
      "400it [00:20, 20.49it/s]\n",
      "400it [00:23, 19.61it/s]\n"
     ]
    }
   ],
   "source": [
    "# gera os resultados teoricos\n",
    "generate_theorical_results()"
   ]
  },
  {
   "cell_type": "code",
   "execution_count": 129,
   "metadata": {},
   "outputs": [
    {
     "data": {
      "text/plain": [
       "['rssi_1_1',\n",
       " 'rssi_1_2',\n",
       " 'rssi_1_3',\n",
       " 'rssi_2_1',\n",
       " 'rssi_2_2',\n",
       " 'rssi_2_3',\n",
       " 'rssi_3_1',\n",
       " 'rssi_3_2',\n",
       " 'rssi_3_3']"
      ]
     },
     "execution_count": 129,
     "metadata": {},
     "output_type": "execute_result"
    }
   ],
   "source": [
    "point = [\"rssi_1_1\",\"rssi_1_2\",\"rssi_1_3\",\"rssi_2_1\",\"rssi_2_2\",\"rssi_2_3\",\"rssi_3_1\",\"rssi_3_2\",\"rssi_3_3\",\"delay_1\",\"delay_2\",\"delay_3\",\"delay_12\",\"delay_13\",\"delay_23\",\"idx\"]\n",
    "point[:-7]#-1"
   ]
  },
  {
   "cell_type": "code",
   "execution_count": 8,
   "metadata": {},
   "outputs": [
    {
     "data": {
      "text/plain": [
       "['rssi_1_1',\n",
       " 'rssi_1_2',\n",
       " 'rssi_1_3',\n",
       " 'rssi_2_1',\n",
       " 'rssi_2_2',\n",
       " 'rssi_2_3',\n",
       " 'rssi_3_1',\n",
       " 'rssi_3_2',\n",
       " 'rssi_3_3']"
      ]
     },
     "execution_count": 8,
     "metadata": {},
     "output_type": "execute_result"
    }
   ],
   "source": [
    "cdb = [\"rssi_1_1\",\"rssi_1_2\",\"rssi_1_3\",\"rssi_2_1\",\"rssi_2_2\",\"rssi_2_3\",\"rssi_3_1\",\"rssi_3_2\",\"rssi_3_3\",\"delay_1\",\"delay_2\",\"delay_3\",\"delay_12\",\"delay_13\",\"delay_23\",\"lat\",\"lon\"]\n",
    "cdb[:-8]#-2"
   ]
  }
 ],
 "metadata": {
  "kernelspec": {
   "display_name": "Python 3",
   "language": "python",
   "name": "python3"
  },
  "language_info": {
   "codemirror_mode": {
    "name": "ipython",
    "version": 3
   },
   "file_extension": ".py",
   "mimetype": "text/x-python",
   "name": "python",
   "nbconvert_exporter": "python",
   "pygments_lexer": "ipython3",
   "version": "3.7.3"
  }
 },
 "nbformat": 4,
 "nbformat_minor": 2
}
