{
 "cells": [
  {
   "cell_type": "markdown",
   "metadata": {},
   "source": [
    "# Utiliza o modelo teorico e ML para construir o mapa de propagação"
   ]
  },
  {
   "cell_type": "code",
   "execution_count": 18,
   "metadata": {},
   "outputs": [],
   "source": [
    "import pandas as pd\n",
    "import numpy as np\n",
    "import math\n",
    "import os\n",
    "from tqdm import tqdm\n",
    "\n",
    "%run UtilsLightGBMFingerPrinting.ipynb"
   ]
  },
  {
   "cell_type": "code",
   "execution_count": 19,
   "metadata": {},
   "outputs": [],
   "source": [
    "FILES = [\n",
    "    #(1,'./fingerprint/med.csv'),\n",
    "    #(2,'./fingerprint/fingerprint_20.csv'),\n",
    "    #(3,'./fingerprint/med_fingerprint_20.csv'),\n",
    "    #(6,'./fingerprint/fingerprint_random_forest_20.csv')\n",
    "    (6,'./Fingerprint/fingerprint_20.csv')\n",
    "]\n",
    "TEST_DATABASE = \"./FinalResult/Resultados_Metodo_4.csv\"\n",
    "#\"./databases/Outdoor_X_test_10%Predict.csv\""
   ]
  },
  {
   "cell_type": "code",
   "execution_count": 20,
   "metadata": {},
   "outputs": [],
   "source": [
    "def get_nearest_point(fingerprint, point):\n",
    "    \"\"\"\n",
    "    Encontra o ponto no fingerprint que possui a menor distância euclidiana para o ponto passado como argumento\n",
    "    \"\"\"\n",
    "    min_dist = None\n",
    "    lat = None\n",
    "    lon = None\n",
    "\n",
    "    \n",
    "    for idx, point_fg in fingerprint.iterrows():\n",
    "        fg = point_fg[:]\n",
    "        dist = euclidean_distance(point[:-1], fg)\n",
    "        \n",
    "        if (min_dist == None) or (min_dist > dist):\n",
    "            min_dist = dist\n",
    "            lat = point_fg.lat\n",
    "            lon = point_fg.lon\n",
    "\n",
    "    return lat, lon\n",
    "\n",
    "def calculate_coords_th(fingerprint, test_database):\n",
    "    \"\"\"\n",
    "    Calcula as coordenadas usando um fingerprint e retorna um dataframe contendo\n",
    "    latitude, longitude e pontoId\n",
    "    \"\"\"\n",
    "    points_dict = {'lat_pred': [], 'lon_pred': [], 'idx': []}\n",
    "    for idx, point in tqdm(test_database.iterrows()):\n",
    "        lat, lon = get_nearest_point(fingerprint, point)\n",
    "        points_dict['lat_pred'].append(lat)\n",
    "        points_dict['lon_pred'].append(lon)\n",
    "        points_dict['idx'].append(point.idx)\n",
    "    \n",
    "    return pd.DataFrame(points_dict)\n",
    "    \n",
    "def generate_theorical_results():\n",
    "    \"\"\"\n",
    "    Calcula as latitudes e longitudes estimadas dos pontos da base de teste usando cada um dos fingerprints\n",
    "    com as dimensões listadas no vetor DIM\n",
    "    \"\"\"\n",
    "    test_database = pd.read_csv(TEST_DATABASE)\n",
    "    for method, file in FILES:\n",
    "        fingerprint = pd.read_csv(file)\n",
    "        points_df = calculate_coords_th(fingerprint, test_database)\n",
    "        points_df.to_csv(\"./FinalResult/Resultados_Metodo_{}.csv\".format(method), index=False)"
   ]
  },
  {
   "cell_type": "code",
   "execution_count": 21,
   "metadata": {},
   "outputs": [
    {
     "name": "stderr",
     "output_type": "stream",
     "text": [
      "307it [28:16,  4.08s/it] \n"
     ]
    }
   ],
   "source": [
    "# gera os resultados teoricos\n",
    "generate_theorical_results()"
   ]
  },
  {
   "cell_type": "code",
   "execution_count": null,
   "metadata": {},
   "outputs": [],
   "source": []
  },
  {
   "cell_type": "code",
   "execution_count": 9,
   "metadata": {},
   "outputs": [
    {
     "name": "stdout",
     "output_type": "stream",
     "text": [
      "['lat', 'lon', 'rssi_1_1', 'rssi_1_2', 'rssi_1_3', 'rssi_2_1', 'rssi_2_2', 'rssi_2_3', 'rssi_3_1', 'rssi_3_2', 'rssi_3_3']\n"
     ]
    }
   ],
   "source": [
    "cars = [\"lat\",\"lon\",\"rssi_1_1\",\"rssi_1_2\",\"rssi_1_3\",\"rssi_2_1\",\"rssi_2_2\",\"rssi_2_3\",\"rssi_3_1\",\"rssi_3_2\",\"rssi_3_3\"]\n",
    "car= cars[:]\n",
    "\n",
    "print(car)"
   ]
  },
  {
   "cell_type": "code",
   "execution_count": null,
   "metadata": {},
   "outputs": [],
   "source": []
  },
  {
   "cell_type": "code",
   "execution_count": null,
   "metadata": {},
   "outputs": [],
   "source": []
  },
  {
   "cell_type": "code",
   "execution_count": 1,
   "metadata": {},
   "outputs": [],
   "source": [
    "cars = [\"lat\",\"lon\", \"rssi_1_1\",\"rssi_1_2\",\"rssi_1_3\",\"rssi_2_1\",\"rssi_2_2\",\"rssi_2_3\",\"rssi_3_1\",\"rssi_3_2\",\"rssi_3_3\", \"pontoId\"]"
   ]
  },
  {
   "cell_type": "code",
   "execution_count": 3,
   "metadata": {},
   "outputs": [
    {
     "data": {
      "text/plain": [
       "['lat',\n",
       " 'lon',\n",
       " 'rssi_1_1',\n",
       " 'rssi_1_2',\n",
       " 'rssi_1_3',\n",
       " 'rssi_2_1',\n",
       " 'rssi_2_2',\n",
       " 'rssi_2_3',\n",
       " 'rssi_3_1',\n",
       " 'rssi_3_2',\n",
       " 'rssi_3_3']"
      ]
     },
     "execution_count": 3,
     "metadata": {},
     "output_type": "execute_result"
    }
   ],
   "source": [
    "moto = cars[:-1]\n",
    "moto\n"
   ]
  },
  {
   "cell_type": "code",
   "execution_count": 5,
   "metadata": {},
   "outputs": [],
   "source": [
    "test = [\"pontoId\",\"rssi_1_1\",\"rssi_1_2\",\"rssi_1_3\",\"rssi_2_1\",\"rssi_2_2\",\"rssi_2_3\",\"rssi_3_1\",\"rssi_3_2\",\"rssi_3_3\",\"delay_1\",\"delay_2\",\"delay_3\"]\n"
   ]
  },
  {
   "cell_type": "code",
   "execution_count": 8,
   "metadata": {},
   "outputs": [
    {
     "data": {
      "text/plain": [
       "['pontoId',\n",
       " 'rssi_1_1',\n",
       " 'rssi_1_2',\n",
       " 'rssi_1_3',\n",
       " 'rssi_2_1',\n",
       " 'rssi_2_2',\n",
       " 'rssi_2_3',\n",
       " 'rssi_3_1',\n",
       " 'rssi_3_2']"
      ]
     },
     "execution_count": 8,
     "metadata": {},
     "output_type": "execute_result"
    }
   ],
   "source": [
    "test[:-4]"
   ]
  },
  {
   "cell_type": "code",
   "execution_count": null,
   "metadata": {},
   "outputs": [],
   "source": []
  },
  {
   "cell_type": "code",
   "execution_count": null,
   "metadata": {},
   "outputs": [],
   "source": []
  }
 ],
 "metadata": {
  "kernelspec": {
   "display_name": "Python 3",
   "language": "python",
   "name": "python3"
  },
  "language_info": {
   "codemirror_mode": {
    "name": "ipython",
    "version": 3
   },
   "file_extension": ".py",
   "mimetype": "text/x-python",
   "name": "python",
   "nbconvert_exporter": "python",
   "pygments_lexer": "ipython3",
   "version": "3.7.3"
  }
 },
 "nbformat": 4,
 "nbformat_minor": 2
}
