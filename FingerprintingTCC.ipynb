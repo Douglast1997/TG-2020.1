{
 "cells": [
  {
   "cell_type": "code",
   "execution_count": 1,
   "metadata": {},
   "outputs": [],
   "source": [
    "import pandas as pd\n",
    "import numpy as np\n",
    "import math\n",
    "import os\n",
    "from tqdm import tqdm\n",
    "from PyRadioLoc.Utils.GeoUtils import GeoUtils\n",
    "from PyRadioLoc.Pathloss.Models import Cost231HataModel\n",
    "from PyRadioLoc.Pathloss.Models import OkumuraHataModel"
   ]
  },
  {
   "cell_type": "code",
   "execution_count": 2,
   "metadata": {},
   "outputs": [],
   "source": [
    "data = pd.read_csv(\"./databases/Outdoor_X_train_90%.csv\")"
   ]
  },
  {
   "cell_type": "markdown",
   "metadata": {},
   "source": [
    "# Gera grids 20x20, 30x30 e 40x40"
   ]
  },
  {
   "cell_type": "code",
   "execution_count": 3,
   "metadata": {},
   "outputs": [],
   "source": [
    "def generate_grids():\n",
    "    LAT_INI  = min(data['lat'])\n",
    "    LAT_FIN  = max(data['lat'])\n",
    "    LONG_INI = min(data['lon'])\n",
    "    LONG_FIN = max(data['lon'])\n",
    "    delta_x = max(GeoUtils.distanceInKm(LAT_INI, LONG_INI, LAT_INI, LONG_FIN),\n",
    "                  GeoUtils.distanceInKm(LAT_FIN, LONG_INI, LAT_FIN, LONG_FIN))\n",
    "    delta_y = max(GeoUtils.distanceInKm(LAT_INI, LONG_INI, LAT_FIN, LONG_INI),\n",
    "                  GeoUtils.distanceInKm(LAT_INI, LONG_FIN, LAT_FIN, LONG_FIN))\n",
    "    R = [5, 10, 20, 30, 40]               # dimensoes de cada célula m x m\n",
    "\n",
    "    # Para cada um das dimensoes de R calcula uma matriz de fingerprint e salva e um csv \n",
    "    for num in R:    \n",
    "        n_cells_x = math.ceil((delta_x * 1000) / num)\n",
    "        n_cells_y = math.ceil((delta_y * 1000) / num)\n",
    "\n",
    "        inc_lat = (LAT_FIN - LAT_INI) / n_cells_x\n",
    "        inc_lng = (LONG_FIN - LONG_INI) / n_cells_y\n",
    "\n",
    "        result = []\n",
    "\n",
    "        for i in range(n_cells_x):\n",
    "            for j in range(n_cells_y):\n",
    "                lat = LAT_INI + i * inc_lat\n",
    "                lng = LONG_INI + j * inc_lng\n",
    "                result.append((lat, lng))\n",
    "\n",
    "        # salva para o CSV\n",
    "        fingerprint_map = pd.DataFrame(result, columns=['lat', 'lon'])\n",
    "        fingerprint_map.to_csv(\"./Grid/grid_{}.csv\".format(num), index=False)\n",
    "\n",
    "        print(n_cells_x, n_cells_y)"
   ]
  },
  {
   "cell_type": "code",
   "execution_count": 4,
   "metadata": {},
   "outputs": [
    {
     "name": "stdout",
     "output_type": "stream",
     "text": [
      "325 291\n",
      "163 146\n",
      "82 73\n",
      "55 49\n",
      "41 37\n"
     ]
    }
   ],
   "source": [
    "generate_grids()"
   ]
  },
  {
   "cell_type": "markdown",
   "metadata": {},
   "source": [
    "# Aplica o modelo teorico de Cost231HataModel e gera os fingerprints"
   ]
  },
  {
   "cell_type": "code",
   "execution_count": 5,
   "metadata": {},
   "outputs": [],
   "source": [
    "FREQ_ERBS = 1800\n",
    "MODEL = Cost231HataModel(FREQ_ERBS)"
   ]
  },
  {
   "cell_type": "code",
   "execution_count": 6,
   "metadata": {},
   "outputs": [],
   "source": [
    "def calculate_erb_rssi(fingerprint, erb, model):\n",
    "    \"\"\"\n",
    "    Calcula todos os valores de rssi de uma erb para todos os pontos de um fingerprint\n",
    "    \"\"\"\n",
    "    rssi_list = []\n",
    "    eirp = erb['Eirp']\n",
    "    lat_erb = erb['lat']\n",
    "    lon_erb = erb['lon']\n",
    "    rssiId = erb['RssiId']\n",
    "\n",
    "    for n, point in fingerprint.iterrows():\n",
    "        lat = point['lat']\n",
    "        lon = point['lon']\n",
    "        \n",
    "        distance = GeoUtils.distanceInKm(lat_erb, lon_erb, lat, lon)\n",
    "        pathloss = model.pathloss(distance)\n",
    "        rssi = eirp - pathloss\n",
    "        rssi_list.append(rssi)\n",
    "    \n",
    "    return rssi_list\n",
    "\n",
    "def generate_grid(erbs, fingerprint):\n",
    "    \"\"\"\n",
    "    Gera um fingerprint e retorna como dataFrame\n",
    "    \"\"\"\n",
    "    rssi_dict = {}\n",
    "    for idx, erb in tqdm(erbs.iterrows()):\n",
    "        rssiId = erb['RssiId']\n",
    "        rssi_dict[rssiId] = calculate_erb_rssi(fingerprint, erb, MODEL)\n",
    "    grid = pd.DataFrame(rssi_dict)\n",
    "    return grid\n",
    "    \n",
    "def fingerprints_to_csv():\n",
    "    \"\"\"\n",
    "    Gera todos os fingerprints e salva em csv\n",
    "    \"\"\"\n",
    "    dims = [5, 10, 20, 30, 40]\n",
    "    erbs = pd.read_csv(\"./databases/Bts.csv\")\n",
    "    for dim in tqdm(dims):\n",
    "        fingerprint = pd.read_csv(\"./Grid/grid_{}.csv\".format(dim))\n",
    "        grid = generate_grid(erbs, fingerprint)\n",
    "        grid.insert(0, 'lat', fingerprint['lat'], True)\n",
    "        grid.insert(1, 'lon', fingerprint['lon'], True)\n",
    "        grid.to_csv(\"./Fingerprint/fingerprint_{}.csv\".format(dim), index=False)"
   ]
  },
  {
   "cell_type": "code",
   "execution_count": 7,
   "metadata": {},
   "outputs": [
    {
     "name": "stderr",
     "output_type": "stream",
     "text": [
      "  0%|                                                                                            | 0/5 [00:00<?, ?it/s]\n",
      "0it [00:00, ?it/s]\n",
      "1it [00:48, 48.72s/it]\n",
      "2it [01:37, 48.71s/it]\n",
      "3it [02:26, 48.95s/it]\n",
      "4it [03:10, 47.25s/it]\n",
      "5it [03:57, 47.17s/it]\n",
      "6it [04:43, 47.05s/it]\n",
      "7it [05:28, 46.25s/it]\n",
      "8it [06:12, 45.49s/it]\n",
      " 20%|████████████████▌                                                                  | 1/5 [07:00<28:01, 420.40s/it]\n",
      "0it [00:00, ?it/s]\n",
      "1it [00:11, 11.79s/it]\n",
      "2it [00:23, 11.78s/it]\n",
      "3it [00:34, 11.64s/it]\n",
      "4it [00:46, 11.51s/it]\n",
      "5it [00:57, 11.47s/it]\n",
      "6it [01:08, 11.41s/it]\n",
      "7it [01:19, 11.31s/it]\n",
      "8it [01:30, 11.23s/it]\n",
      " 40%|█████████████████████████████████▏                                                 | 2/5 [08:43<16:15, 325.16s/it]\n",
      "0it [00:00, ?it/s]\n",
      "1it [00:02,  2.99s/it]\n",
      "2it [00:05,  2.99s/it]\n",
      "3it [00:08,  2.98s/it]\n",
      "4it [00:11,  2.95s/it]\n",
      "5it [00:14,  2.92s/it]\n",
      "6it [00:17,  2.89s/it]\n",
      "7it [00:20,  2.86s/it]\n",
      "8it [00:22,  2.79s/it]\n",
      " 60%|█████████████████████████████████████████████████▊                                 | 3/5 [09:09<07:50, 235.42s/it]\n",
      "0it [00:00, ?it/s]\n",
      "1it [00:01,  1.35s/it]\n",
      "2it [00:02,  1.35s/it]\n",
      "3it [00:04,  1.34s/it]\n",
      "4it [00:05,  1.33s/it]\n",
      "5it [00:06,  1.32s/it]\n",
      "6it [00:07,  1.31s/it]\n",
      "7it [00:09,  1.29s/it]\n",
      "8it [00:10,  1.28s/it]\n",
      " 80%|██████████████████████████████████████████████████████████████████▍                | 4/5 [09:21<02:48, 168.33s/it]\n",
      "0it [00:00, ?it/s]\n",
      "1it [00:00,  1.33it/s]\n",
      "2it [00:01,  1.32it/s]\n",
      "3it [00:02,  1.32it/s]\n",
      "4it [00:03,  1.33it/s]\n",
      "5it [00:03,  1.35it/s]\n",
      "6it [00:04,  1.35it/s]\n",
      "7it [00:05,  1.36it/s]\n",
      "8it [00:05,  1.37it/s]\n",
      "100%|███████████████████████████████████████████████████████████████████████████████████| 5/5 [09:27<00:00, 119.84s/it]\n"
     ]
    }
   ],
   "source": [
    "# gera os fingerprints que estão em dims\n",
    "fingerprints_to_csv()"
   ]
  },
  {
   "cell_type": "code",
   "execution_count": null,
   "metadata": {},
   "outputs": [],
   "source": []
  }
 ],
 "metadata": {
  "kernelspec": {
   "display_name": "Python 3",
   "language": "python",
   "name": "python3"
  },
  "language_info": {
   "codemirror_mode": {
    "name": "ipython",
    "version": 3
   },
   "file_extension": ".py",
   "mimetype": "text/x-python",
   "name": "python",
   "nbconvert_exporter": "python",
   "pygments_lexer": "ipython3",
   "version": "3.7.3"
  }
 },
 "nbformat": 4,
 "nbformat_minor": 2
}
