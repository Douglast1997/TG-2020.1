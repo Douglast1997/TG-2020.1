{
 "cells": [
  {
   "cell_type": "code",
   "execution_count": 144,
   "metadata": {},
   "outputs": [],
   "source": [
    "import pandas as pd\n",
    "import numpy as np\n",
    "import math\n",
    "import os\n",
    "from matplotlib import pyplot as plt\n",
    "from PyRadioLoc.Utils.GeoUtils import GeoUtils\n",
    "%run UtilsLightGBMFingerPrinting.ipynb"
   ]
  },
  {
   "cell_type": "code",
   "execution_count": 145,
   "metadata": {},
   "outputs": [],
   "source": [
    "FILES = [\n",
    "    #'./FinalResult/Resultados_Metodo_1.csv',   # FingerPrinting + LightGBM\n",
    "    #'./FinalResult/Resultados_Metodo_2.csv',   # LightGBM Outdoor\n",
    "    #'./FinalResult/Resultados_Metodo_3.csv',   # LightGBM Indoor\n",
    "    #'./FinalResult/Resultados_Metodo_6.csv',   # LightGBM Outdoor\n",
    "    \n",
    "    './FinalResult/Resultados_Metodo_7.csv',  # CDB gerado com LightGBM dados Outdoor\n",
    "    './FinalResult/Resultados_Metodo_8.csv',  # CDB gerado com LightGBM dados Indoor\n",
    "    './FinalResult/Resultados_Metodo_9.csv',  # CDB gerado com LightGBM dados Indoor-Outdoor\n",
    "    \n",
    "    './FinalResult/Resultados_Metodo_10.csv',  # CDB gerado com SVR dados Outdoor\n",
    "    './FinalResult/Resultados_Metodo_11.csv',  # CDB gerado com SVR dados Indoor\n",
    "    './FinalResult/Resultados_Metodo_12.csv',  # CDB gerado com SVR dados Indoor-Outdoor\n",
    "    \n",
    "    #'./FinalResult/Resultados_Metodo_13.csv',  # CDB gerado com SVR dados Outdoor\n",
    "]\n",
    "METHODS = [x.split(\"_\")[-1].split(\".\")[0] for x in FILES]     # lista contendo os metodos que serão usados\n",
    "db = pd.read_csv('databases/meds_pandas.csv')\n",
    "erbs = pd.read_csv('databases/Bts.csv')\n",
    "#errorLocation = pd.read_csv('result/erros.csv')\n",
    "ERROS_CSV_FILE = './result/erros.csv' "
   ]
  },
  {
   "cell_type": "markdown",
   "metadata": {},
   "source": [
    "# 1. Análise dos Dados:"
   ]
  },
  {
   "cell_type": "code",
   "execution_count": 146,
   "metadata": {
    "scrolled": true
   },
   "outputs": [
    {
     "data": {
      "text/html": [
       "<div>\n",
       "<style scoped>\n",
       "    .dataframe tbody tr th:only-of-type {\n",
       "        vertical-align: middle;\n",
       "    }\n",
       "\n",
       "    .dataframe tbody tr th {\n",
       "        vertical-align: top;\n",
       "    }\n",
       "\n",
       "    .dataframe thead th {\n",
       "        text-align: right;\n",
       "    }\n",
       "</style>\n",
       "<table border=\"1\" class=\"dataframe\">\n",
       "  <thead>\n",
       "    <tr style=\"text-align: right;\">\n",
       "      <th></th>\n",
       "      <th>rssi_1_1</th>\n",
       "      <th>rssi_1_2</th>\n",
       "      <th>rssi_1_3</th>\n",
       "      <th>rssi_2_1</th>\n",
       "      <th>rssi_2_2</th>\n",
       "      <th>rssi_2_3</th>\n",
       "      <th>rssi_3_1</th>\n",
       "      <th>rssi_3_2</th>\n",
       "      <th>rssi_3_3</th>\n",
       "      <th>lat</th>\n",
       "      <th>...</th>\n",
       "      <th>ang_3</th>\n",
       "      <th>cos_3</th>\n",
       "      <th>sin_3</th>\n",
       "      <th>tg_3</th>\n",
       "      <th>delay_1</th>\n",
       "      <th>delay_2</th>\n",
       "      <th>delay_3</th>\n",
       "      <th>delay_12</th>\n",
       "      <th>delay_13</th>\n",
       "      <th>delay_23</th>\n",
       "    </tr>\n",
       "  </thead>\n",
       "  <tbody>\n",
       "    <tr>\n",
       "      <th>count</th>\n",
       "      <td>9679.0000</td>\n",
       "      <td>9679.0000</td>\n",
       "      <td>9679.0000</td>\n",
       "      <td>9679.0000</td>\n",
       "      <td>9679.0000</td>\n",
       "      <td>9679.0000</td>\n",
       "      <td>9679.0000</td>\n",
       "      <td>9679.0000</td>\n",
       "      <td>9679.0000</td>\n",
       "      <td>9679.0000</td>\n",
       "      <td>...</td>\n",
       "      <td>9679.0000</td>\n",
       "      <td>9679.0000</td>\n",
       "      <td>9679.0000</td>\n",
       "      <td>9679.0000</td>\n",
       "      <td>9679.0000</td>\n",
       "      <td>9679.0000</td>\n",
       "      <td>9679.0000</td>\n",
       "      <td>9679.0000</td>\n",
       "      <td>9679.0000</td>\n",
       "      <td>9679.0000</td>\n",
       "    </tr>\n",
       "    <tr>\n",
       "      <th>mean</th>\n",
       "      <td>-100.8505</td>\n",
       "      <td>-105.7477</td>\n",
       "      <td>-100.5873</td>\n",
       "      <td>-103.4908</td>\n",
       "      <td>-97.2664</td>\n",
       "      <td>-97.2438</td>\n",
       "      <td>-93.6884</td>\n",
       "      <td>-93.3174</td>\n",
       "      <td>-107.5162</td>\n",
       "      <td>-8.0545</td>\n",
       "      <td>...</td>\n",
       "      <td>80.3135</td>\n",
       "      <td>0.0929</td>\n",
       "      <td>0.8970</td>\n",
       "      <td>70.6708</td>\n",
       "      <td>5.5572</td>\n",
       "      <td>3.6169</td>\n",
       "      <td>3.1494</td>\n",
       "      <td>1.9403</td>\n",
       "      <td>2.4078</td>\n",
       "      <td>0.4675</td>\n",
       "    </tr>\n",
       "    <tr>\n",
       "      <th>std</th>\n",
       "      <td>9.9980</td>\n",
       "      <td>10.4036</td>\n",
       "      <td>9.9710</td>\n",
       "      <td>13.5565</td>\n",
       "      <td>8.9615</td>\n",
       "      <td>10.0726</td>\n",
       "      <td>7.6479</td>\n",
       "      <td>8.1451</td>\n",
       "      <td>10.9900</td>\n",
       "      <td>0.0024</td>\n",
       "      <td>...</td>\n",
       "      <td>31.2931</td>\n",
       "      <td>0.3136</td>\n",
       "      <td>0.2975</td>\n",
       "      <td>5598.7125</td>\n",
       "      <td>1.0481</td>\n",
       "      <td>1.0525</td>\n",
       "      <td>1.0013</td>\n",
       "      <td>1.4936</td>\n",
       "      <td>1.7919</td>\n",
       "      <td>1.8361</td>\n",
       "    </tr>\n",
       "    <tr>\n",
       "      <th>min</th>\n",
       "      <td>-115.0000</td>\n",
       "      <td>-115.0000</td>\n",
       "      <td>-115.0000</td>\n",
       "      <td>-115.0000</td>\n",
       "      <td>-115.0000</td>\n",
       "      <td>-115.0000</td>\n",
       "      <td>-113.3000</td>\n",
       "      <td>-115.6300</td>\n",
       "      <td>-115.0000</td>\n",
       "      <td>-8.0596</td>\n",
       "      <td>...</td>\n",
       "      <td>-178.3209</td>\n",
       "      <td>-0.9996</td>\n",
       "      <td>-1.0000</td>\n",
       "      <td>-769.9706</td>\n",
       "      <td>1.0000</td>\n",
       "      <td>1.0000</td>\n",
       "      <td>0.0000</td>\n",
       "      <td>-4.0000</td>\n",
       "      <td>-4.0000</td>\n",
       "      <td>-5.0000</td>\n",
       "    </tr>\n",
       "    <tr>\n",
       "      <th>25%</th>\n",
       "      <td>-107.6500</td>\n",
       "      <td>-115.0000</td>\n",
       "      <td>-107.1486</td>\n",
       "      <td>-115.0000</td>\n",
       "      <td>-102.5800</td>\n",
       "      <td>-101.7014</td>\n",
       "      <td>-99.4800</td>\n",
       "      <td>-99.0050</td>\n",
       "      <td>-115.0000</td>\n",
       "      <td>-8.0558</td>\n",
       "      <td>...</td>\n",
       "      <td>88.7705</td>\n",
       "      <td>-0.0729</td>\n",
       "      <td>0.9771</td>\n",
       "      <td>-33.2684</td>\n",
       "      <td>6.0000</td>\n",
       "      <td>3.0000</td>\n",
       "      <td>3.0000</td>\n",
       "      <td>2.0000</td>\n",
       "      <td>3.0000</td>\n",
       "      <td>0.0000</td>\n",
       "    </tr>\n",
       "    <tr>\n",
       "      <th>50%</th>\n",
       "      <td>-103.0400</td>\n",
       "      <td>-110.4250</td>\n",
       "      <td>-99.7500</td>\n",
       "      <td>-108.4300</td>\n",
       "      <td>-97.2000</td>\n",
       "      <td>-95.6157</td>\n",
       "      <td>-94.9433</td>\n",
       "      <td>-95.6300</td>\n",
       "      <td>-115.0000</td>\n",
       "      <td>-8.0555</td>\n",
       "      <td>...</td>\n",
       "      <td>91.7217</td>\n",
       "      <td>-0.0300</td>\n",
       "      <td>0.9973</td>\n",
       "      <td>-13.6790</td>\n",
       "      <td>6.0000</td>\n",
       "      <td>4.0000</td>\n",
       "      <td>3.0000</td>\n",
       "      <td>2.0000</td>\n",
       "      <td>3.0000</td>\n",
       "      <td>0.0000</td>\n",
       "    </tr>\n",
       "    <tr>\n",
       "      <th>75%</th>\n",
       "      <td>-93.5429</td>\n",
       "      <td>-97.3500</td>\n",
       "      <td>-93.4346</td>\n",
       "      <td>-96.7033</td>\n",
       "      <td>-92.0800</td>\n",
       "      <td>-92.0136</td>\n",
       "      <td>-89.4450</td>\n",
       "      <td>-89.3740</td>\n",
       "      <td>-97.6000</td>\n",
       "      <td>-8.0553</td>\n",
       "      <td>...</td>\n",
       "      <td>94.1812</td>\n",
       "      <td>-0.0043</td>\n",
       "      <td>0.9996</td>\n",
       "      <td>-0.8376</td>\n",
       "      <td>6.0000</td>\n",
       "      <td>4.0000</td>\n",
       "      <td>3.0000</td>\n",
       "      <td>3.0000</td>\n",
       "      <td>3.0000</td>\n",
       "      <td>1.0000</td>\n",
       "    </tr>\n",
       "    <tr>\n",
       "      <th>max</th>\n",
       "      <td>-61.3800</td>\n",
       "      <td>-64.8200</td>\n",
       "      <td>-60.6400</td>\n",
       "      <td>-36.9600</td>\n",
       "      <td>-55.5500</td>\n",
       "      <td>-56.9800</td>\n",
       "      <td>-52.6900</td>\n",
       "      <td>-55.8700</td>\n",
       "      <td>-50.1000</td>\n",
       "      <td>-8.0464</td>\n",
       "      <td>...</td>\n",
       "      <td>175.1856</td>\n",
       "      <td>1.0000</td>\n",
       "      <td>1.0000</td>\n",
       "      <td>486759.9534</td>\n",
       "      <td>8.0000</td>\n",
       "      <td>7.0000</td>\n",
       "      <td>7.0000</td>\n",
       "      <td>5.0000</td>\n",
       "      <td>7.0000</td>\n",
       "      <td>7.0000</td>\n",
       "    </tr>\n",
       "  </tbody>\n",
       "</table>\n",
       "<p>8 rows × 41 columns</p>\n",
       "</div>"
      ],
      "text/plain": [
       "        rssi_1_1   rssi_1_2   rssi_1_3   rssi_2_1   rssi_2_2   rssi_2_3  \\\n",
       "count  9679.0000  9679.0000  9679.0000  9679.0000  9679.0000  9679.0000   \n",
       "mean   -100.8505  -105.7477  -100.5873  -103.4908   -97.2664   -97.2438   \n",
       "std       9.9980    10.4036     9.9710    13.5565     8.9615    10.0726   \n",
       "min    -115.0000  -115.0000  -115.0000  -115.0000  -115.0000  -115.0000   \n",
       "25%    -107.6500  -115.0000  -107.1486  -115.0000  -102.5800  -101.7014   \n",
       "50%    -103.0400  -110.4250   -99.7500  -108.4300   -97.2000   -95.6157   \n",
       "75%     -93.5429   -97.3500   -93.4346   -96.7033   -92.0800   -92.0136   \n",
       "max     -61.3800   -64.8200   -60.6400   -36.9600   -55.5500   -56.9800   \n",
       "\n",
       "        rssi_3_1   rssi_3_2   rssi_3_3        lat  ...      ang_3      cos_3  \\\n",
       "count  9679.0000  9679.0000  9679.0000  9679.0000  ...  9679.0000  9679.0000   \n",
       "mean    -93.6884   -93.3174  -107.5162    -8.0545  ...    80.3135     0.0929   \n",
       "std       7.6479     8.1451    10.9900     0.0024  ...    31.2931     0.3136   \n",
       "min    -113.3000  -115.6300  -115.0000    -8.0596  ...  -178.3209    -0.9996   \n",
       "25%     -99.4800   -99.0050  -115.0000    -8.0558  ...    88.7705    -0.0729   \n",
       "50%     -94.9433   -95.6300  -115.0000    -8.0555  ...    91.7217    -0.0300   \n",
       "75%     -89.4450   -89.3740   -97.6000    -8.0553  ...    94.1812    -0.0043   \n",
       "max     -52.6900   -55.8700   -50.1000    -8.0464  ...   175.1856     1.0000   \n",
       "\n",
       "           sin_3         tg_3    delay_1    delay_2    delay_3   delay_12  \\\n",
       "count  9679.0000    9679.0000  9679.0000  9679.0000  9679.0000  9679.0000   \n",
       "mean      0.8970      70.6708     5.5572     3.6169     3.1494     1.9403   \n",
       "std       0.2975    5598.7125     1.0481     1.0525     1.0013     1.4936   \n",
       "min      -1.0000    -769.9706     1.0000     1.0000     0.0000    -4.0000   \n",
       "25%       0.9771     -33.2684     6.0000     3.0000     3.0000     2.0000   \n",
       "50%       0.9973     -13.6790     6.0000     4.0000     3.0000     2.0000   \n",
       "75%       0.9996      -0.8376     6.0000     4.0000     3.0000     3.0000   \n",
       "max       1.0000  486759.9534     8.0000     7.0000     7.0000     5.0000   \n",
       "\n",
       "        delay_13   delay_23  \n",
       "count  9679.0000  9679.0000  \n",
       "mean      2.4078     0.4675  \n",
       "std       1.7919     1.8361  \n",
       "min      -4.0000    -5.0000  \n",
       "25%       3.0000     0.0000  \n",
       "50%       3.0000     0.0000  \n",
       "75%       3.0000     1.0000  \n",
       "max       7.0000     7.0000  \n",
       "\n",
       "[8 rows x 41 columns]"
      ]
     },
     "execution_count": 146,
     "metadata": {},
     "output_type": "execute_result"
    }
   ],
   "source": [
    "data = pd.read_csv(\"./databases/meds_pandas.csv\")\n",
    "data = data.drop(\"idx\", axis = 1)\n",
    "data = data.drop(\"indoor\", axis = 1)\n",
    "round(data.describe(), 4)"
   ]
  },
  {
   "cell_type": "markdown",
   "metadata": {},
   "source": [
    "# 2. Erros de localização médio, mínimo, máximo e desvio padrão"
   ]
  },
  {
   "cell_type": "code",
   "execution_count": 147,
   "metadata": {},
   "outputs": [],
   "source": [
    "def calculate_errors(df_real, df_predict):\n",
    "    \"\"\"\n",
    "    Retorna uma lista contendo os erros em metros de todos os pontos no real e na predição\n",
    "    \"\"\"\n",
    "    df_merged = merge_on_pontoId(df_predict, df_real)\n",
    "    errors = []\n",
    "    \n",
    "    for idx, point in df_merged.iterrows():\n",
    "        distance = GeoUtils.distanceInKm(point.lat, point.lon, point.lat_pred, point.lon_pred)\n",
    "        errors.append(round(distance * 1000, 2))\n",
    "        \n",
    "    return errors\n",
    "\n",
    "def calculate_theorical_errors():\n",
    "    df_real = pd.read_csv(\"./databases/meds_pandas.csv\")\n",
    "    dict_errors = {}\n",
    "    \n",
    "    for file, method in zip(FILES,METHODS):\n",
    "        df_predict = pd.read_csv(file)\n",
    "        dict_errors[method] = calculate_errors(df_real, df_predict)\n",
    "    \n",
    "    return pd.DataFrame(dict_errors)"
   ]
  },
  {
   "cell_type": "code",
   "execution_count": 148,
   "metadata": {},
   "outputs": [
    {
     "data": {
      "text/html": [
       "<div>\n",
       "<style scoped>\n",
       "    .dataframe tbody tr th:only-of-type {\n",
       "        vertical-align: middle;\n",
       "    }\n",
       "\n",
       "    .dataframe tbody tr th {\n",
       "        vertical-align: top;\n",
       "    }\n",
       "\n",
       "    .dataframe thead th {\n",
       "        text-align: right;\n",
       "    }\n",
       "</style>\n",
       "<table border=\"1\" class=\"dataframe\">\n",
       "  <thead>\n",
       "    <tr style=\"text-align: right;\">\n",
       "      <th></th>\n",
       "      <th>7</th>\n",
       "      <th>8</th>\n",
       "      <th>9</th>\n",
       "      <th>10</th>\n",
       "      <th>11</th>\n",
       "      <th>12</th>\n",
       "    </tr>\n",
       "  </thead>\n",
       "  <tbody>\n",
       "    <tr>\n",
       "      <th>count</th>\n",
       "      <td>150.00</td>\n",
       "      <td>150.00</td>\n",
       "      <td>150.00</td>\n",
       "      <td>150.00</td>\n",
       "      <td>150.00</td>\n",
       "      <td>150.00</td>\n",
       "    </tr>\n",
       "    <tr>\n",
       "      <th>mean</th>\n",
       "      <td>47.83</td>\n",
       "      <td>89.39</td>\n",
       "      <td>63.52</td>\n",
       "      <td>49.07</td>\n",
       "      <td>90.66</td>\n",
       "      <td>73.27</td>\n",
       "    </tr>\n",
       "    <tr>\n",
       "      <th>std</th>\n",
       "      <td>44.99</td>\n",
       "      <td>19.37</td>\n",
       "      <td>37.15</td>\n",
       "      <td>44.72</td>\n",
       "      <td>26.86</td>\n",
       "      <td>40.23</td>\n",
       "    </tr>\n",
       "    <tr>\n",
       "      <th>min</th>\n",
       "      <td>1.17</td>\n",
       "      <td>57.09</td>\n",
       "      <td>1.19</td>\n",
       "      <td>3.70</td>\n",
       "      <td>32.13</td>\n",
       "      <td>2.55</td>\n",
       "    </tr>\n",
       "    <tr>\n",
       "      <th>25%</th>\n",
       "      <td>15.45</td>\n",
       "      <td>72.39</td>\n",
       "      <td>26.08</td>\n",
       "      <td>17.37</td>\n",
       "      <td>72.88</td>\n",
       "      <td>40.82</td>\n",
       "    </tr>\n",
       "    <tr>\n",
       "      <th>50%</th>\n",
       "      <td>29.14</td>\n",
       "      <td>89.89</td>\n",
       "      <td>64.96</td>\n",
       "      <td>32.74</td>\n",
       "      <td>87.04</td>\n",
       "      <td>76.33</td>\n",
       "    </tr>\n",
       "    <tr>\n",
       "      <th>75%</th>\n",
       "      <td>68.83</td>\n",
       "      <td>112.58</td>\n",
       "      <td>93.25</td>\n",
       "      <td>71.48</td>\n",
       "      <td>104.99</td>\n",
       "      <td>102.64</td>\n",
       "    </tr>\n",
       "    <tr>\n",
       "      <th>max</th>\n",
       "      <td>212.45</td>\n",
       "      <td>125.79</td>\n",
       "      <td>153.60</td>\n",
       "      <td>198.90</td>\n",
       "      <td>137.37</td>\n",
       "      <td>169.65</td>\n",
       "    </tr>\n",
       "  </tbody>\n",
       "</table>\n",
       "</div>"
      ],
      "text/plain": [
       "            7       8       9      10      11      12\n",
       "count  150.00  150.00  150.00  150.00  150.00  150.00\n",
       "mean    47.83   89.39   63.52   49.07   90.66   73.27\n",
       "std     44.99   19.37   37.15   44.72   26.86   40.23\n",
       "min      1.17   57.09    1.19    3.70   32.13    2.55\n",
       "25%     15.45   72.39   26.08   17.37   72.88   40.82\n",
       "50%     29.14   89.89   64.96   32.74   87.04   76.33\n",
       "75%     68.83  112.58   93.25   71.48  104.99  102.64\n",
       "max    212.45  125.79  153.60  198.90  137.37  169.65"
      ]
     },
     "execution_count": 148,
     "metadata": {},
     "output_type": "execute_result"
    }
   ],
   "source": [
    "# Gera o dataframe contendo os erros\n",
    "errors_df = calculate_theorical_errors()\n",
    "round(errors_df.describe(), 2)"
   ]
  },
  {
   "cell_type": "code",
   "execution_count": 149,
   "metadata": {},
   "outputs": [],
   "source": [
    "errors_df.to_csv(ERROS_CSV_FILE, index=False)"
   ]
  },
  {
   "cell_type": "markdown",
   "metadata": {},
   "source": [
    "# 3. Histograma dos erros (em metros)"
   ]
  },
  {
   "cell_type": "code",
   "execution_count": 44,
   "metadata": {},
   "outputs": [
    {
     "data": {
      "image/png": "[encoded data removed]",
      "text/plain": [
       "<Figure size 432x288 with 1 Axes>"
      ]
     },
     "metadata": {
      "needs_background": "light"
     },
     "output_type": "display_data"
    },
    {
     "data": {
      "image/png": "[encoded data removed]",
      "text/plain": [
       "<Figure size 432x288 with 1 Axes>"
      ]
     },
     "metadata": {
      "needs_background": "light"
     },
     "output_type": "display_data"
    },
    {
     "data": {
      "image/png": "[encoded data removed]",
      "text/plain": [
       "<Figure size 432x288 with 1 Axes>"
      ]
     },
     "metadata": {
      "needs_background": "light"
     },
     "output_type": "display_data"
    },
    {
     "data": {
      "image/png": "[encoded data removed]",
      "text/plain": [
       "<Figure size 432x288 with 1 Axes>"
      ]
     },
     "metadata": {
      "needs_background": "light"
     },
     "output_type": "display_data"
    },
    {
     "data": {
      "image/png": "[encoded data removed]",
      "text/plain": [
       "<Figure size 432x288 with 1 Axes>"
      ]
     },
     "metadata": {
      "needs_background": "light"
     },
     "output_type": "display_data"
    },
    {
     "data": {
      "image/png": "[encoded data removed]",
      "text/plain": [
       "<Figure size 432x288 with 1 Axes>"
      ]
     },
     "metadata": {
      "needs_background": "light"
     },
     "output_type": "display_data"
    }
   ],
   "source": [
    "for i in METHODS:\n",
    "    errorLocation = pd.read_csv(ERROS_CSV_FILE)\n",
    "    plt.title(\"Histograma de Erros de Localização Método\" + str(i))\n",
    "    histogram_example = plt.hist(errorLocation[str(i)], bins='auto')\n",
    "    plt.xlabel('Metros')\n",
    "    plt.ylabel('Amostras')\n",
    "    plt.show()"
   ]
  },
  {
   "cell_type": "markdown",
   "metadata": {},
   "source": [
    "# 4. Boxplot dos erros (em metros)"
   ]
  },
  {
   "cell_type": "code",
   "execution_count": 8,
   "metadata": {},
   "outputs": [
    {
     "data": {
      "image/png": "[encoded data removed]",
      "text/plain": [
       "<Figure size 432x288 with 1 Axes>"
      ]
     },
     "metadata": {
      "needs_background": "light"
     },
     "output_type": "display_data"
    },
    {
     "data": {
      "image/png": "[encoded data removed]",
      "text/plain": [
       "<Figure size 432x288 with 1 Axes>"
      ]
     },
     "metadata": {
      "needs_background": "light"
     },
     "output_type": "display_data"
    },
    {
     "data": {
      "image/png": "[encoded data removed]",
      "text/plain": [
       "<Figure size 432x288 with 1 Axes>"
      ]
     },
     "metadata": {
      "needs_background": "light"
     },
     "output_type": "display_data"
    },
    {
     "data": {
      "image/png": "[encoded data removed]",
      "text/plain": [
       "<Figure size 432x288 with 1 Axes>"
      ]
     },
     "metadata": {
      "needs_background": "light"
     },
     "output_type": "display_data"
    },
    {
     "data": {
      "image/png": "[encoded data removed]",
      "text/plain": [
       "<Figure size 432x288 with 1 Axes>"
      ]
     },
     "metadata": {
      "needs_background": "light"
     },
     "output_type": "display_data"
    },
    {
     "data": {
      "image/png": "[encoded data removed]",
      "text/plain": [
       "<Figure size 432x288 with 1 Axes>"
      ]
     },
     "metadata": {
      "needs_background": "light"
     },
     "output_type": "display_data"
    }
   ],
   "source": [
    "for i in METHODS:\n",
    "    boxplotErrorLocationM1 = errorLocation.boxplot(column=[str(i)], notch = True, patch_artist = True)\n",
    "    plt.title(\"Boxplot de Erros de Localização Método \"+ str(i))\n",
    "    plt.xlabel('Método '+ str(i))\n",
    "    plt.ylabel('Metros')\n",
    "    plt.show()"
   ]
  },
  {
   "cell_type": "code",
   "execution_count": 22,
   "metadata": {},
   "outputs": [
    {
     "data": {
      "text/plain": [
       "rssi_1_1    613\n",
       "rssi_1_2    613\n",
       "rssi_1_3    613\n",
       "rssi_2_1    613\n",
       "rssi_2_2    613\n",
       "rssi_2_3    613\n",
       "rssi_3_1    613\n",
       "rssi_3_2    613\n",
       "rssi_3_3    613\n",
       "dtype: int64"
      ]
     },
     "execution_count": 22,
     "metadata": {},
     "output_type": "execute_result"
    }
   ],
   "source": [
    "y_test = pd.read_csv(\"databasesTCC/Outdoor_y_test_10%.csv\")\n",
    "y_test.count()"
   ]
  },
  {
   "cell_type": "code",
   "execution_count": 23,
   "metadata": {},
   "outputs": [
    {
     "data": {
      "text/plain": [
       "idx         5292\n",
       "lat         5292\n",
       "lon         5292\n",
       "dist_1      5292\n",
       "dist_2      5292\n",
       "dist_3      5292\n",
       "ang_1       5292\n",
       "cos_1       5292\n",
       "sin_1       5292\n",
       "tg_1        5292\n",
       "ang_2       5292\n",
       "cos_2       5292\n",
       "sin_2       5292\n",
       "tg_2        5292\n",
       "ang_3       5292\n",
       "cos_3       5292\n",
       "sin_3       5292\n",
       "tg_3        5292\n",
       "delay_1     5292\n",
       "delay_2     5292\n",
       "delay_3     5292\n",
       "delay_12    5292\n",
       "delay_13    5292\n",
       "delay_23    5292\n",
       "dtype: int64"
      ]
     },
     "execution_count": 23,
     "metadata": {},
     "output_type": "execute_result"
    }
   ],
   "source": [
    "y_test = pd.read_csv(\"databasesTCC/indoor_X_train_90%.csv\")\n",
    "y_test.count()"
   ]
  },
  {
   "cell_type": "code",
   "execution_count": 24,
   "metadata": {},
   "outputs": [
    {
     "data": {
      "text/plain": [
       "idx         1323\n",
       "lat         1323\n",
       "lon         1323\n",
       "dist_1      1323\n",
       "dist_2      1323\n",
       "dist_3      1323\n",
       "ang_1       1323\n",
       "cos_1       1323\n",
       "sin_1       1323\n",
       "tg_1        1323\n",
       "ang_2       1323\n",
       "cos_2       1323\n",
       "sin_2       1323\n",
       "tg_2        1323\n",
       "ang_3       1323\n",
       "cos_3       1323\n",
       "sin_3       1323\n",
       "tg_3        1323\n",
       "delay_1     1323\n",
       "delay_2     1323\n",
       "delay_3     1323\n",
       "delay_12    1323\n",
       "delay_13    1323\n",
       "delay_23    1323\n",
       "dtype: int64"
      ]
     },
     "execution_count": 24,
     "metadata": {},
     "output_type": "execute_result"
    }
   ],
   "source": [
    "y_test = pd.read_csv(\"databasesTCC/indoor_X_test_10%.csv\")\n",
    "y_test.count()"
   ]
  },
  {
   "cell_type": "code",
   "execution_count": null,
   "metadata": {},
   "outputs": [],
   "source": []
  },
  {
   "cell_type": "code",
   "execution_count": null,
   "metadata": {},
   "outputs": [],
   "source": []
  }
 ],
 "metadata": {
  "kernelspec": {
   "display_name": "Python 3",
   "language": "python",
   "name": "python3"
  },
  "language_info": {
   "codemirror_mode": {
    "name": "ipython",
    "version": 3
   },
   "file_extension": ".py",
   "mimetype": "text/x-python",
   "name": "python",
   "nbconvert_exporter": "python",
   "pygments_lexer": "ipython3",
   "version": "3.7.3"
  }
 },
 "nbformat": 4,
 "nbformat_minor": 2
}
