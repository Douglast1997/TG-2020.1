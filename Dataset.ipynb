{
 "cells": [
  {
   "cell_type": "code",
   "execution_count": 14,
   "metadata": {},
   "outputs": [],
   "source": [
    "import numpy as np\n",
    "import pandas as pd\n",
    "\n",
    "datadf = pd.read_csv(\"databasesTCC/meds_pandasTCC.csv\")\n",
    "#datadf"
   ]
  },
  {
   "cell_type": "code",
   "execution_count": 15,
   "metadata": {},
   "outputs": [
    {
     "data": {
      "text/plain": [
       "indoor     6615\n",
       "outdoor    3064\n",
       "dtype: int64"
      ]
     },
     "execution_count": 15,
     "metadata": {},
     "output_type": "execute_result"
    }
   ],
   "source": [
    "def Count_Indoor_Outdoor():\n",
    "    datadf = pd.read_csv(\"databasesTCC/meds_pandasTCC.csv\")\n",
    "\n",
    "    index = ['indoor', 'outdoor']\n",
    "    \n",
    "    # Select data where indoor feature equals True and False for each indoor and outdoor values\n",
    "    indoor = np.where(datadf['indoor'] == True);\n",
    "    outdoor = np.where(datadf['indoor'] == False);\n",
    "    \n",
    "    # Get sizes and build a matrice\n",
    "    data = [np.size(indoor), np.size(outdoor)]\n",
    "    #print(data)\n",
    "    \n",
    "    # Construct a series object\n",
    "    series = pd.Series(data, index=index)\n",
    "    \n",
    "    return series # Return your answer\n",
    "\n",
    "\n",
    "Count_Indoor_Outdoor()"
   ]
  },
  {
   "cell_type": "code",
   "execution_count": 16,
   "metadata": {},
   "outputs": [],
   "source": [
    "def DatasetIndoorOutdoor():\n",
    "\n",
    "    indoordf = datadf.loc[(datadf['indoor'] == True)]\n",
    "    indoordf = indoordf.drop(columns=['indoor'])\n",
    "    indoordf.to_csv (r'databasesTCC/Indoordf.csv', index = False, header=True)\n",
    "    #print (indoordf)\n",
    "    outdoordf = datadf.loc[(datadf['indoor'] == False)]\n",
    "    outdoordf = outdoordf.drop(columns=['indoor'])\n",
    "    outdoordf.to_csv (r'databasesTCC/Outdoordf.csv', index = False, header=True)\n",
    "    #print (outdoordf)\n",
    "\n",
    "    return outdoordf, indoordf"
   ]
  },
  {
   "cell_type": "code",
   "execution_count": 17,
   "metadata": {},
   "outputs": [],
   "source": [
    "#Split the DataFrame into X (the data) and y (the labels).\n",
    "def SplitDataAndLabels():\n",
    "    outdoordf, indoordf = DatasetIndoorOutdoor()\n",
    "    \n",
    "    # Drop target column, axis=1 means drop column with given name, axis=0 means drop row.\n",
    "    X_outdoordf = outdoordf\n",
    "    X_outdoordf = outdoordf.drop(['rssi_1_1','rssi_1_2','rssi_1_3','rssi_2_1','rssi_2_2','rssi_2_3','rssi_3_1','rssi_3_2','rssi_3_3'], axis = 1)\n",
    "    #X_outdoordf = X_outdoordf.drop('lon', axis = 1)\n",
    "    y_outdoordf = outdoordf[['rssi_1_1','rssi_1_2','rssi_1_3','rssi_2_1','rssi_2_2','rssi_2_3','rssi_3_1','rssi_3_2','rssi_3_3']]\n",
    "    X_indoordf = indoordf\n",
    "    X_indoordf = indoordf.drop(['rssi_1_1','rssi_1_2','rssi_1_3','rssi_2_1','rssi_2_2','rssi_2_3','rssi_3_1','rssi_3_2','rssi_3_3'], axis = 1)\n",
    "    #X_indoordf = X_indoordf.drop('lon', axis = 1)\n",
    "    y_indoordf = indoordf[['rssi_1_1','rssi_1_2','rssi_1_3','rssi_2_1','rssi_2_2','rssi_2_3','rssi_3_1','rssi_3_2','rssi_3_3']]\n",
    "    \n",
    "    \n",
    "    return X_outdoordf, y_outdoordf, X_indoordf, y_indoordf"
   ]
  },
  {
   "cell_type": "code",
   "execution_count": 18,
   "metadata": {},
   "outputs": [
    {
     "data": {
      "text/plain": [
       "(2451, 12)"
      ]
     },
     "execution_count": 18,
     "metadata": {},
     "output_type": "execute_result"
    }
   ],
   "source": [
    "#Outdoor:\n",
    "from sklearn.model_selection import train_test_split\n",
    "\n",
    "def answer_four():\n",
    "    X, y, X_indoordf, y_indoordf = SplitDataAndLabels()\n",
    "    \n",
    "    # Your code here\n",
    "    X_train, X_test, y_train, y_test = train_test_split(X, y,test_size = 0.20, random_state = 0)\n",
    "    return X_train, X_test, y_train, y_test\n",
    "\n",
    "X_train, X_test, y_train, y_test = answer_four()\n",
    "X_train.shape"
   ]
  },
  {
   "cell_type": "code",
   "execution_count": 19,
   "metadata": {},
   "outputs": [],
   "source": [
    "X_train.to_csv (r'databasesTCC/Outdoor_X_train_90%.csv', index = False, header=True)\n",
    "X_test.to_csv (r'databasesTCC/Outdoor_X_test_10%.csv', index = False, header=True)\n",
    "y_train.to_csv (r'databasesTCC/Outdoor_y_train_90%.csv', index = False, header=True)\n",
    "y_test.to_csv (r'databasesTCC/Outdoor_y_test_10%.csv', index = False, header=True)\n"
   ]
  },
  {
   "cell_type": "markdown",
   "metadata": {},
   "source": [
    "# Indoor"
   ]
  },
  {
   "cell_type": "code",
   "execution_count": 20,
   "metadata": {},
   "outputs": [
    {
     "data": {
      "text/plain": [
       "(5292, 12)"
      ]
     },
     "execution_count": 20,
     "metadata": {},
     "output_type": "execute_result"
    }
   ],
   "source": [
    "#Indoor:\n",
    "from sklearn.model_selection import train_test_split\n",
    "\n",
    "def DatabasesTestIndoor():\n",
    "    X_outdoordf, y_outdoordf, X_indoordf, y_indoordf = SplitDataAndLabels()\n",
    "    \n",
    "    # Your code here\n",
    "    X_train, X_test, y_train, y_test = train_test_split(X_indoordf, y_indoordf,test_size = 0.20, random_state = 0)\n",
    "    return X_train, X_test, y_train, y_test\n",
    "\n",
    "X_train, X_test, y_train, y_test = DatabasesTestIndoor()\n",
    "X_train.shape"
   ]
  },
  {
   "cell_type": "code",
   "execution_count": 21,
   "metadata": {},
   "outputs": [],
   "source": [
    "X_train.to_csv (r'databasesTCC/indoor_X_train_90%.csv', index = False, header=True)\n",
    "X_test.to_csv (r'databasesTCC/indoor_X_test_10%.csv', index = False, header=True)\n",
    "y_train.to_csv (r'databasesTCC/indoor_y_train_90%.csv', index = False, header=True)\n",
    "y_test.to_csv (r'databasesTCC/indoor_y_test_10%.csv', index = False, header=True)"
   ]
  },
  {
   "cell_type": "code",
   "execution_count": null,
   "metadata": {},
   "outputs": [],
   "source": []
  },
  {
   "cell_type": "code",
   "execution_count": null,
   "metadata": {},
   "outputs": [],
   "source": []
  }
 ],
 "metadata": {
  "kernelspec": {
   "display_name": "Python 3",
   "language": "python",
   "name": "python3"
  },
  "language_info": {
   "codemirror_mode": {
    "name": "ipython",
    "version": 3
   },
   "file_extension": ".py",
   "mimetype": "text/x-python",
   "name": "python",
   "nbconvert_exporter": "python",
   "pygments_lexer": "ipython3",
   "version": "3.7.3"
  }
 },
 "nbformat": 4,
 "nbformat_minor": 2
}
