{
 "cells": [
  {
   "cell_type": "code",
   "execution_count": 1,
   "metadata": {},
   "outputs": [
    {
     "name": "stderr",
     "output_type": "stream",
     "text": [
      "400it [00:29, 13.59it/s]\n",
      "400it [00:25, 15.39it/s]\n",
      "400it [00:27, 14.64it/s]\n",
      "400it [00:28, 12.27it/s]\n",
      "400it [00:23, 16.74it/s]\n",
      "400it [00:24, 18.43it/s]\n",
      "400it [00:25, 16.21it/s]\n",
      "400it [00:23, 17.33it/s]\n",
      "400it [00:24, 16.36it/s]\n",
      "400it [00:24, 15.67it/s]\n",
      "400it [00:22, 17.51it/s]\n",
      "400it [00:23, 20.31it/s]\n",
      "400it [00:25,  9.22it/s]\n",
      "400it [00:24, 16.57it/s]\n",
      "400it [00:25, 18.52it/s]\n"
     ]
    }
   ],
   "source": [
    "import pandas as pd\n",
    "import numpy as np\n",
    "import math\n",
    "import os\n",
    "from tqdm import tqdm\n",
    "from matplotlib import pyplot as plt\n",
    "from PyRadioLoc.Utils.GeoUtils import GeoUtils\n",
    "%run UtilsLightGBMFingerPrinting.ipynb\n",
    "%run Imports.ipynb\n",
    "# gera os resultados teoricos\n",
    "# k = 5 range(0,5)\n",
    "# k = 10 range(0,10)\n",
    "for i in range(0,5):\n",
    "    FILES = [\n",
    "        (3*i + 28,'./k-fold-LightGBM/Test-LightGBM-Outdoor-Fold'+str(i+1)+'.csv'), # Usar CDB_20_LightGBM_Complete_k-fold \n",
    "        (3*i + 29,'./k-fold-LightGBM/Indoor_Test.csv'), # Usar CDB_20_LightGBM_Complete_k-fold\n",
    "        #(3*i + 29,'./k-fold-LightGBM/Indoor_Test_k_fold10.csv'), # Usar CDB_20_LightGBM_Complete_k-fold\n",
    "        (3*i + 30,'./k-fold-LightGBM/Test-LightGBM-Indoor-Outdoor-Fold'+str(i+1)+'.csv') # Usar CDB_20_LightGBM_Complete_k-fold\n",
    "        ]\n",
    "    TEST_DATABASE = \"./k-fold-LightGBM/CDB-Fold\"+str(i+1)+\"-LightGBM.csv\"\n",
    "    #TEST_DATABASE = \"./CDB/CDB_20_LightGBM_Complete.csv\"\n",
    "    generate_theorical_results(FILES, TEST_DATABASE)\n",
    "FILES = [\n",
    "    \n",
    "    #k = 1 LightGBM\n",
    "    './FinalResult/Resultados_Metodo_28.csv',  # CDB gerado com LightGBM dados Outdoor\n",
    "    './FinalResult/Resultados_Metodo_29.csv',  # CDB gerado com LightGBM dados Indoor\n",
    "    './FinalResult/Resultados_Metodo_30.csv',  # CDB gerado com LightGBM dados Indoor-Outdoor\n",
    "    \n",
    "    #k = 2 LightGBM\n",
    "    './FinalResult/Resultados_Metodo_31.csv',  # CDB gerado com LightGBM dados Outdoor\n",
    "    './FinalResult/Resultados_Metodo_32.csv',  # CDB gerado com LightGBM dados Indoor\n",
    "    './FinalResult/Resultados_Metodo_33.csv',  # CDB gerado com LightGBM dados Indoor-Outdoor\n",
    "    \n",
    "    #k = 3 LightGBM\n",
    "    './FinalResult/Resultados_Metodo_34.csv',  # CDB gerado com LightGBM dados Outdoor\n",
    "    './FinalResult/Resultados_Metodo_35.csv',  # CDB gerado com LightGBM dados Indoor\n",
    "    './FinalResult/Resultados_Metodo_36.csv',  # CDB gerado com LightGBM dados Indoor-Outdoor\n",
    "    \n",
    "    #k = 4 LightGBM\n",
    "    './FinalResult/Resultados_Metodo_37.csv',  # CDB gerado com LightGBM dados Outdoor\n",
    "    './FinalResult/Resultados_Metodo_38.csv',  # CDB gerado com LightGBM dados Indoor\n",
    "    './FinalResult/Resultados_Metodo_39.csv',  # CDB gerado com LightGBM dados Indoor-Outdoor\n",
    "    \n",
    "    #k = 5 LightGBM\n",
    "    './FinalResult/Resultados_Metodo_40.csv',  # CDB gerado com LightGBM dados Outdoor\n",
    "    './FinalResult/Resultados_Metodo_41.csv',  # CDB gerado com LightGBM dados Indoor\n",
    "    './FinalResult/Resultados_Metodo_42.csv',  # CDB gerado com LightGBM dados Indoor-Outdoor\n",
    "    \n",
    "]\n",
    "METHODS = [x.split(\"_\")[-1].split(\".\")[0] for x in FILES]     # lista contendo os metodos que serão usados\n",
    "db = pd.read_csv('databases/meds_pandas.csv')\n",
    "erbs = pd.read_csv('databases/Bts.csv')\n",
    "#errorLocation = pd.read_csv('result/erros.csv')\n",
    "ERROS_CSV_FILE = './result-k-fold/erros-LightGBM-k-fold.csv' "
   ]
  },
  {
   "cell_type": "code",
   "execution_count": 2,
   "metadata": {},
   "outputs": [
    {
     "data": {
      "text/html": [
       "<div>\n",
       "<style scoped>\n",
       "    .dataframe tbody tr th:only-of-type {\n",
       "        vertical-align: middle;\n",
       "    }\n",
       "\n",
       "    .dataframe tbody tr th {\n",
       "        vertical-align: top;\n",
       "    }\n",
       "\n",
       "    .dataframe thead th {\n",
       "        text-align: right;\n",
       "    }\n",
       "</style>\n",
       "<table border=\"1\" class=\"dataframe\">\n",
       "  <thead>\n",
       "    <tr style=\"text-align: right;\">\n",
       "      <th></th>\n",
       "      <th>28</th>\n",
       "      <th>29</th>\n",
       "      <th>30</th>\n",
       "      <th>31</th>\n",
       "      <th>32</th>\n",
       "      <th>33</th>\n",
       "      <th>34</th>\n",
       "      <th>35</th>\n",
       "      <th>36</th>\n",
       "      <th>37</th>\n",
       "      <th>38</th>\n",
       "      <th>39</th>\n",
       "      <th>40</th>\n",
       "      <th>41</th>\n",
       "      <th>42</th>\n",
       "    </tr>\n",
       "  </thead>\n",
       "  <tbody>\n",
       "    <tr>\n",
       "      <th>count</th>\n",
       "      <td>400.00</td>\n",
       "      <td>400.00</td>\n",
       "      <td>400.00</td>\n",
       "      <td>400.00</td>\n",
       "      <td>400.00</td>\n",
       "      <td>400.00</td>\n",
       "      <td>400.00</td>\n",
       "      <td>400.00</td>\n",
       "      <td>400.00</td>\n",
       "      <td>400.00</td>\n",
       "      <td>400.00</td>\n",
       "      <td>400.00</td>\n",
       "      <td>400.00</td>\n",
       "      <td>400.00</td>\n",
       "      <td>400.00</td>\n",
       "    </tr>\n",
       "    <tr>\n",
       "      <th>mean</th>\n",
       "      <td>39.62</td>\n",
       "      <td>74.26</td>\n",
       "      <td>56.55</td>\n",
       "      <td>38.48</td>\n",
       "      <td>70.11</td>\n",
       "      <td>54.64</td>\n",
       "      <td>37.48</td>\n",
       "      <td>73.45</td>\n",
       "      <td>54.62</td>\n",
       "      <td>36.69</td>\n",
       "      <td>92.42</td>\n",
       "      <td>64.17</td>\n",
       "      <td>41.26</td>\n",
       "      <td>72.70</td>\n",
       "      <td>52.70</td>\n",
       "    </tr>\n",
       "    <tr>\n",
       "      <th>std</th>\n",
       "      <td>37.46</td>\n",
       "      <td>28.34</td>\n",
       "      <td>36.46</td>\n",
       "      <td>34.66</td>\n",
       "      <td>24.80</td>\n",
       "      <td>33.12</td>\n",
       "      <td>36.72</td>\n",
       "      <td>21.61</td>\n",
       "      <td>32.50</td>\n",
       "      <td>32.44</td>\n",
       "      <td>22.91</td>\n",
       "      <td>40.59</td>\n",
       "      <td>37.86</td>\n",
       "      <td>28.27</td>\n",
       "      <td>34.44</td>\n",
       "    </tr>\n",
       "    <tr>\n",
       "      <th>min</th>\n",
       "      <td>0.90</td>\n",
       "      <td>21.40</td>\n",
       "      <td>1.19</td>\n",
       "      <td>2.25</td>\n",
       "      <td>21.40</td>\n",
       "      <td>3.00</td>\n",
       "      <td>0.44</td>\n",
       "      <td>30.28</td>\n",
       "      <td>0.86</td>\n",
       "      <td>0.74</td>\n",
       "      <td>39.63</td>\n",
       "      <td>1.94</td>\n",
       "      <td>0.66</td>\n",
       "      <td>21.40</td>\n",
       "      <td>0.65</td>\n",
       "    </tr>\n",
       "    <tr>\n",
       "      <th>25%</th>\n",
       "      <td>13.07</td>\n",
       "      <td>59.28</td>\n",
       "      <td>21.72</td>\n",
       "      <td>14.63</td>\n",
       "      <td>59.28</td>\n",
       "      <td>23.02</td>\n",
       "      <td>13.36</td>\n",
       "      <td>61.21</td>\n",
       "      <td>26.92</td>\n",
       "      <td>13.21</td>\n",
       "      <td>77.44</td>\n",
       "      <td>24.64</td>\n",
       "      <td>15.74</td>\n",
       "      <td>59.28</td>\n",
       "      <td>21.40</td>\n",
       "    </tr>\n",
       "    <tr>\n",
       "      <th>50%</th>\n",
       "      <td>26.26</td>\n",
       "      <td>78.90</td>\n",
       "      <td>59.28</td>\n",
       "      <td>27.22</td>\n",
       "      <td>72.88</td>\n",
       "      <td>59.28</td>\n",
       "      <td>26.38</td>\n",
       "      <td>81.69</td>\n",
       "      <td>55.81</td>\n",
       "      <td>25.63</td>\n",
       "      <td>87.04</td>\n",
       "      <td>72.18</td>\n",
       "      <td>28.21</td>\n",
       "      <td>72.88</td>\n",
       "      <td>57.72</td>\n",
       "    </tr>\n",
       "    <tr>\n",
       "      <th>75%</th>\n",
       "      <td>55.08</td>\n",
       "      <td>93.25</td>\n",
       "      <td>83.90</td>\n",
       "      <td>50.09</td>\n",
       "      <td>83.90</td>\n",
       "      <td>81.69</td>\n",
       "      <td>46.14</td>\n",
       "      <td>83.07</td>\n",
       "      <td>81.69</td>\n",
       "      <td>50.02</td>\n",
       "      <td>112.33</td>\n",
       "      <td>101.15</td>\n",
       "      <td>55.39</td>\n",
       "      <td>83.90</td>\n",
       "      <td>81.69</td>\n",
       "    </tr>\n",
       "    <tr>\n",
       "      <th>max</th>\n",
       "      <td>233.14</td>\n",
       "      <td>143.38</td>\n",
       "      <td>256.59</td>\n",
       "      <td>229.28</td>\n",
       "      <td>125.79</td>\n",
       "      <td>154.27</td>\n",
       "      <td>225.80</td>\n",
       "      <td>116.27</td>\n",
       "      <td>167.41</td>\n",
       "      <td>192.17</td>\n",
       "      <td>137.37</td>\n",
       "      <td>197.94</td>\n",
       "      <td>211.34</td>\n",
       "      <td>176.09</td>\n",
       "      <td>215.46</td>\n",
       "    </tr>\n",
       "  </tbody>\n",
       "</table>\n",
       "</div>"
      ],
      "text/plain": [
       "           28      29      30      31      32      33      34      35      36  \\\n",
       "count  400.00  400.00  400.00  400.00  400.00  400.00  400.00  400.00  400.00   \n",
       "mean    39.62   74.26   56.55   38.48   70.11   54.64   37.48   73.45   54.62   \n",
       "std     37.46   28.34   36.46   34.66   24.80   33.12   36.72   21.61   32.50   \n",
       "min      0.90   21.40    1.19    2.25   21.40    3.00    0.44   30.28    0.86   \n",
       "25%     13.07   59.28   21.72   14.63   59.28   23.02   13.36   61.21   26.92   \n",
       "50%     26.26   78.90   59.28   27.22   72.88   59.28   26.38   81.69   55.81   \n",
       "75%     55.08   93.25   83.90   50.09   83.90   81.69   46.14   83.07   81.69   \n",
       "max    233.14  143.38  256.59  229.28  125.79  154.27  225.80  116.27  167.41   \n",
       "\n",
       "           37      38      39      40      41      42  \n",
       "count  400.00  400.00  400.00  400.00  400.00  400.00  \n",
       "mean    36.69   92.42   64.17   41.26   72.70   52.70  \n",
       "std     32.44   22.91   40.59   37.86   28.27   34.44  \n",
       "min      0.74   39.63    1.94    0.66   21.40    0.65  \n",
       "25%     13.21   77.44   24.64   15.74   59.28   21.40  \n",
       "50%     25.63   87.04   72.18   28.21   72.88   57.72  \n",
       "75%     50.02  112.33  101.15   55.39   83.90   81.69  \n",
       "max    192.17  137.37  197.94  211.34  176.09  215.46  "
      ]
     },
     "execution_count": 2,
     "metadata": {},
     "output_type": "execute_result"
    }
   ],
   "source": [
    "# Gera o dataframe contendo os erros\n",
    "errors_df = calculate_theorical_errors()\n",
    "round(errors_df.describe(), 2)"
   ]
  },
  {
   "cell_type": "code",
   "execution_count": 3,
   "metadata": {},
   "outputs": [],
   "source": [
    "test_erro = round(errors_df.describe(), 2)\n",
    "test_erros = errors_df"
   ]
  },
  {
   "cell_type": "code",
   "execution_count": 4,
   "metadata": {},
   "outputs": [
    {
     "data": {
      "text/plain": [
       "35.82685161603274"
      ]
     },
     "execution_count": 4,
     "metadata": {},
     "output_type": "execute_result"
    }
   ],
   "source": [
    "std_outdoor = (test_erros['28'].std() + test_erros['31'].std() + test_erros['34'].std() + test_erros['37'].std() + test_erros['40'].std())/5\n",
    "std_outdoor"
   ]
  },
  {
   "cell_type": "code",
   "execution_count": 5,
   "metadata": {},
   "outputs": [
    {
     "data": {
      "text/plain": [
       "25.18632789534093"
      ]
     },
     "execution_count": 5,
     "metadata": {},
     "output_type": "execute_result"
    }
   ],
   "source": [
    "std_indoor = (test_erros['29'].std() + test_erros['32'].std() + test_erros['35'].std() + test_erros['38'].std() + test_erros['41'].std())/5\n",
    "std_indoor"
   ]
  },
  {
   "cell_type": "code",
   "execution_count": 6,
   "metadata": {},
   "outputs": [
    {
     "data": {
      "text/plain": [
       "35.42127816560884"
      ]
     },
     "execution_count": 6,
     "metadata": {},
     "output_type": "execute_result"
    }
   ],
   "source": [
    "std_outdoor_indoor = (test_erros['30'].std() + test_erros['33'].std() + test_erros['36'].std() + test_erros['39'].std() + test_erros['42'].std())/5\n",
    "std_outdoor_indoor"
   ]
  },
  {
   "cell_type": "markdown",
   "metadata": {},
   "source": [
    "# LightGBM-Outdoor:"
   ]
  },
  {
   "cell_type": "code",
   "execution_count": 7,
   "metadata": {},
   "outputs": [],
   "source": [
    "#+ test_erros['43'] + test_erros['46'] + test_erros['49'] + test_erros['52'] + test_erros['55']\n",
    "#+ test_erros['44'] + test_erros['47'] + test_erros['50'] + test_erros['53'] + test_erros['56']\n",
    "#+ test_erros['45'] + test_erros['48'] + test_erros['51'] + test_erros['54'] + test_erros['57']"
   ]
  },
  {
   "cell_type": "code",
   "execution_count": 8,
   "metadata": {},
   "outputs": [
    {
     "data": {
      "text/html": [
       "<div>\n",
       "<style scoped>\n",
       "    .dataframe tbody tr th:only-of-type {\n",
       "        vertical-align: middle;\n",
       "    }\n",
       "\n",
       "    .dataframe tbody tr th {\n",
       "        vertical-align: top;\n",
       "    }\n",
       "\n",
       "    .dataframe thead th {\n",
       "        text-align: right;\n",
       "    }\n",
       "</style>\n",
       "<table border=\"1\" class=\"dataframe\">\n",
       "  <thead>\n",
       "    <tr style=\"text-align: right;\">\n",
       "      <th></th>\n",
       "      <th>0</th>\n",
       "      <th>1</th>\n",
       "      <th>2</th>\n",
       "    </tr>\n",
       "  </thead>\n",
       "  <tbody>\n",
       "    <tr>\n",
       "      <th>0</th>\n",
       "      <td>48.39</td>\n",
       "      <td>36.30</td>\n",
       "      <td>36.09</td>\n",
       "    </tr>\n",
       "    <tr>\n",
       "      <th>1</th>\n",
       "      <td>20.24</td>\n",
       "      <td>88.86</td>\n",
       "      <td>18.22</td>\n",
       "    </tr>\n",
       "    <tr>\n",
       "      <th>2</th>\n",
       "      <td>57.61</td>\n",
       "      <td>70.28</td>\n",
       "      <td>22.19</td>\n",
       "    </tr>\n",
       "    <tr>\n",
       "      <th>3</th>\n",
       "      <td>21.25</td>\n",
       "      <td>71.45</td>\n",
       "      <td>46.15</td>\n",
       "    </tr>\n",
       "    <tr>\n",
       "      <th>4</th>\n",
       "      <td>47.44</td>\n",
       "      <td>106.48</td>\n",
       "      <td>66.51</td>\n",
       "    </tr>\n",
       "  </tbody>\n",
       "</table>\n",
       "</div>"
      ],
      "text/plain": [
       "       0       1      2\n",
       "0  48.39   36.30  36.09\n",
       "1  20.24   88.86  18.22\n",
       "2  57.61   70.28  22.19\n",
       "3  21.25   71.45  46.15\n",
       "4  47.44  106.48  66.51"
      ]
     },
     "execution_count": 8,
     "metadata": {},
     "output_type": "execute_result"
    }
   ],
   "source": [
    "k = 5\n",
    "\n",
    "test_erro = round(errors_df.describe(), 2)\n",
    "test_erros = errors_df\n",
    "mean_outdoor = (test_erros['28'] + test_erros['31'] + test_erros['34'] + test_erros['37'] + test_erros['40'])/k\n",
    "#mean_outdoor.head()\n",
    "min_outdoor = min(test_erro['28']['min'], test_erro['31']['min'], test_erro['34']['min'], test_erro['37']['min'], test_erro['40']['min'])\n",
    "#min_outdoor\n",
    "max_outdoor = max(test_erro['28']['max'], test_erro['31']['max'], test_erro['34']['max'], test_erro['37']['max'], test_erro['40']['max'])\n",
    "#max_outdoor\n",
    "mean_indoor = (test_erros['29'] + test_erros['32'] + test_erros['35'] + test_erros['38'] + test_erros['41'])/k\n",
    "#mean_indoor.head()\n",
    "min_indoor = min(test_erro['29']['min'], test_erro['32']['min'], test_erro['35']['min'], test_erro['38']['min'], test_erro['41']['min'])\n",
    "#min_outdoor\n",
    "max_indoor = max(test_erro['29']['max'], test_erro['32']['max'], test_erro['35']['max'], test_erro['38']['max'], test_erro['41']['max'])\n",
    "#max_outdoor\n",
    "mean_indoor_outdoor = (test_erros['30'] + test_erros['33'] + test_erros['36'] + test_erros['39'] + test_erros['42'])/k\n",
    "#mean_indoor_outdoor.head()\n",
    "min_indoor_outdoor = min(test_erro['30']['min'], test_erro['33']['min'], test_erro['36']['min'], test_erro['39']['min'], test_erro['42']['min'])\n",
    "#min_outdoor\n",
    "max_indoor_outdoor = max(test_erro['30']['max'], test_erro['33']['max'], test_erro['36']['max'], test_erro['39']['max'], test_erro['42']['max'])\n",
    "#max_outdoor\n",
    "erros_LightGBM = [mean_outdoor,mean_indoor, mean_indoor_outdoor ]\n",
    "erros_LightGBM = pd.DataFrame(erros_LightGBM)\n",
    "erros_LightGBM = erros_LightGBM.T\n",
    "erros_LightGBM = round(erros_LightGBM,2)\n",
    "erros_LightGBM.to_csv(ERROS_CSV_FILE, index=False)\n",
    "erros_LightGBM.head()"
   ]
  },
  {
   "cell_type": "code",
   "execution_count": 9,
   "metadata": {},
   "outputs": [
    {
     "data": {
      "text/plain": [
       "233.14"
      ]
     },
     "execution_count": 9,
     "metadata": {},
     "output_type": "execute_result"
    }
   ],
   "source": [
    "max_outdoor"
   ]
  },
  {
   "cell_type": "code",
   "execution_count": 10,
   "metadata": {},
   "outputs": [
    {
     "data": {
      "text/plain": [
       "176.09"
      ]
     },
     "execution_count": 10,
     "metadata": {},
     "output_type": "execute_result"
    }
   ],
   "source": [
    "max_indoor"
   ]
  },
  {
   "cell_type": "code",
   "execution_count": 11,
   "metadata": {},
   "outputs": [
    {
     "data": {
      "text/plain": [
       "256.59"
      ]
     },
     "execution_count": 11,
     "metadata": {},
     "output_type": "execute_result"
    }
   ],
   "source": [
    "max_indoor_outdoor"
   ]
  },
  {
   "cell_type": "code",
   "execution_count": 12,
   "metadata": {},
   "outputs": [
    {
     "data": {
      "text/plain": [
       "0.44"
      ]
     },
     "execution_count": 12,
     "metadata": {},
     "output_type": "execute_result"
    }
   ],
   "source": [
    "min_outdoor"
   ]
  },
  {
   "cell_type": "code",
   "execution_count": 13,
   "metadata": {},
   "outputs": [
    {
     "data": {
      "text/plain": [
       "21.4"
      ]
     },
     "execution_count": 13,
     "metadata": {},
     "output_type": "execute_result"
    }
   ],
   "source": [
    "min_indoor"
   ]
  },
  {
   "cell_type": "code",
   "execution_count": 14,
   "metadata": {},
   "outputs": [
    {
     "data": {
      "text/plain": [
       "0.65"
      ]
     },
     "execution_count": 14,
     "metadata": {},
     "output_type": "execute_result"
    }
   ],
   "source": [
    "min_indoor_outdoor"
   ]
  },
  {
   "cell_type": "code",
   "execution_count": 15,
   "metadata": {},
   "outputs": [],
   "source": [
    "#errors_df.to_csv(ERROS_CSV_FILE, index=False)"
   ]
  },
  {
   "cell_type": "code",
   "execution_count": 16,
   "metadata": {},
   "outputs": [
    {
     "data": {
      "text/html": [
       "<div>\n",
       "<style scoped>\n",
       "    .dataframe tbody tr th:only-of-type {\n",
       "        vertical-align: middle;\n",
       "    }\n",
       "\n",
       "    .dataframe tbody tr th {\n",
       "        vertical-align: top;\n",
       "    }\n",
       "\n",
       "    .dataframe thead th {\n",
       "        text-align: right;\n",
       "    }\n",
       "</style>\n",
       "<table border=\"1\" class=\"dataframe\">\n",
       "  <thead>\n",
       "    <tr style=\"text-align: right;\">\n",
       "      <th></th>\n",
       "      <th>0</th>\n",
       "      <th>1</th>\n",
       "      <th>2</th>\n",
       "    </tr>\n",
       "  </thead>\n",
       "  <tbody>\n",
       "    <tr>\n",
       "      <th>count</th>\n",
       "      <td>400.00</td>\n",
       "      <td>400.00</td>\n",
       "      <td>400.00</td>\n",
       "    </tr>\n",
       "    <tr>\n",
       "      <th>mean</th>\n",
       "      <td>38.71</td>\n",
       "      <td>76.59</td>\n",
       "      <td>56.54</td>\n",
       "    </tr>\n",
       "    <tr>\n",
       "      <th>std</th>\n",
       "      <td>16.70</td>\n",
       "      <td>20.58</td>\n",
       "      <td>25.97</td>\n",
       "    </tr>\n",
       "    <tr>\n",
       "      <th>min</th>\n",
       "      <td>8.02</td>\n",
       "      <td>36.30</td>\n",
       "      <td>7.93</td>\n",
       "    </tr>\n",
       "    <tr>\n",
       "      <th>25%</th>\n",
       "      <td>25.95</td>\n",
       "      <td>70.28</td>\n",
       "      <td>35.59</td>\n",
       "    </tr>\n",
       "    <tr>\n",
       "      <th>50%</th>\n",
       "      <td>36.34</td>\n",
       "      <td>81.43</td>\n",
       "      <td>49.41</td>\n",
       "    </tr>\n",
       "    <tr>\n",
       "      <th>75%</th>\n",
       "      <td>49.16</td>\n",
       "      <td>86.60</td>\n",
       "      <td>81.43</td>\n",
       "    </tr>\n",
       "    <tr>\n",
       "      <th>max</th>\n",
       "      <td>98.93</td>\n",
       "      <td>124.54</td>\n",
       "      <td>114.73</td>\n",
       "    </tr>\n",
       "  </tbody>\n",
       "</table>\n",
       "</div>"
      ],
      "text/plain": [
       "            0       1       2\n",
       "count  400.00  400.00  400.00\n",
       "mean    38.71   76.59   56.54\n",
       "std     16.70   20.58   25.97\n",
       "min      8.02   36.30    7.93\n",
       "25%     25.95   70.28   35.59\n",
       "50%     36.34   81.43   49.41\n",
       "75%     49.16   86.60   81.43\n",
       "max     98.93  124.54  114.73"
      ]
     },
     "execution_count": 16,
     "metadata": {},
     "output_type": "execute_result"
    }
   ],
   "source": [
    "results_LightGBM = round(erros_LightGBM.describe(), 2)\n",
    "results_LightGBM \n",
    "#results_LightGBM.to_csv('./result-k-fold/Result-LightGBM-k-fold.csv', index=False)"
   ]
  },
  {
   "cell_type": "code",
   "execution_count": null,
   "metadata": {},
   "outputs": [],
   "source": []
  },
  {
   "cell_type": "code",
   "execution_count": null,
   "metadata": {},
   "outputs": [],
   "source": []
  },
  {
   "cell_type": "code",
   "execution_count": null,
   "metadata": {},
   "outputs": [],
   "source": []
  },
  {
   "cell_type": "code",
   "execution_count": null,
   "metadata": {},
   "outputs": [],
   "source": []
  },
  {
   "cell_type": "code",
   "execution_count": null,
   "metadata": {},
   "outputs": [],
   "source": []
  },
  {
   "cell_type": "code",
   "execution_count": null,
   "metadata": {},
   "outputs": [],
   "source": [
    "#k = 6 LightGBM\n",
    "'./FinalResult/Resultados_Metodo_43.csv',  # CDB gerado com LightGBM dados Outdoor\n",
    "'./FinalResult/Resultados_Metodo_44.csv',  # CDB gerado com LightGBM dados Indoor\n",
    "'./FinalResult/Resultados_Metodo_45.csv',  # CDB gerado com LightGBM dados Indoor-Outdoor\n",
    "\n",
    "#k = 7 LightGBM\n",
    "'./FinalResult/Resultados_Metodo_46.csv',  # CDB gerado com LightGBM dados Outdoor\n",
    "'./FinalResult/Resultados_Metodo_47.csv',  # CDB gerado com LightGBM dados Indoor\n",
    "'./FinalResult/Resultados_Metodo_48.csv',  # CDB gerado com LightGBM dados Indoor-Outdoor\n",
    "\n",
    "#k = 8 LightGBM\n",
    "'./FinalResult/Resultados_Metodo_49.csv',  # CDB gerado com LightGBM dados Outdoor\n",
    "'./FinalResult/Resultados_Metodo_50.csv',  # CDB gerado com LightGBM dados Indoor\n",
    "'./FinalResult/Resultados_Metodo_51.csv',  # CDB gerado com LightGBM dados Indoor-Outdoor\n",
    "\n",
    "#k = 9 LightGBM\n",
    "'./FinalResult/Resultados_Metodo_52.csv',  # CDB gerado com LightGBM dados Outdoor\n",
    "'./FinalResult/Resultados_Metodo_53.csv',  # CDB gerado com LightGBM dados Indoor\n",
    "'./FinalResult/Resultados_Metodo_54.csv',  # CDB gerado com LightGBM dados Indoor-Outdoor\n",
    "\n",
    "#k = 10 LightGBM\n",
    "'./FinalResult/Resultados_Metodo_55.csv',  # CDB gerado com LightGBM dados Outdoor\n",
    "'./FinalResult/Resultados_Metodo_56.csv',  # CDB gerado com LightGBM dados Indoor\n",
    "'./FinalResult/Resultados_Metodo_57.csv',  # CDB gerado com LightGBM dados Indoor-Outdoor\"\"\""
   ]
  },
  {
   "cell_type": "code",
   "execution_count": 4,
   "metadata": {},
   "outputs": [],
   "source": [
    "import pandas as pd\n",
    "import numpy as np\n",
    "import math\n",
    "import os\n",
    "from tqdm import tqdm\n",
    "from matplotlib import pyplot as plt\n",
    "from PyRadioLoc.Utils.GeoUtils import GeoUtils\n",
    "%run UtilsLightGBMFingerPrinting.ipynb\n",
    "%run Imports.ipynb"
   ]
  },
  {
   "cell_type": "code",
   "execution_count": 5,
   "metadata": {},
   "outputs": [
    {
     "data": {
      "image/png": "[encoded data removed]",
      "text/plain": [
       "<Figure size 432x288 with 1 Axes>"
      ]
     },
     "metadata": {
      "needs_background": "light"
     },
     "output_type": "display_data"
    },
    {
     "data": {
      "image/png": "[encoded data removed]",
      "text/plain": [
       "<Figure size 432x288 with 1 Axes>"
      ]
     },
     "metadata": {
      "needs_background": "light"
     },
     "output_type": "display_data"
    },
    {
     "data": {
      "image/png": "[encoded data removed]",
      "text/plain": [
       "<Figure size 432x288 with 1 Axes>"
      ]
     },
     "metadata": {
      "needs_background": "light"
     },
     "output_type": "display_data"
    }
   ],
   "source": [
    "\n",
    "ERROS_CSV_FILE = './result-k-fold/erros-k-fold.csv' \n",
    "for i in range(0,3):\n",
    "    environment = ['Outdoor', 'Indoor', 'Indoor-Outdoor']\n",
    "    errorLocation = pd.read_csv(ERROS_CSV_FILE)\n",
    "    score_FP_LightGBM = errorLocation[str(i + 7)]\n",
    "    score_FP_SVR = errorLocation[str(i + 10)]\n",
    "    legend = ['FP-LightGBM '+ environment[i], 'FP-SVR '+ environment[i]]\n",
    "    plt.hist([score_FP_LightGBM, score_FP_SVR], color=['#e3c907', '#3434c9'])\n",
    "    plt.xlabel(\"Erro de predição de distância \"+chr(949)+\" (em metros)\")\n",
    "    plt.ylabel(\"Quantidade de Amostras\")\n",
    "    plt.legend(legend)\n",
    "    #plt.xticks(np.arange(0, 200, 20))#Metros\n",
    "    #plt.yticks(np.arange(0, 180, 30))# Amostras\n",
    "    plt.savefig('./result-k-fold/'+ environment[i]+'.png')  \n",
    "    plt.show()"
   ]
  },
  {
   "cell_type": "code",
   "execution_count": null,
   "metadata": {},
   "outputs": [],
   "source": []
  }
 ],
 "metadata": {
  "kernelspec": {
   "display_name": "Python 3",
   "language": "python",
   "name": "python3"
  },
  "language_info": {
   "codemirror_mode": {
    "name": "ipython",
    "version": 3
   },
   "file_extension": ".py",
   "mimetype": "text/x-python",
   "name": "python",
   "nbconvert_exporter": "python",
   "pygments_lexer": "ipython3",
   "version": "3.7.3"
  }
 },
 "nbformat": 4,
 "nbformat_minor": 2
}
