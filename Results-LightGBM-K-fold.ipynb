{
 "cells": [
  {
   "cell_type": "code",
   "execution_count": 1,
   "metadata": {},
   "outputs": [],
   "source": [
    "import pandas as pd\n",
    "import numpy as np\n",
    "import math\n",
    "import os\n",
    "from matplotlib import pyplot as plt\n",
    "from PyRadioLoc.Utils.GeoUtils import GeoUtils\n",
    "%run UtilsLightGBMFingerPrinting.ipynb"
   ]
  },
  {
   "cell_type": "code",
   "execution_count": 2,
   "metadata": {},
   "outputs": [],
   "source": [
    "FILES = [\n",
    "    \n",
    "    #k = 1 LightGBM\n",
    "    './FinalResult/Resultados_Metodo_28.csv',  # CDB gerado com LightGBM dados Outdoor\n",
    "    './FinalResult/Resultados_Metodo_29.csv',  # CDB gerado com LightGBM dados Indoor\n",
    "    './FinalResult/Resultados_Metodo_30.csv',  # CDB gerado com LightGBM dados Indoor-Outdoor\n",
    "    \n",
    "    #k = 2 LightGBM\n",
    "    './FinalResult/Resultados_Metodo_31.csv',  # CDB gerado com LightGBM dados Outdoor\n",
    "    './FinalResult/Resultados_Metodo_32.csv',  # CDB gerado com LightGBM dados Indoor\n",
    "    './FinalResult/Resultados_Metodo_33.csv',  # CDB gerado com LightGBM dados Indoor-Outdoor\n",
    "    \n",
    "    #k = 3 LightGBM\n",
    "    './FinalResult/Resultados_Metodo_34.csv',  # CDB gerado com LightGBM dados Outdoor\n",
    "    './FinalResult/Resultados_Metodo_35.csv',  # CDB gerado com LightGBM dados Indoor\n",
    "    './FinalResult/Resultados_Metodo_36.csv',  # CDB gerado com LightGBM dados Indoor-Outdoor\n",
    "    \n",
    "    #k = 4 LightGBM\n",
    "    './FinalResult/Resultados_Metodo_37.csv',  # CDB gerado com LightGBM dados Outdoor\n",
    "    './FinalResult/Resultados_Metodo_38.csv',  # CDB gerado com LightGBM dados Indoor\n",
    "    './FinalResult/Resultados_Metodo_39.csv',  # CDB gerado com LightGBM dados Indoor-Outdoor\n",
    "    \n",
    "    #k = 5 LightGBM\n",
    "    './FinalResult/Resultados_Metodo_40.csv',  # CDB gerado com LightGBM dados Outdoor\n",
    "    './FinalResult/Resultados_Metodo_41.csv',  # CDB gerado com LightGBM dados Indoor\n",
    "    './FinalResult/Resultados_Metodo_42.csv',  # CDB gerado com LightGBM dados Indoor-Outdoor\n",
    "    \n",
    "    \n",
    "]\n",
    "METHODS = [x.split(\"_\")[-1].split(\".\")[0] for x in FILES]     # lista contendo os metodos que serão usados\n",
    "db = pd.read_csv('databases/meds_pandas.csv')\n",
    "erbs = pd.read_csv('databases/Bts.csv')\n",
    "#errorLocation = pd.read_csv('result/erros.csv')\n",
    "ERROS_CSV_FILE = './result-k-fold/erros-LightGBM-k-fold.csv' "
   ]
  },
  {
   "cell_type": "code",
   "execution_count": 3,
   "metadata": {},
   "outputs": [
    {
     "data": {
      "text/html": [
       "<div>\n",
       "<style scoped>\n",
       "    .dataframe tbody tr th:only-of-type {\n",
       "        vertical-align: middle;\n",
       "    }\n",
       "\n",
       "    .dataframe tbody tr th {\n",
       "        vertical-align: top;\n",
       "    }\n",
       "\n",
       "    .dataframe thead th {\n",
       "        text-align: right;\n",
       "    }\n",
       "</style>\n",
       "<table border=\"1\" class=\"dataframe\">\n",
       "  <thead>\n",
       "    <tr style=\"text-align: right;\">\n",
       "      <th></th>\n",
       "      <th>28</th>\n",
       "      <th>29</th>\n",
       "      <th>30</th>\n",
       "      <th>31</th>\n",
       "      <th>32</th>\n",
       "      <th>33</th>\n",
       "      <th>34</th>\n",
       "      <th>35</th>\n",
       "      <th>36</th>\n",
       "      <th>37</th>\n",
       "      <th>38</th>\n",
       "      <th>39</th>\n",
       "      <th>40</th>\n",
       "      <th>41</th>\n",
       "      <th>42</th>\n",
       "    </tr>\n",
       "  </thead>\n",
       "  <tbody>\n",
       "    <tr>\n",
       "      <th>count</th>\n",
       "      <td>400.00</td>\n",
       "      <td>400.00</td>\n",
       "      <td>400.00</td>\n",
       "      <td>400.00</td>\n",
       "      <td>400.00</td>\n",
       "      <td>400.00</td>\n",
       "      <td>400.00</td>\n",
       "      <td>400.00</td>\n",
       "      <td>400.00</td>\n",
       "      <td>400.00</td>\n",
       "      <td>400.00</td>\n",
       "      <td>400.00</td>\n",
       "      <td>400.00</td>\n",
       "      <td>400.00</td>\n",
       "      <td>400.00</td>\n",
       "    </tr>\n",
       "    <tr>\n",
       "      <th>mean</th>\n",
       "      <td>98.68</td>\n",
       "      <td>48.15</td>\n",
       "      <td>73.78</td>\n",
       "      <td>89.86</td>\n",
       "      <td>61.54</td>\n",
       "      <td>80.05</td>\n",
       "      <td>94.08</td>\n",
       "      <td>32.11</td>\n",
       "      <td>64.19</td>\n",
       "      <td>100.54</td>\n",
       "      <td>67.67</td>\n",
       "      <td>81.85</td>\n",
       "      <td>93.58</td>\n",
       "      <td>66.48</td>\n",
       "      <td>81.89</td>\n",
       "    </tr>\n",
       "    <tr>\n",
       "      <th>std</th>\n",
       "      <td>53.24</td>\n",
       "      <td>19.33</td>\n",
       "      <td>48.73</td>\n",
       "      <td>57.67</td>\n",
       "      <td>18.66</td>\n",
       "      <td>44.56</td>\n",
       "      <td>55.17</td>\n",
       "      <td>19.21</td>\n",
       "      <td>53.11</td>\n",
       "      <td>56.53</td>\n",
       "      <td>19.81</td>\n",
       "      <td>45.84</td>\n",
       "      <td>55.87</td>\n",
       "      <td>20.67</td>\n",
       "      <td>46.66</td>\n",
       "    </tr>\n",
       "    <tr>\n",
       "      <th>min</th>\n",
       "      <td>1.88</td>\n",
       "      <td>10.05</td>\n",
       "      <td>6.51</td>\n",
       "      <td>2.16</td>\n",
       "      <td>27.21</td>\n",
       "      <td>8.21</td>\n",
       "      <td>1.17</td>\n",
       "      <td>12.34</td>\n",
       "      <td>1.21</td>\n",
       "      <td>4.01</td>\n",
       "      <td>24.64</td>\n",
       "      <td>1.47</td>\n",
       "      <td>5.58</td>\n",
       "      <td>39.79</td>\n",
       "      <td>5.79</td>\n",
       "    </tr>\n",
       "    <tr>\n",
       "      <th>25%</th>\n",
       "      <td>54.85</td>\n",
       "      <td>33.79</td>\n",
       "      <td>42.14</td>\n",
       "      <td>41.61</td>\n",
       "      <td>49.80</td>\n",
       "      <td>50.37</td>\n",
       "      <td>49.47</td>\n",
       "      <td>20.11</td>\n",
       "      <td>27.43</td>\n",
       "      <td>55.97</td>\n",
       "      <td>51.79</td>\n",
       "      <td>51.79</td>\n",
       "      <td>50.45</td>\n",
       "      <td>50.63</td>\n",
       "      <td>50.63</td>\n",
       "    </tr>\n",
       "    <tr>\n",
       "      <th>50%</th>\n",
       "      <td>92.76</td>\n",
       "      <td>52.13</td>\n",
       "      <td>57.76</td>\n",
       "      <td>83.70</td>\n",
       "      <td>59.19</td>\n",
       "      <td>70.25</td>\n",
       "      <td>84.90</td>\n",
       "      <td>27.43</td>\n",
       "      <td>39.25</td>\n",
       "      <td>93.36</td>\n",
       "      <td>72.18</td>\n",
       "      <td>72.18</td>\n",
       "      <td>82.64</td>\n",
       "      <td>61.04</td>\n",
       "      <td>68.14</td>\n",
       "    </tr>\n",
       "    <tr>\n",
       "      <th>75%</th>\n",
       "      <td>133.80</td>\n",
       "      <td>56.86</td>\n",
       "      <td>97.82</td>\n",
       "      <td>128.64</td>\n",
       "      <td>70.50</td>\n",
       "      <td>98.17</td>\n",
       "      <td>131.30</td>\n",
       "      <td>36.41</td>\n",
       "      <td>90.59</td>\n",
       "      <td>136.84</td>\n",
       "      <td>83.38</td>\n",
       "      <td>98.01</td>\n",
       "      <td>131.55</td>\n",
       "      <td>80.04</td>\n",
       "      <td>99.32</td>\n",
       "    </tr>\n",
       "    <tr>\n",
       "      <th>max</th>\n",
       "      <td>251.37</td>\n",
       "      <td>88.24</td>\n",
       "      <td>216.28</td>\n",
       "      <td>285.67</td>\n",
       "      <td>96.41</td>\n",
       "      <td>260.88</td>\n",
       "      <td>261.19</td>\n",
       "      <td>83.90</td>\n",
       "      <td>236.37</td>\n",
       "      <td>254.24</td>\n",
       "      <td>98.01</td>\n",
       "      <td>232.26</td>\n",
       "      <td>295.84</td>\n",
       "      <td>99.32</td>\n",
       "      <td>229.93</td>\n",
       "    </tr>\n",
       "  </tbody>\n",
       "</table>\n",
       "</div>"
      ],
      "text/plain": [
       "           28      29      30      31      32      33      34      35      36  \\\n",
       "count  400.00  400.00  400.00  400.00  400.00  400.00  400.00  400.00  400.00   \n",
       "mean    98.68   48.15   73.78   89.86   61.54   80.05   94.08   32.11   64.19   \n",
       "std     53.24   19.33   48.73   57.67   18.66   44.56   55.17   19.21   53.11   \n",
       "min      1.88   10.05    6.51    2.16   27.21    8.21    1.17   12.34    1.21   \n",
       "25%     54.85   33.79   42.14   41.61   49.80   50.37   49.47   20.11   27.43   \n",
       "50%     92.76   52.13   57.76   83.70   59.19   70.25   84.90   27.43   39.25   \n",
       "75%    133.80   56.86   97.82  128.64   70.50   98.17  131.30   36.41   90.59   \n",
       "max    251.37   88.24  216.28  285.67   96.41  260.88  261.19   83.90  236.37   \n",
       "\n",
       "           37      38      39      40      41      42  \n",
       "count  400.00  400.00  400.00  400.00  400.00  400.00  \n",
       "mean   100.54   67.67   81.85   93.58   66.48   81.89  \n",
       "std     56.53   19.81   45.84   55.87   20.67   46.66  \n",
       "min      4.01   24.64    1.47    5.58   39.79    5.79  \n",
       "25%     55.97   51.79   51.79   50.45   50.63   50.63  \n",
       "50%     93.36   72.18   72.18   82.64   61.04   68.14  \n",
       "75%    136.84   83.38   98.01  131.55   80.04   99.32  \n",
       "max    254.24   98.01  232.26  295.84   99.32  229.93  "
      ]
     },
     "execution_count": 3,
     "metadata": {},
     "output_type": "execute_result"
    }
   ],
   "source": [
    "# Gera o dataframe contendo os erros\n",
    "errors_df = calculate_theorical_errors()\n",
    "round(errors_df.describe(), 2)"
   ]
  },
  {
   "cell_type": "markdown",
   "metadata": {},
   "source": [
    "# LightGBM-Outdoor:"
   ]
  },
  {
   "cell_type": "code",
   "execution_count": 21,
   "metadata": {},
   "outputs": [
    {
     "data": {
      "text/plain": [
       "0     76.092\n",
       "1     73.860\n",
       "2     95.916\n",
       "3    109.602\n",
       "4    101.936\n",
       "dtype: float64"
      ]
     },
     "execution_count": 21,
     "metadata": {},
     "output_type": "execute_result"
    }
   ],
   "source": [
    "test_erro = round(errors_df.describe(), 2)\n",
    "test_erros = errors_df\n",
    "mean_outdoor = (test_erros['28'] + test_erros['31'] + test_erros['34'] + test_erros['37'] + test_erros['40'])/5\n",
    "mean_outdoor.head()"
   ]
  },
  {
   "cell_type": "code",
   "execution_count": 22,
   "metadata": {},
   "outputs": [
    {
     "data": {
      "text/plain": [
       "1.17"
      ]
     },
     "execution_count": 22,
     "metadata": {},
     "output_type": "execute_result"
    }
   ],
   "source": [
    "min_outdoor = min(test_erro['28']['min'], test_erro['31']['min'], test_erro['34']['min'], test_erro['37']['min'], test_erro['40']['min'])\n",
    "min_outdoor"
   ]
  },
  {
   "cell_type": "code",
   "execution_count": 23,
   "metadata": {},
   "outputs": [
    {
     "data": {
      "text/plain": [
       "295.84"
      ]
     },
     "execution_count": 23,
     "metadata": {},
     "output_type": "execute_result"
    }
   ],
   "source": [
    "max_outdoor = max(test_erro['28']['max'], test_erro['31']['max'], test_erro['34']['max'], test_erro['37']['max'], test_erro['40']['max'])\n",
    "max_outdoor"
   ]
  },
  {
   "cell_type": "markdown",
   "metadata": {},
   "source": [
    "# LightGBM-Indoor:"
   ]
  },
  {
   "cell_type": "code",
   "execution_count": 25,
   "metadata": {},
   "outputs": [
    {
     "data": {
      "text/plain": [
       "0    65.024\n",
       "1    55.050\n",
       "2    65.024\n",
       "3    71.572\n",
       "4    42.250\n",
       "dtype: float64"
      ]
     },
     "execution_count": 25,
     "metadata": {},
     "output_type": "execute_result"
    }
   ],
   "source": [
    "mean_indoor = (test_erros['29'] + test_erros['32'] + test_erros['35'] + test_erros['38'] + test_erros['41'])/5\n",
    "mean_indoor.head()"
   ]
  },
  {
   "cell_type": "code",
   "execution_count": 26,
   "metadata": {},
   "outputs": [
    {
     "data": {
      "text/plain": [
       "10.05"
      ]
     },
     "execution_count": 26,
     "metadata": {},
     "output_type": "execute_result"
    }
   ],
   "source": [
    "min_outdoor = min(test_erro['29']['min'], test_erro['32']['min'], test_erro['35']['min'], test_erro['38']['min'], test_erro['41']['min'])\n",
    "min_outdoor"
   ]
  },
  {
   "cell_type": "code",
   "execution_count": 27,
   "metadata": {},
   "outputs": [
    {
     "data": {
      "text/plain": [
       "99.32"
      ]
     },
     "execution_count": 27,
     "metadata": {},
     "output_type": "execute_result"
    }
   ],
   "source": [
    "max_outdoor = max(test_erro['29']['max'], test_erro['32']['max'], test_erro['35']['max'], test_erro['38']['max'], test_erro['41']['max'])\n",
    "max_outdoor"
   ]
  },
  {
   "cell_type": "markdown",
   "metadata": {},
   "source": [
    "# LightGBM-Indoor-Outdoor:"
   ]
  },
  {
   "cell_type": "code",
   "execution_count": 29,
   "metadata": {},
   "outputs": [
    {
     "data": {
      "text/plain": [
       "0    114.144\n",
       "1    100.446\n",
       "2    119.458\n",
       "3     79.618\n",
       "4    139.062\n",
       "dtype: float64"
      ]
     },
     "execution_count": 29,
     "metadata": {},
     "output_type": "execute_result"
    }
   ],
   "source": [
    "mean_indoor_outdoor = (test_erros['30'] + test_erros['33'] + test_erros['36'] + test_erros['39'] + test_erros['42'])/5\n",
    "mean_indoor_outdoor.head()"
   ]
  },
  {
   "cell_type": "code",
   "execution_count": 30,
   "metadata": {},
   "outputs": [
    {
     "data": {
      "text/plain": [
       "1.21"
      ]
     },
     "execution_count": 30,
     "metadata": {},
     "output_type": "execute_result"
    }
   ],
   "source": [
    "min_outdoor = min(test_erro['30']['min'], test_erro['33']['min'], test_erro['36']['min'], test_erro['39']['min'], test_erro['42']['min'])\n",
    "min_outdoor"
   ]
  },
  {
   "cell_type": "code",
   "execution_count": 31,
   "metadata": {},
   "outputs": [
    {
     "data": {
      "text/plain": [
       "260.88"
      ]
     },
     "execution_count": 31,
     "metadata": {},
     "output_type": "execute_result"
    }
   ],
   "source": [
    "max_outdoor = max(test_erro['30']['max'], test_erro['33']['max'], test_erro['36']['max'], test_erro['39']['max'], test_erro['42']['max'])\n",
    "max_outdoor"
   ]
  },
  {
   "cell_type": "code",
   "execution_count": 32,
   "metadata": {},
   "outputs": [],
   "source": [
    "#errors_df.to_csv(ERROS_CSV_FILE, index=False)"
   ]
  },
  {
   "cell_type": "code",
   "execution_count": 33,
   "metadata": {},
   "outputs": [
    {
     "data": {
      "text/html": [
       "<div>\n",
       "<style scoped>\n",
       "    .dataframe tbody tr th:only-of-type {\n",
       "        vertical-align: middle;\n",
       "    }\n",
       "\n",
       "    .dataframe tbody tr th {\n",
       "        vertical-align: top;\n",
       "    }\n",
       "\n",
       "    .dataframe thead th {\n",
       "        text-align: right;\n",
       "    }\n",
       "</style>\n",
       "<table border=\"1\" class=\"dataframe\">\n",
       "  <thead>\n",
       "    <tr style=\"text-align: right;\">\n",
       "      <th></th>\n",
       "      <th>0</th>\n",
       "      <th>1</th>\n",
       "      <th>2</th>\n",
       "    </tr>\n",
       "  </thead>\n",
       "  <tbody>\n",
       "    <tr>\n",
       "      <th>0</th>\n",
       "      <td>76.09</td>\n",
       "      <td>65.02</td>\n",
       "      <td>114.14</td>\n",
       "    </tr>\n",
       "    <tr>\n",
       "      <th>1</th>\n",
       "      <td>73.86</td>\n",
       "      <td>55.05</td>\n",
       "      <td>100.45</td>\n",
       "    </tr>\n",
       "    <tr>\n",
       "      <th>2</th>\n",
       "      <td>95.92</td>\n",
       "      <td>65.02</td>\n",
       "      <td>119.46</td>\n",
       "    </tr>\n",
       "    <tr>\n",
       "      <th>3</th>\n",
       "      <td>109.60</td>\n",
       "      <td>71.57</td>\n",
       "      <td>79.62</td>\n",
       "    </tr>\n",
       "    <tr>\n",
       "      <th>4</th>\n",
       "      <td>101.94</td>\n",
       "      <td>42.25</td>\n",
       "      <td>139.06</td>\n",
       "    </tr>\n",
       "  </tbody>\n",
       "</table>\n",
       "</div>"
      ],
      "text/plain": [
       "        0      1       2\n",
       "0   76.09  65.02  114.14\n",
       "1   73.86  55.05  100.45\n",
       "2   95.92  65.02  119.46\n",
       "3  109.60  71.57   79.62\n",
       "4  101.94  42.25  139.06"
      ]
     },
     "execution_count": 33,
     "metadata": {},
     "output_type": "execute_result"
    }
   ],
   "source": [
    "erros_LightGBM = [mean_outdoor,mean_indoor, mean_indoor_outdoor ]\n",
    "erros_LightGBM = pd.DataFrame(erros_LightGBM)\n",
    "erros_LightGBM = erros_LightGBM.T\n",
    "erros_LightGBM = round(erros_LightGBM,2)\n",
    "erros_LightGBM.to_csv(ERROS_CSV_FILE, index=False)\n",
    "erros_LightGBM.head()"
   ]
  },
  {
   "cell_type": "code",
   "execution_count": 36,
   "metadata": {},
   "outputs": [
    {
     "data": {
      "text/html": [
       "<div>\n",
       "<style scoped>\n",
       "    .dataframe tbody tr th:only-of-type {\n",
       "        vertical-align: middle;\n",
       "    }\n",
       "\n",
       "    .dataframe tbody tr th {\n",
       "        vertical-align: top;\n",
       "    }\n",
       "\n",
       "    .dataframe thead th {\n",
       "        text-align: right;\n",
       "    }\n",
       "</style>\n",
       "<table border=\"1\" class=\"dataframe\">\n",
       "  <thead>\n",
       "    <tr style=\"text-align: right;\">\n",
       "      <th></th>\n",
       "      <th>0</th>\n",
       "      <th>1</th>\n",
       "      <th>2</th>\n",
       "    </tr>\n",
       "  </thead>\n",
       "  <tbody>\n",
       "    <tr>\n",
       "      <th>count</th>\n",
       "      <td>400.00</td>\n",
       "      <td>400.00</td>\n",
       "      <td>400.00</td>\n",
       "    </tr>\n",
       "    <tr>\n",
       "      <th>mean</th>\n",
       "      <td>95.35</td>\n",
       "      <td>55.19</td>\n",
       "      <td>76.35</td>\n",
       "    </tr>\n",
       "    <tr>\n",
       "      <th>std</th>\n",
       "      <td>22.93</td>\n",
       "      <td>12.35</td>\n",
       "      <td>29.45</td>\n",
       "    </tr>\n",
       "    <tr>\n",
       "      <th>min</th>\n",
       "      <td>33.35</td>\n",
       "      <td>30.13</td>\n",
       "      <td>30.13</td>\n",
       "    </tr>\n",
       "    <tr>\n",
       "      <th>25%</th>\n",
       "      <td>77.81</td>\n",
       "      <td>45.57</td>\n",
       "      <td>56.77</td>\n",
       "    </tr>\n",
       "    <tr>\n",
       "      <th>50%</th>\n",
       "      <td>95.85</td>\n",
       "      <td>58.92</td>\n",
       "      <td>67.26</td>\n",
       "    </tr>\n",
       "    <tr>\n",
       "      <th>75%</th>\n",
       "      <td>110.67</td>\n",
       "      <td>65.02</td>\n",
       "      <td>94.83</td>\n",
       "    </tr>\n",
       "    <tr>\n",
       "      <th>max</th>\n",
       "      <td>163.34</td>\n",
       "      <td>71.57</td>\n",
       "      <td>179.47</td>\n",
       "    </tr>\n",
       "  </tbody>\n",
       "</table>\n",
       "</div>"
      ],
      "text/plain": [
       "            0       1       2\n",
       "count  400.00  400.00  400.00\n",
       "mean    95.35   55.19   76.35\n",
       "std     22.93   12.35   29.45\n",
       "min     33.35   30.13   30.13\n",
       "25%     77.81   45.57   56.77\n",
       "50%     95.85   58.92   67.26\n",
       "75%    110.67   65.02   94.83\n",
       "max    163.34   71.57  179.47"
      ]
     },
     "execution_count": 36,
     "metadata": {},
     "output_type": "execute_result"
    }
   ],
   "source": [
    "results_LightGBM = round(erros_LightGBM.describe(), 2)\n",
    "results_LightGBM \n",
    "#results_LightGBM.to_csv('./result-k-fold/Result-LightGBM-k-fold.csv', index=False)"
   ]
  },
  {
   "cell_type": "code",
   "execution_count": null,
   "metadata": {},
   "outputs": [],
   "source": []
  }
 ],
 "metadata": {
  "kernelspec": {
   "display_name": "Python 3",
   "language": "python",
   "name": "python3"
  },
  "language_info": {
   "codemirror_mode": {
    "name": "ipython",
    "version": 3
   },
   "file_extension": ".py",
   "mimetype": "text/x-python",
   "name": "python",
   "nbconvert_exporter": "python",
   "pygments_lexer": "ipython3",
   "version": "3.7.3"
  }
 },
 "nbformat": 4,
 "nbformat_minor": 2
}
