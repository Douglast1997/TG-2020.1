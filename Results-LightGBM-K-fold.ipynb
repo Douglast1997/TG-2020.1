{
 "cells": [
  {
   "cell_type": "code",
   "execution_count": 28,
   "metadata": {},
   "outputs": [],
   "source": [
    "import pandas as pd\n",
    "import numpy as np\n",
    "import math\n",
    "import os\n",
    "from matplotlib import pyplot as plt\n",
    "from PyRadioLoc.Utils.GeoUtils import GeoUtils\n",
    "%run UtilsLightGBMFingerPrinting.ipynb"
   ]
  },
  {
   "cell_type": "code",
   "execution_count": 29,
   "metadata": {},
   "outputs": [],
   "source": [
    "FILES = [\n",
    "    \n",
    "    #k = 1 LightGBM\n",
    "    './FinalResult/Resultados_Metodo_28.csv',  # CDB gerado com LightGBM dados Outdoor\n",
    "    './FinalResult/Resultados_Metodo_29.csv',  # CDB gerado com LightGBM dados Indoor\n",
    "    './FinalResult/Resultados_Metodo_30.csv',  # CDB gerado com LightGBM dados Indoor-Outdoor\n",
    "    \n",
    "    #k = 2 LightGBM\n",
    "    './FinalResult/Resultados_Metodo_31.csv',  # CDB gerado com LightGBM dados Outdoor\n",
    "    './FinalResult/Resultados_Metodo_32.csv',  # CDB gerado com LightGBM dados Indoor\n",
    "    './FinalResult/Resultados_Metodo_33.csv',  # CDB gerado com LightGBM dados Indoor-Outdoor\n",
    "    \n",
    "    #k = 3 LightGBM\n",
    "    './FinalResult/Resultados_Metodo_34.csv',  # CDB gerado com LightGBM dados Outdoor\n",
    "    './FinalResult/Resultados_Metodo_35.csv',  # CDB gerado com LightGBM dados Indoor\n",
    "    './FinalResult/Resultados_Metodo_36.csv',  # CDB gerado com LightGBM dados Indoor-Outdoor\n",
    "    \n",
    "    #k = 4 LightGBM\n",
    "    './FinalResult/Resultados_Metodo_37.csv',  # CDB gerado com LightGBM dados Outdoor\n",
    "    './FinalResult/Resultados_Metodo_38.csv',  # CDB gerado com LightGBM dados Indoor\n",
    "    './FinalResult/Resultados_Metodo_39.csv',  # CDB gerado com LightGBM dados Indoor-Outdoor\n",
    "    \n",
    "    #k = 5 LightGBM\n",
    "    './FinalResult/Resultados_Metodo_40.csv',  # CDB gerado com LightGBM dados Outdoor\n",
    "    './FinalResult/Resultados_Metodo_41.csv',  # CDB gerado com LightGBM dados Indoor\n",
    "    './FinalResult/Resultados_Metodo_42.csv',  # CDB gerado com LightGBM dados Indoor-Outdoor\n",
    "    \n",
    "    \n",
    "]\n",
    "METHODS = [x.split(\"_\")[-1].split(\".\")[0] for x in FILES]     # lista contendo os metodos que serão usados\n",
    "db = pd.read_csv('databases/meds_pandas.csv')\n",
    "erbs = pd.read_csv('databases/Bts.csv')\n",
    "#errorLocation = pd.read_csv('result/erros.csv')\n",
    "ERROS_CSV_FILE = './result-k-fold/erros-LightGBM-k-fold.csv' "
   ]
  },
  {
   "cell_type": "code",
   "execution_count": 30,
   "metadata": {},
   "outputs": [
    {
     "data": {
      "text/html": [
       "<div>\n",
       "<style scoped>\n",
       "    .dataframe tbody tr th:only-of-type {\n",
       "        vertical-align: middle;\n",
       "    }\n",
       "\n",
       "    .dataframe tbody tr th {\n",
       "        vertical-align: top;\n",
       "    }\n",
       "\n",
       "    .dataframe thead th {\n",
       "        text-align: right;\n",
       "    }\n",
       "</style>\n",
       "<table border=\"1\" class=\"dataframe\">\n",
       "  <thead>\n",
       "    <tr style=\"text-align: right;\">\n",
       "      <th></th>\n",
       "      <th>28</th>\n",
       "      <th>29</th>\n",
       "      <th>30</th>\n",
       "      <th>31</th>\n",
       "      <th>32</th>\n",
       "      <th>33</th>\n",
       "      <th>34</th>\n",
       "      <th>35</th>\n",
       "      <th>36</th>\n",
       "      <th>37</th>\n",
       "      <th>38</th>\n",
       "      <th>39</th>\n",
       "      <th>40</th>\n",
       "      <th>41</th>\n",
       "      <th>42</th>\n",
       "    </tr>\n",
       "  </thead>\n",
       "  <tbody>\n",
       "    <tr>\n",
       "      <th>count</th>\n",
       "      <td>400.00</td>\n",
       "      <td>400.00</td>\n",
       "      <td>400.00</td>\n",
       "      <td>400.00</td>\n",
       "      <td>400.00</td>\n",
       "      <td>400.00</td>\n",
       "      <td>400.00</td>\n",
       "      <td>400.00</td>\n",
       "      <td>400.00</td>\n",
       "      <td>400.00</td>\n",
       "      <td>400.00</td>\n",
       "      <td>400.00</td>\n",
       "      <td>400.00</td>\n",
       "      <td>400.00</td>\n",
       "      <td>400.00</td>\n",
       "    </tr>\n",
       "    <tr>\n",
       "      <th>mean</th>\n",
       "      <td>42.82</td>\n",
       "      <td>89.01</td>\n",
       "      <td>68.40</td>\n",
       "      <td>45.46</td>\n",
       "      <td>80.01</td>\n",
       "      <td>61.36</td>\n",
       "      <td>42.36</td>\n",
       "      <td>90.73</td>\n",
       "      <td>69.80</td>\n",
       "      <td>43.88</td>\n",
       "      <td>86.31</td>\n",
       "      <td>64.72</td>\n",
       "      <td>44.29</td>\n",
       "      <td>100.89</td>\n",
       "      <td>74.86</td>\n",
       "    </tr>\n",
       "    <tr>\n",
       "      <th>std</th>\n",
       "      <td>36.39</td>\n",
       "      <td>16.50</td>\n",
       "      <td>34.42</td>\n",
       "      <td>38.28</td>\n",
       "      <td>21.50</td>\n",
       "      <td>34.57</td>\n",
       "      <td>36.76</td>\n",
       "      <td>25.71</td>\n",
       "      <td>40.18</td>\n",
       "      <td>39.73</td>\n",
       "      <td>19.56</td>\n",
       "      <td>38.11</td>\n",
       "      <td>35.21</td>\n",
       "      <td>22.68</td>\n",
       "      <td>43.93</td>\n",
       "    </tr>\n",
       "    <tr>\n",
       "      <th>min</th>\n",
       "      <td>0.55</td>\n",
       "      <td>44.05</td>\n",
       "      <td>2.89</td>\n",
       "      <td>1.88</td>\n",
       "      <td>44.58</td>\n",
       "      <td>2.55</td>\n",
       "      <td>0.44</td>\n",
       "      <td>44.05</td>\n",
       "      <td>0.54</td>\n",
       "      <td>0.74</td>\n",
       "      <td>44.05</td>\n",
       "      <td>1.12</td>\n",
       "      <td>1.34</td>\n",
       "      <td>44.05</td>\n",
       "      <td>0.94</td>\n",
       "    </tr>\n",
       "    <tr>\n",
       "      <th>25%</th>\n",
       "      <td>15.89</td>\n",
       "      <td>78.90</td>\n",
       "      <td>39.21</td>\n",
       "      <td>17.76</td>\n",
       "      <td>57.92</td>\n",
       "      <td>32.61</td>\n",
       "      <td>16.14</td>\n",
       "      <td>76.55</td>\n",
       "      <td>39.10</td>\n",
       "      <td>15.27</td>\n",
       "      <td>72.39</td>\n",
       "      <td>27.94</td>\n",
       "      <td>18.30</td>\n",
       "      <td>87.04</td>\n",
       "      <td>33.07</td>\n",
       "    </tr>\n",
       "    <tr>\n",
       "      <th>50%</th>\n",
       "      <td>30.44</td>\n",
       "      <td>89.89</td>\n",
       "      <td>73.04</td>\n",
       "      <td>34.48</td>\n",
       "      <td>78.90</td>\n",
       "      <td>57.92</td>\n",
       "      <td>30.33</td>\n",
       "      <td>91.12</td>\n",
       "      <td>76.00</td>\n",
       "      <td>31.56</td>\n",
       "      <td>89.89</td>\n",
       "      <td>65.40</td>\n",
       "      <td>34.53</td>\n",
       "      <td>102.64</td>\n",
       "      <td>82.07</td>\n",
       "    </tr>\n",
       "    <tr>\n",
       "      <th>75%</th>\n",
       "      <td>63.50</td>\n",
       "      <td>95.81</td>\n",
       "      <td>93.25</td>\n",
       "      <td>60.96</td>\n",
       "      <td>93.25</td>\n",
       "      <td>89.89</td>\n",
       "      <td>58.03</td>\n",
       "      <td>112.33</td>\n",
       "      <td>93.25</td>\n",
       "      <td>62.88</td>\n",
       "      <td>95.81</td>\n",
       "      <td>93.25</td>\n",
       "      <td>63.14</td>\n",
       "      <td>112.33</td>\n",
       "      <td>109.28</td>\n",
       "    </tr>\n",
       "    <tr>\n",
       "      <th>max</th>\n",
       "      <td>216.66</td>\n",
       "      <td>116.27</td>\n",
       "      <td>163.83</td>\n",
       "      <td>229.28</td>\n",
       "      <td>176.09</td>\n",
       "      <td>176.09</td>\n",
       "      <td>231.33</td>\n",
       "      <td>137.37</td>\n",
       "      <td>214.49</td>\n",
       "      <td>231.99</td>\n",
       "      <td>125.79</td>\n",
       "      <td>222.43</td>\n",
       "      <td>217.26</td>\n",
       "      <td>137.37</td>\n",
       "      <td>209.19</td>\n",
       "    </tr>\n",
       "  </tbody>\n",
       "</table>\n",
       "</div>"
      ],
      "text/plain": [
       "           28      29      30      31      32      33      34      35      36  \\\n",
       "count  400.00  400.00  400.00  400.00  400.00  400.00  400.00  400.00  400.00   \n",
       "mean    42.82   89.01   68.40   45.46   80.01   61.36   42.36   90.73   69.80   \n",
       "std     36.39   16.50   34.42   38.28   21.50   34.57   36.76   25.71   40.18   \n",
       "min      0.55   44.05    2.89    1.88   44.58    2.55    0.44   44.05    0.54   \n",
       "25%     15.89   78.90   39.21   17.76   57.92   32.61   16.14   76.55   39.10   \n",
       "50%     30.44   89.89   73.04   34.48   78.90   57.92   30.33   91.12   76.00   \n",
       "75%     63.50   95.81   93.25   60.96   93.25   89.89   58.03  112.33   93.25   \n",
       "max    216.66  116.27  163.83  229.28  176.09  176.09  231.33  137.37  214.49   \n",
       "\n",
       "           37      38      39      40      41      42  \n",
       "count  400.00  400.00  400.00  400.00  400.00  400.00  \n",
       "mean    43.88   86.31   64.72   44.29  100.89   74.86  \n",
       "std     39.73   19.56   38.11   35.21   22.68   43.93  \n",
       "min      0.74   44.05    1.12    1.34   44.05    0.94  \n",
       "25%     15.27   72.39   27.94   18.30   87.04   33.07  \n",
       "50%     31.56   89.89   65.40   34.53  102.64   82.07  \n",
       "75%     62.88   95.81   93.25   63.14  112.33  109.28  \n",
       "max    231.99  125.79  222.43  217.26  137.37  209.19  "
      ]
     },
     "execution_count": 30,
     "metadata": {},
     "output_type": "execute_result"
    }
   ],
   "source": [
    "# Gera o dataframe contendo os erros\n",
    "errors_df = calculate_theorical_errors()\n",
    "round(errors_df.describe(), 2)"
   ]
  },
  {
   "cell_type": "markdown",
   "metadata": {},
   "source": [
    "# LightGBM-Outdoor:"
   ]
  },
  {
   "cell_type": "code",
   "execution_count": 31,
   "metadata": {},
   "outputs": [
    {
     "data": {
      "text/plain": [
       "0    53.478\n",
       "1    34.744\n",
       "2    72.638\n",
       "3    50.678\n",
       "4    53.538\n",
       "dtype: float64"
      ]
     },
     "execution_count": 31,
     "metadata": {},
     "output_type": "execute_result"
    }
   ],
   "source": [
    "test_erro = round(errors_df.describe(), 2)\n",
    "test_erros = errors_df\n",
    "mean_outdoor = (test_erros['28'] + test_erros['31'] + test_erros['34'] + test_erros['37'] + test_erros['40'])/5\n",
    "mean_outdoor.head()"
   ]
  },
  {
   "cell_type": "code",
   "execution_count": 32,
   "metadata": {},
   "outputs": [
    {
     "data": {
      "text/plain": [
       "0.44"
      ]
     },
     "execution_count": 32,
     "metadata": {},
     "output_type": "execute_result"
    }
   ],
   "source": [
    "min_outdoor = min(test_erro['28']['min'], test_erro['31']['min'], test_erro['34']['min'], test_erro['37']['min'], test_erro['40']['min'])\n",
    "min_outdoor"
   ]
  },
  {
   "cell_type": "code",
   "execution_count": 33,
   "metadata": {},
   "outputs": [
    {
     "data": {
      "text/plain": [
       "231.99"
      ]
     },
     "execution_count": 33,
     "metadata": {},
     "output_type": "execute_result"
    }
   ],
   "source": [
    "max_outdoor = max(test_erro['28']['max'], test_erro['31']['max'], test_erro['34']['max'], test_erro['37']['max'], test_erro['40']['max'])\n",
    "max_outdoor"
   ]
  },
  {
   "cell_type": "markdown",
   "metadata": {},
   "source": [
    "# LightGBM-Indoor:"
   ]
  },
  {
   "cell_type": "code",
   "execution_count": 34,
   "metadata": {},
   "outputs": [
    {
     "data": {
      "text/plain": [
       "0     68.016\n",
       "1     90.088\n",
       "2     98.940\n",
       "3     85.440\n",
       "4    105.404\n",
       "dtype: float64"
      ]
     },
     "execution_count": 34,
     "metadata": {},
     "output_type": "execute_result"
    }
   ],
   "source": [
    "mean_indoor = (test_erros['29'] + test_erros['32'] + test_erros['35'] + test_erros['38'] + test_erros['41'])/5\n",
    "mean_indoor.head()"
   ]
  },
  {
   "cell_type": "code",
   "execution_count": 35,
   "metadata": {},
   "outputs": [
    {
     "data": {
      "text/plain": [
       "44.05"
      ]
     },
     "execution_count": 35,
     "metadata": {},
     "output_type": "execute_result"
    }
   ],
   "source": [
    "min_outdoor = min(test_erro['29']['min'], test_erro['32']['min'], test_erro['35']['min'], test_erro['38']['min'], test_erro['41']['min'])\n",
    "min_outdoor"
   ]
  },
  {
   "cell_type": "code",
   "execution_count": 36,
   "metadata": {},
   "outputs": [
    {
     "data": {
      "text/plain": [
       "176.09"
      ]
     },
     "execution_count": 36,
     "metadata": {},
     "output_type": "execute_result"
    }
   ],
   "source": [
    "max_outdoor = max(test_erro['29']['max'], test_erro['32']['max'], test_erro['35']['max'], test_erro['38']['max'], test_erro['41']['max'])\n",
    "max_outdoor"
   ]
  },
  {
   "cell_type": "markdown",
   "metadata": {},
   "source": [
    "# LightGBM-Indoor-Outdoor:"
   ]
  },
  {
   "cell_type": "code",
   "execution_count": 37,
   "metadata": {},
   "outputs": [
    {
     "data": {
      "text/plain": [
       "0    53.732\n",
       "1    44.520\n",
       "2    64.190\n",
       "3    21.434\n",
       "4    49.976\n",
       "dtype: float64"
      ]
     },
     "execution_count": 37,
     "metadata": {},
     "output_type": "execute_result"
    }
   ],
   "source": [
    "mean_indoor_outdoor = (test_erros['30'] + test_erros['33'] + test_erros['36'] + test_erros['39'] + test_erros['42'])/5\n",
    "mean_indoor_outdoor.head()"
   ]
  },
  {
   "cell_type": "code",
   "execution_count": 38,
   "metadata": {},
   "outputs": [
    {
     "data": {
      "text/plain": [
       "0.54"
      ]
     },
     "execution_count": 38,
     "metadata": {},
     "output_type": "execute_result"
    }
   ],
   "source": [
    "min_outdoor = min(test_erro['30']['min'], test_erro['33']['min'], test_erro['36']['min'], test_erro['39']['min'], test_erro['42']['min'])\n",
    "min_outdoor"
   ]
  },
  {
   "cell_type": "code",
   "execution_count": 39,
   "metadata": {},
   "outputs": [
    {
     "data": {
      "text/plain": [
       "222.43"
      ]
     },
     "execution_count": 39,
     "metadata": {},
     "output_type": "execute_result"
    }
   ],
   "source": [
    "max_outdoor = max(test_erro['30']['max'], test_erro['33']['max'], test_erro['36']['max'], test_erro['39']['max'], test_erro['42']['max'])\n",
    "max_outdoor"
   ]
  },
  {
   "cell_type": "code",
   "execution_count": 40,
   "metadata": {},
   "outputs": [],
   "source": [
    "#errors_df.to_csv(ERROS_CSV_FILE, index=False)"
   ]
  },
  {
   "cell_type": "code",
   "execution_count": 41,
   "metadata": {},
   "outputs": [
    {
     "data": {
      "text/html": [
       "<div>\n",
       "<style scoped>\n",
       "    .dataframe tbody tr th:only-of-type {\n",
       "        vertical-align: middle;\n",
       "    }\n",
       "\n",
       "    .dataframe tbody tr th {\n",
       "        vertical-align: top;\n",
       "    }\n",
       "\n",
       "    .dataframe thead th {\n",
       "        text-align: right;\n",
       "    }\n",
       "</style>\n",
       "<table border=\"1\" class=\"dataframe\">\n",
       "  <thead>\n",
       "    <tr style=\"text-align: right;\">\n",
       "      <th></th>\n",
       "      <th>0</th>\n",
       "      <th>1</th>\n",
       "      <th>2</th>\n",
       "    </tr>\n",
       "  </thead>\n",
       "  <tbody>\n",
       "    <tr>\n",
       "      <th>0</th>\n",
       "      <td>53.48</td>\n",
       "      <td>68.02</td>\n",
       "      <td>53.73</td>\n",
       "    </tr>\n",
       "    <tr>\n",
       "      <th>1</th>\n",
       "      <td>34.74</td>\n",
       "      <td>90.09</td>\n",
       "      <td>44.52</td>\n",
       "    </tr>\n",
       "    <tr>\n",
       "      <th>2</th>\n",
       "      <td>72.64</td>\n",
       "      <td>98.94</td>\n",
       "      <td>64.19</td>\n",
       "    </tr>\n",
       "    <tr>\n",
       "      <th>3</th>\n",
       "      <td>50.68</td>\n",
       "      <td>85.44</td>\n",
       "      <td>21.43</td>\n",
       "    </tr>\n",
       "    <tr>\n",
       "      <th>4</th>\n",
       "      <td>53.54</td>\n",
       "      <td>105.40</td>\n",
       "      <td>49.98</td>\n",
       "    </tr>\n",
       "  </tbody>\n",
       "</table>\n",
       "</div>"
      ],
      "text/plain": [
       "       0       1      2\n",
       "0  53.48   68.02  53.73\n",
       "1  34.74   90.09  44.52\n",
       "2  72.64   98.94  64.19\n",
       "3  50.68   85.44  21.43\n",
       "4  53.54  105.40  49.98"
      ]
     },
     "execution_count": 41,
     "metadata": {},
     "output_type": "execute_result"
    }
   ],
   "source": [
    "erros_LightGBM = [mean_outdoor,mean_indoor, mean_indoor_outdoor ]\n",
    "erros_LightGBM = pd.DataFrame(erros_LightGBM)\n",
    "erros_LightGBM = erros_LightGBM.T\n",
    "erros_LightGBM = round(erros_LightGBM,2)\n",
    "erros_LightGBM.to_csv(ERROS_CSV_FILE, index=False)\n",
    "erros_LightGBM.head()"
   ]
  },
  {
   "cell_type": "code",
   "execution_count": 42,
   "metadata": {},
   "outputs": [
    {
     "data": {
      "text/html": [
       "<div>\n",
       "<style scoped>\n",
       "    .dataframe tbody tr th:only-of-type {\n",
       "        vertical-align: middle;\n",
       "    }\n",
       "\n",
       "    .dataframe tbody tr th {\n",
       "        vertical-align: top;\n",
       "    }\n",
       "\n",
       "    .dataframe thead th {\n",
       "        text-align: right;\n",
       "    }\n",
       "</style>\n",
       "<table border=\"1\" class=\"dataframe\">\n",
       "  <thead>\n",
       "    <tr style=\"text-align: right;\">\n",
       "      <th></th>\n",
       "      <th>0</th>\n",
       "      <th>1</th>\n",
       "      <th>2</th>\n",
       "    </tr>\n",
       "  </thead>\n",
       "  <tbody>\n",
       "    <tr>\n",
       "      <th>count</th>\n",
       "      <td>400.00</td>\n",
       "      <td>400.00</td>\n",
       "      <td>400.00</td>\n",
       "    </tr>\n",
       "    <tr>\n",
       "      <th>mean</th>\n",
       "      <td>43.76</td>\n",
       "      <td>89.39</td>\n",
       "      <td>67.83</td>\n",
       "    </tr>\n",
       "    <tr>\n",
       "      <th>std</th>\n",
       "      <td>16.11</td>\n",
       "      <td>17.40</td>\n",
       "      <td>28.95</td>\n",
       "    </tr>\n",
       "    <tr>\n",
       "      <th>min</th>\n",
       "      <td>13.12</td>\n",
       "      <td>44.60</td>\n",
       "      <td>12.87</td>\n",
       "    </tr>\n",
       "    <tr>\n",
       "      <th>25%</th>\n",
       "      <td>32.02</td>\n",
       "      <td>81.60</td>\n",
       "      <td>42.49</td>\n",
       "    </tr>\n",
       "    <tr>\n",
       "      <th>50%</th>\n",
       "      <td>42.47</td>\n",
       "      <td>90.09</td>\n",
       "      <td>67.44</td>\n",
       "    </tr>\n",
       "    <tr>\n",
       "      <th>75%</th>\n",
       "      <td>53.03</td>\n",
       "      <td>98.94</td>\n",
       "      <td>91.10</td>\n",
       "    </tr>\n",
       "    <tr>\n",
       "      <th>max</th>\n",
       "      <td>113.90</td>\n",
       "      <td>119.34</td>\n",
       "      <td>131.38</td>\n",
       "    </tr>\n",
       "  </tbody>\n",
       "</table>\n",
       "</div>"
      ],
      "text/plain": [
       "            0       1       2\n",
       "count  400.00  400.00  400.00\n",
       "mean    43.76   89.39   67.83\n",
       "std     16.11   17.40   28.95\n",
       "min     13.12   44.60   12.87\n",
       "25%     32.02   81.60   42.49\n",
       "50%     42.47   90.09   67.44\n",
       "75%     53.03   98.94   91.10\n",
       "max    113.90  119.34  131.38"
      ]
     },
     "execution_count": 42,
     "metadata": {},
     "output_type": "execute_result"
    }
   ],
   "source": [
    "results_LightGBM = round(erros_LightGBM.describe(), 2)\n",
    "results_LightGBM \n",
    "#results_LightGBM.to_csv('./result-k-fold/Result-LightGBM-k-fold.csv', index=False)"
   ]
  },
  {
   "cell_type": "code",
   "execution_count": null,
   "metadata": {},
   "outputs": [],
   "source": []
  },
  {
   "cell_type": "code",
   "execution_count": null,
   "metadata": {},
   "outputs": [],
   "source": []
  }
 ],
 "metadata": {
  "kernelspec": {
   "display_name": "Python 3",
   "language": "python",
   "name": "python3"
  },
  "language_info": {
   "codemirror_mode": {
    "name": "ipython",
    "version": 3
   },
   "file_extension": ".py",
   "mimetype": "text/x-python",
   "name": "python",
   "nbconvert_exporter": "python",
   "pygments_lexer": "ipython3",
   "version": "3.7.3"
  }
 },
 "nbformat": 4,
 "nbformat_minor": 2
}
